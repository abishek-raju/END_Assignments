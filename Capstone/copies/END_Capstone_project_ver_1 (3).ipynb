{
  "nbformat": 4,
  "nbformat_minor": 0,
  "metadata": {
    "colab": {
      "name": "END_Capstone_project_ver_1.ipynb",
      "provenance": [],
      "collapsed_sections": []
    },
    "kernelspec": {
      "name": "python3",
      "display_name": "Python 3"
    },
    "accelerator": "GPU"
  },
  "cells": [
    {
      "cell_type": "code",
      "metadata": {
        "id": "tbU_MMRiW-JM"
      },
      "source": [
        "# shutil.copyfile(\"/content/END_Assignments/Capstone/english_python_data.txt\", \"/content/END_Assignments/Capstone/python_data_100.txt\")"
      ],
      "execution_count": 1,
      "outputs": []
    },
    {
      "cell_type": "code",
      "metadata": {
        "id": "MgyUm3PdwvZw"
      },
      "source": [
        "# https://github.com/abishek-raju/END_Assignments.git"
      ],
      "execution_count": 2,
      "outputs": []
    },
    {
      "cell_type": "code",
      "metadata": {
        "id": "gOxsToajytrx"
      },
      "source": [
        "import shutil\n",
        "try:\n",
        "  shutil.rmtree(\"./END_Assignments\")\n",
        "except:\n",
        "  pass"
      ],
      "execution_count": 3,
      "outputs": []
    },
    {
      "cell_type": "code",
      "metadata": {
        "colab": {
          "base_uri": "https://localhost:8080/"
        },
        "id": "YGIw5XJtx7vM",
        "outputId": "0b9c507e-b5f9-4dca-879d-9c1eb4e3e56a"
      },
      "source": [
        "!git clone -b assignment https://github.com/abishek-raju/END_Assignments.git\n"
      ],
      "execution_count": 4,
      "outputs": [
        {
          "output_type": "stream",
          "text": [
            "Cloning into 'END_Assignments'...\n",
            "remote: Enumerating objects: 12, done.\u001b[K\n",
            "remote: Counting objects: 100% (12/12), done.\u001b[K\n",
            "remote: Compressing objects: 100% (11/11), done.\u001b[K\n",
            "remote: Total 12 (delta 2), reused 7 (delta 0), pack-reused 0\u001b[K\n",
            "Unpacking objects: 100% (12/12), done.\n"
          ],
          "name": "stdout"
        }
      ]
    },
    {
      "cell_type": "code",
      "metadata": {
        "id": "QLVPYl7mzYFq"
      },
      "source": [
        "!cd \"./END_Assignments/Capstone\""
      ],
      "execution_count": 5,
      "outputs": []
    },
    {
      "cell_type": "code",
      "metadata": {
        "id": "_WD8sTnczihx"
      },
      "source": [
        "import os\n",
        "os.chdir('./END_Assignments/Capstone')"
      ],
      "execution_count": 6,
      "outputs": []
    },
    {
      "cell_type": "code",
      "metadata": {
        "colab": {
          "base_uri": "https://localhost:8080/"
        },
        "id": "u7XmTxKWz_KB",
        "outputId": "d8c20b5e-4a32-4a0c-8e1c-9a67a6402fa8"
      },
      "source": [
        "os.listdir()"
      ],
      "execution_count": 7,
      "outputs": [
        {
          "output_type": "execute_result",
          "data": {
            "text/plain": [
              "['english_python_data.txt']"
            ]
          },
          "metadata": {
            "tags": []
          },
          "execution_count": 7
        }
      ]
    },
    {
      "cell_type": "code",
      "metadata": {
        "id": "tjbZM2zX0FEZ"
      },
      "source": [
        "f = open('english_python_data.txt', 'r')\n",
        "full_text = f.read()              # Read entire file into a string\n",
        "\n",
        "f.close()"
      ],
      "execution_count": 8,
      "outputs": []
    },
    {
      "cell_type": "code",
      "metadata": {
        "id": "p_t41XcG1EOG"
      },
      "source": [
        "# full_text[0:150]"
      ],
      "execution_count": 9,
      "outputs": []
    },
    {
      "cell_type": "code",
      "metadata": {
        "id": "wdXvu_j8WVgS"
      },
      "source": [
        "# len(full_text)"
      ],
      "execution_count": 10,
      "outputs": []
    },
    {
      "cell_type": "code",
      "metadata": {
        "id": "qyYR5KC5MHl7"
      },
      "source": [
        "# f = open('/content/Untitled (4).txt', 'r')\n",
        "# full_text = f.read()              # Read entire file into a string\n",
        "\n",
        "# f.close()\n",
        "# x = full_text.split(\"\\n# \")\n",
        "# len(x)"
      ],
      "execution_count": 11,
      "outputs": []
    },
    {
      "cell_type": "code",
      "metadata": {
        "id": "kuMZJXLs1Ekg"
      },
      "source": [
        "x = full_text.split(\"\\n#\")"
      ],
      "execution_count": 12,
      "outputs": []
    },
    {
      "cell_type": "code",
      "metadata": {
        "colab": {
          "base_uri": "https://localhost:8080/"
        },
        "id": "AW8hfV8E2Pir",
        "outputId": "89f30490-9e8f-4f64-cb7a-21d578b01c21"
      },
      "source": [
        "len(x)"
      ],
      "execution_count": 13,
      "outputs": [
        {
          "output_type": "execute_result",
          "data": {
            "text/plain": [
              "4958"
            ]
          },
          "metadata": {
            "tags": []
          },
          "execution_count": 13
        }
      ]
    },
    {
      "cell_type": "code",
      "metadata": {
        "colab": {
          "base_uri": "https://localhost:8080/",
          "height": 35
        },
        "id": "AFgRJfxIJ_u-",
        "outputId": "4da9da48-b8e0-4b7b-b01b-72e2a39632f3"
      },
      "source": [
        "x[0]"
      ],
      "execution_count": 14,
      "outputs": [
        {
          "output_type": "execute_result",
          "data": {
            "application/vnd.google.colaboratory.intrinsic+json": {
              "type": "string"
            },
            "text/plain": [
              "\"# write a python program to add two numbers \\nnum1 = 1.5\\nnum2 = 6.3\\nsum = num1 + num2\\nprint(f'Sum: {sum}')\\n\\n\""
            ]
          },
          "metadata": {
            "tags": []
          },
          "execution_count": 14
        }
      ]
    },
    {
      "cell_type": "markdown",
      "metadata": {
        "id": "mEK40w1peYSP"
      },
      "source": [
        ""
      ]
    },
    {
      "cell_type": "code",
      "metadata": {
        "id": "3vqGVe-31k_V"
      },
      "source": [
        "queue_raw,snippet_raw = [],[]\n",
        "for count,i in enumerate(x):\n",
        "  q_a = i.split(\"\\n\",1)\n",
        "  if len(q_a)>1:\n",
        "    if q_a[1]:\n",
        "      # print(\"code example : \"+str(count)+\"\\n\")\n",
        "      # print(q_a[0])\n",
        "      queue_raw.append(q_a[0])\n",
        "\n",
        "      # print(\"\\n\")\n",
        "      # print(q_a[1])\n",
        "      snippet_raw.append(q_a[1])\n",
        "      # print(\"-*-\"*10)"
      ],
      "execution_count": 15,
      "outputs": []
    },
    {
      "cell_type": "code",
      "metadata": {
        "colab": {
          "base_uri": "https://localhost:8080/",
          "height": 35
        },
        "id": "7RZITJPvLVhB",
        "outputId": "2533b6a5-e501-48e2-e90d-0d6add879c75"
      },
      "source": [
        "snippet_raw[1]"
      ],
      "execution_count": 16,
      "outputs": [
        {
          "output_type": "execute_result",
          "data": {
            "application/vnd.google.colaboratory.intrinsic+json": {
              "type": "string"
            },
            "text/plain": [
              "'def add_two_numbers(num1, num2):\\n    sum = num1 + num2\\n    return sum\\n\\n'"
            ]
          },
          "metadata": {
            "tags": []
          },
          "execution_count": 16
        }
      ]
    },
    {
      "cell_type": "code",
      "metadata": {
        "colab": {
          "base_uri": "https://localhost:8080/"
        },
        "id": "2Dquq579JaP4",
        "outputId": "d2b7cf87-45ab-404d-e411-10a2d0fa05f0"
      },
      "source": [
        "bool(x[100].split(\"\\n\")[1])"
      ],
      "execution_count": 17,
      "outputs": [
        {
          "output_type": "execute_result",
          "data": {
            "text/plain": [
              "False"
            ]
          },
          "metadata": {
            "tags": []
          },
          "execution_count": 17
        }
      ]
    },
    {
      "cell_type": "code",
      "metadata": {
        "colab": {
          "base_uri": "https://localhost:8080/",
          "height": 35
        },
        "id": "IjKvWnJyISr2",
        "outputId": "7d0353af-6a75-4e1b-898f-c911a0d01a00"
      },
      "source": [
        "x[0]"
      ],
      "execution_count": 18,
      "outputs": [
        {
          "output_type": "execute_result",
          "data": {
            "application/vnd.google.colaboratory.intrinsic+json": {
              "type": "string"
            },
            "text/plain": [
              "\"# write a python program to add two numbers \\nnum1 = 1.5\\nnum2 = 6.3\\nsum = num1 + num2\\nprint(f'Sum: {sum}')\\n\\n\""
            ]
          },
          "metadata": {
            "tags": []
          },
          "execution_count": 18
        }
      ]
    },
    {
      "cell_type": "code",
      "metadata": {
        "id": "RrQUXDgzIFBP"
      },
      "source": [
        "# for count,i in enumerate(x):\n",
        "#   q_a = i.split(\"\\n\",1)\n",
        "#   if len(q_a)>1:\n",
        "#     print(\"code example : \"+str(count)+\"\\n\")\n",
        "#     print(q_a[0])\n",
        "\n",
        "#     print(\"\\n\")\n",
        "#     print(q_a[1])\n",
        "#     print(\"-*-\"*10)"
      ],
      "execution_count": 19,
      "outputs": []
    },
    {
      "cell_type": "code",
      "metadata": {
        "id": "Jp0RQeLKK5oV"
      },
      "source": [
        "# ToDo\n",
        "# 1.Preprocess\n",
        "#     -remove white space at the start of the snippet\n",
        "#     -remove numbers at the start of the snippet"
      ],
      "execution_count": 20,
      "outputs": []
    },
    {
      "cell_type": "code",
      "metadata": {
        "id": "an4JRAm_b_aP"
      },
      "source": [
        "import torch\n",
        "from torchtext.legacy import data "
      ],
      "execution_count": 21,
      "outputs": []
    },
    {
      "cell_type": "code",
      "metadata": {
        "id": "n_c5jY2AvbEw"
      },
      "source": [
        "tokens_to_discard = [\"\\n\",\" \",\"  \"]\n"
      ],
      "execution_count": 22,
      "outputs": []
    },
    {
      "cell_type": "code",
      "metadata": {
        "id": "i3nVA5vxvrhP"
      },
      "source": [
        "# [i for i in [\" \",\"hi\",\"i\"] if i not in tokens_to_discard]"
      ],
      "execution_count": 23,
      "outputs": []
    },
    {
      "cell_type": "code",
      "metadata": {
        "id": "JnbXEdomnw_J"
      },
      "source": [
        "def code_tokenize(text):\n",
        "  token_stream = tokenize.generate_tokens(StringIO(text).readline)\n",
        "  code_tokenized = [token.string for token in token_stream]\n",
        "  if code_tokenized[0] in tokens_to_discard:\n",
        "    return code_tokenized[1:]\n",
        "  else:\n",
        "    return code_tokenized\n",
        "  \n",
        "  # temp = []\n",
        "  # for token in token_stream:\n",
        "  #   temp.append(token.string)\n",
        "  #   print(token)"
      ],
      "execution_count": 24,
      "outputs": []
    },
    {
      "cell_type": "code",
      "metadata": {
        "id": "69DcNJpxLsJA"
      },
      "source": [
        "queue = data.Field(sequential = True, tokenize = 'spacy',eos_token = '<eos>', init_token = '<sos>',  batch_first =True, include_lengths=True)\n",
        "snippet = data.Field(sequential = True,is_target=True ,eos_token = '<eos>', init_token = '<sos>', tokenize = code_tokenize, batch_first =True, include_lengths=True)"
      ],
      "execution_count": 25,
      "outputs": []
    },
    {
      "cell_type": "code",
      "metadata": {
        "id": "3sQBT0XZcOOk"
      },
      "source": [
        "fields = [('queue', queue),('snippet',snippet)]"
      ],
      "execution_count": 26,
      "outputs": []
    },
    {
      "cell_type": "code",
      "metadata": {
        "id": "inxjhC8_Q-lJ"
      },
      "source": [
        ""
      ],
      "execution_count": 26,
      "outputs": []
    },
    {
      "cell_type": "code",
      "metadata": {
        "id": "nmOaXz-bndHl"
      },
      "source": [
        "# queue_raw,snippet_raw"
      ],
      "execution_count": 27,
      "outputs": []
    },
    {
      "cell_type": "code",
      "metadata": {
        "id": "klVhM3p6eL8F"
      },
      "source": [
        "import tokenize\n",
        "try:\n",
        "  from StringIO import StringIO\n",
        "except:\n",
        "  from io import StringIO"
      ],
      "execution_count": 28,
      "outputs": []
    },
    {
      "cell_type": "code",
      "metadata": {
        "id": "McveOhqKptYD",
        "colab": {
          "base_uri": "https://localhost:8080/"
        },
        "outputId": "fde69d44-0dee-4eec-a3d6-f25fd0b0d7ce"
      },
      "source": [
        "# example = [data.Example.fromlist([queue_raw[i],snippet_raw[i]], fields) for i in range(len(queue_raw))] \n",
        "example = []\n",
        "for i in range(len(queue_raw)):\n",
        "  try:\n",
        "    temp = data.Example.fromlist([queue_raw[i],snippet_raw[i]], fields)\n",
        "    if len(vars(temp)[\"snippet\"]) < 500:\n",
        "      example.append(temp)\n",
        "    else:\n",
        "      pass\n",
        "  except:\n",
        "    print(i)"
      ],
      "execution_count": 29,
      "outputs": [
        {
          "output_type": "stream",
          "text": [
            "463\n",
            "465\n",
            "643\n",
            "686\n",
            "687\n",
            "814\n",
            "1056\n",
            "1060\n",
            "1418\n",
            "1808\n",
            "1935\n",
            "3441\n",
            "3481\n",
            "3647\n",
            "3673\n",
            "3840\n",
            "3853\n",
            "3875\n",
            "3876\n",
            "3877\n",
            "4059\n",
            "4063\n"
          ],
          "name": "stdout"
        }
      ]
    },
    {
      "cell_type": "code",
      "metadata": {
        "colab": {
          "base_uri": "https://localhost:8080/"
        },
        "id": "eeTVyTLXqMZ4",
        "outputId": "a97f88e7-9b7d-40f8-d1a5-809707178166"
      },
      "source": [
        "max([len(vars(i)[\"snippet\"]) for i in example])\n",
        "# 785"
      ],
      "execution_count": 30,
      "outputs": [
        {
          "output_type": "execute_result",
          "data": {
            "text/plain": [
              "438"
            ]
          },
          "metadata": {
            "tags": []
          },
          "execution_count": 30
        }
      ]
    },
    {
      "cell_type": "code",
      "metadata": {
        "id": "3WolR6_rRoi0"
      },
      "source": [
        "# temp = [len(vars(i)[\"snippet\"]) for i in example]"
      ],
      "execution_count": 31,
      "outputs": []
    },
    {
      "cell_type": "code",
      "metadata": {
        "id": "5-YTAR_YRyhq"
      },
      "source": [
        "# temp.sort(reverse=True)"
      ],
      "execution_count": 32,
      "outputs": []
    },
    {
      "cell_type": "code",
      "metadata": {
        "id": "jC3EdUp5R41P"
      },
      "source": [
        "# temp"
      ],
      "execution_count": 33,
      "outputs": []
    },
    {
      "cell_type": "code",
      "metadata": {
        "colab": {
          "base_uri": "https://localhost:8080/"
        },
        "id": "2ZVDm7_-qX03",
        "outputId": "3125c805-cda6-4117-a6b9-88182676bd71"
      },
      "source": [
        "queue_raw[1],snippet_raw[0]"
      ],
      "execution_count": 34,
      "outputs": [
        {
          "output_type": "execute_result",
          "data": {
            "text/plain": [
              "(' write a python function to add two user provided numbers and return the sum',\n",
              " \"num1 = 1.5\\nnum2 = 6.3\\nsum = num1 + num2\\nprint(f'Sum: {sum}')\\n\\n\")"
            ]
          },
          "metadata": {
            "tags": []
          },
          "execution_count": 34
        }
      ]
    },
    {
      "cell_type": "code",
      "metadata": {
        "colab": {
          "base_uri": "https://localhost:8080/"
        },
        "id": "V1IafKXytWNg",
        "outputId": "1e231314-e651-40f8-b1a5-86343b484262"
      },
      "source": [
        "len(queue_raw)"
      ],
      "execution_count": 35,
      "outputs": [
        {
          "output_type": "execute_result",
          "data": {
            "text/plain": [
              "4741"
            ]
          },
          "metadata": {
            "tags": []
          },
          "execution_count": 35
        }
      ]
    },
    {
      "cell_type": "code",
      "metadata": {
        "id": "sVH42bSmts7E"
      },
      "source": [
        "queue_snippet_dataset = data.Dataset(example, fields)"
      ],
      "execution_count": 36,
      "outputs": []
    },
    {
      "cell_type": "code",
      "metadata": {
        "id": "8EO35TPjuXaZ"
      },
      "source": [
        "(train_data, valid_data) = queue_snippet_dataset.split(split_ratio=[0.85, 0.15])"
      ],
      "execution_count": 37,
      "outputs": []
    },
    {
      "cell_type": "code",
      "metadata": {
        "colab": {
          "base_uri": "https://localhost:8080/"
        },
        "id": "sQmkCfi-uema",
        "outputId": "58589daa-4a7f-458e-b2b0-d62ede3ac046"
      },
      "source": [
        "len(train_data),len(valid_data)"
      ],
      "execution_count": 38,
      "outputs": [
        {
          "output_type": "execute_result",
          "data": {
            "text/plain": [
              "(4010, 708)"
            ]
          },
          "metadata": {
            "tags": []
          },
          "execution_count": 38
        }
      ]
    },
    {
      "cell_type": "code",
      "metadata": {
        "id": "x0AQXVtIulM4"
      },
      "source": [
        "queue.build_vocab(queue_snippet_dataset)\n",
        "snippet.build_vocab(queue_snippet_dataset)\n"
      ],
      "execution_count": 39,
      "outputs": []
    },
    {
      "cell_type": "code",
      "metadata": {
        "colab": {
          "base_uri": "https://localhost:8080/"
        },
        "id": "kwn7u1d6uxQg",
        "outputId": "ee099a96-a201-4d28-80e4-8e1e5d2d7daf"
      },
      "source": [
        "print('Size of input vocab : ', len(queue.vocab))\n",
        "print('Size of label vocab : ', len(snippet.vocab))\n",
        "print('Top 10 words appreared repeatedly :', list(queue.vocab.freqs.most_common(10)))\n",
        "print('Labels : ', snippet.vocab.stoi)"
      ],
      "execution_count": 40,
      "outputs": [
        {
          "output_type": "stream",
          "text": [
            "Size of input vocab :  2806\n",
            "Size of label vocab :  6861\n",
            "Top 10 words appreared repeatedly : [('a', 5976), (' ', 4217), ('to', 3565), ('the', 2446), ('of', 2065), ('write', 1984), ('function', 1834), ('python', 1783), ('program', 1691), ('Write', 1527)]\n",
            "Labels :  defaultdict(<bound method Vocab._default_unk_index of <torchtext.vocab.Vocab object at 0x7f46a435e4d0>>, {'<unk>': 0, '<pad>': 1, '<sos>': 2, '<eos>': 3, '\\n': 4, '(': 5, ')': 6, '': 7, ',': 8, ':': 9, '=': 10, '[': 11, ']': 12, 'print': 13, '.': 14, '1': 15, 'i': 16, '    ': 17, 'def': 18, 'in': 19, 'return': 20, '0': 21, 'for': 22, '        ': 23, 'if': 24, '+': 25, '2': 26, 'n': 27, 'x': 28, '-': 29, '==': 30, 'a': 31, '*': 32, '3': 33, 'range': 34, 'len': 35, 'num': 36, '5': 37, 'else': 38, 'j': 39, '4': 40, 'import': 41, '            ': 42, 'res': 43, 'self': 44, 'str': 45, '{': 46, '}': 47, '%': 48, 'b': 49, 's': 50, '10': 51, 'str1': 52, '6': 53, 'y': 54, 'float': 55, 'list': 56, '+=': 57, 'key': 58, 'int': 59, 'count': 60, '7': 61, '/': 62, '   ': 63, 'input': 64, 'alist': 65, '>': 66, '**': 67, '8': 68, 'test_list': 69, 'c': 70, 'd': 71, 'k': 72, 'l': 73, 'result': 74, 'while': 75, 'append': 76, 'sum': 77, 'arr': 78, '<': 79, 'list1': 80, 'and': 81, 'r': 82, '9': 83, 'word': 84, 'string': 85, 'ele': 86, 'num1': 87, 'elif': 88, '  ': 89, 'random': 90, 'temp': 91, 'end': 92, 'True': 93, 'num2': 94, '       ': 95, 'math': 96, '!=': 97, 'from': 98, 'split': 99, 'li': 100, 'not': 101, 'datetime': 102, 'idx': 103, 'lambda': 104, 'False': 105, '12': 106, '                ': 107, 'sub': 108, 'lst': 109, '20': 110, 'items': 111, \"''\": 112, 'char': 113, 'join': 114, 'set': 115, '->': 116, '      ': 117, 'start': 118, 'val': 119, ';': 120, 'value': 121, '<=': 122, 'test_dict': 123, '100': 124, '>=': 125, 'or': 126, 'radius': 127, \"' '\": 128, 'index': 129, 't': 130, 'nums': 131, 'break': 132, 'data': 133, '//': 134, 'None': 135, 'mid': 136, 'upper': 137, 'f': 138, 'time': 139, 'class': 140, 'length': 141, 'test_str': 142, 'dict': 143, 're': 144, 'words': 145, '11': 146, 'pi': 147, 'format': 148, 'item': 149, 'list2': 150, 'N': 151, 'lower': 152, 'sorted': 153, 'h': 154, 'l1': 155, 'year': 156, 's1': 157, 'A': 158, 'p': 159, 'zip': 160, 'X': 161, 'as': 162, '\"\"': 163, 'm': 164, \"'a'\": 165, 'max': 166, 'my_list': 167, 'values': 168, 'height': 169, '\" \"': 170, '__init__': 171, '\\t': 172, 'K': 173, 'map': 174, 'sentence': 175, 'number': 176, 'size': 177, 'l2': 178, 'line': 179, 'base': 180, 'greater': 181, 'mm': 182, 'largest': 183, 'itertools': 184, 'left': 185, 'open': 186, 'name': 187, 'text': 188, '50': 189, 'letter': 190, '           ': 191, 'args': 192, 'lcm': 193, 'raise': 194, 'right': 195, 'v': 196, '\\t\\t': 197, '30': 198, 'get': 199, 'isinstance': 200, 'tup': 201, 'z': 202, '15': 203, 'keys': 204, 'tuple': 205, 'area': 206, 'iterable': 207, 'numbers': 208, 'os': 209, '60': 210, 'row': 211, 'with': 212, 'all_freq': 213, 'reverse': 214, 'sort': 215, 's2': 216, 'Y': 217, '\"is\"': 218, 'ord': 219, '24': 220, '45': 221, 'num_list': 222, '40': 223, 'exp': 224, 'min': 225, 'q': 226, 'total': 227, '3.14': 228, 'sum1': 229, '16': 230, 'fname': 231, 'vowels': 232, 'ValueError': 233, 'element': 234, 'json': 235, 'my_str': 236, 'B': 237, 'replace': 238, 'pass': 239, '\"The original list is : \"': 240, '21': 241, 'filter': 242, 'first': 243, 'next': 244, 'num3': 245, 'set1': 246, \"'is'\": 247, '-=': 248, 'enumerate': 249, 'factorial': 250, 'check': 251, 'n1': 252, 'n2': 253, '         ': 254, '&': 255, 'str2': 256, 'yield': 257, \"'b'\": 258, 'pop': 259, 'test_list1': 260, 'digit': 261, 'flag': 262, 'pos': 263, '23': 264, 'add': 265, \"'r'\": 266, 'g': 267, 'sorted_list': 268, 'volume': 269, \"'best'\": 270, 'choice': 271, 'date': 272, 'dd': 273, 'fact': 274, 'side': 275, '22': 276, '25': 277, 'no_punct': 278, \"'c'\": 279, 'newList': 280, '0.5': 281, 'np': 282, 'myList': 283, 'test_list2': 284, 'x1': 285, 'angle': 286, 'digitCount': 287, 'is': 288, 'path': 289, 'smaller': 290, '\"Gfg\"': 291, \"'1'\": 292, \"'e'\": 293, '18': 294, '32': 295, 'array': 296, 'cache': 297, \"'for'\": 298, '17': 299, '_': 300, 'except': 301, 'input_dict': 302, 'isdigit': 303, 'mass': 304, 'url': 305, \"','\": 306, \"'gfg'\": 307, 'bin': 308, 'dec': 309, 'fn': 310, 'hcf': 311, 'object': 312, 'raw_input': 313, 'regex': 314, 'set2': 315, 'sys': 316, '\"Hello World\"': 317, 'list_': 318, 'product': 319, 'st': 320, 'final': 321, 'input_array': 322, 'kwargs': 323, 'list_to_be_sorted': 324, 'try': 325, 'type': 326, 'x2': 327, ' ': 328, '13': 329, '70': 330, 'dict2': 331, 'extend': 332, 'filename': 333, 'ip_str': 334, 'mylist': 335, 'sin': 336, '\"best\"': 337, \"'i'\": 338, '54': 339, 'ctr': 340, 'node': 341, 'obj': 342, 'reduce': 343, 'round': 344, '200': 345, '2020': 346, 'C': 347, 'Dict': 348, 'dict1': 349, 'given_date': 350, 'nterms': 351, 'password': 352, 'punctuations': 353, 'reversed': 354, 'source': 355, \"'tsai'\": 356, '14': 357, '44': 358, 'collections': 359, 'input_list': 360, 'now': 361, 'power': 362, 'res_list': 363, 'sample': 364, 'sqrt': 365, 'timedelta': 366, \"'Geeks'\": 367, \"'o'\": 368, '88': 369, 'breadth': 370, 'cos': 371, 'e': 372, 'gap': 373, 'limit': 374, 'new_list': 375, 'read': 376, 'sub_str': 377, '1000': 378, '35': 379, '400': 380, 'a_list': 381, 'func': 382, 'gcd': 383, 'rev': 384, 'sampleList': 385, 'shuffle': 386, 'src_dir_path': 387, 'update': 388, 'w': 389, 'width': 390, \"'Sorted list: '\": 391, 'M': 392, 'low': 393, 'no_swap': 394, 'randint': 395, 'theta': 396, 'today': 397, 'top': 398, 'u': 399, 'yy': 400, '     ': 401, '\"The original list : \"': 402, \"'d'\": 403, 'celsius': 404, 'head': 405, 'hh': 406, 'is_empty': 407, 'sign': 408, 'var': 409, '          ': 410, '\"b\"': 411, \"'A'\": 412, \"'geeks'\": 413, \"'x'\": 414, 'Counter': 415, 'abs': 416, 'chain': 417, 'countDict': 418, 'letters': 419, 'new_str': 420, 'org_intervals': 421, 'pd': 422, 'pool': 423, 'remove': 424, 'seq': 425, 'strip': 426, 't1': 427, 'target': 428, 'vow_list': 429, '\"a\"': 430, \"'0'\": 431, \"'good'\": 432, \"'u'\": 433, 'col': 434, 'findall': 435, 'found': 436, 'intersection': 437, 'operation': 438, 'queue': 439, 'rows': 440, '\"The original string is : \"': 441, '120': 442, 'L': 443, 'd1': 444, 'inner': 445, 'isalpha': 446, 'matrix': 447, 'month': 448, 'perf_counter': 449, 'pow': 450, 'push': 451, 'repeat': 452, 'search': 453, 'seen': 454, 't2': 455, 'terms': 456, '\"c\"': 457, '*=': 458, 'copy': 459, 'del': 460, 'difference': 461, 'dig': 462, 'distance': 463, 'high': 464, 'insert': 465, 'islower': 466, 'max1': 467, 'msg': 468, 'names': 469, 'numpy': 470, 'org': 471, 'prev': 472, 'sp': 473, 'student': 474, 'word_list': 475, '\\t    ': 476, '\"is not a prime number\"': 477, \"'name'\": 478, '//=': 479, '155': 480, '19': 481, '2000': 482, '26': 483, '65': 484, 'all': 485, 'bool': 486, 'bottom': 487, 'chr': 488, 'd2': 489, 'day': 490, 'days': 491, 'destination': 492, 'groupby': 493, 'kilometers': 494, 'script': 495, 'smallest': 496, 'speed': 497, '\",\"': 498, '\"y\"': 499, '180': 500, 'Person': 501, 'current': 502, 'delta': 503, 'dictionary': 504, 'eval': 505, 'fib': 506, 'files_in_dir': 507, 'flatten': 508, 'functools': 509, 'glob': 510, 'isupper': 511, 'last': 512, 'log': 513, 'sep': 514, 'ser': 515, 'side_length': 516, 'str_list': 517, 'test_tup1': 518, 'y1': 519, 'y2': 520, '                    ': 521, '\"Best\"': 522, '66': 523, 'E': 524, 'PI': 525, 'aList': 526, 'auxiliary': 527, 'ch': 528, 'dic': 529, 'diff': 530, 'dist': 531, 'dt': 532, 'factors': 533, 'fahrenheit': 534, 'file2': 535, 'final_list': 536, 'id': 537, 'inner_list': 538, 'list_of_nums': 539, 'mean': 540, 'no_of_sides': 541, 'nth': 542, 'num_words': 543, 'person_dict': 544, 'requests': 545, 'resList': 546, 'sine': 547, 'start_at': 548, 'steps': 549, 'strptime': 550, 'sub_set': 551, 'temp_dict': 552, 'test_tup2': 553, 'timeit': 554, 'tuples': 555, '55': 556, 'calendar': 557, 'compute_lcm': 558, 'multiple': 559, 'multiply': 560, 'my_dict': 561, 'position': 562, '\\t\\t\\t': 563, '\"apple\"': 564, \"'|'\": 565, '90': 566, '93': 567, 'Fibonacci': 568, '__name__': 569, 'arr1': 570, 'bisect': 571, 'bmi': 572, 'conv_fac': 573, 'dup_items': 574, 'el': 575, 'file': 576, 'floor': 577, 'highestnumber': 578, 'islice': 579, 'llist': 580, 'maximum': 581, 'maxnum': 582, 'numberList': 583, 'perm': 584, 'res_date': 585, 'result_perms': 586, 'strftime': 587, 'sum_': 588, 'test_tup': 589, 'tot': 590, '|': 591, '\":\"': 592, '\\'\\'\\'!()-[]{};:\\'\"\\\\,<>./?@#$%^&*_~\\'\\'\\'': 593, \"'CS'\": 594, '2.0': 595, '<<': 596, '@': 597, '^': 598, 'bigger': 599, 'circumradius': 600, 'counter': 601, 'cp': 602, 'even': 603, 'front': 604, 'group': 605, 'ini_tuple': 606, 'len_list': 607, 'lis': 608, 'min_idx': 609, 'minimum': 610, 'my_inverted_dict': 611, 'no': 612, 'num_lines': 613, 'punctuation': 614, 'start1': 615, 'start2': 616, 'stoogesort': 617, 'test_dict1': 618, 'test_dict2': 619, 'totalMarks': 620, 'tup1': 621, 'union': 622, 'uniq_items': 623, 'unique': 624, '\"12\"': 625, '\"=\"': 626, '\"AM\"': 627, '\"The original dictionary is : \"': 628, '\"key1\"': 629, '\"{0} is a leap year\"': 630, '\"{0} is not a leap year\"': 631, \"'C'\": 632, 'American': 633, 'P': 634, 'TowerOfHanoi': 635, 'age': 636, 'arr2': 637, 'calc_fib': 638, 'casefold': 639, 'data_list': 640, 'do': 641, 'find': 642, 'input_str': 643, 'ip': 644, 'isPalindrome': 645, 'lines': 646, 'm1': 647, 'm2': 648, 'miles': 649, 'odd': 650, 'other': 651, 'output': 652, 'permutations': 653, 'printList': 654, 'q1': 655, 'q2': 656, 'response': 657, 'rowsA': 658, 'shift': 659, 'si': 660, 'title': 661, 'tuplex': 662, '\"Hello\"': 663, '\"Kelly\"': 664, '\"d\"': 665, '\"gfg\"': 666, '\"name\"': 667, \"'Akash'\": 668, \"'Akshat'\": 669, \"'E'\": 670, \"'Gfg'\": 671, \"'Nikhil'\": 672, \"'aeiou'\": 673, \"'age'\": 674, '1.8': 675, '29': 676, '300': 677, '34': 678, '900': 679, '99': 680, 'IplData': 681, 'Number': 682, 'S': 683, 'animals': 684, 'astro_sign': 685, 'attr': 686, 'compute_hcf': 687, 'curr': 688, 'date_string': 689, 'f1': 690, 'filepath': 691, 'getGender': 692, 'ini_string': 693, 'loads': 694, 'my_list1': 695, 'prod_list': 696, 'recur_fibo': 697, 'sum_list': 698, 'tan': 699, 'test_tuple1': 700, 'test_tuple2': 701, 'tuple1': 702, 'txt': 703, 'word_len': 704, '\"DIGITS\"': 705, '\"LETTERS\"': 706, '\"for\"': 707, \"'S'\": 708, \"'marks'\": 709, '0.0': 710, '1.5': 711, '500': 712, '80': 713, 'Lfirst': 714, 'Lsecond': 715, 'Rfirst': 716, 'Rsecond': 717, 'Stack': 718, 'accelration': 719, 'ans': 720, 'avg': 721, 'bisect_left': 722, 'capitalize': 723, 'chunkSize': 724, 'code': 725, 'cu_list': 726, 'dateFormat': 727, 'date_1': 728, 'date_2': 729, 'decimal_num': 730, 'deque': 731, 'div': 732, 'evenNumbers': 733, 'firstSet': 734, 'first_array': 735, 'global': 736, 'guess2': 737, 'h1': 738, 'holes': 739, 'ini_dict': 740, 'initial_velocity': 741, 'inner_dict': 742, 'input_num': 743, 'input_string': 744, 'listOne': 745, 'list_of_dicts': 746, 'lists': 747, 'markList': 748, 'mask': 749, 'max_key': 750, 'max_length': 751, 'mid_idx': 752, 'middleIndex': 753, 'my_min': 754, 'my_string': 755, 'my_tup': 756, 'n_list': 757, 'new_min': 758, 'new_perms': 759, 'order': 760, 'plt': 761, 'prefix': 762, 'pressure': 763, 'printSubArrays': 764, 'r2': 765, 'rear': 766, 'remainder': 767, 'removeValue': 768, 'repl_dict': 769, 'revs_number': 770, 'roll_again': 771, 'rom_val': 772, 'root': 773, 'second_array': 774, 'secrets': 775, 'sort_key': 776, 'speedList': 777, 'status': 778, 'string1': 779, 'studentJson': 780, 'substring': 781, 'sumDigits': 782, 'summation': 783, 'surface_area': 784, 'tup2': 785, 'word_freq': 786, '\"\\\\n\"': 787, '\"__main__\"': 788, '\"banana\"': 789, '\"x\"': 790, \"'hello'\": 791, \"'python'\": 792, \"'y'\": 793, \"'z'\": 794, '6.3': 795, '67': 796, '78': 797, 'Shape': 798, 'TypeError': 799, '^=': 800, 'any': 801, 'assert': 802, 'binary_search': 803, 'close': 804, 'colsB': 805, 'convert24': 806, 'deck': 807, 'elem': 808, 'freq': 809, 'hanoi': 810, 'lst1': 811, 'new_key': 812, 'nonlocal': 813, 'objects': 814, 'radians': 815, 'rem': 816, 'removeDuplicate': 817, 'second': 818, 'setdefault': 819, 'strObj': 820, 'subjects': 821, 'tmp': 822, 'verbs': 823, '\\t\\t\\t\\t': 824, '             ': 825, '               ': 826, '\"Enter a number: \"': 827, '\"Enter file name: \"': 828, '\"age\"': 829, '\"e\"': 830, '\"f\"': 831, '\"is a prime number\"': 832, '\"r\"': 833, \"'='\": 834, \"'B'\": 835, \"'\\\\n'\": 836, \"'p'\": 837, \"'the'\": 838, '33': 839, '77': 840, '>>': 841, 'IndexError': 842, 'Reverse': 843, '__doc__': 844, 'a2': 845, 'backtrack': 846, 'binaryVal': 847, 'buckets': 848, 'calcAngle': 849, 'choices': 850, 'cols': 851, 'colsA': 852, 'continue': 853, 'count1': 854, 'count2': 855, 'datetime_object': 856, 'days_to_subtract': 857, 'disks': 858, 'email': 859, 'encoded': 860, 'encrypted_message': 861, 'exists': 862, 'f\"{year} is a leap year\"': 863, 'f\"{year} is not a leap year\"': 864, 'fibonacci': 865, 'first_half': 866, 'foo': 867, 'guess': 868, 'hashlib': 869, 'hour_angle': 870, 'indices': 871, 'ini_list': 872, 'interest_rate': 873, 'isnumeric': 874, 'iterator': 875, 'last_char': 876, 'li1': 877, 'lst2': 878, 'matrix1': 879, 'matrix2': 880, 'max_len': 881, 'minute_angle': 882, 'minutes': 883, 'nltk': 884, 'ones': 885, 'permute': 886, 'pickle': 887, 'pred': 888, 'price': 889, 'rev_str': 890, 's3': 891, 'sample_dict': 892, 'stack': 893, 'swap': 894, 'symbol': 895, 'temp_given_in': 896, 'test_string': 897, 'texts': 898, 'times': 899, 'tp': 900, 'truncate': 901, 'twos': 902, 'uuid': 903, 'vow': 904, '\"1\"': 905, '\"Enter a positive number\"': 906, '\"Fibonacci sequence:\"': 907, '\"The factorial of 0 is 1\"': 908, '\"The sum is\"': 909, '\"abc4234AFde\"': 910, '\"aeiou\"': 911, '\"bar\"': 912, '\"foo\"': 913, '# gas constant R': 914, \"'2'\": 915, \"'For'\": 916, \"'I'\": 917, \"'Invalid Input'\": 918, \"'M'\": 919, \"'roll'\": 920, \"'the quick brown fox'\": 921, '31': 922, '56': 923, '8.3145': 924, '89': 925, '999': 926, 'W': 927, 'amount': 928, 'bin_search': 929, 'calculateSum': 930, 'circumference': 931, 'combinations': 932, 'countX': 933, 'dequeue': 934, 'divide': 935, 'dumps': 936, 'emptySeq': 937, 'endDate': 938, 'enqueue': 939, 'given_list': 940, 'inches': 941, 'indices_list': 942, 'iter': 943, 'keys1': 944, 'l1_len': 945, 'l2_len': 946, 'l3': 947, 'list_to_be_processed': 948, 'lstrip': 949, 'minlength': 950, 'my_set': 951, 'new_min_old_place': 952, 'newli': 953, 'no_of_digits': 954, 'no_of_lcase': 955, 'no_of_letters': 956, 'no_of_ucase': 957, 'ns': 958, 'num_find': 959, 'numheads': 960, 'pandas': 961, 'parser': 962, 'principle': 963, 'printNationality': 964, 'printTime': 965, 'prio_dict': 966, 'prod': 967, 'randrange': 968, 'rate': 969, 'recursive_merge_sort': 970, 'repetitons': 971, 'request': 972, 'res_str': 973, 'results': 974, 'rstrip': 975, 'separator': 976, 'simple_interest': 977, 'square': 978, 'startDate': 979, 'startTime': 980, 'str_len': 981, 'sub_nest': 982, 'sum_diff': 983, 'sum_nestedlist': 984, 'swapList': 985, 'tag': 986, 'timestamp': 987, 'total_digits': 988, 'total_letters': 989, 'unique_keys': 990, 'used_punctuation': 991, 'v1': 992, 'vals': 993, 'write': 994, '\"\"\"\\n    This is the space to do documentation related to class.\\n    \"\"\"': 995, '\"-\"': 996, '\"Emma\"': 997, '\"LOWER CASE\"': 998, '\"Sorry, factorial does not exist for negative numbers\"': 999, '\"Team1\"': 1000, '\"The factorial of\"': 1001, '\"UPPER CASE\"': 1002, '\"and\"': 1003, '\"are:\"': 1004, '\"cherry\"': 1005, '\"is an Armstrong number\"': 1006, '\"is not an Armstrong number\"': 1007, '\"key2\"': 1008, '\"to destination\"': 1009, '\"w\"': 1010, \"'*'\": 1011, \"'F'\": 1012, \"'Hello, have you tried our tutorial section yet?'\": 1013, \"'inf'\": 1014, \"'pop'\": 1015, \"'quit'\": 1016, '0.621371': 1017, '201': 1018, '344': 1019, '5.0': 1020, '52': 1021, '64': 1022, 'CircleArea': 1023, 'ET': 1024, 'Exception': 1025, 'Fernet': 1026, 'R': 1027, 'Series': 1028, 'Square': 1029, '__iter__': 1030, 'a1': 1031, 'alphabet': 1032, 'anAmerican': 1033, 'appendMiddle': 1034, 'as_text': 1035, 'base_area': 1036, 'binary_search_rec': 1037, 'bisect_right': 1038, 'carry': 1039, 'character': 1040, 'cmath': 1041, 'corpus': 1042, 'costs': 1043, 'cosx': 1044, 'counting_sort': 1045, 'countmap': 1046, 'csv': 1047, 'delimiter': 1048, 'dict_1': 1049, 'dict_list': 1050, 'digits': 1051, 'dim': 1052, 'dump': 1053, 'emailAddress': 1054, 'f2': 1055, 'feet': 1056, 'filterfalse': 1057, 'findArea': 1058, 'flattened': 1059, 'from_iterable': 1060, 'front_len': 1061, 'getString': 1062, 'h2': 1063, 'hashTable': 1064, 'hex': 1065, 'hexval': 1066, 'img_file': 1067, 'indent': 1068, 'indexes': 1069, 'inp': 1070, 'inputStr': 1071, 'insertion_sort': 1072, 'int_val': 1073, 'isLucky': 1074, 'is_balanced': 1075, 'item1': 1076, 'item2': 1077, 'jsonData': 1078, 'left_pos': 1079, 'list3': 1080, 'list_str': 1081, 'maketrans': 1082, 'mark': 1083, 'match': 1084, 'matrix1Rows': 1085, 'matrix2Col': 1086, 'max_heapify': 1087, 'mergeSort': 1088, 'merge_sort': 1089, 'middleThree': 1090, 'my_func': 1091, 'my_list2': 1092, 'near_thousand': 1093, 'new_doc': 1094, 'nexts': 1095, 'num_active': 1096, 'num_hours': 1097, 'num_sqrt': 1098, 'nums_product': 1099, 'oct': 1100, 'original_prices': 1101, 'p1': 1102, 'partition': 1103, 'pat2': 1104, 'pickle_file': 1105, 'pivot': 1106, 'prev_list': 1107, 'quicksort': 1108, 'rad': 1109, 'reader': 1110, 'repeat_count': 1111, 'replace_char': 1112, 'reverse_sentence': 1113, 'reversed_text': 1114, 'right_pos': 1115, 'rotate': 1116, 'scriptlist': 1117, 'second_half': 1118, 'sen': 1119, 'shift_count': 1120, 'slant_height': 1121, 'squaredNumbers': 1122, 'startswith': 1123, 'sub_list': 1124, 'subtract': 1125, 'table': 1126, 'tee': 1127, 'tenure': 1128, 'tfidf': 1129, 'thirdList': 1130, 'total_time': 1131, 'translate': 1132, 'weight': 1133, 'wrapped': 1134, 'zfill': 1135, '~': 1136, '\"\\' is\"': 1137, '\"00\"': 1138, '\"A\"': 1139, '\"Destination Path doesn\\'t exist\"': 1140, '\"Filtered list : \"': 1141, '\"Hello!!!, he said ---and went.\"': 1142, '\"I\"': 1143, '\"PM\"': 1144, '\"Team2\"': 1145, '\"The ASCII value of \\'\"': 1146, '\"The decimal value of\"': 1147, '\"The original tuple 1 : \"': 1148, '\"The original tuple 2 : \"': 1149, '\"YES\"': 1150, '\"Yes\"': 1151, '\"geeks\"': 1152, '\"google\"': 1153, '\"is:\"': 1154, '\"microsoft\"': 1155, '# iterate through columns': 1156, \"'%b %d %Y %I:%M%p'\": 1157, \"', '\": 1158, \"'-'\": 1159, \"'.'\": 1160, \"'3'\": 1161, \"'4'\": 1162, \"'Hello'\": 1163, \"'O'\": 1164, \"'Z'\": 1165, \"'bar'\": 1166, \"'cs'\": 1167, \"'f'\": 1168, \"'foo'\": 1169, \"'w'\": 1170, '222': 1171, '3201': 1172, '36': 1173, '42': 1174, '47': 1175, '83': 1176, '>>=': 1177, 'Convert': 1178, 'Digits': 1179, 'L1': 1180, 'MC': 1181, 'MT': 1182, 'Node': 1183, 'NumList': 1184, 'Sort_Tuple': 1185, '__getitem__': 1186, '__str__': 1187, 'catalan': 1188, 'cm': 1189, 'color_set': 1190, 'compile': 1191, 'decode': 1192, 'diameter': 1193, 'file_name': 1194, 'final_dict': 1195, 'helper': 1196, 'inputString': 1197, 'isspace': 1198, 'li2': 1199, 'list_length': 1200, 'max_val': 1201, 'min1': 1202, 'new': 1203, 'num_2': 1204, 'num_array': 1205, 'number1': 1206, 'number2': 1207, 'operator': 1208, 'pair': 1209, 'percentage': 1210, 'principal': 1211, 'ratio': 1212, 'reverse_string': 1213, 'root_index': 1214, 'second_largest': 1215, 'selection_sort': 1216, 'sleep': 1217, 'sort_keys': 1218, 'staticmethod': 1219, 'sum_of_digits': 1220, 'tanh': 1221, 'temp_list': 1222, 'test': 1223, 'urllib': 1224, 'urlopen': 1225, 'userChoice': 1226, '                        ': 1227, '\" xyz \"': 1228, '\".\"': 1229, '\"/\"': 1230, '\"Country\"': 1231, '\"Date is invalid.\"': 1232, '\"Ford\"': 1233, '\"LOWER_CASE\"': 1234, '\"Mustang\"': 1235, '\"NO\"': 1236, '\"Original list:\"': 1237, '\"Please Enter the First value: \"': 1238, '\"The L.C.M. is\"': 1239, '\"The incremented date is: \"': 1240, '\"The original dictionary : \"': 1241, '\"UPPER_CASE\"': 1242, '\"brand\"': 1243, '\"model\"': 1244, '\"percentage\"': 1245, '\"times\"': 1246, '\"tsai\"': 1247, '\"val1\"': 1248, '\"watch the match\"': 1249, '\"year\"': 1250, '\"yes\"': 1251, '\"{0} is Greater Than both {1} and {2}\"': 1252, '&=': 1253, \"'D'\": 1254, \"'END'\": 1255, \"'Eric'\": 1256, \"'It is a glorious day'\": 1257, \"'R'\": 1258, \"'Scott'\": 1259, \"'__main__'\": 1260, \"'email'\": 1261, \"'four'\": 1262, \"'length'\": 1263, \"'one'\": 1264, \"'rate'\": 1265, \"'this is my sentence and i will write it my way'\": 1266, \"'three'\": 1267, \"'two'\": 1268, \"'type'\": 1269, '00': 1270, '1964': 1271, '333': 1272, '37.5': 1273, '407': 1274, '43': 1275, '57': 1276, '9.0': 1277, 'AB': 1278, 'AC': 1279, 'Amount': 1280, 'ItemId': 1281, 'Iterable': 1282, 'L2': 1283, 'LCM': 1284, 'List': 1285, 'OTP': 1286, 'Queue': 1287, 'SeqType': 1288, 'StopIteration': 1289, 'Timer': 1290, 'UncommonWords': 1291, '__next__': 1292, '_queue': 1293, 'addEdge': 1294, 'allEmployee': 1295, 'all_set': 1296, 'amin': 1297, 'angular_dist': 1298, 'ascii_letters': 1299, 'ascii_lowercase': 1300, 'bin1': 1301, 'bin2': 1302, 'binaryNum': 1303, 'box_index': 1304, 'bredth': 1305, 'calculate': 1306, 'cap_list': 1307, 'ci': 1308, 'clear': 1309, 'colNum': 1310, 'columns': 1311, 'count_vowels': 1312, 'currentEmployee': 1313, 'current_sum': 1314, 'cycle': 1315, 'days_to_add': 1316, 'dec_value': 1317, 'defaultdict': 1318, 'deleted_element': 1319, 'dict_depth': 1320, 'dict_using_comp': 1321, 'dimensions': 1322, 'discount': 1323, 'elat': 1324, 'elements': 1325, 'endTime': 1326, 'entity': 1327, 'exponent': 1328, 'f\"Duplicate Value in Two set:{x}\"': 1329, 'f\"First Charecter in String:{letter}\"': 1330, \"f'Sum: {sum}'\": 1331, \"f'{key} was found at index {index}.'\": 1332, \"f'{key} was not found.'\": 1333, 'file1': 1334, 'fillvalue': 1335, 'finder': 1336, 'firstList': 1337, 'flag_l': 1338, 'flag_n': 1339, 'flatten_dict': 1340, 'force': 1341, 'formerEmployee': 1342, 'fp': 1343, 'fromkeys': 1344, 'gen': 1345, 'getRandomDate': 1346, 'gnomeSort': 1347, 'guess1': 1348, 'guess3': 1349, 'half_life': 1350, 'heapsort': 1351, 'hours': 1352, 'html': 1353, 'id_keys': 1354, 'infile': 1355, 'initail_quatity': 1356, 'input_string_list': 1357, 'int_list': 1358, 'isEmpty': 1359, 'isFull': 1360, 'isfile': 1361, 'it': 1362, 'itemDictionary': 1363, 'iterables': 1364, 'json_file': 1365, 'key_val_map': 1366, 'kk': 1367, 'kmh': 1368, 'last_processed_j_idx': 1369, 'len1': 1370, 'len2': 1371, 'lengths': 1372, 'listChunk': 1373, 'list_of_seq': 1374, 'list_str1': 1375, 'list_str2': 1376, 'list_to_be_squared': 1377, 'list_val': 1378, 'load_key': 1379, 'logger': 1380, 'longest_non_repeat': 1381, 'major': 1382, 'mass1': 1383, 'mass2': 1384, 'matched_chars': 1385, 'max_value': 1386, 'maxlen': 1387, 'menu': 1388, 'merge_lists': 1389, 'min_': 1390, 'min_value': 1391, 'minor': 1392, 'missing_number': 1393, 'mktime': 1394, 'mode': 1395, 'modified_ip': 1396, 'msb': 1397, 'mul': 1398, 'multilist': 1399, 'my_max': 1400, 'my_tuple': 1401, 'myset': 1402, 'myval': 1403, 'n3': 1404, 'name_to_value_dict': 1405, 'namedtuple': 1406, 'new_data': 1407, 'new_node': 1408, 'new_nums': 1409, 'next_list': 1410, 'no_': 1411, 'no_spaces': 1412, 'num_seq': 1413, 'number_of_edges': 1414, 'numlegs': 1415, 'odd_nos': 1416, 'old_val': 1417, 'opponenetChoice': 1418, 'out_tuple': 1419, 'p2': 1420, 'parent': 1421, 'person_json': 1422, 'person_string': 1423, 'pigeonhole_sort': 1424, 'points': 1425, 'printDict': 1426, 'printString': 1427, 'printWords': 1428, 'print_factors': 1429, 'punc': 1430, 'r\"(?i)\\\\b((?:https?://|www\\\\d{0,3}[.]|[a-z0-9.\\\\-]+[.][a-z]{2,4}/)(?:[^\\\\s()<>]+|\\\\(([^\\\\s()<>]+|(\\\\([^\\\\s()<>]+\\\\)))*\\\\))+(?:\\\\(([^\\\\s()<>]+|(\\\\([^\\\\s()<>]+\\\\)))*\\\\)|[^\\\\s`!()\\\\[\\\\]{};:\\'\\\\\".,<>?«»“”‘’]))\"': 1431, 'rand': 1432, 'randomDate': 1433, 'randomGenerator': 1434, 'randomList': 1435, 'randomString': 1436, 'randomTime': 1437, 'random_float_array': 1438, 'readline': 1439, 'rectangle': 1440, 'recur_factorial': 1441, 'recur_sum': 1442, 'recursive_sum': 1443, 'repl_word': 1444, 'replaced_str': 1445, 'resistance': 1446, 'restrev': 1447, 'resultSet': 1448, 'roman_num': 1449, 'rowNum': 1450, 'rowsB': 1451, 'safeId': 1452, 'sampleJson': 1453, 'secondList': 1454, 'secondSet': 1455, 'second_smallest': 1456, 'seconds': 1457, 'seen_add': 1458, 'served_orders': 1459, 'sigmoid': 1460, 'slat': 1461, 'sort_and_merge': 1462, 'sorted_string': 1463, 'sorted_words': 1464, 'special': 1465, 'split_string': 1466, 'square_dict': 1467, 'starmap': 1468, 'start_num': 1469, 'std': 1470, 'stopwords': 1471, 'str_to_be_reversed': 1472, 'string2': 1473, 'stringLength': 1474, 'substr1': 1475, 'substr2': 1476, 'sum2': 1477, 'sum_first_n_recursive': 1478, 'tail': 1479, 'target_length': 1480, 'test_list3': 1481, 'textlist': 1482, 'textwrap': 1483, 'thisdict': 1484, 'thislist': 1485, 'throws': 1486, 'time_elapsed': 1487, 'tp2': 1488, 'tree': 1489, 'unit': 1490, 'unwanted_num': 1491, 'user_func': 1492, 'v2': 1493, 'vals2': 1494, 'velocity': 1495, 'vertical_concatenation': 1496, 'voltage': 1497, 'vv': 1498, 'weightage': 1499, 'weights': 1500, 'wordcloud': 1501, 'words_list': 1502, 'write_file': 1503, 'wt': 1504, 'x_loop_must_break': 1505, 'zlib': 1506, '\"%d/%m/%Y\"': 1507, '\"/*.*\"': 1508, '\"2 raised to power\"': 1509, '\"AEIOUaeiou\"': 1510, '\"Area of rectangle:\"': 1511, '\"Enter first number: \"': 1512, '\"Enter list : \"': 1513, '\"Enter number:\"': 1514, '\"Enter second number: \"': 1515, '\"Good\"': 1516, '\"India\"': 1517, '\"Input angle not valid.\"': 1518, '\"No files present in:\"': 1519, '\"No\"': 1520, '\"The string is a palindrome.\"': 1521, '\"The string is not a palindrome.\"': 1522, '\"geeksforgeeks\"': 1523, '\"i\"': 1524, '\"mango\"': 1525, '\"utf-8\"': 1526, '\"value2\"': 1527, '\"{0}\"': 1528, '# choose the greater number': 1529, '# iterate through columns of Y': 1530, '# iterate through rows of Y': 1531, \"'#'\": 1532, \"'%0.1f degree Celsius is equal to %0.1f degree Fahrenheit'\": 1533, \"'%0.2f kilometers is equal to %0.2f miles'\": 1534, \"'%A'\": 1535, \"'('\": 1536, \"')'\": 1537, \"'/'\": 1538, \"':'\": 1539, \"'G'\": 1540, \"'HR'\": 1541, \"'K'\": 1542, \"'Name'\": 1543, \"'U'\": 1544, \"'V'\": 1545, \"'_'\": 1546, \"'apple'\": 1547, \"'banana'\": 1548, \"'cat'\": 1549, \"'day'\": 1550, \"'five'\": 1551, \"'global'\": 1552, \"'have'\": 1553, \"'key1'\": 1554, \"'key2'\": 1555, \"'orange'\": 1556, \"'rb'\": 1557, '/=': 1558, '28': 1559, '3.142': 1560, '360': 1561, '48': 1562, '97': 1563, 'Area': 1564, 'CI': 1565, 'Female': 1566, 'LinkedList': 1567, 'Male': 1568, 'Remove': 1569, 'Solution': 1570, 'T': 1571, 'abc': 1572, 'add_two_numbers': 1573, 'addlist': 1574, 'answer': 1575, 'asciiVal': 1576, 'binary': 1577, 'boxes': 1578, 'bubbleSort': 1579, 'ceil': 1580, 'chunk': 1581, 'common_data': 1582, 'compound_interest': 1583, 'compute_gcd': 1584, 'count_even': 1585, 'count_odd': 1586, 'counts': 1587, 'df': 1588, 'dine_in_orders': 1589, 'direction': 1590, 'dot_product': 1591, 'encode': 1592, 'exception': 1593, 'exit': 1594, \"f'largest:{largest}'\": 1595, 'file_pattern': 1596, 'find_longest_word': 1597, 'frequency': 1598, 'generator': 1599, 'getsizeof': 1600, 'hexdigest': 1601, 'hypotenuse': 1602, 'invert_dict': 1603, 'isSorted': 1604, 'is_Sublist': 1605, 'is_prod_even': 1606, 'isalnum': 1607, 'last_processed_i_idx': 1608, 'leap': 1609, 'leftMostPosEle': 1610, 'localtime': 1611, 'maxEndingHere': 1612, 'maxPrime': 1613, 'merged_meetings': 1614, 'minimumLeft': 1615, 'next_position': 1616, 'pad_arr': 1617, 'pattern': 1618, 'pos1': 1619, 'pos2': 1620, 'prime_list': 1621, 'printValue': 1622, 'pythagoras': 1623, 'radian_angle': 1624, 'raw_list': 1625, 'readlines': 1626, 'relu': 1627, 'remove_duplicates': 1628, 'repN': 1629, 'rev_sentence': 1630, 'sec_max': 1631, 'sides': 1632, 'softmax': 1633, 'stock_prices': 1634, 'strchar': 1635, 'symmetric_difference': 1636, 'take_out_orders': 1637, 'temp_converter': 1638, 'test_str1': 1639, 'test_str2': 1640, 'the': 1641, 'threading': 1642, 'uniform': 1643, 'units': 1644, 'unpaired_characters': 1645, 'uuid4': 1646, 'version': 1647, 'visited': 1648, 'vowel': 1649, '\\t\\t\\t\\t\\t': 1650, '\\t        ': 1651, '\\t            ': 1652, '              ': 1653, '\"\"\"Search key in alist[start... end - 1].\"\"\"': 1654, '\"\"\"{\\n   \"id\": 1,\\n   \"name\": \"Piyush Jain\",\\n   \"class\": null,\\n   \"percentage\": 35,\\n   \"email\": \"piyushjain220@gmail.com\"\\n}\"\"\"': 1655, '\"*\"': 1656, '\"... pause.......................................\"': 1657, '\"08:05:45 PM\"': 1658, '\"10\"': 1659, '\"98\"': 1660, '\"After appending new string in middle\"': 1661, '\"Both are same times\"': 1662, '\"C\"': 1663, '\"D\"': 1664, '\"Eligible\"': 1665, '\"Ending longitude: \"': 1666, '\"English = 78 Science = 83 Math = 68 History = 65\"': 1667, '\"Enter Number: \"': 1668, '\"Enter a list element separated by space \"': 1669, '\"Enter a string: \"': 1670, '\"Enter list \"': 1671, '\"Eric\"': 1672, '\"Fibonacci sequence upto\"': 1673, '\"Geeks\"': 1674, '\"Hello this Is an Example With cased letters\"': 1675, '\"Incorrect input\"': 1676, '\"Input a value: \"': 1677, '\"Invalid Email\"': 1678, '\"Jon\"': 1679, '\"Larger string is:\"': 1680, '\"List after column Concatenation : \"': 1681, '\"Move disk 1 from source\"': 1682, '\"Move disk\"': 1683, '\"Not Eligible\"': 1684, '\"Odd numbers in the list: \"': 1685, '\"Please enter a positive integer\"': 1686, '\"Positive elements Tuples : \"': 1687, '\"Prime numbers between\"': 1688, '\"Resultant tuple list: \"': 1689, '\"Starting latitude: \"': 1690, '\"The Kth column of matrix is : \"': 1691, '\"The factors of\"': 1692, '\"The filtered tuple : \"': 1693, '\"The list tuple combination : \"': 1694, '\"The original list 1 is : \"': 1695, '\"The original list 2 is : \"': 1696, '\"The sorted words are:\"': 1697, '\"The total terms are:\"': 1698, '\"Top N keys are: \"': 1699, '\"USA\"': 1700, '\"Valid Distance Invalid Time\"': 1701, '\"Valid Email\"': 1702, '\"_\"': 1703, '\"by\"': 1704, '\"eat\"': 1705, '\"file name: \"': 1706, '\"from source\"': 1707, '\"good\"': 1708, '\"intial_list\"': 1709, '\"not accepted\"': 1710, '\"orange\"': 1711, '\"repeat\"': 1712, '\"secret.key\"': 1713, '\"sleep\"': 1714, '# update values': 1715, '# use while loop to iterate until zero': 1716, \"'\": 1717, \"'$'\": 1718, \"'''Sorts the list from indexes start to end - 1 inclusive.'''\": 1719, \"'. '\": 1720, \"'/*Jon is @developer & musician!!'\": 1721, \"'8'\": 1722, \"'9'\": 1723, \"'Best'\": 1724, \"'Classes'\": 1725, \"'DAY'\": 1726, \"'Dequeue is empty.'\": 1727, \"'H'\": 1728, \"'It'\": 1729, \"'L'\": 1730, \"'MS'\": 1731, \"'Maths'\": 1732, \"'Menu'\": 1733, \"'P'\": 1734, \"'The quick brown fox jumps over the lazy dog'\": 1735, \"'The square root of %0.3f is %0.3f'\": 1736, \"'The value of x after swapping: {}'\": 1737, \"'The value of y after swapping: {}'\": 1738, \"'They'\": 1739, \"'What would you like to do? '\": 1740, \"'X'\": 1741, \"'^[a-z0-9]+[\\\\._]?[a-z0-9]+[@]\\\\w+[.]\\\\w{2,3}$'\": 1742, \"'a long string that is not intered'\": 1743, \"'aIbohPhoBiA'\": 1744, \"'abc'\": 1745, \"'accepted'\": 1746, \"'d.o.b'\": 1747, \"'dog'\": 1748, \"'index'\": 1749, \"'july'\": 1750, \"'key3'\": 1751, \"'love'\": 1752, \"'march'\": 1753, \"'month'\": 1754, \"'popleft'\": 1755, \"'priority'\": 1756, \"'schoolofai'\": 1757, \"'text'\": 1758, \"'to'\": 1759, \"'{} has occurred {} times'\": 1760, '.5': 1761, '1.0': 1762, '1.16': 1763, '1.25': 1764, '10.22': 1765, '10000': 1766, '100000': 1767, '101': 1768, '102': 1769, '122': 1770, '2.3': 1771, '2.54': 1772, '27': 1773, '3.78': 1774, '5.92': 1775, '53': 1776, '75': 1777, '76': 1778, '82': 1779, '87': 1780, '876': 1781, '9.45': 1782, '90.0': 1783, 'CirclePerimeter': 1784, 'Cumulative': 1785, 'DLinkedNode': 1786, 'Decimal': 1787, 'Dequeue': 1788, 'ElementTree': 1789, 'F': 1790, 'Food': 1791, 'Foods': 1792, 'HTMLParser': 1793, 'INT_BITS': 1794, 'IOString': 1795, 'InputOutString': 1796, 'LCMofArray': 1797, 'MyHTMLParser': 1798, 'Q': 1799, 'Recurgcd': 1800, 'Reminder': 1801, 'STOPWORDS': 1802, 'Secure': 1803, 'Set1': 1804, 'Set2': 1805, 'Text': 1806, 'TfidfVectorizer': 1807, 'URL': 1808, 'Volume': 1809, 'WordCloud': 1810, 'X_row': 1811, 'Y_col': 1812, 'ZeroDivisionError': 1813, '__contains__': 1814, '__len__': 1815, '_dict': 1816, '_min': 1817, 'aFemale': 1818, 'aMale': 1819, 'aSquare': 1820, 'aTuple': 1821, 'acos': 1822, 'add_list': 1823, 'add_two_lists': 1824, 'adders': 1825, 'adjacent_side': 1826, 'all_args': 1827, 'all_repeat': 1828, 'amax': 1829, 'animal': 1830, 'annual_payment': 1831, 'apothem': 1832, 'append_left': 1833, 'args_': 1834, 'artist_dict': 1835, 'artist_name': 1836, 'attr1': 1837, 'attr2': 1838, 'attrs': 1839, 'average': 1840, 'bal': 1841, 'balance': 1842, 'biggest_char': 1843, 'biggest_chr': 1844, 'binary_num': 1845, 'binary_to_gray': 1846, 'binomialCoeff': 1847, 'birthDate': 1848, 'bits': 1849, 'blist': 1850, 'breakpoints': 1851, 'bubble_sort': 1852, 'bucket_sort': 1853, 'build_max_heap': 1854, 'buildmenu': 1855, 'byte_to_utf8': 1856, 'calculateLength': 1857, 'callable': 1858, 'capacity': 1859, 'cashflows': 1860, 'celcius': 1861, 'chars': 1862, 'checkString': 1863, 'checkSubset': 1864, 'check_date': 1865, 'cocktail_shaker_sort': 1866, 'column_names': 1867, 'column_values': 1868, 'comb_sort': 1869, 'combinations_with_replacement': 1870, 'combined_num': 1871, 'compress': 1872, 'contents': 1873, 'convertToBinary': 1874, 'convert_to_minutes': 1875, 'converts': 1876, 'cosine': 1877, 'count_blank_space': 1878, 'csv_reader': 1879, 'ctr_ele': 1880, 'cube_dict': 1881, 'dType': 1882, 'd_ft': 1883, 'date1': 1884, 'date2': 1885, 'dctA': 1886, 'dctB': 1887, 'dec_val': 1888, 'decrypt_message': 1889, 'decrypted_message': 1890, 'default': 1891, 'denominator': 1892, 'dequeued': 1893, 'derivative': 1894, 'dfdx': 1895, 'dict_char': 1896, 'dictname': 1897, 'diff_list': 1898, 'do_continue': 1899, 'dtob': 1900, 'effective_interest_rate': 1901, 'elon': 1902, 'encoded_message': 1903, 'encrypt_message': 1904, 'encrypted': 1905, 'end_time': 1906, 'err': 1907, 'etext': 1908, 'etree': 1909, 'expression': 1910, 'f\"{res}\"': 1911, \"f'Area Of a Circle {area}'\": 1912, \"f'Calculating fib({n})'\": 1913, 'f_date': 1914, 'f_read': 1915, 'fa': 1916, 'feature_names': 1917, 'file_path': 1918, 'file_reader': 1919, 'finally': 1920, 'find_all': 1921, 'find_winner_of_the_day': 1922, 'firstElement': 1923, 'fl': 1924, 'flen': 1925, 'from_file': 1926, 'func_val': 1927, 'gaps': 1928, 'gc': 1929, 'generator_yield': 1930, 'geometric_sum': 1931, 'getBitcoinPrice': 1932, 'getMinDist': 1933, 'get_gray_codes': 1934, 'get_size': 1935, 'get_top_tf_idf_words': 1936, 'getlength': 1937, 'getprice': 1938, 'globals': 1939, 'gnome_sort': 1940, 'grades': 1941, 'guesses_made': 1942, 'hashed': 1943, 'heads': 1944, 'heap_size': 1945, 'heapify': 1946, 'heappop': 1947, 'heappush': 1948, 'hello3': 1949, 'hexaDeciNum': 1950, 'hexadecimal_num': 1951, 'id_longest': 1952, 'inVar': 1953, 'ini_str': 1954, 'inlist': 1955, 'input_list1': 1956, 'input_list2': 1957, 'ins_time': 1958, 'insertion_sort_with_gap': 1959, 'installed_packages': 1960, 'installed_packages_list': 1961, 'inter': 1962, 'interest': 1963, 'intersection_update': 1964, 'interval': 1965, 'intp': 1966, 'inverted_dict': 1967, 'is_palindrome': 1968, 'is_perfect_square': 1969, 'iterations': 1970, 'key_factory': 1971, 'key_file': 1972, 'keyword': 1973, 'knapSack': 1974, 'kwargs_': 1975, 'l_date': 1976, 'l_nums': 1977, 'l_range': 1978, 'lastElement': 1979, 'last_digit': 1980, 'last_modified_hour': 1981, 'left_child': 1982, 'left_subsum': 1983, 'linear_search': 1984, 'list4': 1985, 'list_of_lists': 1986, 'list_to_dict': 1987, 'list_using_comp': 1988, 'lista': 1989, 'lista2': 1990, 'listcompr': 1991, 'logging': 1992, 'lower_rest': 1993, 'lowercase': 1994, 'marks': 1995, 'mat': 1996, 'matrix1Col': 1997, 'matrix2Rows': 1998, 'max_offset': 1999, 'max_profit': 2000, 'max_res': 2001, 'max_size': 2002, 'median': 2003, 'merge_list': 2004, 'message': 2005, 'min_tol': 2006, 'min_val': 2007, 'modified': 2008, 'modified_encode': 2009, 'most_common': 2010, 'movement': 2011, 'mph': 2012, 'multTimes': 2013, 'multiplyList': 2014, 'my_instance': 2015, 'mybytes': 2016, 'mydictionary': 2017, 'myhex': 2018, 'mystr': 2019, 'n4': 2020, 'netAmount': 2021, 'ngcd': 2022, 'nltk_ner_check': 2023, 'nominator': 2024, 'num_1': 2025, 'number_list': 2026, 'nums1': 2027, 'nums2': 2028, 'obj1': 2029, 'octal_num': 2030, 'old': 2031, 'op': 2032, 'opposite_side': 2033, 'orig_string': 2034, 'outer': 2035, 'ox': 2036, 'oy': 2037, 'pack_consecutive_duplicates': 2038, 'pad_len': 2039, 'pas': 2040, 'perimeter': 2041, 'permute_string': 2042, 'pkg_resources': 2043, 'pmt': 2044, 'pools': 2045, 'pop_left': 2046, 'powerset': 2047, 'presentday': 2048, 'priceFloat': 2049, 'prices': 2050, 'prime': 2051, 'printIntersection': 2052, 'printLeaders': 2053, 'priorities_and_sentences': 2054, 'psutil': 2055, 'quot_list': 2056, \"r'\\\\b\\\\d+\\\\b'\": 2057, 'r1': 2058, 'radian': 2059, 'radix': 2060, 'radix_sort': 2061, 'read_file': 2062, 'rep_str': 2063, 'responses': 2064, 'right_child': 2065, 'right_subsum': 2066, 'rno': 2067, 'sList': 2068, 'sampleDict': 2069, 'score': 2070, 'sent': 2071, 'seperator': 2072, 'sha256': 2073, 'shell_sort': 2074, 'shifted_alphabet': 2075, 'shrink': 2076, 'side1': 2077, 'side2': 2078, 'sieve': 2079, 'single_number': 2080, 'slon': 2081, 'snot': 2082, 'sol1': 2083, 'sol2': 2084, 'sorted_nzs': 2085, 'soup': 2086, 'space': 2087, 'spoor': 2088, 'start_time': 2089, 'statistics': 2090, 'stk': 2091, 'stop': 2092, 'string_date': 2093, 'string_test': 2094, 'string_var': 2095, 'string_words': 2096, 'strt': 2097, 'sublist': 2098, 'subprocess': 2099, 'sum_of_A': 2100, 'sum_of_nums': 2101, 'syb': 2102, 'symmetric_difference_update': 2103, 'tails': 2104, 'td': 2105, 'tds': 2106, 'team1_count': 2107, 'team2_count': 2108, 'tickerData': 2109, 'tickerDf': 2110, 'tickerSymbol': 2111, 'to_file': 2112, 'top_n': 2113, 'tp1': 2114, 'tr': 2115, 'tribonacci_seq': 2116, 'triplets': 2117, 'trs': 2118, 'tuple2': 2119, 'u_range': 2120, 'unicodeString': 2121, 'unique_list': 2122, 'uppercase': 2123, 'ur': 2124, 'userInput': 2125, 'value1': 2126, 'variance': 2127, 'vec1': 2128, 'vec2': 2129, 'vol': 2130, 'wraps': 2131, 'x3': 2132, 'xml': 2133, 'yesterday': 2134, 'yf': 2135, 'zip_longest': 2136, '\"   \"': 2137, '\" The mean of given list is :\"': 2138, '\" and \"': 2139, '\"\"\"Generate a random string of 5 charcters\"\"\"': 2140, '\"%Y-%m-%d %H:%M:%S\"': 2141, '\"%s %s %s.\"': 2142, '\"%s\"': 2143, '\"%s%s\"': 2144, '\"%s%s%s\"': 2145, '\"+\"': 2146, '\"/*Jon is @developer & musician\"': 2147, '\"0\"': 2148, '\"01110011 a\"': 2149, '\"1.Add\"': 2150, '\"1/1/2016\"': 2151, '\"12/12/2018\"': 2152, '\"2 X 2 random float array in [0.0, 1.0] \\\\n\"': 2153, '\"2.Subtract\"': 2154, '\"20/01/2020\"': 2155, '\"3.Multiply\"': 2156, '\"4.Divide\"': 2157, '\"45\"': 2158, '\": \"': 2159, '\"After reversing it \"': 2160, '\"All element are duplicate in listOne:\"': 2161, '\"America\"': 2162, '\"Apple\"': 2163, '\"Ault\"': 2164, '\"B\"': 2165, '\"Bingo!\"': 2166, '\"Bob\"': 2167, '\"Brad\"': 2168, '\"Bubble Sorted list: \"': 2169, '\"Bye\"': 2170, '\"Characters around vowels count : \"': 2171, '\"Checking if percentage key exists in JSON\"': 2172, '\"Constructed Dictionary : \"': 2173, '\"Count, the number of spaces\"': 2174, '\"Delimited String is: \"': 2175, '\"Difference is\"': 2176, '\"Difference of E and N is\"': 2177, '\"Done writing JSON data into a file\"': 2178, '\"Elements with digit K : \"': 2179, '\"English\"': 2180, '\"Enter an integer number: \"': 2181, '\"Enter any number: \"': 2182, '\"Error - the square root is not an integer\"': 2183, '\"Even elements distance : \"': 2184, '\"Extracted Strings : \"': 2185, '\"Feb 25 2020  4:20PM\"': 2186, '\"Female\"': 2187, '\"Fench\"': 2188, '\"First Set after removing common element \"': 2189, '\"Football\"': 2190, '\"GeeksforGeeks\"': 2191, '\"Generating 3 random integer number between 100 and 999 divisible by 5\"': 2192, '\"Green\"': 2193, '\"Hard Disk\"': 2194, '\"Hello! It is a Good thing\"': 2195, '\"Hockey\"': 2196, '\"How many terms? \"': 2197, '\"I am doing fine\"': 2198, '\"IISC is the best. IISC has Classes in the evening for professionals. Classes help to learn new things.\"': 2199, '\"Incremented numeric String : \"': 2200, '\"Intersection of E and N is\"': 2201, '\"Is it 1? enter y/n \\\\n\"': 2202, '\"Is it 4? enter y/n \\\\n\"': 2203, '\"Is it <= 2? enter y/n \\\\n\"': 2204, '\"Is it <= 3? enter y/n \\\\n\"': 2205, '\"It is a great meal at a great restaurant on a great day\"': 2206, '\"It is wonderful and sunny day for a picnic in the park\"': 2207, '\"Jessa\"': 2208, '\"Key doesn\\'t exist in JSON data\"': 2209, '\"Key exist in JSON data\"': 2210, '\"Key not found!\"': 2211, '\"Laptop\"': 2212, '\"Left Rotation : \"': 2213, '\"List after conversion from dictionary : \"': 2214, '\"List after filtering non-empty strings : \"': 2215, '\"Love\"': 2216, '\"Male\"': 2217, '\"Mapped dictionary : \"': 2218, '\"Maximum of all characters is: \"': 2219, '\"Mike\"': 2220, '\"Minimum of all characters is: \"': 2221, '\"Negative number\"': 2222, '\"New list after removing all even numbers: \"': 2223, '\"New list after removing unwanted numbers: \"': 2224, '\"New list is:\"': 2225, '\"New string is \"': 2226, '\"Nikhil\"': 2227, '\"No of unique items are:\"': 2228, '\"No. of matching characters are : \"': 2229, '\"Number of lines:\"': 2230, '\"Number of times\"': 2231, '\"Number of words:\"': 2232, '\"Numbers divisible by 13 are\"': 2233, '\"Original String is:\"': 2234, '\"Original String: \"': 2235, '\"PYnative\"': 2236, '\"Percentage is \"': 2237, '\"Play\"': 2238, '\"Please enter a number \"': 2239, '\"Please guess a number between 1 and 5 and I will guess within 3 chances!\"': 2240, '\"Plese enter a positive integer\"': 2241, '\"Positive number\"': 2242, '\"Printing count of each item  \"': 2243, '\"Printing random date between\"': 2244, '\"Printing shuffled list \"': 2245, '\"Product of integers in list : \"': 2246, '\"PyNaTive\"': 2247, '\"RAM\"': 2248, '\"Random Date = \"': 2249, '\"Random String is \"': 2250, '\"Random integer number generated using secrets module is \"': 2251, '\"Records after conversion : \"': 2252, '\"Red\"': 2253, '\"Replaced String: \"': 2254, '\"Resultant list of tuples: {}\"': 2255, '\"Reverse of the number:\"': 2256, '\"Reversed String is:\"': 2257, '\"Right Rotation : \"': 2258, '\"Roll the dices again?\"': 2259, '\"Scott\"': 2260, '\"Select operation.\"': 2261, '\"Smallest element is:\"': 2262, '\"Sorted order is : \"': 2263, '\"Sorted seqquence after applying Gnome Sort :\"': 2264, '\"String after multiple replace : \"': 2265, '\"String after replace :\"': 2266, '\"Strings after digits at end : \"': 2267, '\"Symmetric difference of E and N is\"': 2268, '\"The H.C.F. is\"': 2269, '\"The Merged Dictionary list : \"': 2270, '\"The Pretty Print dictionary is : \"': 2271, '\"The common letters are:\"': 2272, '\"The concatenated dictionary : \"': 2273, '\"The count of (\\'a\\', \\'b\\') is:\"': 2274, '\"The dictionary after combination : \"': 2275, '\"The dictionary converted from tuple list : \"': 2276, '\"The divisors of the number are:\"': 2277, '\"The extracted elements : \"': 2278, '\"The extracted value : \"': 2279, '\"The extracted words : \"': 2280, '\"The largest number is\"': 2281, '\"The number is a Perfect number!\"': 2282, '\"The number is not a Perfect number!\"': 2283, '\"The number of characters in string are : \"': 2284, '\"The number of lowercase characters is:\"': 2285, '\"The number of words in string are : \"': 2286, '\"The original tuple : \"': 2287, '\"The product from each index is : \"': 2288, '\"The reverse number is : {}\"': 2289, '\"The sorted dictionary by marks is : \"': 2290, '\"The string after punctuation filter : \"': 2291, '\"The strings after replacement : \"': 2292, '\"The swapped tuple list is : \"': 2293, '\"The uncommon of two lists is : \"': 2294, '\"The words frequency: \"': 2295, '\"Total Marks is:\"': 2296, '\"Total digits found : \"': 2297, '\"Total letters found : \"': 2298, '\"Union of E and N is\"': 2299, '\"Unknown\"': 2300, '\"User Input\"': 2301, '\"Values greater than K : \"': 2302, '\"With Order:\"': 2303, '\"Without Order:\"': 2304, '\"Words that are less than \"': 2305, '\"World\"': 2306, '\"Yay! found the number, its 1\"': 2307, '\"Yay! found the number, its 2\"': 2308, '\"Yay! found the number, its 3\"': 2309, '\"Yay! found the number, its 4\"': 2310, '\"Yay! found the number, its 5\"': 2311, '\"You\"': 2312, '\"Zero\"': 2313, '\"ababccd12@\"': 2314, '\"abc4234AFdeaa\"': 2315, '\"abcde\"': 2316, '\"appears is\"': 2317, '\"are\"': 2318, '\"average = \"': 2319, '\"bad\"': 2320, '\"bar2\"': 2321, '\"bb123cca1@\"': 2322, '\"best2\"': 2323, '\"bingo\"': 2324, '\"concatenation\"': 2325, '\"days\"': 2326, '\"division by zero!\"': 2327, '\"end, is best : for ! Nlp ;\"': 2328, '\"f Not Found!\"': 2329, '\"fg\"': 2330, '\"foo2\"': 2331, '\"for i in range(100):1+1\"': 2332, '\"geek\"': 2333, '\"great way to learn!\"': 2334, '\"h\"': 2335, '\"helloworld\"': 2336, '\"hi\"': 2337, '\"how are you?\"': 2338, '\"http://checkip.dyndns.org\"': 2339, '\"id\"': 2340, '\"in binary.\"': 2341, '\"in hexadecimal.\"': 2342, '\"in octal.\"': 2343, '\"integers only please\"': 2344, '\"is2\"': 2345, '\"john\"': 2346, '\"keeeey2\"': 2347, '\"kiwi\"': 2348, '\"ky3\"': 2349, '\"languages\"': 2350, '\"len2\"': 2351, '\"length1\"': 2352, '\"marks is: \"': 2353, '\"married\"': 2354, '\"mid value is \"': 2355, '\"no bingo\"': 2356, '\"o\"': 2357, '\"part of speech\"': 2358, '\"peter\"': 2359, '\"pineapple\"': 2360, '\"print bingo\"': 2361, '\"program\"': 2362, '\"python1234\"': 2363, '\"random char is \"': 2364, '\"safe unique id is \"': 2365, '\"sampleJson.json\"': 2366, '\"sample_key\"': 2367, '\"sample_val\"': 2368, '\"size of list = \"': 2369, '\"string is binary\"': 2370, '\"string is not binary\"': 2371, '\"sum = \"': 2372, '\"this\"': 2373, '\"tsai2\"': 2374, '\"u\"': 2375, '\"unique list\"': 2376, '\"val2\"': 2377, '\"value is not present for given JSON key\"': 2378, '\"value is present for given JSON key\"': 2379, '\"vertical\"': 2380, '\"w3resource\"': 2381, '\"what a great day!\"': 2382, '\"whatisthis\"': 2383, '\"{0}-->{1}\"': 2384, '# Base Case ': 2385, '# Convert to C': 2386, '# Convert to F': 2387, '# Return the converted temprature': 2388, '# Swapping  ': 2389, '# Write a python program to print if a string \"hello\" is present in the list': 2390, '# all prime numbers are greater than 1': 2391, '# shallow copy': 2392, \"'            '\": 2393, \"'   '\": 2394, \"'  '\": 2395, \"'%d-%m-%Y'\": 2396, \"'%m/%d/%Y'\": 2397, \"'%o,'\": 2398, \"'+'\": 2399, \"'-inf'\": 2400, \"'00001'\": 2401, \"'1.1'\": 2402, \"'10001'\": 2403, \"'11'\": 2404, \"'2.2'\": 2405, \"'2000-01-01'\": 2406, \"'5'\": 2407, \"'6'\": 2408, \"'@'\": 2409, \"'April'\": 2410, \"'Aug'\": 2411, \"'Bob'\": 2412, \"'Caught an exception'\": 2413, \"'Club'\": 2414, \"'CoffeeDay is best for coffee and having long conversations'\": 2415, \"'Diamond'\": 2416, \"'Dict1'\": 2417, \"'END Program'\": 2418, \"'Emma'\": 2419, \"'GoodisalwaysGoood'\": 2420, \"'Heart'\": 2421, \"'I am 25 years and 10 months old'\": 2422, \"'IISC'\": 2423, \"'In finally block for cleanup'\": 2424, \"'IplData'\": 2425, \"'June'\": 2426, \"'Kelly'\": 2427, \"'Key_B'\": 2428, \"'List:'\": 2429, \"'May'\": 2430, \"'No'\": 2431, \"'Number of alphanumeric: '\": 2432, \"'Number of digits: '\": 2433, \"'Number total Upper Case: '\": 2434, \"'Number total lower Case: '\": 2435, \"'Sept'\": 2436, \"'Smith'\": 2437, \"'Spade'\": 2438, \"'The count of i is:'\": 2439, \"'Updated animals list: '\": 2440, \"'ab'\": 2441, \"'append'\": 2442, \"'cd'\": 2443, \"'children'\": 2444, \"'count001'\": 2445, \"'feb'\": 2446, \"'file1.txt'\": 2447, \"'filter'\": 2448, \"'geek'\": 2449, \"'guinea pig'\": 2450, \"'helloworld'\": 2451, \"'hi 123 how are you doing? 567 is with you. Take care of 89'\": 2452, \"'id'\": 2453, \"'imaginary'\": 2454, \"'in else'\": 2455, \"'jan'\": 2456, \"'kEy'\": 2457, \"'key4'\": 2458, \"'key_a'\": 2459, \"'locally changed'\": 2460, \"'long'\": 2461, \"'loss'\": 2462, \"'match toss choice session1 session2 winner'\": 2463, \"'nice'\": 2464, \"'no profit or loss'\": 2465, \"'person.txt'\": 2466, \"'profit'\": 2467, \"'program '\": 2468, \"'pynative'\": 2469, \"'rabbit'\": 2470, \"'ram'\": 2471, \"'random_key'\": 2472, \"'real'\": 2473, \"'remark'\": 2474, \"'substring'\": 2475, \"'the quick brown fox jumps over the lazy dog'\": 2476, \"'tup before: '\": 2477, \"'week after week the numbers are increasing'\": 2478, \"'xbzefdgstb'\": 2479, '\\'{\"name\": \"Bob\", \"languages\": \"English\", \"numbers\": [2, 1.6, null]}\\'': 2480, '1001': 2481, '1024': 2482, '111': 2483, '12345': 2484, '1234511': 2485, '129388': 2486, '1367891': 2487, '1634': 2488, '173': 2489, '2019': 2490, '221': 2491, '2323': 2492, '234': 2493, '239': 2494, '3.0': 2495, '300000': 2496, '3001': 2497, '339': 2498, '39': 2499, '444': 2500, '49': 2501, '555': 2502, '6.674': 2503, '62': 2504, '72': 2505, '73': 2506, '750': 2507, '7536': 2508, '875': 2509, '9.8': 2510, '91': 2511, '95': 2512, '98': 2513, '9999': 2514, 'A1': 2515, 'ArithmeticError': 2516, 'AssertionError': 2517, 'Binary': 2518, 'Cel': 2519, 'Circle': 2520, 'EvenGenerator': 2521, 'GqLt': 2522, 'IP': 2523, 'MatrixChainOrder': 2524, 'Merge': 2525, 'MyError': 2526, 'NewYorker': 2527, 'NumGenerator': 2528, 'NumList1': 2529, 'NumList2': 2530, 'Rectangle': 2531, 'String': 2532, 'Thread': 2533, 'Tree': 2534, 'TreeNode': 2535, 'Tv': 2536, '_lis': 2537, 'a_set': 2538, 'absolute_value': 2539, 'account_no': 2540, 'activities': 2541, 'activity_time': 2542, 'add_even_num': 2543, 'add_node': 2544, 'addition': 2545, 'after_replace': 2546, 'all_equal': 2547, 'all_png_files': 2548, 'alphabets': 2549, 'append_to_list': 2550, 'arange': 2551, 'area_of_circle': 2552, 'arg_list': 2553, 'axis': 2554, 'b_set': 2555, 'bases_num': 2556, 'between': 2557, 'bit_length': 2558, 'cal_angular_velocity': 2559, 'cal_area_circle': 2560, 'cal_area_ellipse': 2561, 'cal_area_hemisphere': 2562, 'cal_area_rect': 2563, 'cal_area_rhombus': 2564, 'cal_area_sphere': 2565, 'cal_area_square': 2566, 'cal_area_trapezium': 2567, 'cal_cart_distance': 2568, 'cal_circumference': 2569, 'cal_cone_curved_surf_area': 2570, 'cal_cone_lateral_surf_area': 2571, 'cal_cone_volume': 2572, 'cal_cube_volume': 2573, 'cal_cuboid_volume': 2574, 'cal_current': 2575, 'cal_cylinder_lat_surf_area': 2576, 'cal_cylinder_surf_area': 2577, 'cal_cylinder_volume': 2578, 'cal_density': 2579, 'cal_displacement': 2580, 'cal_dist_from_orign': 2581, 'cal_distance': 2582, 'cal_electrostatic_force': 2583, 'cal_energy_by_mass': 2584, 'cal_eq_triangle_area': 2585, 'cal_final_velocity': 2586, 'cal_focal_length_of_lense': 2587, 'cal_gforce': 2588, 'cal_half_life': 2589, 'cal_hemisphere_volume': 2590, 'cal_ke': 2591, 'cal_mean': 2592, 'cal_median': 2593, 'cal_mi_ring': 2594, 'cal_mi_sphere': 2595, 'cal_pe': 2596, 'cal_perimeter_eq_triangle': 2597, 'cal_perimeter_iso_triangle': 2598, 'cal_perimeter_rect': 2599, 'cal_perimeter_square': 2600, 'cal_perimeter_triangle': 2601, 'cal_rt_triangle_area': 2602, 'cal_sp_after_discount': 2603, 'cal_speed': 2604, 'cal_sphere_volume': 2605, 'cal_surface_area_cube': 2606, 'cal_surface_area_cuboid': 2607, 'cal_time': 2608, 'cal_torque': 2609, 'cal_total_cap_in_parallel': 2610, 'cal_total_res_in_parallel': 2611, 'cal_total_res_in_series': 2612, 'cal_triangle_area': 2613, 'candidates': 2614, 'card_deck': 2615, 'charCount': 2616, 'checkKey': 2617, 'check_lower': 2618, 'check_upper': 2619, 'child': 2620, 'col_num': 2621, 'combination_length': 2622, 'commonWords': 2623, 'conversion': 2624, 'convert_to_seconds': 2625, 'count_digits': 2626, 'count_set_bits': 2627, 'count_space': 2628, 'country_code': 2629, 'cpu_count': 2630, 'csv_file_name': 2631, 'csv_list': 2632, 'cube': 2633, 'cum_weights': 2634, 'curr_frequency': 2635, 'current_meeting_end': 2636, 'current_meeting_start': 2637, 'current_time': 2638, 'current_total': 2639, 'decoded_line': 2640, 'deepcopy': 2641, 'def_list': 2642, 'delete_last_element': 2643, 'dem': 2644, 'denom': 2645, 'determinant': 2646, 'di': 2647, 'dice': 2648, 'dict_to_tuple': 2649, 'dir': 2650, 'dis': 2651, 'divide_first_number_by_second': 2652, 'dst_dir_path': 2653, 'dt1': 2654, 'dt2': 2655, 'e_arr': 2656, 'emptylist': 2657, 'entry': 2658, 'enum': 2659, 'exec': 2660, 'extend_list': 2661, 'f\"All char are alphabetic?:{check}\"': 2662, 'f\"All char are alphanumeric?:{check}\"': 2663, 'f\"Ascending Order list:,{my_list}\"': 2664, 'f\"Descending Order list:,{my_list}\"': 2665, 'f\"Fibonacci series up to 100:{final}\"': 2666, 'f\"Final List:{prices}\"': 2667, 'f\"Final Result is{result}\"': 2668, 'f\"Integer value for the given character?:{val}\"': 2669, 'f\"Joined Set:{set3}\"': 2670, 'f\"Length of Dictionary:{len(thisdict)}\"': 2671, 'f\"Length of string: {len(word)}\"': 2672, 'f\"List Generated by list comprehension:{list}\"': 2673, 'f\"New Vector:{s1}\"': 2674, 'f\"Number of unique keys: {len(unique_keys)}\"': 2675, 'f\"Product of every pair of numbers from two lists:{final}\"': 2676, 'f\"Revised List:{q}\"': 2677, 'f\"Sample Dictionary:{thisdict}\"': 2678, 'f\"Sorted List:{thislist}\"': 2679, 'f\"Splited Strings: {ksplit}\"': 2680, 'f\"String ater removal of leading characters:{lstrip}\"': 2681, 'f\"String ater removal of trailing characters:{rstrip}\"': 2682, 'f\"String ater replacement: {after_replace}\"': 2683, 'f\"String contains digits?:{check}\"': 2684, 'f\"String contains upper case?:{check}\"': 2685, 'f\"String starts with H?:{check}\"': 2686, 'f\"Sum of two list:,{my_list1+my_list2}\"': 2687, 'f\"Sum of two list:,{my_list1.pop(index)}\"': 2688, 'f\"Ten dots: {ten}\"': 2689, 'f\"\\\\n{sub}\"': 2690, 'f\"last element from the stack:{s.pop()}\"': 2691, 'f\"number of spaces in sring: {lenx}\"': 2692, 'f\"pair-wise product of two lists:{final}\"': 2693, 'f\"sum of every pair of numbers from two lists:{final}\"': 2694, 'f\"{str(int(x.group())+1).zfill(len(x.group()))}\"': 2695, \"f'Area: {2 * math.pi * radius}'\": 2696, \"f'Area: {length * width}'\": 2697, \"f'Area: {side * side}'\": 2698, \"f'Exponent Value is:{final}'\": 2699, \"f'Product: {product}'\": 2700, \"f'remainder:{ratio}'\": 2701, \"f'{s} is not present in the list'\": 2702, \"f'{s} is present in the list'\": 2703, 'f_substring': 2704, 'fab_list': 2705, 'file_path_args': 2706, 'filter_with_key_value': 2707, 'finalList': 2708, 'final_2': 2709, 'find_integer_square_roots': 2710, 'find_pressure_of_ideal_gas': 2711, 'find_profit_or_loss': 2712, 'find_temp_of_ideal_gas': 2713, 'find_urls': 2714, 'find_volume_of_ideal_gas': 2715, 'flags': 2716, 'frac': 2717, 'gcd1': 2718, 'getDist': 2719, 'get_absolute_value': 2720, 'get_ci': 2721, 'get_punctuations': 2722, 'get_si': 2723, 'getmtime': 2724, 'graph': 2725, 'gray_to_binary': 2726, 'h_c_f': 2727, 'h_inch': 2728, 'hello1': 2729, 'i_idx': 2730, 'ii': 2731, 'inner_time': 2732, 'input_file_name': 2733, 'inputstring': 2734, 'integer_reverse': 2735, 'intern': 2736, 'invert_dict_non_unique': 2737, 'isValidDate': 2738, 'is_first_come_first_served': 2739, 'is_in_circle': 2740, 'is_power_of_two': 2741, 'is_vowel': 2742, 'issubset': 2743, 'j_idx': 2744, 'jacobsthal_seq': 2745, 'ksplit': 2746, 'kth_column': 2747, 'larger_string': 2748, 'largest_and_smallest': 2749, 'last_merged_meeting_end': 2750, 'left_down': 2751, 'lenx': 2752, 'linked_list': 2753, 'list_count_4': 2754, 'list_of_intgers': 2755, 'listdir': 2756, 'listname': 2757, 'lists_to_dict': 2758, 'locals': 2759, 'mailfile': 2760, 'mailids': 2761, 'main_list': 2762, 'make_all_negative': 2763, 'make_all_positive': 2764, 'mapping': 2765, 'max_count': 2766, 'max_of_two': 2767, 'maxlength': 2768, 'maxsize': 2769, 'mean_key_val_diff': 2770, 'merge1': 2771, 'merge_dict': 2772, 'merged_dict': 2773, 'min_occ': 2774, 'mod': 2775, 'most_frequent': 2776, 'move_to_head': 2777, 'multi_list': 2778, 'my_nums': 2779, 'myfile': 2780, 'neg': 2781, 'neg_list': 2782, 'newNode': 2783, 'new_vec': 2784, 'newline': 2785, 'newlist': 2786, 'nico': 2787, 'nl': 2788, 'num_upper': 2789, 'number_dict': 2790, 'obj2': 2791, 'octalNum': 2792, 'odd_product': 2793, 'offset': 2794, 'origin': 2795, 'outer_time': 2796, 'padovan_seq': 2797, 'pairs': 2798, 'partial': 2799, 'pell_seq': 2800, 'perrins_number': 2801, 'point': 2802, 'population': 2803, 'pos_list': 2804, 'princ_amount': 2805, 'print_ascii': 2806, 'print_cube': 2807, 'prod_of_roots': 2808, 'property_to_be_cached': 2809, 'putNumbers': 2810, 'px': 2811, 'py': 2812, 'quick_sort': 2813, 'r\"(_|-)+\"': 2814, \"r'[0-9]+$'\": 2815, 'r_punc': 2816, 'r_x': 2817, 'r_y': 2818, 'randbelow': 2819, 'read_and_print_file': 2820, 'read_csv': 2821, 'rec': 2822, 'remove_char': 2823, 'remove_node': 2824, 'report_arg': 2825, 'revInvar': 2826, 'robot': 2827, 'root_type': 2828, 'roots_of_qad_eq': 2829, 'rotate_left': 2830, 'rotate_right': 2831, 'row_num': 2832, 'rss': 2833, 'rstr1': 2834, 'sampleTuple': 2835, 'sample_list': 2836, 'sequences': 2837, 'set3': 2838, 'setp_copy': 2839, 'shape': 2840, 'shift_and_scale': 2841, 'slice': 2842, 'smallest_multiple': 2843, 'solve': 2844, 'sort_ascending': 2845, 'sort_descending': 2846, 'sort_dict_list': 2847, 'sorted_meetings': 2848, 'spaces': 2849, 'splitlines': 2850, 'square_list_elements': 2851, 'square_numbers': 2852, 'substring_copy': 2853, 'sum_first_n': 2854, 'sum_n': 2855, 'sum_of_roots': 2856, 'sum_thrice': 2857, 'symbolCount': 2858, 'symmetry': 2859, 'syslvester_seq': 2860, 'ten': 2861, 'test_tuple': 2862, 'third': 2863, 'time_it': 2864, 'tmp_dict': 2865, 'token': 2866, 'tokens': 2867, 'total_size': 2868, 'transposed_row': 2869, 'trips': 2870, 'typ': 2871, 'up': 2872, 'updict': 2873, 'upp': 2874, 'user_loglevel': 2875, 'username': 2876, 'utcnow': 2877, 'valid': 2878, 'validate': 2879, 'word1': 2880, 'word2': 2881, 'y3': 2882, 'zeros': 2883, 'zip_': 2884, '\\t\\t  ': 2885, '    \\t     ': 2886, '\"': 2887, '\" * \"': 2888, '\" Expected between 0 and 1\"': 2889, '\" for Vote.\"': 2890, '\" is \"': 2891, '\" is = \"': 2892, '\" is: \"': 2893, '\"\"\"\\n           Generates a key and save it into a file\\n        \"\"\"': 2894, '\"\"\"\\n        Decrypts an encrypted message\\n        \"\"\"': 2895, '\"\"\"\\n        Encrypts a message\\n        \"\"\"': 2896, '\"\"\"\\n        Load the previously generated key\\n        \"\"\"': 2897, '\"\"\"\\n    function to show how to do do documentation of function\\n    First line after function wriiten inside triple quotes.\\n    Don\\'t forget to close when job is done.\\n    \"\"\"': 2898, '\"\"\" returns the cosine value for an angle mentioned in radians\"\"\"': 2899, '\"\"\" returns the hyperbolic tangent value of a number\"\"\"': 2900, '\"\"\" returns the sine value for an angle mentioned in radians\"\"\"': 2901, '\"\"\" returns the tangent value for an angle mentioned in radians\"\"\"': 2902, '\"\"\"Convert Binary to Gray codeword and return it.\"\"\"': 2903, '\"\"\"Convert Gray codeword to binary and return it.\"\"\"': 2904, '\"\"\"Converts a call-until-exception interface to an iterator interface.\\n    Like builtins.iter(func, sentinel) but uses an exception instead\\n    of a sentinel to end the loop.\\n    Examples:\\n        iter_except(s.pop, KeyError)                             # non-blocking set iterator\\n    \"\"\"': 2905, '\"\"\"Return index of key in alist. Return -1 if key not present.\"\"\"': 2906, '\"\"\"Return n-bit Gray code in a list.\"\"\"': 2907, '\"\"\"Return the element that occurs odd number of times in alist.\\n \\n    alist is a list in which all elements except one element occurs an even\\n    number of times.\\n    \"\"\"': 2908, '\"%s name is %s\"': 2909, '\"%s%s%s%s\"': 2910, '\"%s:%d\"': 2911, '\"%s==%s\"': 2912, '\"(\"': 2913, '\"(\\\\w+)@((\\\\w+\\\\.)+(com))\"': 2914, '\"(\\\\w+)@(\\\\w+)\\\\.(com)\"': 2915, '\"(x+y\"': 2916, '\"({}, {})\"': 2917, '\")\"': 2918, '\", \"': 2919, '\"->\"': 2920, '\"... pause..............................\"': 2921, '\"...back straight and head up right\"': 2922, '\"...make these adjustments now if you need to\"': 2923, '\"...nice and relaxed...comfortable and relaxed...\"': 2924, '\"...now... sitting comfortably in the chair\"': 2925, '\"...now...I want you to notice...how heavy your head is starting to feel...\"': 2926, '\"...with your feet still flat on the ground\"': 2927, '\"...your eyes ...still ...comfortably closed\"': 2928, '\"/*\"': 2929, '\"/BTC\"': 2930, '\"0123456789\"': 2931, '\"123\"': 2932, '\"2\"': 2933, '\"20\"': 2934, '\"20/04/2021\"': 2935, '\"4A3B2C1D3A\"': 2936, '\"5\"': 2937, '\"86\"': 2938, '\">\"': 2939, '\"AAAABBBCCDAAA\"': 2940, '\"ABA\"': 2941, '\"Advance the iterator n-steps ahead. If n is None, consume entirely.\"': 2942, '\"Akshat\"': 2943, '\"Apples\"': 2944, '\"Area of circle:\"': 2945, '\"Arun\"': 2946, '\"Average of elements in the list\"': 2947, '\"BirthdaY\"': 2948, '\"Bitstamp last price: US $ \"': 2949, '\"Both strings are equal.\"': 2950, '\"CD\"': 2951, '\"CM\"': 2952, '\"CS\"': 2953, '\"Code to be written here to match equality check between two object of same class\"': 2954, '\"Date is valid.\"': 2955, '\"Does tuple contain any None value ? : \"': 2956, '\"E\"': 2957, '\"END\"': 2958, '\"ERROR: dimensions of the two arrays must be the same\"': 2959, '\"Either any two values or all the three values are equal\"': 2960, '\"Enter Text: \"': 2961, '\"Enter a tuple:\"': 2962, '\"Enter a year: \"': 2963, '\"Enter base: \"': 2964, '\"Enter choice(1/2/3/4): \"': 2965, '\"Enter exponential value: \"': 2966, '\"Enter file name .txt extension:\"': 2967, '\"Enter lower range: \"': 2968, '\"Enter number of rows: \"': 2969, '\"Enter the number to be counted:\"': 2970, '\"Enter the principle amount : \"': 2971, '\"Enter the rate of interest : \"': 2972, '\"Enter the time in the years: \"': 2973, '\"Enter upper range: \"': 2974, '\"Error querying Bitstamp API\"': 2975, '\"Factors are:\"': 2976, '\"False\"': 2977, '\"Filtered Tuples : \"': 2978, '\"Flattened dictionary : \"': 2979, '\"Formatted Number with no decimal places: \"': 2980, '\"Frequency of the elements in the List : \"': 2981, '\"GEEK\"': 2982, '\"GFG is good\"': 2983, '\"Geeks for Geeks\"': 2984, '\"Given Linked List\"': 2985, '\"HellowWorld\"': 2986, '\"HpY\"': 2987, '\"IP Address: \"': 2988, '\"IV\"': 2989, '\"IX\"': 2990, '\"India is my country\"': 2991, '\"Input a number: \"': 2992, '\"Input a string: \"': 2993, '\"Input coordinates of two points:\"': 2994, '\"Input string is: \"': 2995, '\"Input the size of the matrix: \"': 2996, '\"Invalid Input\"': 2997, '\"Invalid interest rate\"': 2998, '\"Invalid tenure\"': 2999, '\"It is an even number\"': 3000, '\"It is an odd number\"': 3001, '\"Item not found \"': 3002, '\"KM/H = \"': 3003, '\"Kilometer\"': 3004, '\"L\"': 3005, '\"LCM of arr1 elements:\"': 3006, '\"List is empty\"': 3007, '\"M\"': 3008, '\"MPH\"': 3009, '\"Maximum length of consecutive 0’s:\"': 3010, '\"Multidimensional list:\"': 3011, '\"My deepest secret!\"': 3012, '\"No carry operation.\"': 3013, '\"No. of Lower case Characters : \"': 3014, '\"No. of Upper case characters : \"': 3015, '\"Non-duplicate items:\"': 3016, '\"Not a palindrome\"': 3017, '\"Number is even!\"': 3018, '\"Number is odd!\"': 3019, '\"Number is prime\"': 3020, '\"Number not prime\"': 3021, '\"Number of lines = \"': 3022, '\"Number of words = \"': 3023, '\"Number: \"': 3024, '\"Optional\"': 3025, '\"Oranges\"': 3026, '\"Original List : \"': 3027, '\"Original String : \"': 3028, '\"Original string:\"': 3029, '\"PHP\"': 3030, '\"Pairs (Words and Frequencies:\\\\n {}\"': 3031, '\"Pears\"': 3032, '\"Perimeter of rectangle:\"': 3033, '\"Person\"': 3034, '\"Please Enter any Number: \"': 3035, '\"Please Enter your Own String : \"': 3036, '\"Please enter the Total Number of List Elements: \"': 3037, '\"Python keywords are...\"': 3038, '\"Result:\"': 3039, '\"Rolling the dice...\"': 3040, '\"Rolling the dices...and the values are\"': 3041, '\"Second largest element is:\"': 3042, '\"Segregated values of keys are : \"': 3043, '\"Sorted List : \"': 3044, '\"Speed:\"': 3045, '\"Subsets: \"': 3046, '\"Text must be string or a File object.\"': 3047, '\"The Given String in Uppercase =  \"': 3048, '\"The Kth non empty string from rear is : \"': 3049, '\"The String after performing replace : \"': 3050, '\"The binary representation of the number is NOT a palindrome.\"': 3051, '\"The binary representation of the number is a palindrome.\"': 3052, '\"The constructed dictionary : \"': 3053, '\"The converted list : \"': 3054, '\"The distance is %.2fkm.\"': 3055, '\"The distinct elements are: \"': 3056, '\"The even list\"': 3057, '\"The letters are:\"': 3058, '\"The list after conversion to list of string : \"': 3059, '\"The list after conversion to tuple list : \"': 3060, '\"The list after removing last characters : \"': 3061, '\"The list after shift is : \"': 3062, '\"The merged values encapsulated dictionary is : \"': 3063, '\"The modified list : \"': 3064, '\"The number is a palindrome!\"': 3065, '\"The number isn\\'t a palindrome!\"': 3066, '\"The number of repetitions is: \"': 3067, '\"The odd list\"': 3068, '\"The original tuple is : \"': 3069, '\"The required result : \"': 3070, '\"The required sort order : \"': 3071, '\"The sum of first n natural numbers is\"': 3072, '\"The word with the longest length is:\"': 3073, '\"The words frequency : \"': 3074, '\"Today\\'s date:\"': 3075, '\"True\"': 3076, '\"Tuples after Concatenating : \"': 3077, '\"Updated list is: \"': 3078, '\"V\"': 3079, '\"Volume: \"': 3080, '\"White\"': 3081, '\"X\"': 3082, '\"XC\"': 3083, '\"XL\"': 3084, '\"You are \"': 3085, '\"You got:\"': 3086, '\"[0-9]\"': 3087, '\"[A-Z]\"': 3088, '\"[_@$]\"': 3089, '\"[a-z]\"': 3090, '\"\\\\d+\"': 3091, '\"\\\\nAfter packing consecutive duplicates of the said list elements into sublists:\"': 3092, '\"\\\\nDecrypted message:\"': 3093, '\"\\\\nIf the one of the said list is a subset of another.:\"': 3094, '\"\\\\nList reflecting the modified run-length encoding from the said list:\"': 3095, '\"\\\\nMessage has been encrypted: \"': 3096, '\"\\\\nOriginal String in Lowercase  =  \"': 3097, '\"\\\\nReversed Linked List\"': 3098, '\"\\\\s\"': 3099, '\"]\"': 3100, '\"abc\"': 3101, '\"aeiouAEIOU\"': 3102, '\"aeiuoAEIOU\"': 3103, '\"all\"': 3104, '\"and how much more ...comfortable...it will feel when you let your neck relaxes ...and your head begins to fall forward ...into a much more comfortable\"': 3105, '\"apt\"': 3106, '\"class\"': 3107, '\"educated\"': 3108, '\"file name:\"': 3109, '\"file.txt\"': 3110, '\"get\"': 3111, '\"hello world\"': 3112, '\"hello\"': 3113, '\"how heavy your head feels...\"': 3114, '\"html.parser\"': 3115, '\"http://www.python.org\"': 3116, '\"https://github.com/RobertJGabriel/Google-profanity-words/blob/master/list.txt\"': 3117, '\"https://www.bitstamp.net/api/ticker/\"': 3118, '\"index[\"': 3119, '\"initial_strings : \"': 3120, '\"inner:\"': 3121, '\"last\"': 3122, '\"love\"': 3123, '\"malayalam\"': 3124, '\"of\"': 3125, '\"off\"': 3126, '\"one\"': 3127, '\"outer after:\"': 3128, '\"path/here\"': 3129, '\"powerset([1,2,3]) --> () (1,) (2,) (3,) (1,2) (1,3) (2,3) (1,2,3)\"': 3130, '\"print resultant substring from end\"': 3131, '\"print resultant substring from start\"': 3132, '\"python\"': 3133, '\"qwrtypsdfghjklzxcvbnm\"': 3134, '\"rb\"': 3135, '\"really noticing the weight... of your head...\"': 3136, '\"str1: \"': 3137, '\"str2: \"': 3138, '\"sudo\"': 3139, '\"unknown\"': 3140, '\"update\"': 3141, '\"utf8\"': 3142, '\"value1\"': 3143, '\"wb\"': 3144, '\"x =\"': 3145, '\"y =\"': 3146, '\"z\"': 3147, '\"zekelabs\"': 3148, '\"{:,}\"': 3149, '\"{:.0f}\"': 3150, '# An Infinite loop to generate squares  ': 3151, '# Calculate ratio': 3152, '# Check if choice is one of the four options': 3153, '# Check the ratio of the remaining': 3154, '# Checking if last two elements of time ': 3155, '# Declaring the tuple': 3156, '# For all the remaining values': 3157, '# For database APIs needing an initial cast to db.first()': 3158, '# Initialize first two Fibonacci Numbers  ': 3159, '# Initialize result': 3160, '# Iterator for the main list': 3161, '# Move the iterator forward': 3162, '# Move to the next slot': 3163, '# One by one yield next Fibonacci Number ': 3164, '# Print the new string ': 3165, '# Recipe credited to George Sakkis': 3166, '# Recursive call on each half': 3167, '# Remove leading zero in the reversed integer': 3168, '# Remove nth index element ': 3169, '# Remove the iterator we just exhausted from the cycle.': 3170, '# Take input from the user': 3171, '# The value from the left half has been used': 3172, '# To convert from a 1-D to 3-D': 3173, '# To convert from a 2-D to 3-D': 3174, '# Traverse the array': 3175, '# Two iterators for traversing the two halves': 3176, '# Use functions that consume iterators at C speed.': 3177, '# XOR': 3178, '# YYYY/MM/DD': 3179, '# advance to the empty slice starting at position n': 3180, '# arbitrary number in list ': 3181, '# check for factors': 3182, '# feed the entire iterator into a zero-length deque': 3183, '# get data on this ticker': 3184, '# get the historical prices for this ticker': 3185, '# grouper(\\'ABCDEFG\\', 3, \\'x\\') --> ABC DEF Gxx\"': 3186, '# initialize sum': 3187, '# inner = wraps(fn)(inner)': 3188, '# label = entity.label()': 3189, \"# list('234') returns ['2', '3', '4']\": 3190, '# n is even': 3191, '# n is odd': 3192, '# now it is comma delimited': 3193, '# order of number': 3194, '# partition(is_odd, range(10)) --> 0 2 4 6 8   and  1 3 5 7 9': 3195, '# plot the WordCloud image': 3196, '# see your data': 3197, '# string manipulation': 3198, '# to allow the access of global variable ': 3199, \"# unique_everseen('AAAABBBCCDAABBB') --> A B C D\": 3200, \"# unique_everseen('ABBCcAD', str.lower) --> A B C D\": 3201, \"# unique_justseen('AAAABBBCCDAABBB') --> A B C D A B\": 3202, \"# unique_justseen('ABBCcAD', str.lower) --> A B C A D\": 3203, '# want to access global variable': 3204, '# z = x | y  ': 3205, '#base case': 3206, '#print(j)': 3207, '%=': 3208, \"' : '\": 3209, \"'!'\": 3210, '\\'\"\\'': 3211, \"'%02d-%02d: %s'\": 3212, \"'%s,%s'\": 3213, \"'&'\": 3214, \"'''\\n        Dequeues (i.e., removes) the item at the head of this queue *and*\\n        returns this item.\\n\\n        Raises\\n        ----------\\n        IndexError\\n            If this queue is empty.\\n        '''\": 3215, \"'''\\n        Initialize this queue to the empty queue.\\n\\n        Parameters\\n        ----------\\n        max_size : int\\n            Maximum number of items contained in this queue. Defaults to 10.\\n        '''\": 3216, \"'''\\n        Queues the passed item (i.e., pushes this item onto the tail of this\\n        queue).\\n\\n        If this queue is already full, the item at the head of this queue\\n        is silently removed from this queue *before* the passed item is\\n        queued.\\n        '''\": 3217, \"'''\\n    This function is used to search any number.\\n    Whether the given number is present in the\\n    list or not. If the number is present in list\\n    the list it will return TRUE and FALSE otherwise.\\n    '''\": 3218, \"'''\\n    Thread-safe, memory-efficient, maximally-sized queue supporting queueing and\\n    dequeueing in worst-case O(1) time.\\n    '''\": 3219, \"'''This assignment is of 900 marks. Each example if 9 marks.\\nIf your example is similar to someone else, then you score less.\\nThe formula we will use is 9/(repeated example). That means if 9 people write same example,\\nthen you get only 1. So think different! (if examples are mentioned here and in the sample file, you will score less)'''\": 3220, \"'''This function takes a string as an input and shifts each character by 5 and returns shifted string'''\": 3221, \"'''This function takes a string as an input strips out vowels and returns stripted out string'''\": 3222, \"'''This function takes an input as a string and returns the biggest output character in the string'''\": 3223, \"'-1'\": 3224, \"'-Inf'\": 3225, \"'.6f'\": 3226, \"'/path/to/some/file.ext'\": 3227, \"'1010101'\": 3228, \"'111000010000110'\": 3229, \"'12abcd405'\": 3230, \"'15'\": 3231, \"'17'\": 3232, \"'1d'\": 3233, \"'2.000000'\": 3234, \"'2000-01-03'\": 3235, \"'2000-01-06'\": 3236, \"'2000-01-08'\": 3237, \"'2015-1-1'\": 3238, \"'2020-12-20'\": 3239, \"'3, 2'\": 3240, \"'4, 1'\": 3241, \"'45'\": 3242, \"'5, 3'\": 3243, \"'Age'\": 3244, \"'Aim is to capture the key words from the corpus'\": 3245, \"'Akashs'\": 3246, \"'Akshats'\": 3247, \"'Apple'\": 3248, \"'Burger'\": 3249, \"'Cake'\": 3250, \"'Coffee'\": 3251, \"'Commuting'\": 3252, \"'Dict2'\": 3253, \"'Donut'\": 3254, \"'Early'\": 3255, \"'Expression is correctly parenthesized.'\": 3256, \"'Expression is not correctly parenthesized.'\": 3257, \"'FDCBA'\": 3258, \"'FF'\": 3259, \"'Feb'\": 3260, \"'Fries'\": 3261, \"'GeeksforGeeks'\": 3262, \"'Geeta'\": 3263, \"'Hell'\": 3264, \"'Hey'\": 3265, \"'How about one more document'\": 3266, \"'I would like to check this document'\": 3267, \"'India'\": 3268, \"'Invalid comparison'\": 3269, \"'Jan'\": 3270, \"'Joe'\": 3271, \"'Jun 1 2005  1:33PM'\": 3272, \"'KKR'\": 3273, \"'KM'\": 3274, \"'Manjeets'\": 3275, \"'March'\": 3276, \"'Matrices are NOT the same size.'\": 3277, \"'Move disk 1 from peg {} to peg {}.'\": 3278, \"'Move disk {} from peg {} to peg {}.'\": 3279, \"'Mr. T'\": 3280, \"'Nikhils'\": 3281, \"'No solutions!'\": 3282, \"'Not Found'\": 3283, \"'Not found'\": 3284, \"'PBS'\": 3285, \"'Pizza'\": 3286, \"'Popped value from left: '\": 3287, \"'Popped value from right: '\": 3288, \"'Popped value: '\": 3289, \"'Stack is empty.'\": 3290, \"'TSLA'\": 3291, \"'Tea'\": 3292, \"'Ten'\": 3293, \"'TestStringInCamelCase'\": 3294, \"'TestStringwith123456789'\": 3295, \"'The Quick 123 Fox'\": 3296, \"'The Quick Brown Fox'\": 3297, \"'The roots are imaginary'\": 3298, \"'The solution are {0} and {1}'\": 3299, \"'The string is a palindrome.'\": 3300, \"'The string is not a palindrome.'\": 3301, \"'Thirty'\": 3302, \"'This is an Assignment'\": 3303, \"'To'\": 3304, \"'True'\": 3305, \"'Twenty'\": 3306, \"'Welcome'\": 3307, \"'Yes'\": 3308, \"'[^A-Za-z0-9]+'\": 3309, \"'\\\\.[0]*'\": 3310, \"'abcde'\": 3311, \"'after for-loop'\": 3312, \"'akash'\": 3313, \"'akbar'\": 3314, \"'and'\": 3315, \"'append <value>'\": 3316, \"'appendleft <value>'\": 3317, \"'appendleft'\": 3318, \"'apple pie'\": 3319, \"'area'\": 3320, \"'aye'\": 3321, \"'aza'\": 3322, \"'bc'\": 3323, \"'bee'\": 3324, \"'bing@google.com'\": 3325, \"'can key words in this new document be identified?'\": 3326, \"'eight'\": 3327, \"'enclosing'\": 3328, \"'english'\": 3329, \"'entry'\": 3330, \"'faz'\": 3331, \"'feed'\": 3332, \"'file2.txt'\": 3333, \"'filename.xml'\": 3334, \"'fob'\": 3335, \"'frequency of words in a document is called term frequency'\": 3336, \"'funk'\": 3337, \"'global:'\": 3338, \"'hello world!'\": 3339, \"'how many how words does this many have'\": 3340, \"'https://itunes.apple.com/us/rss/topsongs/limit=10/json'\": 3341, \"'human'\": 3342, \"'idf is the inverse document frequency calculated for each of the words'\": 3343, \"'im:artist'\": 3344, \"'ing'\": 3345, \"'it'\": 3346, \"'job'\": 3347, \"'krishna'\": 3348, \"'label'\": 3349, \"'laxman'\": 3350, \"'lion'\": 3351, \"'lo'\": 3352, \"'morning'\": 3353, \"'nowplaying'\": 3354, \"'one,two,three,four,five'\": 3355, \"'orange jam'\": 3356, \"'outer before:'\": 3357, \"'perimeter'\": 3358, \"'portal'\": 3359, \"'puma'\": 3360, \"'push <value>'\": 3361, \"'push'\": 3362, \"'rotten tomato'\": 3363, \"'s'\": 3364, \"'scarface'\": 3365, \"'scorpio'\": 3366, \"'sea'\": 3367, \"'seven'\": 3368, \"'sita'\": 3369, \"'six'\": 3370, \"'something wrong'\": 3371, \"'string variable'\": 3372, \"'string'\": 3373, \"'table'\": 3374, \"'td'\": 3375, \"'the king is the one'\": 3376, \"'the quick brown fox jumps'\": 3377, \"'theschoolofai'\": 3378, \"'tiger'\": 3379, \"'tr'\": 3380, \"'tup after: '\": 3381, \"'val1'\": 3382, \"'val2'\": 3383, \"'val3'\": 3384, \"'val4'\": 3385, \"'wb'\": 3386, \"'white'\": 3387, \"'xyz'\": 3388, \"'{0:6}'\": 3389, \"'{0}={1}'\": 3390, \"'{:02x}'\": 3391, '...': 3392, '0.0328': 3393, '0.1': 3394, '0.1666': 3395, '0.33': 3396, '0.394': 3397, '0.6214': 3398, '0.83': 3399, '1.3': 3400, '1.73205': 3401, '1000000': 3402, '10000000': 3403, '1023': 3404, '12.': 3405, '123': 3406, '150': 3407, '163': 3408, '18.5': 3409, '2.': 3410, '2002': 3411, '237': 3412, '250': 3413, '257': 3414, '298': 3415, '3.': 3416, '3.14159': 3417, '312': 3418, '320': 3419, '3200': 3420, '34.564': 3421, '350': 3422, '3579': 3423, '37': 3424, '4.': 3425, '410': 3426, '412': 3427, '566': 3428, '6371.01': 3429, '69': 3430, '800': 3431, '823': 3432, '85': 3433, '96': 3434, '<<=': 3435, 'B1': 3436, 'BC': 3437, 'BeautifulSoup': 3438, 'BinaryTreeNode': 3439, 'C1': 3440, 'Cel_To_Fah': 3441, 'Celsius': 3442, 'Celsius_to_Kelvin': 3443, 'Cloning': 3444, 'CoList': 3445, 'ConnectionError': 3446, 'Content': 3447, 'CustomListIterator': 3448, 'CustomTupleIterator': 3449, 'D': 3450, 'DIGITS': 3451, 'DIR': 3452, 'D_matrix': 3453, 'Diff': 3454, 'Divident': 3455, 'Divisor': 3456, 'Ellipse': 3457, 'Fact': 3458, 'Fahrenheit': 3459, 'Fahrenheit_to_Kelvin': 3460, 'Far': 3461, 'Fib': 3462, 'FileNotFoundError': 3463, 'Find': 3464, 'Foo': 3465, 'For': 3466, 'Fractions': 3467, 'Generator': 3468, 'Graph': 3469, 'HIGHEST_PROTOCOL': 3470, 'I': 3471, 'Input': 3472, 'K2': 3473, 'Keymax': 3474, 'LList': 3475, 'LOWERCASE_CHARS': 3476, 'List1': 3477, 'List1value': 3478, 'List2value': 3479, 'Myclass': 3480, 'NewtonRaphsonSolver': 3481, 'Not': 3482, 'NotImplementedError': 3483, 'PARENT_DIR': 3484, 'Password': 3485, 'PasswordMatchCriteria': 3486, 'Phonenumber': 3487, 'Process': 3488, 'PropertyCache': 3489, 'RandomInt': 3490, 'RandomIntIterator': 3491, 'ReLU': 3492, 'RuntimeError': 3493, 'SEQUENCE': 3494, 'SPECIALS': 3495, 'Set': 3496, 'Sum': 3497, 'Surface': 3498, 'TAX_RATE': 3499, 'The': 3500, 'Ticker': 3501, 'Tuple': 3502, 'UNICODE': 3503, 'UPPERCASE_CHARS': 3504, 'Welcome': 3505, '\\\\': 3506, '__code__': 3507, '__private_method': 3508, '__repr__': 3509, '_generate_random_number_for_each_sequence': 3510, '_is_repeating': 3511, '_property_to_be_cached': 3512, '_x1': 3513, '_x2': 3514, '_y1': 3515, '_y2': 3516, 'aCircle': 3517, 'aNewYorker': 3518, 'aRectangle': 3519, 'a_and_b': 3520, 'a_dict': 3521, 'a_func': 3522, 'a_names': 3523, 'a_number': 3524, 'a_or_b': 3525, 'a_string': 3526, 'a_tuple': 3527, 'a_var': 3528, 'a_xor_b': 3529, 'abs_tol': 3530, 'absent_digits': 3531, 'accumulate': 3532, 'add_binary_nums': 3533, 'add_child': 3534, 'add_digits': 3535, 'add_even_odd_list': 3536, 'add_numbers': 3537, 'add_without_plus_operator': 3538, 'addentry': 3539, 'addnames_in_dict': 3540, 'address': 3541, 'adds_listelements': 3542, 'adds_listevenelements': 3543, 'adds_listoddelements': 3544, 'all_nums': 3545, 'all_sundays': 3546, 'all_vowels': 3547, 'amicable_no_check': 3548, 'amstrong_check': 3549, 'anagram': 3550, 'anagram_check': 3551, 'append_lists': 3552, 'arg_name': 3553, 'argparse': 3554, 'args_str': 3555, 'argsort': 3556, 'arr_sum': 3557, 'array_intersection': 3558, 'array_union': 3559, 'ascending_dict_keysort': 3560, 'ascending_dict_valuesort': 3561, 'ascending_sort': 3562, 'ast': 3563, 'autocorrelations': 3564, \"b'r\\\\xc3\\\\xa9sum\\\\xc3\\\\xa9'\": 3565, 'b_func': 3566, 'background_color': 3567, 'base_class': 3568, 'base_dir': 3569, 'base_file_name': 3570, 'base_perimeter': 3571, 'basket': 3572, 'be': 3573, 'bigChar': 3574, 'biggest_no': 3575, 'binary_left_shift': 3576, 'binary_palindrome': 3577, 'binary_right_shift': 3578, 'bit_div': 3579, 'bit_mul': 3580, 'bmi_calculator': 3581, 'board': 3582, 'bool_show': 3583, 'both': 3584, 'bubblesort': 3585, 'bytearray_to_hexadecimal': 3586, 'bytes': 3587, 'caesar_cipher': 3588, 'calculate_rect_properties': 3589, 'calculation': 3590, 'call': 3591, 'call_private_method_in_class': 3592, 'camelCase': 3593, 'can': 3594, 'capitalize_both_ends': 3595, 'carry_number': 3596, 'ce': 3597, 'change': 3598, 'change_char': 3599, 'charToASCII': 3600, 'char_frequency': 3601, 'char_shift': 3602, 'char_to_dots': 3603, 'char_val': 3604, 'check2': 3605, 'checkPerfectNum': 3606, 'check_armstrong': 3607, 'check_equal': 3608, 'check_insst': 3609, 'check_inst_tup_str': 3610, 'check_ip': 3611, 'check_lines': 3612, 'check_listvalue': 3613, 'check_number': 3614, 'check_sha256_hash': 3615, 'check_subset': 3616, 'check_tuplevalue': 3617, 'check_value': 3618, 'check_word_count': 3619, 'check_words': 3620, 'children': 3621, 'chunks': 3622, 'clean': 3623, 'clean_str': 3624, 'clear_memory': 3625, 'co_nlocals': 3626, 'collatz': 3627, 'collatz_sequence': 3628, 'collect': 3629, 'color1': 3630, 'color2': 3631, 'combination_list': 3632, 'combine_lists': 3633, 'combined_dict': 3634, 'comp': 3635, 'concat': 3636, 'concat1': 3637, 'concat2': 3638, 'concat_dic': 3639, 'concat_two_numbers': 3640, 'consume': 3641, 'convert': 3642, 'copysign': 3643, 'count_letter': 3644, 'count_lines': 3645, 'count_value': 3646, 'count_word_occurrences': 3647, 'counter_67': 3648, 'country_data_as_string': 3649, 'create_adders': 3650, 'cross_sum': 3651, 'cross_sum1': 3652, 'cryptography': 3653, 'csv_file': 3654, 'csvfile': 3655, 'ctime': 3656, 'ctypes': 3657, 'cursurf_ar': 3658, 'curvedsurfacearea': 3659, 'cus_lens': 3660, 'custom': 3661, 'd3': 3662, 'data_type': 3663, 'datalist': 3664, 'date_object': 3665, 'date_validator': 3666, 'day_dict': 3667, 'day_of_year': 3668, 'dcosine': 3669, 'deciled': 3670, 'decompress': 3671, 'decrypt': 3672, 'degree': 3673, 'degrees': 3674, 'del_x': 3675, 'del_y': 3676, 'delay': 3677, 'delimiter_pattern': 3678, 'derivative_cos': 3679, 'derivative_exp': 3680, 'derivative_log': 3681, 'derivative_relu': 3682, 'derivative_sin': 3683, 'derivative_tan': 3684, 'derived_class': 3685, 'descending_dict_keysort': 3686, 'descending_dict_valuesort': 3687, 'descending_sort': 3688, 'dexp': 3689, 'df_onehot': 3690, 'dict_2': 3691, 'dict_new': 3692, 'difference_update': 3693, 'digits_sum': 3694, 'divisible_sum_pairs': 3695, 'divmod': 3696, 'dlog': 3697, 'do_something': 3698, 'dotproduct': 3699, 'down': 3700, 'dress': 3701, 'ds': 3702, 'ds_type': 3703, 'dsine': 3704, 'dst': 3705, 'dtangent': 3706, 'dtanh': 3707, 'dup_list': 3708, 'e_soft': 3709, 'earlier_price': 3710, 'earlier_time': 3711, 'el1': 3712, 'el2': 3713, 'elapsed': 3714, 'ellipse': 3715, 'encode_string': 3716, 'encrypt': 3717, 'end_num': 3718, 'even_max_checker': 3719, 'even_nos': 3720, 'example': 3721, 'extension': 3722, 'extract_alpha': 3723, 'f\"Frequency of Occurrences of the word {a} is:\"': 3724, 'f\"Object of User class is called with parameter {self.msg}\"': 3725, 'f\"The original dictionary is : {test_dict}\"': 3726, 'f\"The original list is : {test_list}\"': 3727, 'f\"x is {x}\"': 3728, 'f\"y is {y}\"': 3729, \"f'ASCII value of {chr} is: {ord(chr)}'\": 3730, \"f'Area: {math.pi * radius * radius}'\": 3731, \"f'Calculating fact({n})'\": 3732, \"f'Circumference Of a Circle {circumference}'\": 3733, \"f'Common elements: { set(list_a).intersection(set(list_b)) }'\": 3734, \"f'Count of letters: {countmap}'\": 3735, \"f'Difference between dates: {(date2 - date1).days}'\": 3736, \"f'Digits: {digits}, Letters: {letters}'\": 3737, \"f'Function {fn.__name__} was called {count} times.'\": 3738, \"f'Lowercase: {lowercase}, Uppercase: {uppercase}'\": 3739, \"f'Number of divisor is {count}'\": 3740, \"f'Size of Tuple: {str(Tuple.__sizeof__())} bytes'\": 3741, \"f'Sub: {sum}'\": 3742, \"f'Sum: {total_sum}'\": 3743, \"f'The ASCII value of {character} is {ord(character)}'\": 3744, \"f'The ASCII value {value} is of the character {chr(value)}'\": 3745, \"f'The sum is {sum}'\": 3746, \"f'Unique numbers: {list(unique)}'\": 3747, \"f'\\\\n {i} occurs {text.count(i)} times'\": 3748, \"f'object type : {type(object)}'\": 3749, \"f'smallest:{smallest}'\": 3750, \"f'total number of bits used in {n} is : {len(bin(n)[2: ])}'\": 3751, \"f'{a} is NOT the power of {b}.'\": 3752, \"f'{a} is the power of {b}.'\": 3753, \"f'{fn.__name__}({args_str}) took {elapsed} seconds'\": 3754, \"f'{heads} heads, {tails} tails'\": 3755, \"f'{num} is a perfect number'\": 3756, \"f'{num} is not a perfect number'\": 3757, 'f11': 3758, 'f12': 3759, 'f_list': 3760, 'f_n': 3761, 'facecolor': 3762, 'fact_one_line': 3763, 'factendzero': 3764, 'fav_colors': 3765, 'feature_extraction': 3766, 'features': 3767, 'feed': 3768, 'fernet': 3769, 'fibo': 3770, 'figsize': 3771, 'figure': 3772, 'file_date_list': 3773, 'fill': 3774, 'filt_arr': 3775, 'filter_even': 3776, 'filter_odd': 3777, 'final_1': 3778, 'final_sen': 3779, 'finals': 3780, 'findDigitsCharsSymbols': 3781, 'findDivisible': 3782, 'findVolume': 3783, 'find_Area': 3784, 'find_Circumference': 3785, 'find_Diameter': 3786, 'find_Index': 3787, 'find_evennumbers': 3788, 'find_ge': 3789, 'find_gt': 3790, 'find_le': 3791, 'find_lt': 3792, 'find_odd_occurring': 3793, 'find_substr': 3794, 'find_time': 3795, 'findfactorial': 3796, 'finditer': 3797, 'firstOccurence': 3798, 'first_name': 3799, 'firstname': 3800, 'fit_transform': 3801, 'flat_dict': 3802, 'flip_dict': 3803, 'formattedNumber': 3804, 'fps': 3805, 'fromstring': 3806, 'fromtimestamp': 3807, 'gen_succeeds': 3808, 'generate': 3809, 'generateOTP': 3810, 'generate_key': 3811, 'generate_random_password': 3812, 'getBaseTen': 3813, 'getMissingNo': 3814, 'get_artists': 3815, 'get_attributes_list': 3816, 'get_attrs': 3817, 'get_btc_price': 3818, 'get_cryptographically_secure_data': 3819, 'get_factors': 3820, 'get_feature_names': 3821, 'get_html': 3822, 'get_max': 3823, 'get_natural_log_value': 3824, 'get_ordered_combinations': 3825, 'get_ordered_combinations_with_replacement': 3826, 'get_ordered_permutations': 3827, 'get_permutations': 3828, 'get_price_with_tax': 3829, 'get_rear': 3830, 'get_sha256': 3831, 'get_sorted_words': 3832, 'get_square_of_random_number': 3833, 'get_squares': 3834, 'get_stock_prices': 3835, 'get_unique_elements': 3836, 'get_uuid': 3837, 'get_weather_data': 3838, 'get_weighted_average': 3839, 'get_word': 3840, 'get_words': 3841, 'getattr': 3842, 'getcwd': 3843, 'getpass': 3844, 'getpid': 3845, 'getroot': 3846, 'getsource': 3847, 'given': 3848, 'grade': 3849, 'greatest_common_divisor': 3850, 'grouper': 3851, 'h_cm': 3852, 'h_ft': 3853, 'h_letters': 3854, 'handle_starttag': 3855, 'hashing': 3856, 'heapq': 3857, 'hello': 3858, 'hello1_func': 3859, 'hello2': 3860, 'help_fnc': 3861, 'heterogram': 3862, 'histogram': 3863, 'history': 3864, 'homoList': 3865, 'hour': 3866, 'hyp': 3867, 'imagpart': 3868, 'imshow': 3869, 'in_func2': 3870, 'inc': 3871, 'included': 3872, 'ind': 3873, 'index1': 3874, 'infinite_sequence': 3875, 'ininches': 3876, 'initial_balance': 3877, 'inputNum': 3878, 'input_file': 3879, 'input_password': 3880, 'inputdate': 3881, 'insertionSort': 3882, 'inspect': 3883, 'int_input': 3884, 'int_to_Roman': 3885, 'int_to_bin': 3886, 'int_to_hex': 3887, 'int_to_oct': 3888, 'interior_angle': 3889, 'intersection_both': 3890, 'isFirst_And_Last_Same': 3891, 'isPower': 3892, 'is_anagram': 3893, 'is_arithmetic': 3894, 'is_camel_case': 3895, 'is_even_num': 3896, 'is_geometric': 3897, 'is_leap': 3898, 'is_prime': 3899, 'isclose': 3900, 'istitle': 3901, 'itemgetter': 3902, 'iter_except': 3903, 'itr': 3904, 'ix': 3905, 'jeffrey': 3906, 'join_elements': 3907, 'join_string_parts': 3908, 'joined_path': 3909, 'jpeg_res': 3910, 'key1': 3911, 'key2': 3912, 'key_max': 3913, 'key_min': 3914, 'kilometer': 3915, 'km': 3916, 'kwlist': 3917, 'ky': 3918, 'lamb': 3919, 'lar': 3920, 'last_merged_meeting_start': 3921, 'last_name': 3922, 'last_node': 3923, 'lastname': 3924, 'later_price': 3925, 'later_time': 3926, 'lcm_hcf': 3927, 'leapyear_check': 3928, 'leaves': 3929, 'leftLength': 3930, 'leftRotate': 3931, 'left_sum': 3932, 'length1': 3933, 'length2': 3934, 'length3': 3935, 'length_list': 3936, 'length_of_last_word': 3937, 'li_copy': 3938, 'lim': 3939, 'linalg': 3940, 'list5': 3941, 'list6': 3942, 'listOfTuples': 3943, 'listToStr': 3944, 'list_1': 3945, 'list_2': 3946, 'list_a': 3947, 'list_b': 3948, 'list_input': 3949, 'list_of_list': 3950, 'list_of_string_list': 3951, 'list_op': 3952, 'list_time': 3953, 'listitems': 3954, 'lname': 3955, 'load': 3956, 'load_pickle_data': 3957, 'loan_schedule': 3958, 'lookup': 3959, 'low_diff': 3960, 'lower_st': 3961, 'lru_cache': 3962, 'ls': 3963, 'lt': 3964, 'mailid': 3965, 'main': 3966, 'major_axis': 3967, 'make_bold': 3968, 'make_incrementor': 3969, 'make_italic': 3970, 'make_negative_zero': 3971, 'make_underline': 3972, 'map_dict': 3973, 'map_reduce': 3974, 'map_values': 3975, 'mat1': 3976, 'match1': 3977, 'match_tuple': 3978, 'matplotlib': 3979, 'matrix_sum_diagonal': 3980, 'maxIndex': 3981, 'max_consecutive_0': 3982, 'max_of_three': 3983, 'max_position': 3984, 'meetings': 3985, 'memory_info': 3986, 'mergeList': 3987, 'merge_dictionaries': 3988, 'mid_str': 3989, 'midterms': 3990, 'milliseconds': 3991, 'minIndex': 3992, 'min_font_size': 3993, 'min_max': 3994, 'min_position': 3995, 'minor_axis': 3996, 'mixed_number': 3997, 'modify': 3998, 'module_name': 3999, 'moveSpaces': 4000, 'move_last': 4001, 'move_zero': 4002, 'mul_dict': 4003, 'multiprocessing': 4004, 'myDecorator': 4005, 'myDict': 4006, 'myFunction': 4007, 'myTuple': 4008, 'my_default': 4009, 'my_gen': 4010, 'my_other_list': 4011, 'myarr': 4012, 'mycode': 4013, 'mydict': 4014, 'myfunc': 4015, 'mynumbers': 4016, 'n_power': 4017, 'name_value_tuples': 4018, 'names1': 4019, 'nan': 4020, 'nchar': 4021, 'ncycles': 4022, 'ne_chunk': 4023, 'ner_checker': 4024, 'newCh': 4025, 'new_': 4026, 'new_dict': 4027, 'new_func': 4028, 'new_lst': 4029, 'new_str_list': 4030, 'new_string': 4031, 'newton_raphson': 4032, 'nextSquare': 4033, 'next_fibbonacci_number': 4034, 'next_lis': 4035, 'nlines': 4036, 'no_even_nums': 4037, 'no_notes': 4038, 'no_odd_nums': 4039, 'no_of_substring_with_equalEnds': 4040, 'non_repeats': 4041, 'normalize': 4042, 'nrs': 4043, 'nth_sq_and_cube': 4044, 'num_comm_div': 4045, 'num_digits': 4046, 'num_len': 4047, 'num_to_eng': 4048, 'nums3': 4049, 'odd_max_checker': 4050, 'odd_occurrence': 4051, 'ones_complement_a': 4052, 'only_odd': 4053, 'ord_list': 4054, 'original_list': 4055, 'out': 4056, 'outfile': 4057, 'pad': 4058, 'pad_arr_end': 4059, 'pad_arr_start': 4060, 'pad_none': 4061, 'pair_sum': 4062, 'pairwise': 4063, 'parse': 4064, 'passwords': 4065, 'path_join': 4066, 'patterns': 4067, 'peeps': 4068, 'people': 4069, 'per_lower': 4070, 'per_upper': 4071, 'perfect_no_check': 4072, 'perfect_number': 4073, 'perfect_number_checker': 4074, 'period': 4075, 'phrase': 4076, 'pi_monte_carlo': 4077, 'pickle_data': 4078, 'plain_list': 4079, 'plainlist': 4080, 'platform': 4081, 'polygon_area': 4082, 'polynomial': 4083, 'pop_ele': 4084, 'pos_tag': 4085, 'potential_profit': 4086, 'power_base': 4087, 'power_checker': 4088, 'pref_list': 4089, 'prepend': 4090, 'prime_no_check': 4091, 'primeornot': 4092, 'printEdge': 4093, 'printEveIndexChar': 4094, 'printNum': 4095, 'printTuple': 4096, 'print_binary': 4097, 'print_hexadecimal': 4098, 'print_identity_matrix': 4099, 'print_number': 4100, 'print_octal': 4101, 'print_repeatnstring': 4102, 'print_shorter': 4103, 'printn': 4104, 'prior_list': 4105, 'profane_word_url': 4106, 'profanitytextfile': 4107, 'prog_description': 4108, 'prog_name': 4109, 'public_method': 4110, 'pyplot': 4111, 'pyramid_pattern': 4112, 'python_dict': 4113, 'python_version': 4114, 'pytz': 4115, 'q11': 4116, 'q12': 4117, 'q21': 4118, 'q22': 4119, 'quadratic_root': 4120, 'quantify': 4121, 'que_list': 4122, 'quotient': 4123, 'qx': 4124, 'qy': 4125, 'r\"(?<=[%s])([%s]{2,})[%s]\"': 4126, 'r\"\\\\d{1,3}.\\\\d{1,3}.\\\\d{1,3}.\\\\d{1,3}\"': 4127, 'r\"\\\\w+ly\"': 4128, \"r' \\\\1'\": 4129, \"r'!()-[]{};:\\\\, <>./?@#$%^&*_~'\": 4130, 'r3': 4131, 'ran': 4132, 'random_combination': 4133, 'random_combination_with_replacement': 4134, 'random_permutation': 4135, 'random_product': 4136, 'range1': 4137, 'range2': 4138, 'rate_of_int': 4139, 'realpart': 4140, 'record': 4141, 'rectangle_area': 4142, 'reduce_frac': 4143, 'regex1': 4144, 'rel_tol': 4145, 'relu_list': 4146, 'rem_char': 4147, 'removeChars': 4148, 'removeDataType': 4149, 'removeEmptyList': 4150, 'removeLeadingZeros': 4151, 'remove_duplicatesinlist': 4152, 'remove_item_dict': 4153, 'remove_leading_zeros': 4154, 'remove_nums': 4155, 'remove_punctuations': 4156, 'repeat_string': 4157, 'repeated_string': 4158, 'repeatfunc': 4159, 'replace_values': 4160, 'resample': 4161, 'ret': 4162, 'returnSum': 4163, 'revStr': 4164, 'rev_letter': 4165, 'rev_st': 4166, 'rever_word': 4167, 'reverse_Bits': 4168, 'reverse_content': 4169, 'reverse_integer': 4170, 'reverse_list': 4171, 'reverse_sum': 4172, 'reversed_dict': 4173, 'reverselist': 4174, 'rfind': 4175, 'rightRotate': 4176, 'right_sum': 4177, 'roman': 4178, 'roman_to_int': 4179, 'root_n': 4180, 'rotateMatrix': 4181, 'roundrobin': 4182, 'run': 4183, 'run_decimal': 4184, 'run_float': 4185, 'rvr_letter': 4186, 's_list': 4187, 's_n': 4188, 'sample_str': 4189, 'sample_text': 4190, 'sec': 4191, 'seek': 4192, 'sentence_list': 4193, 'sequence_number': 4194, 'setBitNumber': 4195, 'setLevel': 4196, 'set_input': 4197, 'seta': 4198, 'setc': 4199, 'setx': 4200, 'sety': 4201, 'shared_items': 4202, 'shift_n_letters': 4203, 'show': 4204, 'show_ascii': 4205, 'show_sq': 4206, 'sizeOfTuple': 4207, 'sklearn': 4208, 'slope_of_a_line': 4209, 'sm': 4210, 'sort_list_last': 4211, 'sort_list_with_key': 4212, 'sortedDictionary': 4213, 'sorted_dict': 4214, 'split_elements': 4215, 'splitext': 4216, 'sq_root': 4217, 'square_area': 4218, 'square_list': 4219, 'square_num': 4220, 'squares': 4221, 'src': 4222, 'ss_dev': 4223, 'sstring_alt': 4224, 'sstring_end': 4225, 'sstring_gap2': 4226, 'sstring_strt': 4227, 'step': 4228, 'stmt': 4229, 'stop_words': 4230, 'str3': 4231, 'str4': 4232, 'str_input': 4233, 'str_lowercase': 4234, 'str_lst': 4235, 'str_uppercase': 4236, 'strin': 4237, 'string_input': 4238, 'string_k': 4239, 'string_list': 4240, 'string_opertaion': 4241, 'string_reverse': 4242, 'stringlist_to_intlist': 4243, 'strip_punctuations': 4244, 'strip_vowels': 4245, 'strong_no_check': 4246, 'students': 4247, 'subString': 4248, 'sub_listelements': 4249, 'subject': 4250, 'substr': 4251, 'subtractTheMatrix': 4252, 'suits': 4253, 'sumOfDigits': 4254, 'sum_all': 4255, 'sum_elements': 4256, 'sum_even': 4257, 'sum_even_elements': 4258, 'sum_odd_elements': 4259, 'sum_of_cubes': 4260, 'sumofdigits': 4261, 'surfaceArea': 4262, 'swapPositions': 4263, 'swap_case': 4264, 'symmetric_diff_sets': 4265, 'tail_off': 4266, 'take': 4267, 'tangent': 4268, 'tar_ele': 4269, 'tar_list': 4270, 'targ_type': 4271, 'tday': 4272, 'team_name': 4273, 'teen': 4274, 'tempString': 4275, 'tens': 4276, 'test_distinct': 4277, 'test_generator': 4278, 'test_generator_yield': 4279, 'test_key': 4280, 'test_listcompr': 4281, 'test_plainlist': 4282, 'text_searcher': 4283, 'text_without_Indentation': 4284, 'the_string': 4285, 'thistuple': 4286, 'threadName': 4287, 'three_Sum': 4288, 'tight_layout': 4289, 'time_now': 4290, 'time_period': 4291, 'timed': 4292, 'tmrw': 4293, 'toK': 4294, 'to_datetime': 4295, 'to_uppercase': 4296, 'token_bytes': 4297, 'token_hex': 4298, 'tomorrow': 4299, 'totalBits': 4300, 'total_sum': 4301, 'totalsurfacearea': 4302, 'trace': 4303, 'transform': 4304, 'transposed': 4305, 'tree_root': 4306, 'triangle_area': 4307, 'triangle_check': 4308, 'try_finally1': 4309, 'tsurf_ar': 4310, 'tup_idx': 4311, 'tup_time': 4312, 'tuple_sorted': 4313, 'tuplex_colon': 4314, 'tups': 4315, 'txn': 4316, 'txns': 4317, 'typeIdentifier': 4318, 'type_conversion': 4319, 'u\"hello world!\"': 4320, 'unicode': 4321, 'union_both': 4322, 'unique_everseen': 4323, 'unique_justseen': 4324, 'unique_values': 4325, 'unix_timestamp': 4326, 'unpack': 4327, 'upp_diff': 4328, 'upper_rest': 4329, 'upper_st': 4330, 'user1': 4331, 'user2': 4332, 'user_filename': 4333, 'val1': 4334, 'validateJSON': 4335, 'value2': 4336, 'verb': 4337, 'volumeHexagonal': 4338, 'volumePentagonal': 4339, 'volumeRec': 4340, 'volumeSquare': 4341, 'volumeTriangular': 4342, 'vote_eligibility': 4343, 'vowel_stripping': 4344, 'vowle': 4345, 'weight_kg': 4346, 'weird': 4347, 'welcome': 4348, 'which': 4349, 'word_count': 4350, 'word_join': 4351, 'word_tokenize': 4352, 'wordfreq': 4353, 'working_set': 4354, 'would': 4355, 'yfinance': 4356, 'your_ip': 4357, '|=': 4358, '\\t\\t   ': 4359, '!': 4360, '\"     banana     \"': 4361, '\"  \"': 4362, '\" + {}\"': 4363, '\" : \"': 4364, '\" = \"': 4365, '\" Alphabets = {} \\\\n Numbers = {} \\\\n Space = {} \\\\n Special Chracter = {}\"': 4366, '\" Area Of a Circle = %.2f\"': 4367, '\" Circumference Of a Circle = %.2f\"': 4368, '\" Enter Character :\"': 4369, '\" F\"': 4370, '\" Jan = January; Feb = February; Mar = March\"': 4371, '\" Please Enter Time period in Years   : \"': 4372, '\" Please Enter any Maximum Value : \"': 4373, '\" Please Enter the First Number: \"': 4374, '\" Please Enter the First Value a: \"': 4375, '\" Please Enter the Maximum Value : \"': 4376, '\" Please Enter the Principal Amount : \"': 4377, '\" Please Enter the Rate Of Interest   : \"': 4378, '\" Please Enter the Second Value b: \"': 4379, '\" Please Enter the second number: \"': 4380, '\" are :\"': 4381, '\" files.\"': 4382, '\" for pattern:\"': 4383, '\" has \"': 4384, '\" i= {0} j = {1} box_index ={2}\"': 4385, '\" is a disarium number\"': 4386, '\" is a harshad number\"': 4387, '\" is divisible by \"': 4388, '\" is not a disarium number\"': 4389, '\" is not a harshad number\"': 4390, '\" is not divisible by \"': 4391, '\" to the power of \"': 4392, '\" you will complete 100 years in \"': 4393, '\"! i ! s\"': 4394, '\"!\"': 4395, '\"\"\"\\n        @staticmethod makes the mtethod of class as static method.\\n        It is always recommended to metion it via decorator.\\n        \"\"\"': 4396, '\"\"\"\\n        Equality check between two object of same class.\\n        It is mandatory to implement __eq__ in class to do equality check.\\n        \"\"\"': 4397, '\"\"\"\\n        Less than or greater than check between two objects of same class.\\n        It is mandatory to implement __eq__ in class to do equality check.\\n        \"\"\"': 4398, '\"\"\"\\n        to make object as callable the class should have __call__ in it\\n        \"\"\"': 4399, '\"\"\"\\n    This function greets to\\n    the person passed in as\\n    a parameter\\n    \"\"\"': 4400, '\"\"\"\\n    function take input date in DD/MM/YYYY format and check its validation.\\n    \"\"\"': 4401, '\"\"\"\\n    function to count the number of divisor of interger.\\n    \"\"\"': 4402, '\"\"\"\\n    function to count the number of divisor using list comprehension.\\n    \"\"\"': 4403, '\"\"\"\\n    function to print merger of two dictionary\\n    \"\"\"': 4404, '\"\"\"\\n    function to print number to binary\\n    \"\"\"': 4405, '\"\"\"\\n    function to print whether string is palindrome or not\\n    \"\"\"': 4406, '\"\"\"\\ndef multiply(x,y):\\n    return x*y\\n\\nprint(\\'Multiply of 2 and 3 is: \\',multiply(2,3))\\n\"\"\"': 4407, '\"\"\" Check if there is any 2 characters repeating consecutively \"\"\"': 4408, '\"\"\" Generate random sequence with numbers (greater than 0).\\n        The number of items equals to \\'sequence_number\\' and\\n        the total number of items equals to \\'total\\'\\n    \"\"\"': 4409, '\"\"\" To make use of recursive calls, this function must return \\n two things: \\n 1) Length of LIS ending with element arr[n-1]. We use \\n max_ending_here for this purpose \\n 2) Overall maximum as the LIS may end with an element \\n before arr[n-1] max_ref is used this purpose. \\n The value of LIS of full array of size n is stored in \\n *max_ref which is our final result \"\"\"': 4410, '\"\"\" a decorator to cache property\\n    \"\"\"': 4411, '\"\"\"Assignment8_part2_python_programs.ipynb\\n\\nAutomatically generated by Colaboratory.\\n\\nOriginal file is located at\\n    https://colab.research.google.com/drive/1L3UkCJFHDkuGHoibhSFxZVESxbw0NUrz\\n\"\"\"': 4412, '\"\"\"India \\nis\"\"\"': 4413, '\"\"\"Python Assignment Codes.ipynb\\n\\nAutomatically generated by Colaboratory.\\n\\nOriginal file is located at\\n    https://colab.research.google.com/github/piyushjain220/TSAI/blob/main/NLP/Session8/Python_Assignment_Codes.ipynb\\n\"\"\"': 4414, '\"\"\"PythonGeneration.ipynb\\n\\nAutomatically generated by Colaboratory.\\n\\nOriginal file is located at\\n    https://colab.research.google.com/drive/10cXGL8ix2PbFMLcNlTpHdAA7GBJkQzRe\\n\"\"\"': 4415, '\"\"\"Recursively get all LIS ending with arr[0], arr[1]..arr[n-2] \\n       IF arr[n-1] is maller than arr[n-1], and max ending with \\n       arr[n-1] needs to be updated, then update it\"\"\"': 4416, '\"\"\"Return True if n is a power of two.\"\"\"': 4417, '\"\"\"Returns the sequence elements and then returns None indefinitely.\\n\\n    Useful for emulating the behavior of the built-in map() function.\\n    \"\"\"': 4418, '\"\"\"Returns the sequence elements and then returns None indefinitely.\\n    Useful for emulating the behavior of the built-in map() function.\\n    \"\"\"': 4419, '\"\"\"This function adds two numbers\"\"\"': 4420, '\"\"\"This function divides two numbers\"\"\"': 4421, '\"\"\"This function multiplies two numbers\"\"\"': 4422, '\"\"\"This function returns the absolute\\n    value of the entered number\"\"\"': 4423, '\"\"\"This function subtracts two numbers\"\"\"': 4424, '\"\"\"best \\nfor everybody \\n\"\"\"': 4425, '\"\"\"returns e^x of a number\"\"\"': 4426, '\"\"\"returns the logarithmic value of a number\"\"\"': 4427, '\"\"\"returns the softmax output of a vector\"\"\"': 4428, '\"\"\"{\\n   \"id\": 1,\\n   \"name\": \"Ishwar Venugopal\",\\n   \"class\": null,\\n   \"percentage\": 35,\\n   \"email\": \"ishwarraja@gmail.com\"\\n}\"\"\"': 4429, '\"\"\"{\\n   \"id\": 1,\\n   \"name\": \"john wick\",\\n   \"class\": 8,\\n   \"percentage\": 75,\\n   \"email\": \"jhon@pynative.com\"\\n}\"\"\"': 4430, '\"#\"': 4431, '\"#450\"': 4432, '\"$john.snow#@Got.bad_ending/com\"': 4433, '\"%064x\"': 4434, '\"%A\"': 4435, '\"%d is a Palindrome Number\"': 4436, '\"%d is not a Palindrome Number\"': 4437, '\"%d\"': 4438, '\"%s is a consonant.\"': 4439, '\"%s is a vowel.\"': 4440, '\"%s,%s\"': 4441, '\"%s: %s\"': 4442, '\"\\'\"': 4443, '\"((([0-9a-fA-F]){1,4})\\\\\\\\:){7}\"': 4444, '\"(([0-9]|[1-9][0-9]|1[0-9][0-9]|\"': 4445, '\"(1, 3, 4), (5, 6, 4), (1, 3, 6)\"': 4446, '\"([0-9]|[1-9][0-9]|1[0-9][0-9]|\"': 4447, '\"([0-9a-fA-F]){1,4}\"': 4448, '\",,,,,rrttgg.....banana....rrr\"': 4449, '\",.grt\"': 4450, '\"-End-\"': 4451, '\". Good morning!\"': 4452, '\"/ 11) minutes\"': 4453, '\"001021010001010\"': 4454, '\"1 2 3 4 5 6\"': 4455, '\"100\"': 4456, '\"101010000111\"': 4457, '\"1101\"': 4458, '\"123abcjw:, .@! eiw\"': 4459, '\"1284105682\"': 4460, '\"15\"': 4461, '\"216.08.094.196\"': 4462, '\"234\"': 4463, '\"2[0-4][0-9]|25[0-5])\"': 4464, '\"2[0-4][0-9]|25[0-5])\\\\\\\\.){3}\"': 4465, '\"3\"': 4466, '\"34\"': 4467, '\"3rd and last character: \"': 4468, '\"4 ALL geeks\"': 4469, '\"4\"': 4470, '\"456\"': 4471, '\"5 6 Good\"': 4472, '\"5 cannot be divided by O\"': 4473, '\"5/4\"': 4474, '\"875\"': 4475, '\";\"': 4476, '\"<%s>%s</%s>\"': 4477, '\"</b>\"': 4478, '\"</i>\"': 4479, '\"</u>\"': 4480, '\"<b>\"': 4481, '\"<i>\"': 4482, '\"<u>\"': 4483, '\"ABC\"': 4484, '\"ABCD\"': 4485, '\"AMITKAYAL\"': 4486, '\"AMMAR ADIL\"': 4487, '\"AND\"': 4488, '\"Accept\"': 4489, '\"Access denied\"': 4490, '\"Access granted\"': 4491, '\"Accessing a element using get:\"': 4492, '\"Added Array\"': 4493, '\"Adjacent = \"': 4494, '\"After Cloning:\"': 4495, '\"After Swapping two Number: a = {0} and b = {1}\"': 4496, '\"After removing empty strings\"': 4497, '\"Albert\"': 4498, '\"All elements are unique\"': 4499, '\"All keys maximum : \"': 4500, '\"Americans\"': 4501, '\"AmmarAdil\"': 4502, '\"An exception occured\"': 4503, '\"Anuradha\"': 4504, '\"Appending line one\\\\n\"': 4505, '\"Appending line two\"': 4506, '\"Are all columns Unique : \"': 4507, '\"Are both list reverse of each other ? : \"': 4508, '\"Area of Shape is 0\"': 4509, '\"Area of a Square is: {}\"': 4510, '\"Area of the triangle is: \"': 4511, '\"Area of the triangle: %.2f\"': 4512, '\"Area: \"': 4513, '\"Area:\"': 4514, '\"Array after left rotation: \"': 4515, '\"Arushi\"': 4516, '\"Base numbers abd index: \"': 4517, '\"Baseball\"': 4518, '\"Before Swapping two Number: a = {0} and b = {1}\"': 4519, '\"Binary Equivalent of {} is {}\"': 4520, '\"Binary Left Shift\"': 4521, '\"Binary Ones Complement\"': 4522, '\"Binary Right Shift\"': 4523, '\"Binary value of \"': 4524, '\"Black\"': 4525, '\"Blue\"': 4526, '\"C:/\"': 4527, '\"Celsius = \"': 4528, '\"Chars = \"': 4529, '\"Choose your weapon [R]ock], [P]aper, or [S]cissors: \"': 4530, '\"Christina\"': 4531, '\"Collection of distinct numbers:\\\\n\"': 4532, '\"Compound interest is\"': 4533, '\"Copied Array\"': 4534, '\"Cosine\"': 4535, '\"Count of words\"': 4536, '\"Count\"': 4537, '\"Cricket\"': 4538, '\"Cube: {}\"': 4539, '\"Current python version: \"': 4540, '\"Curved Surface Area Of Cylinder = \"': 4541, '\"DATA\"': 4542, '\"DOWN\"': 4543, '\"Darcy\"': 4544, '\"David\"': 4545, '\"Decreasing Point : \"': 4546, '\"Demo class of Mathematics\"': 4547, '\"Demo of custom message by repr and str in class\"': 4548, '\"Demo of lt and eq in class\"': 4549, '\"Destination File doesn\\'t exist\"': 4550, '\"Diana\"': 4551, '\"Dictionaries with summation greater than K : \"': 4552, '\"Dictionary Items  :  \"': 4553, '\"Difference elements:\"': 4554, '\"Digits = \"': 4555, '\"Digits used in given strings are: {}\"': 4556, '\"Digits: \"': 4557, '\"Disarium numbers between 1 and 100 are\"': 4558, '\"Discard\"': 4559, '\"Distance in inch : \"': 4560, '\"Division = {}\"': 4561, '\"Does string start with any prefix list sublist ? : \"': 4562, '\"Duplicates Removed\"': 4563, '\"ENTER THE NUMBER OF DISKS: \"': 4564, '\"EVEN length words:\"': 4565, '\"Early\"': 4566, '\"Elements of array sorted in ascending order: \"': 4567, '\"Elements of given array present on even position: \"': 4568, '\"Elements of original array: \"': 4569, '\"Emma is a data scientist who knows Python. Emma works at google.\"': 4570, '\"Empty Dictionary: \"': 4571, '\"Enter Age : \"': 4572, '\"Enter Denominator: \"': 4573, '\"Enter Integer \"': 4574, '\"Enter Integer Number: \"': 4575, '\"Enter Nominator: \"': 4576, '\"Enter Number : \"': 4577, '\"Enter Passwords which are seperated by \\\\\",\\\\\": \"': 4578, '\"Enter String : \"': 4579, '\"Enter String\"': 4580, '\"Enter Value of n: \"': 4581, '\"Enter a Single Character: \"': 4582, '\"Enter a character: \"': 4583, '\"Enter a number n: \"': 4584, '\"Enter a number with multiple digit: \"': 4585, '\"Enter a number:\"': 4586, '\"Enter a sentence : \"': 4587, '\"Enter a string! \"': 4588, '\"Enter an integer:\"': 4589, '\"Enter any no. \"': 4590, '\"Enter choice(1/2/3/4):\"': 4591, '\"Enter element\"': 4592, '\"Enter element: \"': 4593, '\"Enter first number :\"': 4594, '\"Enter first number\"': 4595, '\"Enter first number:\"': 4596, '\"Enter key list : \"': 4597, '\"Enter list of integers: \"': 4598, '\"Enter list\"': 4599, '\"Enter month: \"': 4600, '\"Enter number :\"': 4601, '\"Enter number: \"': 4602, '\"Enter principal : \"': 4603, '\"Enter rate : \"': 4604, '\"Enter second number :\"': 4605, '\"Enter second number\"': 4606, '\"Enter second number:\"': 4607, '\"Enter set 1 \"': 4608, '\"Enter set 2 \"': 4609, '\"Enter string \"': 4610, '\"Enter the distance measured in centimeter : \"': 4611, '\"Enter the first number:\"': 4612, '\"Enter the height in centimeters:\"': 4613, '\"Enter the lower limit for the range:\"': 4614, '\"Enter the name of the file with .txt extension:\"': 4615, '\"Enter the number of elements in list:\"': 4616, '\"Enter the number of elements to be inserted: \"': 4617, '\"Enter the number to print the tables for:\"': 4618, '\"Enter the second number:\"': 4619, '\"Enter the upper limit for the range:\"': 4620, '\"Enter the value of N: \"': 4621, '\"Enter the value of x :\"': 4622, '\"Enter the value of y :\"': 4623, '\"Enter third number: \"': 4624, '\"Enter third number:\"': 4625, '\"Enter time : \"': 4626, '\"Enter upper limit of range: \"': 4627, '\"Enter value in kilometers: \"': 4628, '\"Enter value list : \"': 4629, '\"Enter year: \"': 4630, '\"Enter your first name: \"': 4631, '\"Enter your input: \"': 4632, '\"Enter your last name: \"': 4633, '\"Equidigit tuples List : \"': 4634, '\"Equilateral triangle\"': 4635, '\"Even Numbers are: \"': 4636, '\"Even numbers in the list: \"': 4637, '\"Even\"': 4638, '\"Extra Position variable\"': 4639, '\"Extracted String : \"': 4640, '\"F\"': 4641, '\"FIBONACCI\"': 4642, '\"Filtered Rows : \"': 4643, '\"Filtered elements : \"': 4644, '\"For\"': 4645, '\"Friday\"': 4646, '\"Function Name\"': 4647, '\"Function name/class name/module\"': 4648, '\"Function\"': 4649, '\"G4G is Best 4\"': 4650, '\"GF ! g !\"': 4651, '\"Geeks-for-Geeks\"': 4652, '\"GfG is best\"': 4653, '\"Gfg Heaven\"': 4654, '\"Given list of integers:\"': 4655, '\"Given number is\"': 4656, '\"Given string is not palindrome\"': 4657, '\"Given string is palindrome\"': 4658, '\"Good Night\"': 4659, '\"Good bye bye world world\"': 4660, '\"Guess a number: \"': 4661, '\"HELLO \"': 4662, '\"HELLO WORLD!\"': 4663, '\"HELLO\"': 4664, '\"Haritha\"': 4665, '\"Hello 12345 World\"': 4666, '\"Hello how are you ?\"': 4667, '\"Hello world Hello\"': 4668, '\"Hello world!\"': 4669, '\"Hello world\"': 4670, '\"Hello!!!, she said ---and went.\"': 4671, '\"Hello, \"': 4672, '\"Hello, welcome to my world.\"': 4673, '\"Hello@World\"': 4674, '\"Helloworld\"': 4675, '\"How come Side is zero.\"': 4676, '\"How many terms you want? \"': 4677, '\"Hypotenuse = \"': 4678, '\"I chose: \"': 4679, '\"I love India   now I will be printed without any space\"': 4680, '\"Incremented Numeric Strings : \"': 4681, '\"India is my country.\"': 4682, '\"Indians\"': 4683, '\"Initial Dictionary: \"': 4684, '\"Initial string\"': 4685, '\"Input Date is Valid\"': 4686, '\"Input Date is invalid\"': 4687, '\"Input Temperature is Negative\"': 4688, '\"Input a letter of the alphabet: \"': 4689, '\"Input lengths of shorter triangle sides:\"': 4690, '\"Input lengths of the triangle sides: \"': 4691, '\"Input number of columns: \"': 4692, '\"Input number of rows: \"': 4693, '\"Input should be of type Int\"': 4694, '\"Input string is not a valid datetime type\"': 4695, '\"Input the month : \"': 4696, '\"Input the radius of the circle : \"': 4697, '\"Input the year : \"': 4698, '\"Input word_list to function longestWord must be list of words of size at least 1\"': 4699, '\"Input your name: \"': 4700, '\"Inputs must be integers\"': 4701, '\"Inside B\"': 4702, '\"Interest rate     : \"': 4703, '\"Interest rate   : \"': 4704, '\"Intersection\"': 4705, '\"Invalid IP\"': 4706, '\"Invalid Input Format\"': 4707, '\"Invalid Temperature Coneversion\"': 4708, '\"Invalid User Distance Input\"': 4709, '\"Invalid argument passed\"': 4710, '\"Invalid delta requested\"': 4711, '\"Invalid input\"': 4712, '\"Inverse mapped dictionary : \"': 4713, '\"Is 2nd tuple subset of 1st ? : \"': 4714, '\"Is any string empty in list? : \"': 4715, '\"Ishwar@12Su@ 1\\'\"': 4716, '\"IshwarVenugopal\"': 4717, '\"It is Zero\"': 4718, '\"It is a negative number\"': 4719, '\"It is a palindrome\"': 4720, '\"It is positive number\"': 4721, '\"JRR Tolkien\"': 4722, '\"Jeffrey\"': 4723, '\"John\"': 4724, '\"Kgs\"': 4725, '\"LCM is:\"': 4726, '\"LEFT\"': 4727, '\"Largest element is:\"': 4728, '\"Learning from Geeks for Geeks\"': 4729, '\"Left Rotation of\"': 4730, '\"Length of lis is \"': 4731, '\"Length of the first leg: \"': 4732, '\"Length of the second leg: \"': 4733, '\"Length of the string is: \"': 4734, '\"Length of the string is:\"': 4735, '\"Leterally can be anything\"': 4736, '\"Letters: \"': 4737, '\"List Integer Summation : \"': 4738, '\"List after empty list removal : \"': 4739, '\"List after sorting tuple by Nth index sort : \"': 4740, '\"List has duplicates\"': 4741, '\"List is not empty\"': 4742, '\"List with duplicates removed:\"': 4743, '\"Log_x_b\"': 4744, '\"Login: >> \"': 4745, '\"Lower Case\"': 4746, '\"Lower: %.2f%%\"': 4747, '\"Mandatory\"': 4748, '\"Mani\"': 4749, '\"Manjeet\"': 4750, '\"Mar 26 2021  4:20PM\"': 4751, '\"Mean of sample is : \"': 4752, '\"Median of Records is : \"': 4753, '\"Meters\"': 4754, '\"Mohan\"': 4755, '\"Monday\"': 4756, '\"Multiplied Array\"': 4757, '\"My name is GYOBU MASATAKA ONIWA!\"': 4758, '\"NOT_FIBONACCI\"': 4759, '\"Nandini\"': 4760, '\"Negative Number Entered\"': 4761, '\"Nico\"': 4762, '\"Nitin\"': 4763, '\"No Polygon of Side 1 & 2 Exists\"': 4764, '\"No common elements\"': 4765, '\"No factorials for negative numbers!\"': 4766, '\"No files with matching pattern found\"': 4767, '\"No solutions!\"': 4768, '\"No, string is not binary\"': 4769, '\"None\"': 4770, '\"Not a Valid Password\"': 4771, '\"Not present\"': 4772, '\"Number is \"': 4773, '\"Number of even numbers :\"': 4774, '\"Number of odd numbers :\"': 4775, '\"O\"': 4776, '\"OR\"': 4777, '\"Occurrences of the letter:\"': 4778, '\"Odd Numbers are: \"': 4779, '\"Odd\"': 4780, '\"Opposite = \"': 4781, '\"Orange\"': 4782, '\"Original Collection: \"': 4783, '\"Original List:\"': 4784, '\"Original Number: \"': 4785, '\"Original Strings are\"': 4786, '\"Original list of tuples:\"': 4787, '\"P@#yn26at^&i5ve\"': 4788, '\"PQR\"': 4789, '\"Palindrome\"': 4790, '\"Paper beat rock, I win! \"': 4791, '\"Perfect numbers present in the list is: \"': 4792, '\"Perimeter of the triangle: %.2f\"': 4793, '\"Peter\"': 4794, '\"Pink\"': 4795, '\"Please Enter Your Own String : \"': 4796, '\"Please Enter the First  String : \"': 4797, '\"Please Enter the Second String : \"': 4798, '\"Please choose a letter:\"': 4799, '\"Please enter a integer \"': 4800, '\"Please enter a positive number!\"': 4801, '\"Please enter the %d Element of List1 : \"': 4802, '\"Please enter the %d Element of List2 : \"': 4803, '\"Please enter the Items of a First and Second List   \"': 4804, '\"Please enter the Value of %d Element : \"': 4805, '\"Positive Number Entered\"': 4806, '\"Present, \"': 4807, '\"Principle amount  : \"': 4808, '\"Principle amount: \"': 4809, '\"Pro\"': 4810, '\"Provide extra to unpack dictionary\"': 4811, '\"Python Exercises\"': 4812, '\"Python is a programming language\"': 4813, '\"Python is good for datascience\"': 4814, '\"Python version info: \"': 4815, '\"Python version: \"': 4816, '\"Quotient is:\"': 4817, '\"R@m@_f0rtu9e$\"': 4818, '\"RIGHT\"': 4819, '\"ROHAN\"': 4820, '\"Ram\"': 4821, '\"Rank of the matrix A: \"': 4822, '\"Received input is : \"': 4823, '\"Remainder is:\"': 4824, '\"Repetions must be of type Integer\"': 4825, '\"Requested combination length less than length of list\"': 4826, '\"Requested count more than file count in:\"': 4827, '\"Result : \"': 4828, '\"Resultant list is : \"': 4829, '\"Resultant permutations\"': 4830, '\"Return type:\"': 4831, '\"Reverse of a Given number is = %d\"': 4832, '\"Reversed String:\"': 4833, '\"Right Rotation of\"': 4834, '\"Rock, Paper, Scissors - Shoot!\"': 4835, '\"Rolling the dices...\"': 4836, '\"Saturday\"': 4837, '\"Scalene triangle\"': 4838, '\"SchoolofAI\"': 4839, '\"Scissors beats paper! I win! \"': 4840, '\"Scissors beats rock, I win! \"': 4841, '\"Shambhavi\"': 4842, '\"Shape of the matrix A: \"': 4843, '\"Show the multiplication table of? \"': 4844, '\"Shruthi\"': 4845, '\"Similar values keys : \"': 4846, '\"Simple Interest : \"': 4847, '\"Sin\"': 4848, '\"Single Integer: \"': 4849, '\"Smallest divisor is:\"': 4850, '\"Sometimes letter y stand for vowel, sometimes stand for consonant.\"': 4851, '\"Sorted Tuples : \"': 4852, '\"Sorted array\"': 4853, '\"Sorted dictionary : \"': 4854, '\"SriNAtH\"': 4855, '\"Standard deviation of sample is : \"': 4856, '\"String after concatenation : \"': 4857, '\"String is accepted\"': 4858, '\"String is not accepted.\"': 4859, '\"Strings after splitting : \"': 4860, '\"Strong Password\"': 4861, '\"Subtracted Array\"': 4862, '\"Sum :\"': 4863, '\"Sum of all elements in given list: \"': 4864, '\"Sum of cubes: \"': 4865, '\"Sum of digits is: \"': 4866, '\"Sum of digits: \"': 4867, '\"Sum of n positive Integer till {} is {}\"': 4868, '\"Sum of {} is {}\"': 4869, '\"Sum: {:.2f}\"': 4870, '\"Sunday\"': 4871, '\"Surface: \"': 4872, '\"Symbol = \"': 4873, '\"Tangent\"': 4874, '\"Temperature in Kelvin ( K ) = \"': 4875, '\"Temperature in Kelvin ( K ) = {:.3f}\"': 4876, '\"Temperature:\"': 4877, '\"Thank you for the music\\\\nWelcome to the jungle\"': 4878, '\"The Cummulative product of list is : \"': 4879, '\"The Final After String Concatenation with Space = \"': 4880, '\"The Final String After Python String Concatenation = \"': 4881, '\"The H.C.F. of\"': 4882, '\"The Index position of Largest Element in this List is : \"': 4883, '\"The Index position of Smallest Element in this List is : \"': 4884, '\"The Largest Element in this List is : \"': 4885, '\"The Numerical values : \"': 4886, '\"The Smallest Element in this List is : \"': 4887, '\"The String after changing case : \"': 4888, '\"The arbitrary pair returned is: \"': 4889, '\"The area of the circle with radius \"': 4890, '\"The computed dictionary : \"': 4891, '\"The computed summation of products : \"': 4892, '\"The dictionary after merging : \"': 4893, '\"The dictionary after removal of double quotes : \"': 4894, '\"The dimension in feet \"': 4895, '\"The dimension in inches \"': 4896, '\"The directory \"': 4897, '\"The divisiors of \"': 4898, '\"The extracted keys : \"': 4899, '\"The extracted maximum element item : \"': 4900, '\"The extracted values : \"': 4901, '\"The extrated digits : \"': 4902, '\"The factorial of \"': 4903, '\"The filtered Dictionaries : \"': 4904, '\"The filtered dictionary : \"': 4905, '\"The filtered tuples : \"': 4906, '\"The first list is : \"': 4907, '\"The first: \"': 4908, '\"The last: \"': 4909, '\"The length in feet\"': 4910, '\"The length in inches\"': 4911, '\"The list after removing duplicates : \"': 4912, '\"The list of words lengths is : \"': 4913, '\"The list printed sorting by age: \"': 4914, '\"The lists are identical\"': 4915, '\"The lists are not identical\"': 4916, '\"The lowest K records are : \"': 4917, '\"The maximum element key : \"': 4918, '\"The maximum of all characters in GeeksforGeeks is : \"': 4919, '\"The maximum of all characters in Helloworld is : \"': 4920, '\"The minimum occurring element is : \"': 4921, '\"The minimum of all characters in GeeksforGeeks is : \"': 4922, '\"The minimum of all characters in the given word is : \"': 4923, '\"The modified dictionary : \"': 4924, '\"The number is a strong number\"': 4925, '\"The number is an armstrong number. \"': 4926, '\"The number is not a strong number\"': 4927, '\"The number isn\\'t an arsmtrong number. \"': 4928, '\"The original dictionary 1 is : \"': 4929, '\"The original dictionary 2 is : \"': 4930, '\"The original string 1 is : \"': 4931, '\"The original string 2 is : \"': 4932, '\"The replaced string : \"': 4933, '\"The required frequency : \"': 4934, '\"The resolution of the image is\"': 4935, '\"The resultant joined string : \"': 4936, '\"The reversed order dictionary : \"': 4937, '\"The second list is : \"': 4938, '\"The set difference of list is : \"': 4939, '\"The sorted result : \"': 4940, '\"The string after character deletion : \"': 4941, '\"The string after inserting comma after every character pair : \"': 4942, '\"The string after replacing : \"': 4943, '\"The string after swap : \"': 4944, '\"The sum of digits in the number is\"': 4945, '\"The value is:\"': 4946, '\"The value of num1 after swapping: {}\"': 4947, '\"The value of num2 after swapping: {}\"': 4948, '\"The values are....\"': 4949, '\"TheSchoolofAI\"': 4950, '\"This is 17B Assignment\"': 4951, '\"This is a good book\"': 4952, '\"This is a python language\"': 4953, '\"This is a very good place to Visit\"': 4954, '\"This is an even number.\"': 4955, '\"This is an odd number.\"': 4956, '\"Thursday\"': 4957, '\"Tie! \"': 4958, '\"Tie\"': 4959, '\"Time in years     : \"': 4960, '\"Time in years   : \"': 4961, '\"Time now at greenwich meridian is : \"': 4962, '\"Today = \"': 4963, '\"Tomorrow = \"': 4964, '\"Total Number of Vowels in this String = \"': 4965, '\"Total Surface Area Of Cylinder = \"': 4966, '\"Total number of digits: \"': 4967, '\"Total number of letters: \"': 4968, '\"Total number of lowercase letters: \"': 4969, '\"Total number of uppercase letters: \"': 4970, '\"Total sum of values in the dictionary:\"': 4971, '\"Trace of the matrix A: \"': 4972, '\"Transpose Array\"': 4973, '\"Trump was the American President\"': 4974, '\"Tuesday\"': 4975, '\"Two sets have items in common\"': 4976, '\"Two sets have no items in common\"': 4977, '\"Type of \"': 4978, '\"U\"': 4979, '\"UP\"': 4980, '\"Union\"': 4981, '\"United States of America\"': 4982, '\"Upper Case\"': 4983, '\"Upper: %.2f%%\"': 4984, '\"Valid IPv4\"': 4985, '\"Valid IPv6\"': 4986, '\"Valid Password\"': 4987, '\"Value of C(%d,%d) is (%d)\"': 4988, '\"ValueError occured in the function\"': 4989, '\"Variable1\"': 4990, '\"Vector1\"': 4991, '\"Vector2\"': 4992, '\"Vicky\"': 4993, '\"Volume = \"': 4994, '\"Volume Of Cylinder = \"': 4995, '\"W\"': 4996, '\"Weak Password\"': 4997, '\"Wednesday\"': 4998, '\"Welcome to USA. usa awesome, isn\\'t it?\"': 4999, '\"Welcome to schoolofAI\"': 5000, '\"Welcome to the system\"': 5001, '\"Where is this going? Could you please help me understand!\"': 5002, '\"Who is the American President now?\"': 5003, '\"XOR\"': 5004, '\"Year: \"': 5005, '\"Yes, string is binary\"': 5006, '\"Yesterday = \"': 5007, '\"You Guesses too high!\"': 5008, '\"You chose: \"': 5009, '\"You guessed too low!\"': 5010, '\"You know the answer!\"': 5011, '\"You win!\"': 5012, '\"Your BMI is: {0} and you are \"': 5013, '\"Your number is a multiple of 4\"': 5014, '\"Your number is even...\"': 5015, '\"Your number is odd...\"': 5016, '\"Zero Entered\"': 5017, '\"Zero Matrix\"': 5018, '\"[R]ock, [S]cissors or [P]aper.\"': 5019, '\"[SsRrPp]\"': 5020, '\"[]\"': 5021, '\"[num for num in fib(100) ]\"': 5022, '\"\\\\\"%s\\\\\"\"': 5023, '\"\\\\n Diameter Of a Circle = %.2f\"': 5024, '\"\\\\n Reverse of entered number is = %d\"': 5025, '\"\\\\nDeleting Entire Dictionary: \"': 5026, '\"\\\\nDeleting a key from Nested Dictionary: \"': 5027, '\"\\\\nDeleting a specific key: \"': 5028, '\"\\\\nDictionary after deletion: \"': 5029, '\"\\\\nDictionary with each item as a pair: \"': 5030, '\"\\\\nDictionary with the use of Integer Keys: \"': 5031, '\"\\\\nDictionary with the use of Mixed Keys: \"': 5032, '\"\\\\nDictionary with the use of dict(): \"': 5033, '\"\\\\nNew list after adding above three lists:\"': 5034, '\"\\\\nOriginal Number: \"': 5035, '\"\\\\nPower of said number in bases raised to the corresponding number in the index:\"': 5036, '\"\\\\nPython Copyright Information\"': 5037, '\"\\\\nSimple Interest for Principal Amount {0} = {1}\"': 5038, '\"\\\\nSlicing characters between \"': 5039, '\"\\\\nSorting the List of Tuples:\"': 5040, '\"\\\\nThe total Sum of Two Lists =  \"': 5041, '\"\\\\r\"': 5042, '\"\\\\t\"': 5043, '\"\\\\t\\\\t\"': 5044, '\"^\"': 5045, '\"ab\"': 5046, '\"abGFGcs\"': 5047, '\"abc.txt\"': 5048, '\"abcd\"': 5049, '\"after my_list1[1][0] = \\'a\\' ---> \"': 5050, '\"after my_list2[1][0] = \\'a\\':  ---> \"': 5051, '\"akshayjain\"': 5052, '\"ammar adil\"': 5053, '\"ammaradil\"': 5054, '\"as I breath, you WILL not pass the castle gates!\"': 5055, '\"asalloi\"': 5056, '\"awesome\"': 5057, '\"bananna\"': 5058, '\"best !!\"': 5059, '\"binary value of \"': 5060, '\"bits required to store \"': 5061, '\"black\"': 5062, '\"boxes[box_index]: \"': 5063, '\"cde\"': 5064, '\"cdforef\"': 5065, '\"class A\"': 5066, '\"class A1\"': 5067, '\"class B\"': 5068, '\"class C1\"': 5069, '\"columnns[j]: \"': 5070, '\"compound Interest : \"': 5071, '\"conondrum\"': 5072, '\"date: \"': 5073, '\"def\"': 5074, '\"degree =\"': 5075, '\"delhi\"': 5076, '\"dict\"': 5077, '\"dict[\\'Age\\']: \"': 5078, '\"dict[\\'Name\\']: \"': 5079, '\"disarium\"': 5080, '\"entered string isn\\'t a substring\"': 5081, '\"erty\"': 5082, '\"excellent!\"': 5083, '\"f(n-1)+100 = \"': 5084, '\"file1 content...\"': 5085, '\"file2 content...\"': 5086, '\"filepath not found\"': 5087, '\"final string\"': 5088, '\"foo    bar   foobar foo\"': 5089, '\"for 7 CS\"': 5090, '\"function\"': 5091, '\"geek for geeks\"': 5092, '\"geeks for geeks geeks geeks geeks\"': 5093, '\"geeks for geeks\"': 5094, '\"geeks4geeks is best\"': 5095, '\"goal\"': 5096, '\"gone\"': 5097, '\"have\"': 5098, '\"health\"': 5099, '\"healthy.\"': 5100, '\"hello world!\"': 5101, '\"hi i love python\"': 5102, '\"https://raw.githubusercontent.com/RobertJGabriel/Google-profanity-words/master/list.txt\"': 5103, '\"i am muskan\"': 5104, '\"i like this program very much\"': 5105, '\"includehelp.com is a tutorials site\"': 5106, '\"initial list : \"': 5107, '\"initial string : \"': 5108, '\"is my favorite\"': 5109, '\"ishwarraja@gmail.com\"': 5110, '\"isosceles triangle\"': 5111, '\"list converted string: \"': 5112, '\"list\"': 5113, '\"list1:\"': 5114, '\"list2:\"': 5115, '\"merge_key\"': 5116, '\"monkey\"': 5117, '\"month: \"': 5118, '\"morning\"': 5119, '\"mumbai\"': 5120, '\"new\"': 5121, '\"not disarium\"': 5122, '\"number of sides must be greater than 2 and less than 7\"': 5123, '\"of all fruits\"': 5124, '\"oh!\"': 5125, '\"overweight.\"': 5126, '\"pant\"': 5127, '\"piyushjain\"': 5128, '\"play\"': 5129, '\"programming in \\\\n python\"': 5130, '\"pune\"': 5131, '\"python java c c++ javascript pascal php\"': 5132, '\"raj\"': 5133, '\"red\"': 5134, '\"repetitions should be greater that 0\"': 5135, '\"result\"': 5136, '\"rises\"': 5137, '\"rohan\"': 5138, '\"rows[i]: \"': 5139, '\"s\"': 5140, '\"section\"': 5141, '\"set\"': 5142, '\"severely overweight.\"': 5143, '\"severely underweight.\"': 5144, '\"shirt\"': 5145, '\"side length must be positive\"': 5146, '\"something wrong\"': 5147, '\"str3: \"': 5148, '\"str4: \"': 5149, '\"str: \"': 5150, '\"string doesn\\'t start with the given substring\"': 5151, '\"string starts with the given substring\"': 5152, '\"striver\"': 5153, '\"surface area =\"': 5154, '\"surprise\"': 5155, '\"test\"': 5156, '\"the greatest common divisor is\"': 5157, '\"the surprise is in here somewhere\"': 5158, '\"this is test string\"': 5159, '\"total counts of chars, digits,and symbols \\\\n\"': 5160, '\"tuple\"': 5161, '\"two\"': 5162, '\"underweight.\"': 5163, '\"user message\"': 5164, '\"value =\"': 5165, '\"variance of the sample is: \"': 5166, '\"vikram\"': 5167, '\"volume =\"': 5168, '\"watch\"': 5169, '\"welcome\"': 5170, '\"x: \"': 5171, '\"y: \"': 5172, '\"year: \"': 5173, '\"yellow\"': 5174, '\"you got It!\"': 5175, '\"your IP Address is: \"': 5176, '\"z: \"': 5177, '\"{0} is Even\"': 5178, '\"{0} is Odd\"': 5179, '\"{} is Vowel\"': 5180, '\"{} is co nsonent (Not Vowel)\"': 5181, '\"{} is completely Divisible by {}\"': 5182, '\"{} is not completely Divisible by {}\"': 5183, '#  given the temperature value and its unit': 5184, '# 12 = 0000 1100': 5185, '# 13 = 0000 1101': 5186, '# 60 = 0011 1100': 5187, '# Base case': 5188, '# Calculate the angles moved by ': 5189, '# Calculates compound interest  ': 5190, '# Catalan(n) is the sum  ': 5191, '# Characters after the nth indexed ': 5192, '# Characters before the i-th indexed ': 5193, '# Compare maxEndingHere with overall maximum. And ': 5194, '# Constructor': 5195, '# Create an instance variable': 5196, '# Enter letter to be searched': 5197, '# Enter the string ': 5198, '# Find the difference between ': 5199, '# First Fibonacci number is 0 ': 5200, '# I (intentionally) made typo here!': 5201, '# Instance method': 5202, '# Move the root of the max heap to the end of': 5203, '# Nothing': 5204, '# Python version <= 3.4.5 evaluates this statement to False': 5205, '# Recursive Call ': 5206, '# Return the smaller angle of two ': 5207, '# Returning string after removing ': 5208, '# Second Fibonacci number is 1 ': 5209, '# The function _lis() stores its result in maximum ': 5210, '# Write your code here': 5211, '# Write your logic here': 5212, '# add 12 to hours and remove PM ': 5213, '# adding True if all Even elements ': 5214, '# but Python thinks we forgot to define the local variable!': 5215, '# calculate height': 5216, '# calculate width': 5217, '# calculating hours from difference ': 5218, '# calculating minutes from difference ': 5219, '# calculating the difference ': 5220, '# calling run function  ': 5221, '# changes the gobal variable': 5222, '# checking for 1st decreasing element ': 5223, '# checking for all Unique elements ': 5224, '# checking for begin char ': 5225, '# checking for even elements ': 5226, '# checking for key or value equality ': 5227, '# checking for key presence and updating max ': 5228, '# checking for similar values ': 5229, '# checking for values datatype ': 5230, '# checking pair sum ': 5231, '# conditional operator ': 5232, '# convert h1 : m1 into minutes ': 5233, '# convert h2 : m2 into minutes  ': 5234, '# convert to int': 5235, '# deep copy': 5236, '# ending row': 5237, '# frequency of words in text': 5238, '# get product start from left': 5239, '# get product starting from right': 5240, '# getting column  ': 5241, '# getting length of list of tuples ': 5242, '# getting mid element ': 5243, '# handle case where one of the list will be empty': 5244, '# hour and minute hands with  ': 5245, '# if negative number': 5246, '# if not the last negative number': 5247, '# if one common ': 5248, '# if string has letter ': 5249, '# if string has number ': 5250, '# incrementing on testing for digit. ': 5251, '# index of left most element': 5252, '# index of smaller element': 5253, '# is AM and first two elements are 12 ': 5254, '# is PM and first two elements are 12    ': 5255, '# is stored in a variable a ': 5256, '# is stored in a variable b ': 5257, '# iterate the list': 5258, '# lenght of arr ': 5259, '# looping till length l ': 5260, '# maxEndingHere is the length of LIS ending with arr[n-1] ': 5261, '# maximum variable holds the result ': 5262, '# next 2 bytes is width': 5263, '# nth indexed character. ': 5264, '# of catalan(i)*catalan(n-i-1) ': 5265, '# or presentday = datetime.today() ': 5266, '# order points by x, then by y': 5267, '# pivot ': 5268, '# possible angles ': 5269, '# reference': 5270, '# reference to 12:00 ': 5271, '# remove the AM     ': 5272, '# single line to find factorial ': 5273, '# slicing Equidigits ': 5274, '# slicing for particular length ': 5275, '# storing maximum of difference ': 5276, '# swap ': 5277, '# swap the two': 5278, '# to print new line': 5279, '# traverse in the 2nd list ': 5280, '# two angles ': 5281, '# update the last position': 5282, '# update the overall maximum if needed ': 5283, '# update values  ': 5284, '# use while loop to iterate un till zero  ': 5285, '# write a python function to check whether the number is an Armstrong number or not': 5286, '# write a python function to check whether the string is a palindrome or not': 5287, '#(mode, ino, dev, nlink, uid, gid, size, atime, mtime, ctime) = os.stat(file)': 5288, '#Shift element of array by one    ': 5289, '#Stores the last element of array    ': 5290, '#args = parser.parse_args()': 5291, '#asking age': 5292, '#asking name': 5293, '#because we need to include n in sum': 5294, '#continue': 5295, '#for j in i:': 5296, '#get difference between age x 100 years': 5297, '#get the current year': 5298, '#if opponenetChoice == str(\"R\") and str.upper(userChoice) == \"P\"': 5299, '#import datetime': 5300, '#is item in lista2 already?': 5301, '#limit string to 64 characters': 5302, '#print((i,j)) ': 5303, '#print(ini_tuple[j])': 5304, '#print(n1)': 5305, \"#result = re.findall(r'[^a-zA-Z]+',my_string)\": 5306, '#return \"\".join(result)': 5307, '#show exactly year that user will turn 100 years old': 5308, '#what is int doing here? Annotations': 5309, \"' , '\": 5310, \"' :'\": 5311, \"' Please Enter the radius of a circle: '\": 5312, \"' asdga \\\\t\\\\r'\": 5313, \"' hundred'\": 5314, \"' world!'\": 5315, '\\'\"%s\"\\'': 5316, '\\'\"Geeks\"\\'': 5317, '\\'\"datetime.time(0,0,0)\" (Midnight) ->\\'': 5318, '\\'\"g\"eeks\\'': 5319, '\\'\"is\" for\\'': 5320, '\\'\"{}\"\\'': 5321, \"'%'\": 5322, \"'%0.1f  Celsius is equal to %0.1f degree Fahrenheit'\": 5323, \"'%0.3f kilometers is equal to %0.3f miles'\": 5324, \"'%Y-%m-%d %H:%M:%S'\": 5325, \"'%s: %s is present in both x and y'\": 5326, \"'''\\n        Python is a widely used high-level, general-purpose, interpreted,\\n        dynamic programming language. Its design philosophy emphasizes\\n        code readability, and its syntax allows programmers to express\\n        concepts in fewer lines of code than possible in languages such\\n        as C++ or Java.\\n        '''\": 5327, \"''' kwargs comes as a dictionary '''\": 5328, '\\'\\'\\'!()-[]{};:\\'\"\\\\, <>./?@#$%^&*_~\\'\\'\\'': 5329, \"''''''\": 5330, \"'''(int) -> int\\n    Return the number of minutes there are in\\n    num_hours hours.\\n    '''\": 5331, \"'''(int) -> int\\n    Return the number of seconds there are in \\n    num_hours hours.\\n    '''\": 5332, \"'''GeeksforGeeks is a Computer Science portal for geeks. \\n    It contains well written, well thought and well explained \\n    computer science and programming articles, quizzes etc.'''\": 5333, \"'''hello you can call me at 018002089898.'''\": 5334, \"'([A-Z]+)'\": 5335, \"'([A-Z][a-z]+)'\": 5336, \"'(x, y) not within the rectangle'\": 5337, \"'--'\": 5338, \"'---'\": 5339, \"'-----'\": 5340, \"'----.'\": 5341, \"'---..'\": 5342, \"'---...'\": 5343, \"'--.'\": 5344, \"'--.-'\": 5345, \"'--..'\": 5346, \"'--..--'\": 5347, \"'--...'\": 5348, \"'-.'\": 5349, \"'-.-'\": 5350, \"'-.--'\": 5351, \"'-.--.'\": 5352, \"'-.--.-'\": 5353, \"'-.-.'\": 5354, \"'-.-.--'\": 5355, \"'-..'\": 5356, \"'-..-'\": 5357, \"'-..-.'\": 5358, \"'-...'\": 5359, \"'-...-'\": 5360, \"'-....'\": 5361, \"'-....-'\": 5362, \"'-5 is -6+1'\": 5363, \"'-7 is -6-1'\": 5364, \"'.-'\": 5365, \"'.--'\": 5366, \"'.---'\": 5367, \"'.----'\": 5368, \"'.----.'\": 5369, \"'.--.'\": 5370, \"'.--.-.'\": 5371, \"'.-.'\": 5372, \"'.-.-.'\": 5373, \"'.-.-.-'\": 5374, \"'.-..'\": 5375, \"'.-..-.'\": 5376, \"'.-...'\": 5377, \"'..'\": 5378, \"'..-'\": 5379, \"'..---'\": 5380, \"'..--..'\": 5381, \"'..-.'\": 5382, \"'...'\": 5383, \"'...-'\": 5384, \"'...--'\": 5385, \"'....'\": 5386, \"'....-'\": 5387, \"'.....'\": 5388, \"'.py'\": 5389, \"'/home'\": 5390, \"'0 '\": 5391, \"'0025'\": 5392, \"'0091'\": 5393, \"'00977'\": 5394, \"'01'\": 5395, \"'0xa'\": 5396, \"'1 0 0 1'\": 5397, \"'1 in gen,'\": 5398, \"'10'\": 5399, \"'100'\": 5400, \"'10th'\": 5401, \"'111'\": 5402, \"'12'\": 5403, \"'12.20'\": 5404, \"'123'\": 5405, \"'1234abcd'\": 5406, \"'123FOO456'\": 5407, \"'12k'\": 5408, \"'15.10'\": 5409, \"'1997-01-04'\": 5410, \"'1997-03-02'\": 5411, \"'1997-09-13'\": 5412, \"'1@ a'\": 5413, \"'1st argument:'\": 5414, \"'1st'\": 5415, \"'2 * 7 ='\": 5416, \"'2 in gen,'\": 5417, \"'2002'\": 5418, \"'2012'\": 5419, \"'229/9'\": 5420, \"'2345'\": 5421, \"'24.5'\": 5422, \"'256 is 257-1'\": 5423, \"'257 is 258-1'\": 5424, \"'2nd'\": 5425, \"'3 in gen,'\": 5426, \"'3 trees'\": 5427, \"'3.'\": 5428, \"'3.1415'\": 5429, \"'3rd'\": 5430, \"'4th'\": 5431, \"'5 days before Current Date :'\": 5432, \"'5th'\": 5433, \"'5x6, 9x10, 7x8'\": 5434, \"'6th'\": 5435, \"'7'\": 5436, \"'7th'\": 5437, \"'85/8'\": 5438, \"'8th'\": 5439, \"'9th'\": 5440, \"': '\": 5441, \"'</body></html>'\": 5442, \"'> '\": 5443, \"'?'\": 5444, \"'AEIOUaeiou'\": 5445, \"'Amir'\": 5446, \"'Aquarius'\": 5447, \"'Aries'\": 5448, \"'Asia/kolkata'\": 5449, \"'Australia'\": 5450, \"'Avg score is'\": 5451, \"'AwesOME'\": 5452, \"'Babita'\": 5453, \"'Bala'\": 5454, \"'Black'\": 5455, \"'BreakingBad'\": 5456, \"'But obviously fails when we iterate ...'\": 5457, \"'Bye, World!'\": 5458, \"'CD'\": 5459, \"'CM'\": 5460, \"'Cancer'\": 5461, \"'Capital'\": 5462, \"'Capricorn'\": 5463, \"'CarBadBoxNumKeyValRayCppSan'\": 5464, \"'Ceil'\": 5465, \"'Chales'\": 5466, \"'Chemistry'\": 5467, \"'Class'\": 5468, \"'Computer Science'\": 5469, \"'Count'\": 5470, \"'Current Date :'\": 5471, \"'Cyware'\": 5472, \"'Decision taken by wiinng team toss'\": 5473, \"'Demo class to show how to make class object as callable'\": 5474, \"'Developer'\": 5475, \"'Differnce in performance between A and B : '\": 5476, \"'Do you want to continue(y/n)?'\": 5477, \"'Documentation to show how to do do annotation'\": 5478, \"'Eating'\": 5479, \"'English'\": 5480, \"'Enter a number: '\": 5481, \"'Enter a positive value: '\": 5482, \"'Enter first side: '\": 5483, \"'Enter second side: '\": 5484, \"'Enter temperature in Celsius: '\": 5485, \"'Enter third side: '\": 5486, \"'Enter value of x: '\": 5487, \"'Enter value of y: '\": 5488, \"'Exponential'\": 5489, \"'FT'\": 5490, \"'Fabs'\": 5491, \"'Factorial'\": 5492, \"'Find the characters in the given string:'\": 5493, \"'First'\": 5494, \"'Fish&Chips'\": 5495, \"'Food'\": 5496, \"'Found a match!'\": 5497, \"'Friday'\": 5498, \"'GameOfThrones'\": 5499, \"'Gemini'\": 5500, \"'GfG'\": 5501, \"'Gfg is best . Geeks are good and Geeks like Gfg'\": 5502, \"'Gfg is best . Gfg also has Classes now. Classes help understand better . '\": 5503, \"'Good job, {0}! You guessed my number in {1} guesses!'\": 5504, \"'Good'\": 5505, \"'Green'\": 5506, \"'Health'\": 5507, \"'Hello '\": 5508, \"'Hello There'\": 5509, \"'Hello World'\": 5510, \"'Hello private world!'\": 5511, \"'Hello public world!'\": 5512, \"'Hello! What is your name?\\\\n'\": 5513, \"'Hello!2@#World'\": 5514, \"'Hello, World!'\": 5515, \"'HelloWorld'\": 5516, \"'Hence proved'\": 5517, \"'Hey, %s'\": 5518, \"'Hi '\": 5519, \"'Hi'\": 5520, \"'Hi, %s!'\": 5521, \"'Hola World'\": 5522, \"'Hola'\": 5523, \"'How many kilometers?: '\": 5524, \"'ID (+=):'\": 5525, \"'ID (list = list + ...):'\": 5526, \"'ID:'\": 5527, \"'IDs:\\\\nlist1: {}\\\\nlist2: {}\\\\nlist3: {}\\\\n'\": 5528, \"'IDs:\\\\nlist1: {}\\\\nlist2: {}\\\\nlist3: {}\\\\nlist4: {}\\\\n'\": 5529, \"'IV'\": 5530, \"'IX'\": 5531, \"'Identity Matrix'\": 5532, \"'Index out of bound'\": 5533, \"'India is my country'\": 5534, \"'J'\": 5535, \"'Japan'\": 5536, \"'John'\": 5537, \"'Jul 1 2014 2:43PM'\": 5538, \"'Key is not present in the dictionary'\": 5539, \"'Key is present in the dictionary'\": 5540, \"'Kil'\": 5541, \"'Leap Year'\": 5542, \"'Leo'\": 5543, \"'Libra'\": 5544, \"'Life'\": 5545, \"'London'\": 5546, \"'Mani'\": 5547, \"'Manjeet'\": 5548, \"'Maximum Value in a dictionary: '\": 5549, \"'Minimum Value in a dictionary: '\": 5550, \"'Monday'\": 5551, \"'Morning!'\": 5552, \"'N'\": 5553, \"'NUMBER OF STEPS: '\": 5554, \"'Namedtuple class to store the IPL match data'\": 5555, \"'Nepal'\": 5556, \"'No, the lengths wont form a triangle'\": 5557, \"'Noida'\": 5558, \"'None'\": 5559, \"'Nope. The number I was thinking of was {0}'\": 5560, \"'Not a leap year'\": 5561, \"'Not a vowel'\": 5562, \"'Not matched!'\": 5563, \"'Number %d found at position %d'\": 5564, \"'Number %d not found'\": 5565, \"'Number of A columns must equal number of B rows.'\": 5566, \"'Olympics'\": 5567, \"'Other'\": 5568, \"'Password Valid'\": 5569, \"'Password cannot contain white spaces.'\": 5570, \"'Password must be at least 8 characters.'\": 5571, \"'Password must contain a digit.'\": 5572, \"'Password must contain a lowercase letter.'\": 5573, \"'Password must contain an uppercase letter.'\": 5574, \"'Physics'\": 5575, \"'Pisces'\": 5576, \"'Please enter a positive integer'\": 5577, \"'PyThon'\": 5578, \"'Q'\": 5579, \"'Queue is Empty!'\": 5580, \"'Queue is Full!'\": 5581, \"'RCBvsKKR'\": 5582, \"'Rash'\": 5583, \"'Red'\": 5584, \"'Resting'\": 5585, \"'Resulting string'\": 5586, \"'Run scored by Team1'\": 5587, \"'Run scored by Team2'\": 5588, \"'SFG'\": 5589, \"'STRING'\": 5590, \"'Sagittarius'\": 5591, \"'Saturday'\": 5592, \"'Science'\": 5593, \"'Seeta'\": 5594, \"'Sentence is interned'\": 5595, \"'Sleeping'\": 5596, \"'Sum of even numbers in the list is '\": 5597, \"'Sum of every 5th element in the list is'\": 5598, \"'Sunday'\": 5599, \"'T'\": 5600, \"'TMKUC'\": 5601, \"'Take a guess: '\": 5602, \"'Taurus'\": 5603, \"'Team name'\": 5604, \"'The Little Price'\": 5605, \"'The Simple Interest is'\": 5606, \"'The Union of two lists is:'\": 5607, \"'The area of the triangle is %0.2f'\": 5608, \"'The numbers are equal'\": 5609, \"'The principal is'\": 5610, \"'The quick Brow Fox'\": 5611, \"'The quick Brown Fox'\": 5612, \"'The rate of interest is'\": 5613, \"'The reverse integer:'\": 5614, \"'The sum of {0} and {1} is {2}'\": 5615, \"'The sun in the east'\": 5616, \"'The time period is'\": 5617, \"'This is beautiful picture'\": 5618, \"'This should not happen'\": 5619, \"'Thursday'\": 5620, \"'Today is bad day'\": 5621, \"'Tuesday'\": 5622, \"'Type your age:'\": 5623, \"'Type your name:'\": 5624, \"'Unknown, AFK or sleeping!'\": 5625, \"'Value of x: '\": 5626, \"'Variable2'\": 5627, \"'Varsha'\": 5628, \"'Virgo'\": 5629, \"'Vowel in a string'\": 5630, \"'W'\": 5631, \"'W-SAT'\": 5632, \"'Wednesday'\": 5633, \"'Well, {0}, I am thinking of a number between 1 and 20.'\": 5634, \"'Who won the toss'\": 5635, \"'Winning Team'\": 5636, \"'Working'\": 5637, \"'XC'\": 5638, \"'XL'\": 5639, \"'Y'\": 5640, \"'YRD'\": 5641, \"'Yes name exists:'\": 5642, \"'Yes string is title'\": 5643, \"'Yes, a triangle can be formed out of it'\": 5644, \"'You did something Wrong'\": 5645, \"'Your guess is too high.'\": 5646, \"'Your guess is too low.'\": 5647, \"'Zara'\": 5648, \"'['\": 5649, \"'[0-9]'\": 5650, \"'[1, 4, 5]'\": 5651, \"'[4, 6, 8]'\": 5652, \"'[@_!#$%^&*()<>?/\\\\|}{~:]'\": 5653, \"'[A-Z]+[a-z]+$'\": 5654, \"'[\\\\W_]+'\": 5655, \"'[^a-zA-Z\\\\s]+'\": 5656, \"'[a-zA-Z-]+'\": 5657, \"'[a-zA-z0-9]$'\": 5658, \"'\\\\d'\": 5659, \"'\\\\nID (append):'\": 5660, \"'\\\\nID (extend):'\": 5661, \"'\\\\nID (initial):'\": 5662, \"'\\\\nValue of y: '\": 5663, \"'\\\\nWOO!! Values SWAPPEDDD'\": 5664, \"'\\\\ngenerator:     '\": 5665, \"'\\\\ngenerator_yield:     '\": 5666, \"'\\\\nlistcompr:     '\": 5667, \"'\\\\nsecond list:'\": 5668, \"'\\\\r'\": 5669, \"']'\": 5670, \"'^'\": 5671, \"'^atg'\": 5672, \"'a == a,'\": 5673, \"'a == b,'\": 5674, \"'a e i o u'\": 5675, \"'a is a,'\": 5676, \"'a is b'\": 5677, \"'a is b,'\": 5678, \"'ab cd-ef'\": 5679, \"'ab,12'\": 5680, \"'abcdef'\": 5681, \"'abcdef12'\": 5682, \"'abcdefcdghcd'\": 5683, \"'abcedfghijklmnopqrstuvwxyz'\": 5684, \"'added two list:'\": 5685, \"'all'\": 5686, \"'always execute finally'\": 5687, \"'amir'\": 5688, \"'an error occurred'\": 5689, \"'ang'\": 5690, \"'angel'\": 5691, \"'another test'\": 5692, \"'anthony'\": 5693, \"'apples'\": 5694, \"'april'\": 5695, \"'aquarius'\": 5696, \"'args contents:'\": 5697, \"'aries'\": 5698, \"'august'\": 5699, \"'austin'\": 5700, \"'balaji'\": 5701, \"'bananas'\": 5702, \"'bat'\": 5703, \"'bcde'\": 5704, \"'beautiful'\": 5705, \"'bike'\": 5706, \"'billy'\": 5707, \"'bold'\": 5708, \"'c is d'\": 5709, \"'cancer'\": 5710, \"'capricorn'\": 5711, \"'car'\": 5712, \"'clear'\": 5713, \"'cls'\": 5714, \"'code'\": 5715, \"'color'\": 5716, \"'compute'\": 5717, \"'computer'\": 5718, \"'dan'\": 5719, \"'data.txt'\": 5720, \"'data1'\": 5721, \"'data2'\": 5722, \"'data3'\": 5723, \"'debate'\": 5724, \"'december'\": 5725, \"'decimal: '\": 5726, \"'defenestrate'\": 5727, \"'do some stuff'\": 5728, \"'east'\": 5729, \"'eighteen'\": 5730, \"'eighty'\": 5731, \"'eleven'\": 5732, \"'enter side 1\\\\n'\": 5733, \"'enter side 2\\\\n'\": 5734, \"'enter side 3\\\\n'\": 5735, \"'even'\": 5736, \"'explain global scope:'\": 5737, \"'explain local scope:'\": 5738, \"'february'\": 5739, \"'fifteen'\": 5740, \"'fifty'\": 5741, \"'find the number position:'\": 5742, \"'first list:'\": 5743, \"'float'\": 5744, \"'float: '\": 5745, \"'foo123bar'\": 5746, \"'forty'\": 5747, \"'foundry'\": 5748, \"'fourteen'\": 5749, \"'g'\": 5750, \"'gaf'\": 5751, \"'gaurav'\": 5752, \"'geeks4g!!!eeks'\": 5753, \"'geeksforgeeks'\": 5754, \"'geeksforgeeks_is_best'\": 5755, \"'gemini'\": 5756, \"'gfg is best for geeks'\": 5757, \"'go_east_or_west_india_is_the_best'\": 5758, \"'goal'\": 5759, \"'google.com'\": 5760, \"'guys'\": 5761, \"'h'\": 5762, \"'have a good day'\": 5763, \"'hello world!hello world!hello world!hello world!'\": 5764, \"'hello. i am a sentence.'\": 5765, \"'hello006'\": 5766, \"'hello1 is hello2:'\": 5767, \"'hello1 is hello3:'\": 5768, \"'helloworld2020'\": 5769, \"'hsd'\": 5770, \"'id my_list1: {}, id my_list2: {}'\": 5771, \"'ide'\": 5772, \"'in for'\": 5773, \"'in try:'\": 5774, \"'in_func1:'\": 5775, \"'in_func2:'\": 5776, \"'in_func:'\": 5777, \"'initially ---> '\": 5778, \"'initially:  ---> '\": 5779, \"'int'\": 5780, \"'is a prime number'\": 5781, \"'isinstance(True, int):'\": 5782, \"'item1'\": 5783, \"'item2'\": 5784, \"'item3'\": 5785, \"'j'\": 5786, \"'january'\": 5787, \"'june'\": 5788, \"'kate'\": 5789, \"'keyword'\": 5790, \"'kwargs contents: '\": 5791, \"'leo'\": 5792, \"'libra'\": 5793, \"'local'\": 5794, \"'lower'\": 5795, \"'ly'\": 5796, \"'malayalam'\": 5797, \"'manjeet'\": 5798, \"'max(l)'\": 5799, \"'max(tu)'\": 5800, \"'may'\": 5801, \"'md.shakiluzzaman@gmail.com'\": 5802, \"'mobile number found from the string : '\": 5803, \"'multiply two list values:'\": 5804, \"'n'\": 5805, \"'n1'\": 5806, \"'n2'\": 5807, \"'n3'\": 5808, \"'nan'\": 5809, \"'near to 1000'\": 5810, \"'near to 1300'\": 5811, \"'negative integers:'\": 5812, \"'nikhil'\": 5813, \"'nine'\": 5814, \"'nineteen'\": 5815, \"'ninety'\": 5816, \"'no error occurred'\": 5817, \"'not'\": 5818, \"'november'\": 5819, \"'nt'\": 5820, \"'october'\": 5821, \"'odd'\": 5822, \"'oneplus'\": 5823, \"'parallelogram'\": 5824, \"'pear'\": 5825, \"'penny'\": 5826, \"'pisces'\": 5827, \"'plain_list:     '\": 5828, \"'points do not form a rectangle'\": 5829, \"'poor'\": 5830, '\\'print(\"hello world\")\\'': 5831, \"'python language'\": 5832, \"'qwerty'\": 5833, \"'red'\": 5834, \"'restart'\": 5835, \"'result'\": 5836, \"'resultant substring{sstring}'\": 5837, \"'rihana'\": 5838, \"'rises'\": 5839, \"'rishav'\": 5840, \"'sadgas1'\": 5841, \"'sagittarius'\": 5842, \"'sample.txt'\": 5843, \"'samsung'\": 5844, \"'san'\": 5845, \"'sasg.as3$'\": 5846, \"'science'\": 5847, \"'september'\": 5848, \"'seventeen'\": 5849, \"'seventy'\": 5850, \"'simple_example'\": 5851, \"'sixteen'\": 5852, \"'sixty'\": 5853, \"'str'\": 5854, \"'str1 * 3 ='\": 5855, \"'str1 + str2 = '\": 5856, \"'style'\": 5857, \"'sun'\": 5858, \"'t'\": 5859, \"'taurus'\": 5860, \"'temp.txt'\": 5861, \"'ten'\": 5862, \"'test'\": 5863, \"'test.txt'\": 5864, \"'the sun is shining'\": 5865, \"'the2sun4rises5sinthe6east9'\": 5866, \"'thenandnow'\": 5867, \"'there!'\": 5868, \"'thirteen'\": 5869, \"'thirty'\": 5870, \"'this is test'\": 5871, \"'times of india times new india express'\": 5872, \"'triangle'\": 5873, \"'truck'\": 5874, \"'twelve'\": 5875, \"'twenty'\": 5876, \"'type of args:'\": 5877, \"'type of kwargs:'\": 5878, \"'upper'\": 5879, \"'utf-8'\": 5880, \"'val1:'\": 5881, \"'vals:'\": 5882, \"'value of argument a:'\": 5883, \"'value1'\": 5884, \"'value2'\": 5885, \"'value3'\": 5886, \"'value4'\": 5887, \"'varCjjlopaxntrrgnbXrOPraiiItUuUuzaQlliyaxx*t#rgiffFoce&ntPls87C!'\": 5888, \"'virgo'\": 5889, \"'w3resource'\": 5890, \"'want'\": 5891, \"'welcome'\": 5892, \"'window'\": 5893, \"'x should not be less than 10!'\": 5894, \"'xyy'\": 5895, \"'xyyzxxyxyy'\": 5896, \"'yes, it can form a degenerated triangle'\": 5897, \"'you'\": 5898, \"'zekelabs'\": 5899, \"'zero'\": 5900, \"'{'\": 5901, \"'{0}: {1}'\": 5902, \"'{:02X}'\": 5903, \"'{:04.3f}'\": 5904, \"'{p}{q}'\": 5905, \"'{} is a power of two.'\": 5906, \"'{} is not a power of two.'\": 5907, \"'{} {}'\": 5908, \"'{}/{}'\": 5909, \"'}'\": 5910, '.08': 5911, '.10': 5912, '.20': 5913, '.3': 5914, '.4': 5915, '.6': 5916, '.7': 5917, '.8': 5918, '.9': 5919, '0.000001': 5920, '0.2': 5921, '0.4': 5922, '0.8': 5923, '0xFFFFFFFF': 5924, '1.': 5925, '1.09': 5926, '1.33': 5927, '1.414': 5928, '1.609': 5929, '10.': 5930, '10.0': 5931, '1021': 5932, '1029': 5933, '104': 5934, '105': 5935, '1071': 5936, '11.': 5937, '11.23': 5938, '115': 5939, '12.9999': 5940, '12321': 5941, '1234.5': 5942, '125': 5943, '1292': 5944, '13.': 5945, '130': 5946, '1300': 5947, '132': 5948, '135': 5949, '14.': 5950, '1452': 5951, '148': 5952, '1500': 5953, '156': 5954, '162': 5955, '175': 5956, '180.0': 5957, '192': 5958, '1e-05': 5959, '1e-12': 5960, '1e-3': 5961, '2.2': 5962, '2004': 5963, '2015': 5964, '212': 5965, '217': 5966, '219': 5967, '220': 5968, '2200': 5969, '223': 5970, '225': 5971, '23.56': 5972, '23456': 5973, '236': 5974, '247': 5975, '248': 5976, '256': 5977, '258': 5978, '2700': 5979, '273': 5980, '273.15': 5981, '273.5': 5982, '2j': 5983, '3.1415': 5984, '3.1415926': 5985, '3.4': 5986, '32.0': 5987, '323': 5988, '324': 5989, '328': 5990, '3280.8399': 5991, '337': 5992, '345': 5993, '3456': 5994, '36.5': 5995, '365': 5996, '37.3': 5997, '37.8': 5998, '375': 5999, '379': 6000, '386': 6001, '39.2': 6002, '399': 6003, '4.0': 6004, '4.56': 6005, '41': 6006, '418': 6007, '445': 6008, '4562': 6009, '462': 6010, '466': 6011, '5.': 6012, '512': 6013, '527': 6014, '5280.0': 6015, '540': 6016, '5465461': 6017, '553': 6018, '560': 6019, '5654': 6020, '57.84': 6021, '58': 6022, '5874': 6023, '597': 6024, '6.': 6025, '6.78': 6026, '615': 6027, '623': 6028, '626': 6029, '63': 6030, '66.25': 6031, '663': 6032, '687': 6033, '7.': 6034, '7.7': 6035, '717': 6036, '721': 6037, '74': 6038, '742': 6039, '743': 6040, '758': 6041, '767': 6042, '79': 6043, '8.': 6044, '81': 6045, '815': 6046, '826': 6047, '831': 6048, '84': 6049, '843': 6050, '866': 6051, '8765468': 6052, '892': 6053, '894': 6054, '9.': 6055, '907': 6056, '918': 6057, '92': 6058, '949': 6059, '950': 6060, '953': 6061, '958': 6062, '978': 6063, '9808': 6064, '982143': 6065, 'ArgumentParser': 6066, 'Armstrong': 6067, 'AttributeError': 6068, 'BankAccount': 6069, 'BinTree': 6070, 'CallShow': 6071, 'Cell': 6072, 'Celsius_To_Fahrenheit': 6073, 'CircularQueue': 6074, 'Complex': 6075, 'Convert_1': 6076, 'Convert_2': 6077, 'Convert_3': 6078, 'CubeVolume': 6079, 'CustomList': 6080, 'CustomListIter': 6081, 'CustomTuple': 6082, 'CustomTupleIter': 6083, 'D1': 6084, 'DOWN': 6085, 'DataFrame': 6086, 'Define': 6087, 'Deque': 6088, 'Fahrenheit_to_Celsius': 6089, 'FileHandler': 6090, 'FindUrls': 6091, 'IGNORECASE': 6092, 'Kilometers_to_Miles': 6093, 'LEFT': 6094, 'LRUCache': 6095, 'Mathematics': 6096, 'Miles_to_Kilometers': 6097, 'NumOfDivisor': 6098, 'OnesComplement': 6099, 'Output': 6100, 'PriorityQueue': 6101, 'Python': 6102, 'RIGHT': 6103, 'RandomState': 6104, 'Result': 6105, 'SortTuple': 6106, 'Student': 6107, 'SumFunction': 6108, 'UP': 6109, 'User': 6110, 'V': 6111, 'Validate_IP': 6112, '__call__': 6113, '__eq__': 6114, '__get__': 6115, '__lt__': 6116, '_my_class__private_method': 6117, '_slice': 6118, '`': 6119, 'abs_diff': 6120, 'acc': 6121, 'addHandler': 6122, 'add_argument': 6123, 'add_days': 6124, 'add_str': 6125, 'add_string': 6126, 'add_tags': 6127, 'add_tuple': 6128, 'add_two_list_items': 6129, 'add_two_lists_even_odd': 6130, 'add_unlimited': 6131, 'ages': 6132, 'allDigitsDivide': 6133, 'all_imp': 6134, 'all_unique': 6135, 'alues': 6136, 'anno_func': 6137, 'any_imp': 6138, 'apothem_of_polygon': 6139, 'apply_ceil': 6140, 'apply_floor': 6141, 'apply_round': 6142, 'are': 6143, 'are_all_negative': 6144, 'areaRectangle': 6145, 'area_circle': 6146, 'area_of_polygon': 6147, 'area_of_tetrahedron': 6148, 'area_shape': 6149, 'area_triangle': 6150, 'argv': 6151, 'argwhere': 6152, 'ascii': 6153, 'ascii_value_of_character': 6154, 'attach_counter': 6155, 'attach_log': 6156, 'autocorr': 6157, \"b''\": 6158, \"b'hello world!hello world!hello world!hello world!'\": 6159, 'basename': 6160, 'bfill': 6161, 'bilinear_interpolation': 6162, 'bin2dec': 6163, 'binaryPallindrome': 6164, 'binaryToDecimal': 6165, 'builtin_module_names': 6166, 'by': 6167, 'byte_size': 6168, 'c_long': 6169, 'calc_age': 6170, 'calc_avg': 6171, 'calc_elect_bill': 6172, 'calc_hypotenuse': 6173, 'calc_mean': 6174, 'calc_median': 6175, 'calculateAge': 6176, 'calculate_age': 6177, 'calculate_hcf': 6178, 'call_func': 6179, 'calspeed': 6180, 'camel': 6181, 'capitalize_first_and_last': 6182, 'carol_number': 6183, 'cel_to_fah': 6184, 'cel_to_kel': 6185, 'celsius_to_fahrenheit': 6186, 'center': 6187, 'change_dir': 6188, 'char_array': 6189, 'chdir': 6190, 'checkAnagram': 6191, 'checkTriangle': 6192, 'checkValidity': 6193, 'checkValue': 6194, 'check_assert': 6195, 'check_dir_files': 6196, 'check_if_anagram': 6197, 'check_instance': 6198, 'check_intern': 6199, 'check_isclose': 6200, 'check_leap_year': 6201, 'check_password_strength': 6202, 'check_pnz': 6203, 'check_string': 6204, 'check_tuple_same': 6205, 'check_vowel': 6206, 'check_vowel_or_not': 6207, 'checksquare': 6208, 'circle_area': 6209, 'clamp_number': 6210, 'clear_rightmost_set_bit': 6211, 'clear_set': 6212, 'cls': 6213, 'cm_to_inch': 6214, 'collable_check': 6215, 'color': 6216, 'column': 6217, 'combinationSum': 6218, 'common_member': 6219, 'comp_int': 6220, 'comp_power': 6221, 'compare_list_tuple': 6222, 'compare_using_equals': 6223, 'compare_using_interning': 6224, 'con_str': 6225, 'cone_surface_area': 6226, 'cone_volume': 6227, 'convert_list_to_tuple': 6228, 'convert_str_to_list': 6229, 'convert_string_to_list': 6230, 'convert_to_str': 6231, 'convert_to_string_list': 6232, 'convert_tuple2list': 6233, 'convertstringtobinary': 6234, 'copyright': 6235, 'countList': 6236, 'countMaxIntersect': 6237, 'countSetBits': 6238, 'count_func_dict': 6239, 'count_occurrences': 6240, 'count_second': 6241, 'count_tokens': 6242, 'count_word': 6243, 'countword': 6244, 'create_deck_of_cards': 6245, 'create_dictionary': 6246, 'create_linked_list': 6247, 'create_logging_level': 6248, 'create_parser': 6249, 'cube_numbers': 6250, 'cube_surface_area': 6251, 'cube_volume': 6252, 'cuboid_volume': 6253, 'cullen_number': 6254, 'custom_print': 6255, 'cyclicRotate': 6256, 'cylinder_surface_area': 6257, 'cylinder_volume': 6258, 'd_inches': 6259, 'd_miles': 6260, 'd_yards': 6261, 'dailyTemperatures': 6262, 'date_range': 6263, 'date_validation': 6264, 'day_diff': 6265, 'day_occur_time': 6266, 'days_between': 6267, 'days_diff': 6268, 'dec2bin': 6269, 'decToBinary': 6270, 'decToHexa': 6271, 'decToOctal': 6272, 'decapitalize': 6273, 'dedent': 6274, 'dedup': 6275, 'default_exception_simulator': 6276, 'delete': 6277, 'deleteFront': 6278, 'deleteRear': 6279, 'deleteelement': 6280, 'deletekey': 6281, 'deposit': 6282, 'description': 6283, 'dic_largest': 6284, 'dict_comp': 6285, 'dict_in_at_begin': 6286, 'dict_sort_with_key': 6287, 'difference_max_min': 6288, 'digSum': 6289, 'dig_cnt': 6290, 'digisum': 6291, 'distance_converter': 6292, 'divide_chunks': 6293, 'divisible': 6294, 'divisible_by_digits': 6295, 'divisor_count': 6296, 'divisor_using_list': 6297, 'doc_func': 6298, 'dot': 6299, 'drop': 6300, 'dsigmoid': 6301, 'duplicate_array': 6302, 'ed': 6303, 'ef': 6304, 'encode_marsh': 6305, 'encoding': 6306, 'endswith': 6307, 'error': 6308, 'euclid_numbers': 6309, 'even_odd': 6310, 'even_or_odd_num': 6311, 'every_alternate_char': 6312, 'every_nth': 6313, 'every_nth_number': 6314, 'every_other_number': 6315, 'exception_simulator': 6316, 'execute_python_code': 6317, 'extend_list_without_append': 6318, 'extract_characters': 6319, 'extract_mailid': 6320, 'extract_not_alpha': 6321, 'extract_unicode': 6322, 'f\"2^{i} = {result[i]}\"': 6323, 'f\"Ascii value of character {character} is : \"': 6324, 'f\"Code to be writen here above to act as per accling object of call\"': 6325, 'f\"Compound interest is {CI}\"': 6326, 'f\"Current date and time : {time}\"': 6327, 'f\"Dictionary is {res}\"': 6328, 'f\"Distance in Inches:{d_inches}\\\\nDistance in Yards :{d_yards}\\\\nDistance in Miles :{d_miles}\"': 6329, 'f\"Filtered Matrix {res}\"': 6330, 'f\"From : {ed}, To : {self.graph[ed]}\"': 6331, 'f\"LCM : {l}, HCF: {h}\"': 6332, 'f\"Last occurrence of Emma starts at {index}\"': 6333, 'f\"List after conversion from string : {res}\"': 6334, 'f\"Negative number\"': 6335, 'f\"New list to upper case:{newlist}\"': 6336, 'f\"Numbers divisible by 15 are {result}\"': 6337, 'f\"Numbers divisible by {num} are {result}\"': 6338, 'f\"Original String is: {str1}\"': 6339, 'f\"Positive number\"': 6340, 'f\"Round off value : {round(51.6)}\"': 6341, 'f\"Round off value : {round(integer , -1)}\"': 6342, 'f\"Simple Interest : {(principal*rate*time/100)}\"': 6343, 'f\"Sorted array is: {arr}\"': 6344, 'f\"Sorted array {A}\"': 6345, 'f\"Sorted array {arr}\"': 6346, 'f\"The dictionary after remove is : {test_dict}\"': 6347, 'f\"The dictionary before performing remove is : {test_dict}\"': 6348, 'f\"The distance between {p1} and {p2} is {distance}\"': 6349, 'f\"The extension of the file is :{repr(f_extns[-1])}\"': 6350, 'f\"The factorial of {num} is {factorial}\"': 6351, 'f\"The factors of {x} are:\"': 6352, 'f\"The list after conversion is : {res}\"': 6353, 'f\"The next key is : {res}\"': 6354, 'f\"The number of lowercase characters is:{count}\"': 6355, 'f\"The number of words in string are : {res}\"': 6356, 'f\"The number of words in string are :{str(res)}\"': 6357, 'f\"The original dictionary is : {str(dict1)}\"': 6358, 'f\"The original list is :{test_list} \"': 6359, 'f\"The original string is :{str1}\"': 6360, 'f\"The resolution of the image is {width}x{height}\"': 6361, 'f\"The sliced list is :{str(res)} \"': 6362, 'f\"The sorted dictionary : {str(res)}\"': 6363, 'f\"The strings after replacement : {str1}\"': 6364, 'f\"The total terms are: {terms}\"': 6365, 'f\"The unique values list is : {res}\"': 6366, 'f\"There are {Counter} number of lines in the file\"': 6367, 'f\"Tuple after conversion : {res}\"': 6368, 'f\"Volume={V}\"': 6369, 'f\"Zero\"': 6370, 'f\"json dict : {json_dict}\"': 6371, 'f\"the average score is:  {average} \"': 6372, 'f\"{c}\"': 6373, 'f\"{dedup}\"': 6374, 'f\"{dict_comp}\"': 6375, 'f\"{final_prices}\"': 6376, 'f\"{h_letters}\"': 6377, 'f\"{i} times {num//i} is {num}\"': 6378, 'f\"{key_list}\"': 6379, 'f\"{no_} is an Armstrong number\"': 6380, 'f\"{no_} is not an Armstrong number\"': 6381, 'f\"{num} is Even\"': 6382, 'f\"{num} is Odd\"': 6383, 'f\"{num} is a prime number\"': 6384, 'f\"{num} is not a prime number\"': 6385, 'f\"{num} x {i} = {num*i}\"': 6386, 'f\"{n} times {m} is {n*m}\"': 6387, 'f\"{p // 10 ** 10}\"': 6388, 'f\"{person}\\'s favorite color is {color}\"': 6389, 'f\"{prices}\"': 6390, 'f\"{rand_num}\"': 6391, 'f\"{sum_all}\"': 6392, 'f\"{sum}\"': 6393, 'f\"{sys.version}\"': 6394, 'f\"{time.time()}\"': 6395, 'f\"{transposed}\"': 6396, \"f' String representation of an object'\": 6397, \"f' repr representation of an object with parameter {self.msg}'\": 6398, \"f' string after flattening is {s}'\": 6399, \"f'({seen[name]})'\": 6400, \"f'Absolute of {num} is {abs(num)}'\": 6401, \"f'After appending with new value:{a_dict}'\": 6402, \"f'After swapping: x: {x}, y: {y}'\": 6403, \"f'Before swapping: x: {x}, y: {y}'\": 6404, \"f'Data: {data}'\": 6405, \"f'Difference: {difference}'\": 6406, \"f'Dissimilar element tuple is {c}'\": 6407, \"f'Final t mem-add = {id(t)}'\": 6408, \"f'Given substring count is :{count}'\": 6409, \"f'Initial t mem-add = {id(t)}'\": 6410, \"f'Inner function x is {x}'\": 6411, \"f'List after removing string from tuple is {s}'\": 6412, \"f'List of Even Numbers:'\": 6413, \"f'List of Odd Numbers:'\": 6414, \"f'Message at {dt} was {msg}'\": 6415, \"f'Missing number is {55-sum(l)}'\": 6416, \"f'No of days between {f_date} and {l_date} is:{delta.days}'\": 6417, \"f'OS: {os.name}\\\\n Platform: {platform.system}'\": 6418, \"f'Resultant list is {res_list}'\": 6419, \"f'Simple interest is {si}'\": 6420, \"f'Sum all the items in a dictionary:{sum(my_dict.values())}'\": 6421, \"f'Summation of string values is {len(s)}'\": 6422, 'f\\'The binary of {num} is {bin(num).replace(\"0b\",\"\")}\\'': 6423, \"f'There are {number_files} file in the directory'\": 6424, \"f'This is an f string with user paramter {msg}'\": 6425, \"f'Total Marks is:{totalMarks},Percentage is:{percentage}'\": 6426, \"f'assending_order_list: {new_list}'\": 6427, \"f'convert lowercase to uppercase:{a.lower()}'\": 6428, \"f'convert lowercase to uppercase:{a.upper()}'\": 6429, \"f'count of element till first tuple is {count}'\": 6430, \"f'count of element till tuple is encountered {count}'\": 6431, \"f'count:{length}'\": 6432, \"f'create multiple list:{obj}'\": 6433, \"f'decending_order_list: {new_list}'\": 6434, \"f'dictionary:{d}'\": 6435, \"f'dup_items:{dup_items}'\": 6436, \"f'f-string is an good feature in {var1}'\": 6437, \"f'length of sample_list is {len(sample_list)}'\": 6438, \"f'list : {rand}'\": 6439, \"f'list:{list(t)}'\": 6440, \"f'lsit_key_value:{list_key_value}'\": 6441, \"f'mapped numbers:{list(squared)}'\": 6442, \"f'max_num_in_list [1, 10, -8, 0], Ans:{max_num_in_list([1, 10, -8, 0])}'\": 6443, \"f'merge two dictionaries:{d}'\": 6444, \"f'merged list/flatten:{new_merged_list}'\": 6445, \"f'message at {dt} was {msg}'\": 6446, \"f'modulo 15 % 4: Sol->{15 % 4}'\": 6447, \"f'number of spaces {count}'\": 6448, \"f'outer function x is {x}'\": 6449, \"f'product: {product}'\": 6450, \"f'reverese the given list elements:{list1[::-1]}'\": 6451, \"f'reversed list: {rev_list}'\": 6452, \"f'sorted list is {sorted_list}'\": 6453, \"f'sum : {l1 + l2}'\": 6454, \"f'sum: {sum([total + x for x in [1, 2, 3, 4, 5]])}'\": 6455, \"f'the largest element in the array is {max(arr)}'\": 6456, \"f'the sorted list inside tuple is {s}'\": 6457, \"f'tuple length: {len(t)}'\": 6458, \"f'tuple:{tuple(l)}'\": 6459, \"f'{[item.upper() for item in mylis]}'\": 6460, \"f'{a} and {b} is interned by Python'\": 6461, \"f'{a} and {b} is not interned by Python'\": 6462, \"f'{celsius} degree Celsius is equal to {fahrenheit} degree Fahrenheit'\": 6463, \"f'{fn.__name__} is called at {dt} with {args} {kwargs} '\": 6464, \"f'{fn} is function {isfunction(func)}'\": 6465, \"f'{fn} is method {ismethod(func)}'\": 6466, \"f'{max_check([2,4,5,7,98])}'\": 6467, \"f'{min_check([2,4,5,7,98])}'\": 6468, \"f'{no_}x{i}={no_*i}'\": 6469, \"f'{row}'\": 6470, \"f'{s} is  present in the list'\": 6471, 'f_extns': 6472, 'f_string': 6473, 'fabs': 6474, 'faizu': 6475, 'fermat_seq': 6476, 'ffill': 6477, 'fiboacci_number_check': 6478, 'fibonacci_nth': 6479, 'fibonacci_recursive': 6480, 'file_read': 6481, 'file_read_from_head': 6482, 'filename_extension': 6483, 'final_grades': 6484, 'final_prices': 6485, 'final_result': 6486, 'findMinSum': 6487, 'findRotations': 6488, 'findTargetSumWays': 6489, 'find_move_files': 6490, 'find_product': 6491, 'find_second_maximum': 6492, 'find_the_largest': 6493, 'find_the_median': 6494, 'findevenlenthwords': 6495, 'findlongest': 6496, 'findoddlenthwords': 6497, 'findpythagoreantriplets': 6498, 'first_last': 6499, 'first_repeated_char': 6500, 'first_repeated_word': 6501, 'flip_case': 6502, 'float_equality_testing': 6503, 'following': 6504, 'fractions': 6505, 'from_address': 6506, 'frozenset': 6507, 'func1': 6508, 'gen_fails': 6509, 'gen_ran_int_number': 6510, 'generateParenthesis': 6511, 'generate_tf': 6512, 'getFolderNames': 6513, 'getLogger': 6514, 'getSum': 6515, 'get_India_time': 6516, 'get_attributes_from_date': 6517, 'get_cwd': 6518, 'get_dummies': 6519, 'get_encoding': 6520, 'get_env_path': 6521, 'get_exponential_value': 6522, 'get_filesize_for_dir': 6523, 'get_info': 6524, 'get_list_length': 6525, 'get_max_integer': 6526, 'get_max_profit': 6527, 'get_prime_numbers': 6528, 'get_random_combination': 6529, 'get_slope': 6530, 'get_sqrt': 6531, 'get_status': 6532, 'get_type': 6533, 'get_userinput': 6534, 'getenv': 6535, 'getuser': 6536, 'give_day': 6537, 'gloabl_use': 6538, 'grayCode': 6539, 'greet': 6540, 'hasConsecutiveZeroes': 6541, 'has_palindrome_permutation': 6542, 'hash': 6543, 'hash_file': 6544, 'have_same_contents': 6545, 'heap_sort': 6546, 'height_converter': 6547, 'height_into_cms': 6548, 'help': 6549, 'hexadecimalToDecimal': 6550, 'hours_to_seconds': 6551, 'htness_4': 6552, 'ifPalindrome': 6553, 'in_func': 6554, 'in_func1': 6555, 'inches_to_feet': 6556, 'inner_show': 6557, 'insertFront': 6558, 'insertRear': 6559, 'inspect_func': 6560, 'int_to_binary': 6561, 'integer': 6562, 'isArmstrong': 6563, 'isMagic': 6564, 'isMonotonic': 6565, 'isPerfect': 6566, 'isPossibleDivide': 6567, 'isTriangleExists': 6568, 'isValid': 6569, 'isValidSudoku': 6570, 'is_even': 6571, 'is_key_present': 6572, 'is_leap_year': 6573, 'is_odd': 6574, 'is_perfect': 6575, 'is_valid_triangle_angle': 6576, 'is_valid_triangle_length': 6577, 'isdisjoint': 6578, 'isfunction': 6579, 'isidentifier': 6580, 'isin': 6581, 'isleap': 6582, 'ismethod': 6583, 'isocalendar': 6584, 'isoformat': 6585, 'ispalin': 6586, 'isprime': 6587, 'isprintable': 6588, 'item_exists': 6589, 'iterate': 6590, 'join_filename': 6591, 'json_dict': 6592, 'kabir': 6593, 'key_list': 6594, 'kgs_to_pounds': 6595, 'labels': 6596, 'leapYear': 6597, 'len_str': 6598, 'letter_mirror': 6599, 'linear_interpolate': 6600, 'list2tuple': 6601, 'list_concat': 6602, 'list_files': 6603, 'list_is_empty': 6604, 'list_key_value': 6605, 'list_of_tuple': 6606, 'list_tuple': 6607, 'literal_eval': 6608, 'log10': 6609, 'longestWord': 6610, 'longest_continuous_odd_subsequence': 6611, 'longest_increaing_subsequence': 6612, 'lucas_numbers': 6613, 'maths_tables': 6614, 'matrixT': 6615, 'matrix_rank': 6616, 'max2': 6617, 'maxPrimeFactors': 6618, 'maxSubArray': 6619, 'max_check': 6620, 'max_len_str': 6621, 'max_num_in_list': 6622, 'merge_ranges': 6623, 'microsecond': 6624, 'midpoint': 6625, 'miles_to_kms': 6626, 'minDistance': 6627, 'minSumOfLengths': 6628, 'min_check': 6629, 'minimumDistance': 6630, 'mirror_character': 6631, 'mkdir': 6632, 'modify_tuple': 6633, 'monthrange': 6634, 'move': 6635, 'moves': 6636, 'mul_two_numbers': 6637, 'multiplication_table': 6638, 'multiply_all': 6639, 'myPow': 6640, 'my_class': 6641, 'mylis': 6642, 'nCr': 6643, 'nPr': 6644, 'nargs': 6645, 'nearest_square': 6646, 'new_merged_list': 6647, 'next_edge': 6648, 'no_to_fraction': 6649, 'norm': 6650, 'normal': 6651, 'not_poor': 6652, 'nth_prime_number': 6653, 'num_of_words': 6654, 'number_files': 6655, 'number_of_frames': 6656, 'octalToDecimal': 6657, 'oddEvenSort': 6658, 'odd_numbers': 6659, 'oddeven': 6660, 'of': 6661, 'orgin': 6662, 'original': 6663, 'other_int': 6664, 'overdrawn': 6665, 'pad_number': 6666, 'palindrome': 6667, 'palindrome_str_check': 6668, 'perimeterRectangle': 6669, 'periods': 6670, 'person': 6671, 'plane': 6672, 'pluck': 6673, 'polar': 6674, 'popitem': 6675, 'powered_list': 6676, 'primeFactors': 6677, 'printEvenLengthWords': 6678, 'print_all_armstrong': 6679, 'print_alternate_numbers': 6680, 'print_dict_keys_val_1': 6681, 'print_dict_keys_val_2': 6682, 'print_dict_keys_val_3': 6683, 'print_dict_keys_val_4': 6684, 'print_iter': 6685, 'print_loop_with_delay': 6686, 'print_miss_num': 6687, 'print_n': 6688, 'print_numbers': 6689, 'print_so': 6690, 'print_time': 6691, 'printname': 6692, 'prism_surface_area': 6693, 'prism_volume': 6694, 'profane_filter': 6695, 'prog': 6696, 'program': 6697, 'put': 6698, 'pyramid_surface_area': 6699, 'pyramid_volume': 6700, 'qcut': 6701, \"r'[\\\\w]+@[\\\\w]+\\\\.[\\\\w]+'\": 6702, \"r'[^\\\\W\\\\d_]+'\": 6703, \"r'[a-z]+'\": 6704, \"r'\\\\d\\\\d\\\\d\\\\d\\\\d\\\\d\\\\d\\\\d\\\\d\\\\d\\\\d\\\\d'\": 6705, \"r'\\\\w+'\": 6706, \"r'hello\\\\n'\": 6707, 'rads_to_degrees': 6708, 'rand_num': 6709, 'rand_range': 6710, 'rand_run_name': 6711, 'random_number': 6712, 'random_shot': 6713, 'read_csv_length': 6714, 'read_data': 6715, 'rearrange': 6716, 'rec_prism_surface_area': 6717, 'rec_prism_volume': 6718, 'rectangle_perimeter': 6719, 'ref_count': 6720, 'relu_like_activation': 6721, 'remove_dic_value': 6722, 'remove_duplicate': 6723, 'remove_duplicate_words': 6724, 'remove_empty_list': 6725, 'remove_empty_tuple': 6726, 'remove_even': 6727, 'remove_last_element_list': 6728, 'remove_newline': 6729, 'remove_odd': 6730, 'remove_punct': 6731, 'remove_spaces': 6732, 'remove_spaces_from_string': 6733, 'replacestring': 6734, 'replacetext': 6735, 'replacewith_K': 6736, 'reset_index': 6737, 'reshape': 6738, 'ret_hcf': 6739, 'ret_lcm': 6740, 'retrieve_files_bydate': 6741, 'retrieve_files_sort_bydate': 6742, 'retrieve_last_files': 6743, 'retrieve_random_file': 6744, 'return_exponential': 6745, 'return_last': 6746, 'return_length': 6747, 'return_punct': 6748, 'rev_list': 6749, 'reverse_string_words': 6750, 'reverse_word': 6751, 'rgb_to_hex': 6752, 'rightLength': 6753, 'right_rotate': 6754, 'second_large_num': 6755, 'sen_to_tuple': 6756, 'seperate_pn': 6757, 'session1': 6758, 'session2': 6759, 'setattr': 6760, 'sha1': 6761, 'show_doc_named': 6762, 'show_gen_fast': 6763, 'show_ins_tup': 6764, 'show_local': 6765, 'shown': 6766, 'sigmoid_activation': 6767, 'similarity': 6768, 'simp_int': 6769, 'simpleIntereset': 6770, 'slice_a_tuple': 6771, 'snake': 6772, 'snum1': 6773, 'soreted_list': 6774, 'sort_by_indexes': 6775, 'sort_by_len': 6776, 'sort_dict_by_key': 6777, 'sort_dict_by_value': 6778, 'sort_insertion': 6779, 'sortlistwithlen': 6780, 'sortwords': 6781, 'speed_converter': 6782, 'sphere_volume': 6783, 'split_filename': 6784, 'sq': 6785, 'square2': 6786, 'squareRoot': 6787, 'square_cube': 6788, 'square_perimeter': 6789, 'squared': 6790, 'sriju': 6791, 'sstring': 6792, 'st_dev': 6793, 'star_number': 6794, 'starting': 6795, 'stat': 6796, 'status_code': 6797, 'stella_octangula_number': 6798, 'stopping_station': 6799, 'store_ipl_date': 6800, 'str_to_intern_str': 6801, 'str_to_list': 6802, 'string_split_at_space': 6803, 'strip_vowel_str': 6804, 'sub_two_numbers': 6805, 'sum_n_num': 6806, 'sum_natural': 6807, 'sum_nums': 6808, 'sum_of_ints': 6809, 'sum_of_powers': 6810, 'sum_upto_one': 6811, 'super': 6812, 'swapcase': 6813, 'system': 6814, 'test_prime': 6815, 'time_calc': 6816, 'time_elsaped': 6817, 'timezone': 6818, 'tm_hour': 6819, 'tmrw_yest_time': 6820, 'to': 6821, 'to_binary': 6822, 'to_frame': 6823, 'to_iso_date': 6824, 'to_lower': 6825, 'to_roman_numeral': 6826, 'to_upper': 6827, 'tokenise': 6828, 'toss': 6829, 'touch': 6830, 'toward': 6831, 'transpose': 6832, 'triangle_numbers': 6833, 'tu': 6834, 'tuple_lenght': 6835, 'two_power': 6836, 'union_of_sets': 6837, 'union_set': 6838, 'unique_tokens': 6839, 'universal_func': 6840, 'unpack_tuple': 6841, 'unzip_list_of_tuples': 6842, 'update_dictionary': 6843, 'value_counts': 6844, 'values_only': 6845, 'var1': 6846, 'version_info': 6847, 'vol_tetra': 6848, 'volumeOfEllipsoid': 6849, 'vowel_remover': 6850, 'weekday': 6851, 'weighted_average': 6852, 'winner': 6853, 'withdraw': 6854, 'woodall_number': 6855, 'word_counter': 6856, 'yield_a_number': 6857, 'zip_list': 6858, 'zip_to_tuple': 6859, 'zodiac_sign': 6860})\n"
          ],
          "name": "stdout"
        }
      ]
    },
    {
      "cell_type": "code",
      "metadata": {
        "id": "ZtH7yV0k4VYe"
      },
      "source": [
        ""
      ],
      "execution_count": 40,
      "outputs": []
    },
    {
      "cell_type": "code",
      "metadata": {
        "id": "Zfo2QhGJUK4l"
      },
      "source": [
        "device = torch.device(\"cuda\" if torch.cuda.is_available() else \"cpu\")"
      ],
      "execution_count": 41,
      "outputs": []
    },
    {
      "cell_type": "code",
      "metadata": {
        "id": "zK2ORoqdTNsM"
      },
      "source": [
        "train_iterator, valid_iterator = data.BucketIterator.splits((train_data, valid_data), batch_size = 32, \n",
        "                                                            sort_key = lambda z: len(z.queue),\n",
        "                                                            sort_within_batch=True, device = device)"
      ],
      "execution_count": 42,
      "outputs": []
    },
    {
      "cell_type": "code",
      "metadata": {
        "id": "H6Mymrtz9oOo"
      },
      "source": [
        ""
      ],
      "execution_count": 42,
      "outputs": []
    },
    {
      "cell_type": "code",
      "metadata": {
        "id": "niE9Cc6-2bD_"
      },
      "source": [
        "import os, pickle\n",
        "with open('tokenizer.pkl', 'wb') as tokens: \n",
        "    pickle.dump(snippet.vocab.stoi, tokens)"
      ],
      "execution_count": 43,
      "outputs": []
    },
    {
      "cell_type": "code",
      "metadata": {
        "id": "cgTxHeAvl3Er"
      },
      "source": [
        "import torch\r\n",
        "import torch.nn as nn\r\n",
        "import torch.optim as optim\r\n",
        "\r\n",
        "import torchtext\r\n",
        "from torchtext.legacy.data import Field, BucketIterator\r\n",
        "\r\n",
        "import matplotlib.pyplot as plt\r\n",
        "import matplotlib.ticker as ticker\r\n",
        "\r\n",
        "import spacy\r\n",
        "import numpy as np\r\n",
        "\r\n",
        "import random\r\n",
        "import math\r\n",
        "import time"
      ],
      "execution_count": 44,
      "outputs": []
    },
    {
      "cell_type": "code",
      "metadata": {
        "id": "NE6JimgOCz-w"
      },
      "source": [
        "class Encoder(nn.Module):\r\n",
        "    def __init__(self, \r\n",
        "                 input_dim, \r\n",
        "                 hid_dim, \r\n",
        "                 n_layers, \r\n",
        "                 n_heads, \r\n",
        "                 pf_dim,\r\n",
        "                 dropout, \r\n",
        "                 device,\r\n",
        "                 max_length = 100):\r\n",
        "        super().__init__()\r\n",
        "\r\n",
        "        self.device = device\r\n",
        "        \r\n",
        "        self.tok_embedding = nn.Embedding(input_dim, hid_dim)\r\n",
        "        self.pos_embedding = nn.Embedding(max_length, hid_dim)\r\n",
        "        \r\n",
        "        self.layers = nn.ModuleList([EncoderLayer(hid_dim, \r\n",
        "                                                  n_heads, \r\n",
        "                                                  pf_dim,\r\n",
        "                                                  dropout, \r\n",
        "                                                  device) \r\n",
        "                                     for _ in range(n_layers)])\r\n",
        "        \r\n",
        "        self.dropout = nn.Dropout(dropout)\r\n",
        "        \r\n",
        "        self.scale = torch.sqrt(torch.FloatTensor([hid_dim])).to(device)\r\n",
        "        \r\n",
        "    def forward(self, src, src_mask):\r\n",
        "        \r\n",
        "        #src = [batch size, src len]\r\n",
        "        #src_mask = [batch size, 1, 1, src len]\r\n",
        "        \r\n",
        "        batch_size = src.shape[0]\r\n",
        "        src_len = src.shape[1]\r\n",
        "        \r\n",
        "        pos = torch.arange(0, src_len).unsqueeze(0).repeat(batch_size, 1).to(self.device)\r\n",
        "        \r\n",
        "        #pos = [batch size, src len]\r\n",
        "        \r\n",
        "        src = self.dropout((self.tok_embedding(src) * self.scale) + self.pos_embedding(pos))\r\n",
        "        \r\n",
        "        #src = [batch size, src len, hid dim]\r\n",
        "        \r\n",
        "        for layer in self.layers:\r\n",
        "            src = layer(src, src_mask)\r\n",
        "            \r\n",
        "        #src = [batch size, src len, hid dim]\r\n",
        "            \r\n",
        "        return src"
      ],
      "execution_count": 45,
      "outputs": []
    },
    {
      "cell_type": "code",
      "metadata": {
        "id": "2LheiXWVFDEg"
      },
      "source": [
        "class EncoderLayer(nn.Module):\r\n",
        "    def __init__(self, \r\n",
        "                 hid_dim, \r\n",
        "                 n_heads, \r\n",
        "                 pf_dim,  \r\n",
        "                 dropout, \r\n",
        "                 device):\r\n",
        "        super().__init__()\r\n",
        "        \r\n",
        "        self.self_attn_layer_norm = nn.LayerNorm(hid_dim)\r\n",
        "        self.ff_layer_norm = nn.LayerNorm(hid_dim)\r\n",
        "        self.self_attention = MultiHeadAttentionLayer(hid_dim, n_heads, dropout, device)\r\n",
        "        self.positionwise_feedforward = PositionwiseFeedforwardLayer(hid_dim, \r\n",
        "                                                                     pf_dim, \r\n",
        "                                                                     dropout)\r\n",
        "        self.dropout = nn.Dropout(dropout)\r\n",
        "        \r\n",
        "    def forward(self, src, src_mask):\r\n",
        "        \r\n",
        "        #src = [batch size, src len, hid dim]\r\n",
        "        #src_mask = [batch size, 1, 1, src len] \r\n",
        "                \r\n",
        "        #self attention\r\n",
        "        _src, _ = self.self_attention(src, src, src, src_mask)\r\n",
        "        \r\n",
        "        #dropout, residual connection and layer norm\r\n",
        "        src = self.self_attn_layer_norm(src + self.dropout(_src))\r\n",
        "        \r\n",
        "        #src = [batch size, src len, hid dim]\r\n",
        "        \r\n",
        "        #positionwise feedforward\r\n",
        "        _src = self.positionwise_feedforward(src)\r\n",
        "        \r\n",
        "        #dropout, residual and layer norm\r\n",
        "        src = self.ff_layer_norm(src + self.dropout(_src))\r\n",
        "        \r\n",
        "        #src = [batch size, src len, hid dim]\r\n",
        "        \r\n",
        "        return src"
      ],
      "execution_count": 46,
      "outputs": []
    },
    {
      "cell_type": "code",
      "metadata": {
        "id": "ZZmeHfGhGzkN"
      },
      "source": [
        "class MultiHeadAttentionLayer(nn.Module):\r\n",
        "    def __init__(self, hid_dim, n_heads, dropout, device):\r\n",
        "        super().__init__()\r\n",
        "        \r\n",
        "        assert hid_dim % n_heads == 0\r\n",
        "        \r\n",
        "        self.hid_dim = hid_dim\r\n",
        "        self.n_heads = n_heads\r\n",
        "        self.head_dim = hid_dim // n_heads\r\n",
        "        \r\n",
        "        self.fc_q = nn.Linear(hid_dim, hid_dim)\r\n",
        "        self.fc_k = nn.Linear(hid_dim, hid_dim)\r\n",
        "        self.fc_v = nn.Linear(hid_dim, hid_dim)\r\n",
        "        \r\n",
        "        self.fc_o = nn.Linear(hid_dim, hid_dim)\r\n",
        "        \r\n",
        "        self.dropout = nn.Dropout(dropout)\r\n",
        "        \r\n",
        "        self.scale = torch.sqrt(torch.FloatTensor([self.head_dim])).to(device)\r\n",
        "        \r\n",
        "    def forward(self, query, key, value, mask = None):\r\n",
        "        \r\n",
        "        batch_size = query.shape[0]\r\n",
        "        \r\n",
        "        #query = [batch size, query len, hid dim]\r\n",
        "        #key = [batch size, key len, hid dim]\r\n",
        "        #value = [batch size, value len, hid dim]\r\n",
        "                \r\n",
        "        Q = self.fc_q(query)\r\n",
        "        K = self.fc_k(key)\r\n",
        "        V = self.fc_v(value)\r\n",
        "        \r\n",
        "        #Q = [batch size, query len, hid dim]\r\n",
        "        #K = [batch size, key len, hid dim]\r\n",
        "        #V = [batch size, value len, hid dim]\r\n",
        "                \r\n",
        "        Q = Q.view(batch_size, -1, self.n_heads, self.head_dim).permute(0, 2, 1, 3)\r\n",
        "        K = K.view(batch_size, -1, self.n_heads, self.head_dim).permute(0, 2, 1, 3)\r\n",
        "        V = V.view(batch_size, -1, self.n_heads, self.head_dim).permute(0, 2, 1, 3)\r\n",
        "        \r\n",
        "        #Q = [batch size, n heads, query len, head dim]\r\n",
        "        #K = [batch size, n heads, key len, head dim]\r\n",
        "        #V = [batch size, n heads, value len, head dim]\r\n",
        "                \r\n",
        "        energy = torch.matmul(Q, K.permute(0, 1, 3, 2)) / self.scale\r\n",
        "        \r\n",
        "        #energy = [batch size, n heads, query len, key len]\r\n",
        "        \r\n",
        "        if mask is not None:\r\n",
        "            energy = energy.masked_fill(mask == 0, -1e10)\r\n",
        "        \r\n",
        "        attention = torch.softmax(energy, dim = -1)\r\n",
        "                \r\n",
        "        #attention = [batch size, n heads, query len, key len]\r\n",
        "                \r\n",
        "        x = torch.matmul(self.dropout(attention), V)\r\n",
        "        \r\n",
        "        #x = [batch size, n heads, query len, head dim]\r\n",
        "        \r\n",
        "        x = x.permute(0, 2, 1, 3).contiguous()\r\n",
        "        \r\n",
        "        #x = [batch size, query len, n heads, head dim]\r\n",
        "        \r\n",
        "        x = x.view(batch_size, -1, self.hid_dim)\r\n",
        "        \r\n",
        "        #x = [batch size, query len, hid dim]\r\n",
        "        \r\n",
        "        x = self.fc_o(x)\r\n",
        "        \r\n",
        "        #x = [batch size, query len, hid dim]\r\n",
        "        \r\n",
        "        return x, attention"
      ],
      "execution_count": 47,
      "outputs": []
    },
    {
      "cell_type": "code",
      "metadata": {
        "id": "R9w9xDUKL7LU"
      },
      "source": [
        "class PositionwiseFeedforwardLayer(nn.Module):\r\n",
        "    def __init__(self, hid_dim, pf_dim, dropout):\r\n",
        "        super().__init__()\r\n",
        "        \r\n",
        "        self.fc_1 = nn.Linear(hid_dim, pf_dim)\r\n",
        "        self.fc_2 = nn.Linear(pf_dim, hid_dim)\r\n",
        "        \r\n",
        "        self.dropout = nn.Dropout(dropout)\r\n",
        "        \r\n",
        "    def forward(self, x):\r\n",
        "        \r\n",
        "        #x = [batch size, seq len, hid dim]\r\n",
        "        \r\n",
        "        x = self.dropout(torch.relu(self.fc_1(x)))\r\n",
        "        \r\n",
        "        #x = [batch size, seq len, pf dim]\r\n",
        "        \r\n",
        "        x = self.fc_2(x)\r\n",
        "        \r\n",
        "        #x = [batch size, seq len, hid dim]\r\n",
        "        \r\n",
        "        return x"
      ],
      "execution_count": 48,
      "outputs": []
    },
    {
      "cell_type": "code",
      "metadata": {
        "id": "iWBMMF45MMNS"
      },
      "source": [
        "class Decoder(nn.Module):\r\n",
        "    def __init__(self, \r\n",
        "                 output_dim, \r\n",
        "                 hid_dim, \r\n",
        "                 n_layers, \r\n",
        "                 n_heads, \r\n",
        "                 pf_dim, \r\n",
        "                 dropout, \r\n",
        "                 device,\r\n",
        "                 max_length = 450):\r\n",
        "        super().__init__()\r\n",
        "        \r\n",
        "        self.device = device\r\n",
        "        \r\n",
        "        self.tok_embedding = nn.Embedding(output_dim, hid_dim)\r\n",
        "        self.pos_embedding = nn.Embedding(max_length, hid_dim)\r\n",
        "        \r\n",
        "        self.layers = nn.ModuleList([DecoderLayer(hid_dim, \r\n",
        "                                                  n_heads, \r\n",
        "                                                  pf_dim, \r\n",
        "                                                  dropout, \r\n",
        "                                                  device)\r\n",
        "                                     for _ in range(n_layers)])\r\n",
        "        \r\n",
        "        self.fc_out = nn.Linear(hid_dim, output_dim)\r\n",
        "        \r\n",
        "        self.dropout = nn.Dropout(dropout)\r\n",
        "        \r\n",
        "        self.scale = torch.sqrt(torch.FloatTensor([hid_dim])).to(self.device)\r\n",
        "        \r\n",
        "    def forward(self, trg, enc_src, trg_mask, src_mask):\r\n",
        "        \r\n",
        "        #trg = [batch size, trg len]\r\n",
        "        #enc_src = [batch size, src len, hid dim]\r\n",
        "        #trg_mask = [batch size, 1, trg len, trg len]\r\n",
        "        #src_mask = [batch size, 1, 1, src len]\r\n",
        "                \r\n",
        "        batch_size = trg.shape[0]\r\n",
        "        trg_len = trg.shape[1]\r\n",
        "        \r\n",
        "        pos = torch.arange(0, trg_len).unsqueeze(0).repeat(batch_size, 1).to(self.device)\r\n",
        "                            \r\n",
        "        #pos = [batch size, trg len]\r\n",
        "            \r\n",
        "        trg = self.dropout((self.tok_embedding(trg) * self.scale) + self.pos_embedding(pos))\r\n",
        "        # print(\"deeeeeeeeeeeeeeeeeeeeeeeeeeecoder here\")\r\n",
        "        #trg = [batch size, trg len, hid dim]\r\n",
        "        \r\n",
        "        for layer in self.layers:\r\n",
        "            trg, attention = layer(trg, enc_src, trg_mask, src_mask)\r\n",
        "        \r\n",
        "        #trg = [batch size, trg len, hid dim]\r\n",
        "        #attention = [batch size, n heads, trg len, src len]\r\n",
        "        \r\n",
        "        output = self.fc_out(trg)\r\n",
        "        \r\n",
        "        #output = [batch size, trg len, output dim]\r\n",
        "            \r\n",
        "        return output, attention"
      ],
      "execution_count": 49,
      "outputs": []
    },
    {
      "cell_type": "code",
      "metadata": {
        "id": "CMEr1IFUMxco"
      },
      "source": [
        "class DecoderLayer(nn.Module):\r\n",
        "    def __init__(self, \r\n",
        "                 hid_dim, \r\n",
        "                 n_heads, \r\n",
        "                 pf_dim, \r\n",
        "                 dropout, \r\n",
        "                 device):\r\n",
        "        super().__init__()\r\n",
        "        \r\n",
        "        self.self_attn_layer_norm = nn.LayerNorm(hid_dim)\r\n",
        "        self.enc_attn_layer_norm = nn.LayerNorm(hid_dim)\r\n",
        "        self.ff_layer_norm = nn.LayerNorm(hid_dim)\r\n",
        "        self.self_attention = MultiHeadAttentionLayer(hid_dim, n_heads, dropout, device)\r\n",
        "        self.encoder_attention = MultiHeadAttentionLayer(hid_dim, n_heads, dropout, device)\r\n",
        "        self.positionwise_feedforward = PositionwiseFeedforwardLayer(hid_dim, \r\n",
        "                                                                     pf_dim, \r\n",
        "                                                                     dropout)\r\n",
        "        self.dropout = nn.Dropout(dropout)\r\n",
        "        \r\n",
        "    def forward(self, trg, enc_src, trg_mask, src_mask):\r\n",
        "        \r\n",
        "        #trg = [batch size, trg len, hid dim]\r\n",
        "        #enc_src = [batch size, src len, hid dim]\r\n",
        "        #trg_mask = [batch size, 1, trg len, trg len]\r\n",
        "        #src_mask = [batch size, 1, 1, src len]\r\n",
        "        \r\n",
        "        #self attention\r\n",
        "        _trg, _ = self.self_attention(trg, trg, trg, trg_mask)\r\n",
        "        \r\n",
        "        #dropout, residual connection and layer norm\r\n",
        "        trg = self.self_attn_layer_norm(trg + self.dropout(_trg))\r\n",
        "            \r\n",
        "        #trg = [batch size, trg len, hid dim]\r\n",
        "            \r\n",
        "        #encoder attention\r\n",
        "        _trg, attention = self.encoder_attention(trg, enc_src, enc_src, src_mask)\r\n",
        "        # query, key, value\r\n",
        "        \r\n",
        "        #dropout, residual connection and layer norm\r\n",
        "        trg = self.enc_attn_layer_norm(trg + self.dropout(_trg))\r\n",
        "                    \r\n",
        "        #trg = [batch size, trg len, hid dim]\r\n",
        "        \r\n",
        "        #positionwise feedforward\r\n",
        "        _trg = self.positionwise_feedforward(trg)\r\n",
        "        \r\n",
        "        #dropout, residual and layer norm\r\n",
        "        trg = self.ff_layer_norm(trg + self.dropout(_trg))\r\n",
        "        \r\n",
        "        #trg = [batch size, trg len, hid dim]\r\n",
        "        #attention = [batch size, n heads, trg len, src len]\r\n",
        "        \r\n",
        "        return trg, attention"
      ],
      "execution_count": 50,
      "outputs": []
    },
    {
      "cell_type": "code",
      "metadata": {
        "id": "Dr3Mg8OGN6ul"
      },
      "source": [
        "class Seq2Seq(nn.Module):\r\n",
        "    def __init__(self, \r\n",
        "                 encoder, \r\n",
        "                 decoder, \r\n",
        "                 src_pad_idx, \r\n",
        "                 trg_pad_idx, \r\n",
        "                 device):\r\n",
        "        super().__init__()\r\n",
        "        \r\n",
        "        self.encoder = encoder\r\n",
        "        self.decoder = decoder\r\n",
        "        self.src_pad_idx = src_pad_idx\r\n",
        "        self.trg_pad_idx = trg_pad_idx\r\n",
        "        self.device = device\r\n",
        "        \r\n",
        "    def make_src_mask(self, src):\r\n",
        "        \r\n",
        "        #src = [batch size, src len]\r\n",
        "        \r\n",
        "        src_mask = (src != self.src_pad_idx).unsqueeze(1).unsqueeze(2)\r\n",
        "\r\n",
        "        #src_mask = [batch size, 1, 1, src len]\r\n",
        "\r\n",
        "        return src_mask\r\n",
        "    \r\n",
        "    def make_trg_mask(self, trg):\r\n",
        "        \r\n",
        "        #trg = [batch size, trg len]\r\n",
        "        \r\n",
        "        trg_pad_mask = (trg != self.trg_pad_idx).unsqueeze(1).unsqueeze(2)\r\n",
        "        \r\n",
        "        #trg_pad_mask = [batch size, 1, 1, trg len]\r\n",
        "        \r\n",
        "        trg_len = trg.shape[1]\r\n",
        "        \r\n",
        "        trg_sub_mask = torch.tril(torch.ones((trg_len, trg_len), device = self.device)).bool()\r\n",
        "        \r\n",
        "        #trg_sub_mask = [trg len, trg len]\r\n",
        "            \r\n",
        "        trg_mask = trg_pad_mask & trg_sub_mask\r\n",
        "        \r\n",
        "        #trg_mask = [batch size, 1, trg len, trg len]\r\n",
        "        \r\n",
        "        return trg_mask\r\n",
        "\r\n",
        "    def forward(self, src, trg):\r\n",
        "        \r\n",
        "        #src = [batch size, src len]\r\n",
        "        #trg = [batch size, trg len]\r\n",
        "                \r\n",
        "        src_mask = self.make_src_mask(src)\r\n",
        "        trg_mask = self.make_trg_mask(trg)\r\n",
        "        \r\n",
        "        #src_mask = [batch size, 1, 1, src len]\r\n",
        "        #trg_mask = [batch size, 1, trg len, trg len]\r\n",
        "        # print(\"mask_generated\")\r\n",
        "        enc_src = self.encoder(src, src_mask)\r\n",
        "        # print(\"encoded_info\")\r\n",
        "        #enc_src = [batch size, src len, hid dim]\r\n",
        "                \r\n",
        "        output, attention = self.decoder(trg, enc_src, trg_mask, src_mask)\r\n",
        "        # print(\"decoded_info\")\r\n",
        "        #output = [batch size, trg len, output dim]\r\n",
        "        #attention = [batch size, n heads, trg len, src len]\r\n",
        "        \r\n",
        "        return output, attention"
      ],
      "execution_count": 51,
      "outputs": []
    },
    {
      "cell_type": "code",
      "metadata": {
        "id": "4zsZjSSWOSHc"
      },
      "source": [
        "INPUT_DIM = len(queue.vocab)\r\n",
        "OUTPUT_DIM = len(snippet.vocab)\r\n",
        "HID_DIM = 128\r\n",
        "ENC_LAYERS = 3\r\n",
        "DEC_LAYERS = 3\r\n",
        "ENC_HEADS = 8\r\n",
        "DEC_HEADS = 8\r\n",
        "ENC_PF_DIM = 512\r\n",
        "DEC_PF_DIM = 512\r\n",
        "ENC_DROPOUT = 0.1\r\n",
        "DEC_DROPOUT = 0.1\r\n",
        "\r\n",
        "enc = Encoder(INPUT_DIM, \r\n",
        "              HID_DIM, \r\n",
        "              ENC_LAYERS, \r\n",
        "              ENC_HEADS, \r\n",
        "              ENC_PF_DIM, \r\n",
        "              ENC_DROPOUT, \r\n",
        "              device)\r\n",
        "\r\n",
        "dec = Decoder(OUTPUT_DIM, \r\n",
        "              HID_DIM, \r\n",
        "              DEC_LAYERS, \r\n",
        "              DEC_HEADS, \r\n",
        "              DEC_PF_DIM, \r\n",
        "              DEC_DROPOUT, \r\n",
        "              device)"
      ],
      "execution_count": 52,
      "outputs": []
    },
    {
      "cell_type": "code",
      "metadata": {
        "id": "hE1nNRm-8DEl"
      },
      "source": [
        "QUEUE_PAD_IDX = queue.vocab.stoi[queue.pad_token]\n",
        "SNIPPET_PAD_IDX = snippet.vocab.stoi[snippet.pad_token]\n",
        "\n",
        "model = Seq2Seq(enc, dec, QUEUE_PAD_IDX, SNIPPET_PAD_IDX, device).to(device)"
      ],
      "execution_count": 53,
      "outputs": []
    },
    {
      "cell_type": "code",
      "metadata": {
        "colab": {
          "base_uri": "https://localhost:8080/"
        },
        "id": "Qd0ePzj0OzLa",
        "outputId": "c4a778a7-f6a0-41b1-cc14-842caa289dc5"
      },
      "source": [
        "def count_parameters(model):\r\n",
        "    return sum(p.numel() for p in model.parameters() if p.requires_grad)\r\n",
        "\r\n",
        "print(f'The model has {count_parameters(model):,} trainable parameters')"
      ],
      "execution_count": 54,
      "outputs": [
        {
          "output_type": "stream",
          "text": [
            "The model has 3,581,389 trainable parameters\n"
          ],
          "name": "stdout"
        }
      ]
    },
    {
      "cell_type": "code",
      "metadata": {
        "id": "fmZ0hyo8O0vE"
      },
      "source": [
        "def initialize_weights(m):\r\n",
        "    if hasattr(m, 'weight') and m.weight.dim() > 1:\r\n",
        "        nn.init.xavier_uniform_(m.weight.data)"
      ],
      "execution_count": 55,
      "outputs": []
    },
    {
      "cell_type": "code",
      "metadata": {
        "id": "NRtAM9Y4O2N2"
      },
      "source": [
        "model.apply(initialize_weights);"
      ],
      "execution_count": 56,
      "outputs": []
    },
    {
      "cell_type": "code",
      "metadata": {
        "id": "NEpApG3YO3ZE"
      },
      "source": [
        "LEARNING_RATE = 0.0005\r\n",
        "\r\n",
        "optimizer = torch.optim.Adam(model.parameters(), lr = LEARNING_RATE)"
      ],
      "execution_count": 57,
      "outputs": []
    },
    {
      "cell_type": "code",
      "metadata": {
        "id": "n9Dy_wWrO46l"
      },
      "source": [
        "criterion = nn.CrossEntropyLoss(ignore_index = SNIPPET_PAD_IDX)\r\n"
      ],
      "execution_count": 58,
      "outputs": []
    },
    {
      "cell_type": "code",
      "metadata": {
        "id": "ycBBiEpuO6cG"
      },
      "source": [
        "def train(model, iterator, optimizer, criterion, clip):\r\n",
        "    \r\n",
        "    model.train()\r\n",
        "    \r\n",
        "    epoch_loss = 0\r\n",
        "    \r\n",
        "    for i, batch in enumerate(iterator):\r\n",
        "        src,_ = batch.queue\r\n",
        "        trg,_ = batch.snippet\r\n",
        "        optimizer.zero_grad()\r\n",
        "        # print(src.shape,trg.shape)\r\n",
        "        # print(trg)\r\n",
        "        output, _ = model(src, trg[:,:-1])\r\n",
        "        #output = [batch size, trg len - 1, output dim]\r\n",
        "        #trg = [batch size, trg len]\r\n",
        "            \r\n",
        "        output_dim = output.shape[-1]\r\n",
        "            \r\n",
        "        output = output.contiguous().view(-1, output_dim)\r\n",
        "        trg = trg[:,1:].contiguous().view(-1)\r\n",
        "                \r\n",
        "        #output = [batch size * trg len - 1, output dim]\r\n",
        "        #trg = [batch size * trg len - 1]\r\n",
        "            \r\n",
        "        loss = criterion(output, trg)\r\n",
        "        \r\n",
        "        loss.backward()\r\n",
        "        \r\n",
        "        torch.nn.utils.clip_grad_norm_(model.parameters(), clip)\r\n",
        "        \r\n",
        "        optimizer.step()\r\n",
        "        \r\n",
        "        epoch_loss += loss.item()\r\n",
        "        \r\n",
        "    return epoch_loss / len(iterator)"
      ],
      "execution_count": 59,
      "outputs": []
    },
    {
      "cell_type": "code",
      "metadata": {
        "id": "zi3Ev8gaO79_"
      },
      "source": [
        "def evaluate(model, iterator, criterion):\r\n",
        "    \r\n",
        "    model.eval()\r\n",
        "    \r\n",
        "    epoch_loss = 0\r\n",
        "    \r\n",
        "    with torch.no_grad():\r\n",
        "    \r\n",
        "        for i, batch in enumerate(iterator):\r\n",
        "            src,_ = batch.queue\r\n",
        "            trg,_ = batch.snippet\r\n",
        "\r\n",
        "            output, _ = model(src, trg[:,:-1])\r\n",
        "            \r\n",
        "            #output = [batch size, trg len - 1, output dim]\r\n",
        "            #trg = [batch size, trg len]\r\n",
        "            \r\n",
        "            output_dim = output.shape[-1]\r\n",
        "            \r\n",
        "            output = output.contiguous().view(-1, output_dim)\r\n",
        "            trg = trg[:,1:].contiguous().view(-1)\r\n",
        "            \r\n",
        "            #output = [batch size * trg len - 1, output dim]\r\n",
        "            #trg = [batch size * trg len - 1]\r\n",
        "            \r\n",
        "            loss = criterion(output, trg)\r\n",
        "\r\n",
        "            epoch_loss += loss.item()\r\n",
        "        \r\n",
        "    return epoch_loss / len(iterator)"
      ],
      "execution_count": 60,
      "outputs": []
    },
    {
      "cell_type": "code",
      "metadata": {
        "id": "JuB4JqQRO9Wg"
      },
      "source": [
        "def epoch_time(start_time, end_time):\r\n",
        "    elapsed_time = end_time - start_time\r\n",
        "    elapsed_mins = int(elapsed_time / 60)\r\n",
        "    elapsed_secs = int(elapsed_time - (elapsed_mins * 60))\r\n",
        "    return elapsed_mins, elapsed_secs"
      ],
      "execution_count": 61,
      "outputs": []
    },
    {
      "cell_type": "code",
      "metadata": {
        "colab": {
          "base_uri": "https://localhost:8080/"
        },
        "id": "aax76Ie4O_Cr",
        "outputId": "efaecbbb-140b-4d97-f6a7-f0b70c46290a"
      },
      "source": [
        "N_EPOCHS = 50\r\n",
        "CLIP = 1\r\n",
        "\r\n",
        "best_valid_loss = float('inf')\r\n",
        "\r\n",
        "for epoch in range(N_EPOCHS):\r\n",
        "    \r\n",
        "    start_time = time.time()\r\n",
        "    \r\n",
        "    train_loss = train(model, train_iterator, optimizer, criterion, CLIP)\r\n",
        "    valid_loss = evaluate(model, valid_iterator, criterion)\r\n",
        "    end_time = time.time()\r\n",
        "    \r\n",
        "    epoch_mins, epoch_secs = epoch_time(start_time, end_time)\r\n",
        "    \r\n",
        "    if valid_loss < best_valid_loss:\r\n",
        "        best_valid_loss = valid_loss\r\n",
        "        torch.save(model.state_dict(), 'tut6-model.pt')\r\n",
        "    \r\n",
        "    print(f'Epoch: {epoch+1:02} | Time: {epoch_mins}m {epoch_secs}s')\r\n",
        "    print(f'\\tTrain Loss: {train_loss:.3f} | Train PPL: {math.exp(train_loss):7.3f}')\r\n",
        "    print(f'\\t Val. Loss: {valid_loss:.3f} |  Val. PPL: {math.exp(valid_loss):7.3f}')"
      ],
      "execution_count": 62,
      "outputs": [
        {
          "output_type": "stream",
          "text": [
            "Epoch: 01 | Time: 0m 20s\n",
            "\tTrain Loss: 5.236 | Train PPL: 187.890\n",
            "\t Val. Loss: 3.557 |  Val. PPL:  35.047\n",
            "Epoch: 02 | Time: 0m 20s\n",
            "\tTrain Loss: 3.204 | Train PPL:  24.633\n",
            "\t Val. Loss: 2.873 |  Val. PPL:  17.688\n",
            "Epoch: 03 | Time: 0m 20s\n",
            "\tTrain Loss: 2.747 | Train PPL:  15.592\n",
            "\t Val. Loss: 2.588 |  Val. PPL:  13.304\n",
            "Epoch: 04 | Time: 0m 20s\n",
            "\tTrain Loss: 2.483 | Train PPL:  11.979\n",
            "\t Val. Loss: 2.405 |  Val. PPL:  11.081\n",
            "Epoch: 05 | Time: 0m 20s\n",
            "\tTrain Loss: 2.286 | Train PPL:   9.836\n",
            "\t Val. Loss: 2.283 |  Val. PPL:   9.808\n",
            "Epoch: 06 | Time: 0m 20s\n",
            "\tTrain Loss: 2.118 | Train PPL:   8.314\n",
            "\t Val. Loss: 2.155 |  Val. PPL:   8.627\n",
            "Epoch: 07 | Time: 0m 20s\n",
            "\tTrain Loss: 1.973 | Train PPL:   7.195\n",
            "\t Val. Loss: 2.073 |  Val. PPL:   7.949\n",
            "Epoch: 08 | Time: 0m 20s\n",
            "\tTrain Loss: 1.835 | Train PPL:   6.263\n",
            "\t Val. Loss: 1.973 |  Val. PPL:   7.193\n",
            "Epoch: 09 | Time: 0m 20s\n",
            "\tTrain Loss: 1.720 | Train PPL:   5.583\n",
            "\t Val. Loss: 1.899 |  Val. PPL:   6.680\n",
            "Epoch: 10 | Time: 0m 20s\n",
            "\tTrain Loss: 1.610 | Train PPL:   5.002\n",
            "\t Val. Loss: 1.826 |  Val. PPL:   6.211\n",
            "Epoch: 11 | Time: 0m 20s\n",
            "\tTrain Loss: 1.514 | Train PPL:   4.543\n",
            "\t Val. Loss: 1.777 |  Val. PPL:   5.912\n",
            "Epoch: 12 | Time: 0m 20s\n",
            "\tTrain Loss: 1.418 | Train PPL:   4.130\n",
            "\t Val. Loss: 1.729 |  Val. PPL:   5.636\n",
            "Epoch: 13 | Time: 0m 20s\n",
            "\tTrain Loss: 1.326 | Train PPL:   3.766\n",
            "\t Val. Loss: 1.683 |  Val. PPL:   5.380\n",
            "Epoch: 14 | Time: 0m 20s\n",
            "\tTrain Loss: 1.242 | Train PPL:   3.461\n",
            "\t Val. Loss: 1.652 |  Val. PPL:   5.216\n",
            "Epoch: 15 | Time: 0m 20s\n",
            "\tTrain Loss: 1.169 | Train PPL:   3.218\n",
            "\t Val. Loss: 1.611 |  Val. PPL:   5.006\n",
            "Epoch: 16 | Time: 0m 20s\n",
            "\tTrain Loss: 1.091 | Train PPL:   2.979\n",
            "\t Val. Loss: 1.579 |  Val. PPL:   4.850\n",
            "Epoch: 17 | Time: 0m 20s\n",
            "\tTrain Loss: 1.019 | Train PPL:   2.771\n",
            "\t Val. Loss: 1.565 |  Val. PPL:   4.784\n",
            "Epoch: 18 | Time: 0m 19s\n",
            "\tTrain Loss: 0.961 | Train PPL:   2.615\n",
            "\t Val. Loss: 1.542 |  Val. PPL:   4.673\n",
            "Epoch: 19 | Time: 0m 20s\n",
            "\tTrain Loss: 0.906 | Train PPL:   2.475\n",
            "\t Val. Loss: 1.515 |  Val. PPL:   4.548\n",
            "Epoch: 20 | Time: 0m 20s\n",
            "\tTrain Loss: 0.852 | Train PPL:   2.343\n",
            "\t Val. Loss: 1.515 |  Val. PPL:   4.548\n",
            "Epoch: 21 | Time: 0m 20s\n",
            "\tTrain Loss: 0.805 | Train PPL:   2.238\n",
            "\t Val. Loss: 1.491 |  Val. PPL:   4.441\n",
            "Epoch: 22 | Time: 0m 20s\n",
            "\tTrain Loss: 0.759 | Train PPL:   2.136\n",
            "\t Val. Loss: 1.491 |  Val. PPL:   4.440\n",
            "Epoch: 23 | Time: 0m 20s\n",
            "\tTrain Loss: 0.721 | Train PPL:   2.056\n",
            "\t Val. Loss: 1.457 |  Val. PPL:   4.294\n",
            "Epoch: 24 | Time: 0m 20s\n",
            "\tTrain Loss: 0.685 | Train PPL:   1.984\n",
            "\t Val. Loss: 1.452 |  Val. PPL:   4.274\n",
            "Epoch: 25 | Time: 0m 20s\n",
            "\tTrain Loss: 0.651 | Train PPL:   1.917\n",
            "\t Val. Loss: 1.456 |  Val. PPL:   4.289\n"
          ],
          "name": "stdout"
        }
      ]
    },
    {
      "cell_type": "code",
      "metadata": {
        "id": "f3_aq7QTPBFc"
      },
      "source": [
        "# model.load_state_dict(torch.load('tut6-model.pt'))\r\n",
        "\r\n",
        "# test_loss = evaluate(model, valid_iterator, criterion)\r\n",
        "\r\n",
        "# print(f'| Test Loss: {test_loss:.3f} | Test PPL: {math.exp(test_loss):7.3f} |')"
      ],
      "execution_count": 63,
      "outputs": []
    },
    {
      "cell_type": "code",
      "metadata": {
        "id": "ieIjql9uPKH1"
      },
      "source": [
        "def translate_sentence(sentence, src_field, trg_field, model, device, max_len = 50):\r\n",
        "    \r\n",
        "    model.eval()\r\n",
        "        \r\n",
        "    if isinstance(sentence, str):\r\n",
        "        nlp = spacy.load('de')\r\n",
        "        tokens = [token.text.lower() for token in nlp(sentence)]\r\n",
        "    else:\r\n",
        "        tokens = [token.lower() for token in sentence]\r\n",
        "\r\n",
        "    tokens = [src_field.init_token] + tokens + [src_field.eos_token]\r\n",
        "        \r\n",
        "    src_indexes = [src_field.vocab.stoi[token] for token in tokens]\r\n",
        "\r\n",
        "    src_tensor = torch.LongTensor(src_indexes).unsqueeze(0).to(device)\r\n",
        "    \r\n",
        "    src_mask = model.make_src_mask(src_tensor)\r\n",
        "    \r\n",
        "    with torch.no_grad():\r\n",
        "        enc_src = model.encoder(src_tensor, src_mask)\r\n",
        "\r\n",
        "    trg_indexes = [trg_field.vocab.stoi[trg_field.init_token]]\r\n",
        "\r\n",
        "    for i in range(max_len):\r\n",
        "\r\n",
        "        trg_tensor = torch.LongTensor(trg_indexes).unsqueeze(0).to(device)\r\n",
        "\r\n",
        "        trg_mask = model.make_trg_mask(trg_tensor)\r\n",
        "        \r\n",
        "        with torch.no_grad():\r\n",
        "            output, attention = model.decoder(trg_tensor, enc_src, trg_mask, src_mask)\r\n",
        "        \r\n",
        "        pred_token = output.argmax(2)[:,-1].item()\r\n",
        "        \r\n",
        "        trg_indexes.append(pred_token)\r\n",
        "\r\n",
        "        if pred_token == trg_field.vocab.stoi[trg_field.eos_token]:\r\n",
        "            break\r\n",
        "    \r\n",
        "    trg_tokens = [trg_field.vocab.itos[i] for i in trg_indexes]\r\n",
        "    \r\n",
        "    return trg_tokens[1:], attention"
      ],
      "execution_count": 64,
      "outputs": []
    },
    {
      "cell_type": "code",
      "metadata": {
        "colab": {
          "base_uri": "https://localhost:8080/"
        },
        "id": "c9_GobzqP1EK",
        "outputId": "c8dd6458-e2dc-4b4f-bf7a-9738c24cab04"
      },
      "source": [
        "example_idx = 21\n",
        "\n",
        "src = vars(train_data.examples[example_idx])['queue']\n",
        "trg = vars(train_data.examples[example_idx])['snippet']\n",
        "\n",
        "print(f'src = {src}')\n",
        "print(f'trg = {trg}')"
      ],
      "execution_count": 80,
      "outputs": [
        {
          "output_type": "stream",
          "text": [
            "src = [' ', 'write', 'a', 'python', 'program', 'to', 'print', 'bitwise', 'AND', 'operation']\n",
            "trg = ['a', '=', '60', '\\n', 'b', '=', '13', '\\n', 'a_and_b', '=', 'a', '&', 'b', '\\n', 'print', '(', 'a_and_b', ')', '', '']\n"
          ],
          "name": "stdout"
        }
      ]
    },
    {
      "cell_type": "code",
      "metadata": {
        "colab": {
          "base_uri": "https://localhost:8080/"
        },
        "id": "ZClnmzRj42IL",
        "outputId": "aca439c0-da83-4e66-b989-8ee427d65a12"
      },
      "source": [
        "src,trg = vars(example[1])['queue'],vars(example[1])['snippet']\n",
        "\n",
        "print(\"queue:\")\n",
        "print(\" \".join(src))\n",
        "print(\"*\"*50)\n",
        "print(\"\\nsnippet:\")\n",
        "print(\" \".join(trg))\n",
        "print(\"*\"*50)\n",
        "translation, attention = translate_sentence(src, queue, snippet, model, device)\n",
        "# print(f'predicted trg = {translation}')\n",
        "print(\"\\npredicted:\")\n",
        "print(\" \".join(translation[:-1]))"
      ],
      "execution_count": 105,
      "outputs": [
        {
          "output_type": "stream",
          "text": [
            "queue:\n",
            "  write a python function to add two user provided numbers and return the sum\n",
            "**************************************************\n",
            "\n",
            "snippet:\n",
            "def add_two_numbers ( num1 , num2 ) : \n",
            "      sum = num1 + num2 \n",
            " return sum   \n",
            "**************************************************\n",
            "\n",
            "predicted:\n",
            "def add_two_numbers ( num1 , num2 ) : \n",
            "      sum = num1 + num2 \n",
            " return sum   \n"
          ],
          "name": "stdout"
        }
      ]
    },
    {
      "cell_type": "code",
      "metadata": {
        "colab": {
          "base_uri": "https://localhost:8080/"
        },
        "id": "aNssNDxx6r99",
        "outputId": "917d051f-53c5-4420-ad70-07d915236913"
      },
      "source": [
        "for i in range(10):\n",
        "  src,trg = vars(example[i])['queue'],vars(example[i])['snippet']\n",
        "  print(\"#\"*100)\n",
        "  print(\"queue:\")\n",
        "  print(\" \".join(src))\n",
        "  print(\"*\"*50)\n",
        "  print(\"\\nsnippet:\")\n",
        "  print(\" \".join(trg))\n",
        "  print(\"*\"*50)\n",
        "  translation, attention = translate_sentence(src, queue, snippet, model, device)\n",
        "  # print(f'predicted trg = {translation}')\n",
        "  print(\"\\npredicted:\")\n",
        "  print(\" \".join(translation[:-1]))\n",
        "  print(\"#\"*100)\n",
        "  print(\"\")"
      ],
      "execution_count": 112,
      "outputs": [
        {
          "output_type": "stream",
          "text": [
            "####################################################################################################\n",
            "queue:\n",
            "# write a python program to add two numbers\n",
            "**************************************************\n",
            "\n",
            "snippet:\n",
            "num1 = 1.5 \n",
            " num2 = 6.3 \n",
            " sum = num1 + num2 \n",
            " print ( f'Sum: {sum}' )  \n",
            "**************************************************\n",
            "\n",
            "predicted:\n",
            "num1 = 1.5 \n",
            " num2 = 6.3 \n",
            " sum = num1 + num2 \n",
            " print ( f'Sum: {sum}' )  \n",
            "####################################################################################################\n",
            "\n",
            "####################################################################################################\n",
            "queue:\n",
            "  write a python function to add two user provided numbers and return the sum\n",
            "**************************************************\n",
            "\n",
            "snippet:\n",
            "def add_two_numbers ( num1 , num2 ) : \n",
            "      sum = num1 + num2 \n",
            " return sum   \n",
            "**************************************************\n",
            "\n",
            "predicted:\n",
            "def add_two_numbers ( num1 , num2 ) : \n",
            "      sum = num1 + num2 \n",
            " return sum   \n",
            "####################################################################################################\n",
            "\n",
            "####################################################################################################\n",
            "queue:\n",
            "  write a program to find and print the largest among three numbers\n",
            "**************************************************\n",
            "\n",
            "snippet:\n",
            "num1 = 10 \n",
            " num2 = 12 \n",
            " num3 = 14 \n",
            " if ( num1 >= num2 ) and ( num1 >= num3 ) : \n",
            "     largest = num1 \n",
            "  elif ( num2 >= num1 ) and ( num2 >= num3 ) : \n",
            "     largest = num2 \n",
            "  else : \n",
            "     largest = num3 \n",
            "  print ( f'largest:{largest}' )  \n",
            "**************************************************\n",
            "\n",
            "predicted:\n",
            "num1 = 10 \n",
            " num2 = 14 \n",
            " num3 = 12 \n",
            " if ( num1 >= num3 ) : \n",
            "     largest = num1 \n",
            "  elif ( num2 >= num1 ) : \n",
            "     largest = num2 \n",
            "  elif ( num2 >= num3 ) : \n",
            "    \n",
            "####################################################################################################\n",
            "\n",
            "####################################################################################################\n",
            "queue:\n",
            "  write a program to find and print the smallest among three numbers\n",
            "**************************************************\n",
            "\n",
            "snippet:\n",
            "num1 = 10 \n",
            " num2 = 12 \n",
            " num3 = 14 \n",
            " if ( num1 <= num2 ) and ( num1 <= num3 ) : \n",
            "     smallest = num1 \n",
            "  elif ( num2 <= num1 ) and ( num2 <= num3 ) : \n",
            "     smallest = num2 \n",
            "  else : \n",
            "     smallest = num3 \n",
            "  print ( f'smallest:{smallest}' )  \n",
            "**************************************************\n",
            "\n",
            "predicted:\n",
            "num1 = 10 \n",
            " num2 = 14 \n",
            " num3 = 14 \n",
            " if ( num1 >= num2 ) and ( num1 >= num3 ) : \n",
            "     largest = num1 \n",
            "  elif ( num2 >= num1 ) : \n",
            "     largest = num2 \n",
            "  elif ( num2\n",
            "####################################################################################################\n",
            "\n",
            "####################################################################################################\n",
            "queue:\n",
            "  Write a python function to merge two given lists into one\n",
            "**************************************************\n",
            "\n",
            "snippet:\n",
            "def merge_lists ( l1 , l2 ) : \n",
            "      return l1 + l2   \n",
            "**************************************************\n",
            "\n",
            "predicted:\n",
            "def add_two_lists ( list1 , list2 ) : \n",
            "     list1 = [ 1 , 2 , 3 ] \n",
            " list2 = [ 4 , 5 , 6 ] \n",
            " sum_list = [ ] \n",
            " for ( item1 , item2 ) in zip ( l1 , l2 ) :\n",
            "####################################################################################################\n",
            "\n",
            "####################################################################################################\n",
            "queue:\n",
            "  Write a program to check whether a number is prime or not\n",
            "**************************************************\n",
            "\n",
            "snippet:\n",
            "num = 337 \n",
            " \n",
            " if num > 1 : \n",
            "     for i in range ( 2 , num // 2 + 1 ) : \n",
            "         if ( num % i ) == 0 : \n",
            "             print ( num , \"is not a prime number\" ) \n",
            " print ( f\"{i} times {num//i} is {num}\" ) \n",
            " break \n",
            "   else : \n",
            "         print ( f\"{num} is a prime number\" ) \n",
            " \n",
            "   else : \n",
            "     print ( f\"{num} is not a prime number\" )   \n",
            "**************************************************\n",
            "\n",
            "predicted:\n",
            "num = int ( input ( \"Enter a number: \" ) ) \n",
            " \n",
            " if num > 1 : \n",
            "     for i in range ( 2 , num ) : \n",
            "         if ( num % i ) == 0 : \n",
            "             print ( num , \"is not a prime number\" ) \n",
            " print\n",
            "####################################################################################################\n",
            "\n",
            "####################################################################################################\n",
            "queue:\n",
            "  Write a python function that prints the factors of a given number\n",
            "**************************************************\n",
            "\n",
            "snippet:\n",
            "def print_factors ( x ) : \n",
            "     print ( f\"The factors of {x} are:\" ) \n",
            " for i in range ( 1 , x + 1 ) : \n",
            "         if x % i == 0 : \n",
            "             print ( i )     \n",
            "**************************************************\n",
            "\n",
            "predicted:\n",
            "def print_factors ( x ) : \n",
            "     print ( \"The factors of\" , x , \"are:\" ) \n",
            " for i in range ( 1 , x + 1 ) : \n",
            "         if x % i == 0 : \n",
            "             print ( i )     \n",
            "####################################################################################################\n",
            "\n",
            "####################################################################################################\n",
            "queue:\n",
            "  Write a program to find the factorial of a number\n",
            "**************************************************\n",
            "\n",
            "snippet:\n",
            "num = 13 \n",
            " factorial = 1 \n",
            " \n",
            " if num < 0 : \n",
            "     print ( \"No factorials for negative numbers!\" ) \n",
            " \n",
            "  elif num == 0 : \n",
            "     print ( \"The factorial of 0 is 1\" ) \n",
            " \n",
            "  else : \n",
            "     for i in range ( 1 , num + 1 ) : \n",
            "         factorial = factorial * i \n",
            "  print ( f\"The factorial of {num} is {factorial}\" )   \n",
            "**************************************************\n",
            "\n",
            "predicted:\n",
            "num = int ( input ( \"Enter a number: \" ) ) \n",
            " factorial = 1 \n",
            " \n",
            " if num < 0 : \n",
            "     print ( \"Sorry, factorial does not exist for negative numbers\" ) \n",
            "  else : \n",
            "     for i in range ( 1 , num + 1 ) : \n",
            "         factorial = factorial\n",
            "####################################################################################################\n",
            "\n",
            "####################################################################################################\n",
            "queue:\n",
            "  Write a python function to print whether a number is negative , positive or zero\n",
            "**************************************************\n",
            "\n",
            "snippet:\n",
            "def check_pnz ( num ) : \n",
            "      if num > 0 : \n",
            "         print ( \"Positive number\" ) \n",
            " \n",
            "  elif num == 0 : \n",
            "         print ( \"Zero\" ) \n",
            " \n",
            "  else : \n",
            "         print ( \"Negative number\" )    \n",
            "**************************************************\n",
            "\n",
            "predicted:\n",
            "def check_pnz ( num ) : \n",
            "      if num > 0 : \n",
            "         print ( \"Positive number\" ) \n",
            " \n",
            "  else : \n",
            "         print ( \"Zero\" ) \n",
            " \n",
            "   \n",
            "####################################################################################################\n",
            "\n",
            "####################################################################################################\n",
            "queue:\n",
            "  Write a program to print the multiplication table of a given number\n",
            "**************************************************\n",
            "\n",
            "snippet:\n",
            "num = 9 \n",
            " for i in range ( 1 , 11 ) : \n",
            "     print ( f\"{num} x {i} = {num*i}\" )   \n",
            "**************************************************\n",
            "\n",
            "predicted:\n",
            "n = int ( input ( \"Input a number: \" ) ) \n",
            " for i in range ( 1 , 11 ) : \n",
            "     print ( i , 'x' , i , i , '=' , num * i )   \n",
            "####################################################################################################\n",
            "\n"
          ],
          "name": "stdout"
        }
      ]
    },
    {
      "cell_type": "code",
      "metadata": {
        "id": "KMl1Ms1D4n0G"
      },
      "source": [
        "# src = [\"add\",\"two\",\"numbers\"]\n",
        "# src = [\"Convert\", \"a\", \"string\", \"to\", \"an\", \"integer\"]\n",
        "# src = [\"Get\", \"a\", \"list\", \"of\", \"values\", \"from\", \"a\", \"list\", \"of\", \"dictionaries\", \"in\", \"python\"]\n",
        "src = [\"write\",\"a\",\"function\",\"that\",\"generates\",\"fibbonacci\",\"series\"]"
      ],
      "execution_count": 113,
      "outputs": []
    },
    {
      "cell_type": "code",
      "metadata": {
        "colab": {
          "base_uri": "https://localhost:8080/"
        },
        "id": "J5qAIr2vQCFr",
        "outputId": "1e192da6-9370-4a60-a5e5-9113c5b3420c"
      },
      "source": [
        "translation, attention = translate_sentence(src, queue, snippet, model, device)\n",
        "\n",
        "print(f'predicted trg = {translation}')"
      ],
      "execution_count": 114,
      "outputs": [
        {
          "output_type": "stream",
          "text": [
            "predicted trg = ['def', 'fib', '(', 'n', ')', ':', '\\n', '   ', 'if', 'n', '==', '1', ':', '\\n', '      ', 'return', 'n', '\\n', '', 'else', ':', '\\n', '      ', 'return', 'n', '*', 'fib', '(', 'n', '-', '1', ')', '+', 'fib', '(', 'n', '-', '2', ')', '', '', '', '', '<eos>']\n"
          ],
          "name": "stdout"
        }
      ]
    },
    {
      "cell_type": "code",
      "metadata": {
        "id": "D3Fs4d9fNQt1"
      },
      "source": [
        ""
      ],
      "execution_count": 67,
      "outputs": []
    },
    {
      "cell_type": "code",
      "metadata": {
        "id": "-Fq9BvrOQOd2"
      },
      "source": [
        "from torchtext.data.metrics import bleu_score\n",
        "\n",
        "def calculate_bleu(data, src_field, trg_field, model, device, max_len = 50):\n",
        "    \n",
        "    trgs = []\n",
        "    pred_trgs = []\n",
        "    \n",
        "    for datum in data:\n",
        "        \n",
        "        src = vars(datum)['queue']\n",
        "        trg = vars(datum)['snippet']\n",
        "        \n",
        "        pred_trg, _ = translate_sentence(src, src_field, trg_field, model, device, max_len)\n",
        "        \n",
        "        #cut off <eos> token\n",
        "        pred_trg = pred_trg[:-1]\n",
        "        \n",
        "        pred_trgs.append(pred_trg)\n",
        "        trgs.append([trg])\n",
        "        \n",
        "    return bleu_score(pred_trgs, trgs)"
      ],
      "execution_count": 68,
      "outputs": []
    },
    {
      "cell_type": "code",
      "metadata": {
        "id": "rZlpwROoQayw"
      },
      "source": [
        "# bleu_score = calculate_bleu(valid_data, queue, snippet, model, device)\n",
        "\n",
        "# print(f'BLEU score = {bleu_score*100:.2f}')"
      ],
      "execution_count": 69,
      "outputs": []
    }
  ]
}