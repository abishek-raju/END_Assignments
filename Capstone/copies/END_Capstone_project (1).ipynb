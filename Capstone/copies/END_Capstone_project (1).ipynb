{
  "nbformat": 4,
  "nbformat_minor": 0,
  "metadata": {
    "colab": {
      "name": "END_Capstone_project.ipynb",
      "provenance": [],
      "collapsed_sections": []
    },
    "kernelspec": {
      "name": "python3",
      "display_name": "Python 3"
    },
    "accelerator": "GPU"
  },
  "cells": [
    {
      "cell_type": "code",
      "metadata": {
        "id": "tbU_MMRiW-JM"
      },
      "source": [
        "# shutil.copyfile(\"/content/END_Assignments/Capstone/english_python_data.txt\", \"/content/END_Assignments/Capstone/python_data_100.txt\")"
      ],
      "execution_count": 1,
      "outputs": []
    },
    {
      "cell_type": "code",
      "metadata": {
        "id": "MgyUm3PdwvZw"
      },
      "source": [
        "# https://github.com/abishek-raju/END_Assignments.git"
      ],
      "execution_count": 2,
      "outputs": []
    },
    {
      "cell_type": "code",
      "metadata": {
        "id": "gOxsToajytrx"
      },
      "source": [
        "import shutil\n",
        "try:\n",
        "  shutil.rmtree(\"./END_Assignments\")\n",
        "except:\n",
        "  pass"
      ],
      "execution_count": 3,
      "outputs": []
    },
    {
      "cell_type": "code",
      "metadata": {
        "colab": {
          "base_uri": "https://localhost:8080/"
        },
        "id": "YGIw5XJtx7vM",
        "outputId": "1c3ee10f-aeb9-4c6c-910a-1c92e4b58ba4"
      },
      "source": [
        "!git clone -b assignment https://github.com/abishek-raju/END_Assignments.git\n"
      ],
      "execution_count": 4,
      "outputs": [
        {
          "output_type": "stream",
          "text": [
            "Cloning into 'END_Assignments'...\n",
            "remote: Enumerating objects: 12, done.\u001b[K\n",
            "remote: Counting objects:   8% (1/12)\u001b[K\rremote: Counting objects:  16% (2/12)\u001b[K\rremote: Counting objects:  25% (3/12)\u001b[K\rremote: Counting objects:  33% (4/12)\u001b[K\rremote: Counting objects:  41% (5/12)\u001b[K\rremote: Counting objects:  50% (6/12)\u001b[K\rremote: Counting objects:  58% (7/12)\u001b[K\rremote: Counting objects:  66% (8/12)\u001b[K\rremote: Counting objects:  75% (9/12)\u001b[K\rremote: Counting objects:  83% (10/12)\u001b[K\rremote: Counting objects:  91% (11/12)\u001b[K\rremote: Counting objects: 100% (12/12)\u001b[K\rremote: Counting objects: 100% (12/12), done.\u001b[K\n",
            "remote: Compressing objects:   9% (1/11)\u001b[K\rremote: Compressing objects:  18% (2/11)\u001b[K\rremote: Compressing objects:  27% (3/11)\u001b[K\rremote: Compressing objects:  36% (4/11)\u001b[K\rremote: Compressing objects:  45% (5/11)\u001b[K\rremote: Compressing objects:  54% (6/11)\u001b[K\rremote: Compressing objects:  63% (7/11)\u001b[K\rremote: Compressing objects:  72% (8/11)\u001b[K\rremote: Compressing objects:  81% (9/11)\u001b[K\rremote: Compressing objects:  90% (10/11)\u001b[K\rremote: Compressing objects: 100% (11/11)\u001b[K\rremote: Compressing objects: 100% (11/11), done.\u001b[K\n",
            "Unpacking objects:   8% (1/12)   \rUnpacking objects:  16% (2/12)   \rUnpacking objects:  25% (3/12)   \rUnpacking objects:  33% (4/12)   \rUnpacking objects:  41% (5/12)   \rUnpacking objects:  50% (6/12)   \rremote: Total 12 (delta 2), reused 7 (delta 0), pack-reused 0\u001b[K\n",
            "Unpacking objects:  58% (7/12)   \rUnpacking objects:  66% (8/12)   \rUnpacking objects:  75% (9/12)   \rUnpacking objects:  83% (10/12)   \rUnpacking objects:  91% (11/12)   \rUnpacking objects: 100% (12/12)   \rUnpacking objects: 100% (12/12), done.\n"
          ],
          "name": "stdout"
        }
      ]
    },
    {
      "cell_type": "code",
      "metadata": {
        "id": "QLVPYl7mzYFq"
      },
      "source": [
        "!cd \"./END_Assignments/Capstone\""
      ],
      "execution_count": 5,
      "outputs": []
    },
    {
      "cell_type": "code",
      "metadata": {
        "id": "_WD8sTnczihx"
      },
      "source": [
        "import os\n",
        "os.chdir('./END_Assignments/Capstone')"
      ],
      "execution_count": 6,
      "outputs": []
    },
    {
      "cell_type": "code",
      "metadata": {
        "colab": {
          "base_uri": "https://localhost:8080/"
        },
        "id": "u7XmTxKWz_KB",
        "outputId": "597d7955-2f48-420c-eca3-c7f00aae5d91"
      },
      "source": [
        "os.listdir()"
      ],
      "execution_count": 7,
      "outputs": [
        {
          "output_type": "execute_result",
          "data": {
            "text/plain": [
              "['english_python_data.txt']"
            ]
          },
          "metadata": {
            "tags": []
          },
          "execution_count": 7
        }
      ]
    },
    {
      "cell_type": "code",
      "metadata": {
        "id": "tjbZM2zX0FEZ"
      },
      "source": [
        "f = open('english_python_data.txt', 'r')\n",
        "full_text = f.read()              # Read entire file into a string\n",
        "\n",
        "f.close()"
      ],
      "execution_count": 8,
      "outputs": []
    },
    {
      "cell_type": "code",
      "metadata": {
        "id": "p_t41XcG1EOG"
      },
      "source": [
        "# full_text[0:150]"
      ],
      "execution_count": 9,
      "outputs": []
    },
    {
      "cell_type": "code",
      "metadata": {
        "id": "wdXvu_j8WVgS"
      },
      "source": [
        "# len(full_text)"
      ],
      "execution_count": 10,
      "outputs": []
    },
    {
      "cell_type": "code",
      "metadata": {
        "id": "qyYR5KC5MHl7"
      },
      "source": [
        "# f = open('/content/Untitled (4).txt', 'r')\n",
        "# full_text = f.read()              # Read entire file into a string\n",
        "\n",
        "# f.close()\n",
        "# x = full_text.split(\"\\n# \")\n",
        "# len(x)"
      ],
      "execution_count": 11,
      "outputs": []
    },
    {
      "cell_type": "code",
      "metadata": {
        "id": "kuMZJXLs1Ekg"
      },
      "source": [
        "x = full_text.split(\"\\n#\")"
      ],
      "execution_count": 12,
      "outputs": []
    },
    {
      "cell_type": "code",
      "metadata": {
        "colab": {
          "base_uri": "https://localhost:8080/"
        },
        "id": "AW8hfV8E2Pir",
        "outputId": "0591adb5-8082-4009-e0c8-6ab0f81b435f"
      },
      "source": [
        "len(x)"
      ],
      "execution_count": 13,
      "outputs": [
        {
          "output_type": "execute_result",
          "data": {
            "text/plain": [
              "4958"
            ]
          },
          "metadata": {
            "tags": []
          },
          "execution_count": 13
        }
      ]
    },
    {
      "cell_type": "code",
      "metadata": {
        "colab": {
          "base_uri": "https://localhost:8080/"
        },
        "id": "AFgRJfxIJ_u-",
        "outputId": "5fe112fc-9484-4d2b-e0ee-a986557b607d"
      },
      "source": [
        "x[50:100]"
      ],
      "execution_count": 14,
      "outputs": [
        {
          "output_type": "execute_result",
          "data": {
            "text/plain": [
              "[\" Write a program to to check if a triangle is valid or not, given it's all three sides' length\\n\\ndef is_valid_triangle_length(a, b c):\\n    if a>0 and b>0 and c>0:\\n        if a+b > c and a+c > b and b+c > a:\\n            return True\\n    return False\\n\",\n",
              " \" Write a lambda functio that gives the word count in a statement.\\n\\ncount_word = lambda s: len(s.split(' '))\\n\\n\",\n",
              " ' Write a program to extract and print digits of a number in reverse order. The number is input from user.\\n\\nnum = int(input(\"Enter a number with multiple digit: \"))\\nn=0\\nwhile num>0:\\n    a = num%10\\n    num = num - a\\n    num = num/10\\n    print(int(a),end=\"\")\\n    n = n + 1\\n',\n",
              " ' Write a function that takes in height(m) and weight(kg), calculates BMI and prints the comments\\n\\ndef bmi(height: \"Meters\", weight: \"Kgs\"):\\n    bmi = weight/(height**2) \\n    print(\"Your BMI is: {0} and you are \".format(bmi), end=\\'\\')\\n    if ( bmi < 16):\\n       print(\"severely underweight.\")\\n    elif ( bmi >= 16 and bmi < 18.5):\\n       print(\"underweight.\")\\n    elif ( bmi >= 18.5 and bmi < 25):\\n       print(\"healthy.\")\\n    elif ( bmi >= 25 and bmi < 30):\\n       print(\"overweight.\")\\n    elif ( bmi >=30):\\n       print(\"severely overweight.\") \\n',\n",
              " ' Write a program that prints all the alphabets in a string and skips all other characters\\n\\nstring = \"$john.snow#@Got.bad_ending/com\"\\nfor ch in string:\\n    if (ch>=\\'A\\' and ch<=\\'Z\\') or (ch>=\\'a\\' and ch<=\\'z\\'):\\n        print(ch, end=\\'\\')\\n    else:\\n        pass\\n',\n",
              " ' Write a function that takes number of disks in tower of hanaoi problem and returns the minimum number of steps required\\n\\ndef hanoi(x):\\n    if x == 1:\\n        return 1\\n    else:\\n        return 2*hanoi(x-1) + 1\\n',\n",
              " ' Write a lambda function to convert centimeters to inches\\n\\ncm_to_inch = lambda x: x/2.54\\n',\n",
              " ' Write a lambda function to find the union of two lists\\n\\nunion = lambda a, b: list(set(a)|set(b))\\n',\n",
              " ' Write a lambda function to find the intersection of two lists\\n\\nintersection = lambda a, b: list(set(a)&set(b))\\n',\n",
              " ' Write a program that adds the square of two numbers and prints it\\n\\na = 32\\nb = 21\\n\\nresult = a**2 + b**2\\nprint(result)\\n',\n",
              " \" Write a python function to concat the input strings and there's also a choice for seperator\\n\\ndef con_str(*args, sep = ' '):\\n  return sep.join(args)\\n\",\n",
              " ' Write a program to print all the even numbers in a range\\n\\nr1, r2 = 1, 28\\n\\nfor _ in range(r1, r2+1):\\n  if _%2 == 0:\\n    print(_)\\n',\n",
              " ' write a python program to sort dictionary items\\ndict1 = {\\'car\\': [7, 6, 3],  \\n             \\'bike\\': [2, 10, 3],  \\n             \\'truck\\': [19, 4]}\\n\\nprint(f\"The original dictionary is : {str(dict1)}\") \\n\\nres = dict() \\nfor key in sorted(dict1): \\n    res[key] = sorted(dict1[key])\\n\\nprint(f\"The sorted dictionary : {str(res)}\")\\n',\n",
              " ' write a program to display date and time\\nimport datetime\\nnow = datetime.datetime.now()\\ntime= now.strftime(\"%Y-%m-%d %H:%M:%S\")\\nprint(f\"Current date and time : {time}\")\\n',\n",
              " \" write a program to return the absolute value\\nnum = -10\\nprint(f'Absolute of {num} is {abs(num)}')\\n\",\n",
              " \" write a python program to check the length of list\\nsample_list = ['a','b','c']\\nprint(f'length of sample_list is {len(sample_list)}')\\n\",\n",
              " \" write a Python program to calculate number of days between two dates.\\nfrom datetime import date\\nf_date = date(2019, 4, 15) # YYYY/MM/DD\\nl_date = date(2020, 4, 15) # YYYY/MM/DD\\ndelta = l_date - f_date\\nprint(f'No of days between {f_date} and {l_date} is:{delta.days}')\\n\",\n",
              " ' write a Python program to convert Python objects into JSON strings.\\nimport json\\npython_dict =  {\"name\": \"David\", \"age\": 6, \"class\":\"I\"}\\njson_dict = json.dumps(python_dict, sort_keys=True, indent=4)\\nprint(f\"json dict : {json_dict}\")\\n',\n",
              " \" write a Python program to get the largest number from a list\\ndef max_num_in_list(list):\\n    max = list[0]\\n    for a in list:\\n        max = a if a > max else max\\n    return max\\nprint(f'max_num_in_list [1, 10, -8, 0], Ans:{max_num_in_list([1, 10, -8, 0])}')\\n\",\n",
              " \" write a Python program to remove duplicates from a list\\na = [10,20,30,20,10,50,60,40,80,50,40]\\n\\ndup_items = set()\\nuniq_items = []\\nfor x in a:\\n    if x not in dup_items:\\n        uniq_items.append(x)\\n        dup_items.add(x)\\n\\nprint(f'dup_items:{dup_items}')\\n\",\n",
              " \" write a Python program to flatten a shallow list\\nimport itertools\\noriginal_list = [[2,4,3],[1,5,6], [9], [7,9,0], [1,2,3,4]]\\nnew_merged_list = list(itertools.chain(*original_list))\\nprint(f'merged list/flatten:{new_merged_list}')\\n\",\n",
              " \" write a Python program to create multiple list\\n\\nobj = {}\\nfor i in range(1, 11):\\n    obj[str(i)] = []\\nprint(f'create multiple list:{obj}')\\n\",\n",
              " \" write a Python program to merge two dictionaries\\n\\nd1 = {'a': 100, 'b': 200}\\nd2 = {'x': 300, 'y': 200}\\nd = d1.copy()\\nd.update(d2)\\nprint(f'merge two dictionaries:{d}')\\n\",\n",
              " \" write a Python program to Sum all the items in a dictionary\\n\\nmy_dict = {'data1':100,'data2':-54,'data3':247}\\nprint(f'Sum all the items in a dictionary:{sum(my_dict.values())}')\\n\",\n",
              " \" write a python program to Get the maximum and minimum value in a dictionary\\n\\nmy_dict = {'x':500, 'y':5874, 'z': 560}\\n\\nkey_max = max(my_dict.keys(), key=(lambda k: my_dict[k]))\\nkey_min = min(my_dict.keys(), key=(lambda k: my_dict[k]))\\n\\nprint('Maximum Value in a dictionary: ',my_dict[key_max])\\nprint('Minimum Value in a dictionary: ',my_dict[key_min])\\n\",\n",
              " ' write a python program to do nothing for a condition\\n\\nif 1 + 1 == 2:\\n    pass # Nothing\\n',\n",
              " ' write a python program to make use of enumerate method\\n\\nfor count, value in enumerate(obj):\\n    print(count, value)\\n',\n",
              " \" write a python program to make use of setdefault for missing dictionary keys\\na_dict = {'a':1}\\na_dict.setdefault('b',2)\\nprint(f'After appending with new value:{a_dict}')\\n\",\n",
              " \" write a python program to make use of maps\\n\\ndef square(number):\\n    return number ** 2\\n\\nnumbers = [1, 2, 3, 4, 5]\\n\\nsquared = map(square, numbers)\\n\\nprint(f'mapped numbers:{list(squared)}')\\n\",\n",
              " \" write a python program to make use of modulo operator\\n\\nprint(f'modulo 15 % 4: Sol->{15 % 4}')\\n\",\n",
              " \" write a python program to explain enclosing and global scope\\n\\nx = 'global'\\n\\ndef f():\\n    x = 'enclosing'\\n    def g():\\n        print(x)\\n    g()\\n    return x\\nobj1 = f()\\nprint('explain global scope:',obj1)\\n\",\n",
              " \" write a python program to expain local and global scope\\n\\ndef f1():\\n    x = 'enclosing'\\n    def g():\\n        x = 'local'\\n        return x\\n    x=g()\\n    return x\\nobj2 = f1()\\nprint('explain local scope:',obj2)\\n\",\n",
              " \" write a python program to make use of regular expression for matching\\nimport re\\nprint('Find the characters in the given string:',re.findall(r'[a-z]+', '123FOO456', flags=re.IGNORECASE))\\n\",\n",
              " \" write a python program to make use of regular expression for matching\\ns = 'foo123bar'\\nm = re.findall('123', s)\\nprint('find the number position:',m)\\n\",\n",
              " \" write a python program to convert lower string to UPPERCASE\\na = 'string'\\nprint(f'convert lowercase to uppercase:{a.upper()}')\\n\",\n",
              " \" write a python program to convert uppercase string to lower\\na = 'STRING'\\nprint(f'convert lowercase to uppercase:{a.lower()}')\\n\",\n",
              " \" write a Python Program to Find the Square Root\\nnum = 8 \\n\\nnum_sqrt = num ** 0.5\\nprint('The square root of %0.3f is %0.3f'%(num ,num_sqrt))\\n\",\n",
              " \" write a Python Program to Convert Kilometers to Miles\\nkilometers = 10.0\\n\\nconv_fac = 0.621371\\n\\nmiles = kilometers * conv_fac\\nprint('%0.2f kilometers is equal to %0.2f miles' %(kilometers,miles))\\n\",\n",
              " \" write a Python Program to Convert Celsius To Fahrenheit\\ncelsius = 37.5\\nfahrenheit = (celsius * 1.8) + 32\\nprint('%0.1f degree Celsius is equal to %0.1f degree Fahrenheit' %(celsius,fahrenheit))\\n\",\n",
              " ' write a Python Program to Check if a Number is Positive, Negative or 0\\nnum = 10\\nif num > 0:\\n   print(\"Positive number\")\\nelif num == 0:\\n   print(\"Zero\")\\nelse:\\n   print(\"Negative number\")\\n',\n",
              " ' Python Program to Check if a Number is Odd or Even\\nnum = 100\\nif (num % 2) == 0:\\n   print(\"{0} is Even\".format(num))\\nelse:\\n   print(\"{0} is Odd\".format(num))\\n',\n",
              " \" Python Program to Display the multiplication Table\\nnum = 12\\nfor i in range(1, 11):\\n   print(num, 'x', i, '=', num*i)\\n\",\n",
              " ' write a program for Rolling the dices\\nimport random\\nmin = 1\\nmax = 6\\n\\nprint(\"Rolling the dices...and the values are\",random.randint(min, max))\\nprint(\"Rolling the dices...and the values are\",random.randint(min, max))\\n',\n",
              " ' write a python program to calculate the average\\nlist1 = [1,3,4,5]\\naverage = (sum(list1)) / len(list1)\\nprint(f\"the average score is:  {average} \")\\n',\n",
              " \" write a python program to print reverse list\\nprint(f'reverese the given list elements:{list1[::-1]}')\\n\",\n",
              " ' write a python program for creating the thread\\nimport threading\\nfrom threading import Thread\\nimport time\\n\\ndef print_time( threadName, delay):\\n    count = 0\\n    while count < 5:\\n        time.sleep(delay)\\n        count += 1\\n        print(\"%s: %s\" % ( threadName, time.ctime(time.time()) ))\\n',\n",
              " ' try:',\n",
              " '     Thread(target=print_time, args=(\"Thread-1\", 2, )).start() ',\n",
              " '     Thread(target=print_time, args=(\"Thread-1\", 4, )).start() ',\n",
              " ' except:']"
            ]
          },
          "metadata": {
            "tags": []
          },
          "execution_count": 14
        }
      ]
    },
    {
      "cell_type": "markdown",
      "metadata": {
        "id": "mEK40w1peYSP"
      },
      "source": [
        ""
      ]
    },
    {
      "cell_type": "code",
      "metadata": {
        "id": "3vqGVe-31k_V"
      },
      "source": [
        "queue_raw,snippet_raw = [],[]\n",
        "for count,i in enumerate(x):\n",
        "  q_a = i.split(\"\\n\",1)\n",
        "  if len(q_a)>1:\n",
        "    if q_a[1]:\n",
        "      # print(\"code example : \"+str(count)+\"\\n\")\n",
        "      # print(q_a[0])\n",
        "      queue_raw.append(q_a[0][6:])\n",
        "\n",
        "      # print(\"\\n\")\n",
        "      # print(q_a[1])\n",
        "      snippet_raw.append(q_a[1])\n",
        "      # print(\"-*-\"*10)"
      ],
      "execution_count": 15,
      "outputs": []
    },
    {
      "cell_type": "code",
      "metadata": {
        "colab": {
          "base_uri": "https://localhost:8080/",
          "height": 35
        },
        "id": "7RZITJPvLVhB",
        "outputId": "8b11bee3-ff3d-4ce9-add8-85dffb7a2564"
      },
      "source": [
        "snippet_raw[1]"
      ],
      "execution_count": 16,
      "outputs": [
        {
          "output_type": "execute_result",
          "data": {
            "application/vnd.google.colaboratory.intrinsic+json": {
              "type": "string"
            },
            "text/plain": [
              "'def add_two_numbers(num1, num2):\\n    sum = num1 + num2\\n    return sum\\n\\n'"
            ]
          },
          "metadata": {
            "tags": []
          },
          "execution_count": 16
        }
      ]
    },
    {
      "cell_type": "code",
      "metadata": {
        "colab": {
          "base_uri": "https://localhost:8080/"
        },
        "id": "2Dquq579JaP4",
        "outputId": "654080bc-9882-4499-d34e-2b3a30bcc612"
      },
      "source": [
        "bool(x[100].split(\"\\n\")[1])"
      ],
      "execution_count": 17,
      "outputs": [
        {
          "output_type": "execute_result",
          "data": {
            "text/plain": [
              "False"
            ]
          },
          "metadata": {
            "tags": []
          },
          "execution_count": 17
        }
      ]
    },
    {
      "cell_type": "code",
      "metadata": {
        "colab": {
          "base_uri": "https://localhost:8080/",
          "height": 52
        },
        "id": "IjKvWnJyISr2",
        "outputId": "49b393df-b657-46e6-adcb-ef52b6dd9c32"
      },
      "source": [
        "x[0]"
      ],
      "execution_count": 18,
      "outputs": [
        {
          "output_type": "execute_result",
          "data": {
            "application/vnd.google.colaboratory.intrinsic+json": {
              "type": "string"
            },
            "text/plain": [
              "\"# write a python program to add two numbers \\nnum1 = 1.5\\nnum2 = 6.3\\nsum = num1 + num2\\nprint(f'Sum: {sum}')\\n\\n\""
            ]
          },
          "metadata": {
            "tags": []
          },
          "execution_count": 18
        }
      ]
    },
    {
      "cell_type": "code",
      "metadata": {
        "id": "RrQUXDgzIFBP"
      },
      "source": [
        "# for count,i in enumerate(x):\n",
        "#   q_a = i.split(\"\\n\",1)\n",
        "#   if len(q_a)>1:\n",
        "#     print(\"code example : \"+str(count)+\"\\n\")\n",
        "#     print(q_a[0])\n",
        "\n",
        "#     print(\"\\n\")\n",
        "#     print(q_a[1])\n",
        "#     print(\"-*-\"*10)"
      ],
      "execution_count": 19,
      "outputs": []
    },
    {
      "cell_type": "code",
      "metadata": {
        "id": "Jp0RQeLKK5oV"
      },
      "source": [
        "# ToDo\n",
        "# 1.Preprocess\n",
        "#     -remove white space at the start of the snippet\n",
        "#     -remove numbers at the start of the snippet"
      ],
      "execution_count": 20,
      "outputs": []
    },
    {
      "cell_type": "code",
      "metadata": {
        "id": "an4JRAm_b_aP"
      },
      "source": [
        "import torch\n",
        "from torchtext.legacy import data "
      ],
      "execution_count": 21,
      "outputs": []
    },
    {
      "cell_type": "code",
      "metadata": {
        "id": "JnbXEdomnw_J"
      },
      "source": [
        "def code_tokenize(text):\n",
        "  token_stream = tokenize.generate_tokens(StringIO(text).readline)\n",
        "  return [token.string for token in token_stream]\n",
        "  # temp = []\n",
        "  # for token in token_stream:\n",
        "  #   temp.append(token.string)\n",
        "  #   print(token)"
      ],
      "execution_count": 22,
      "outputs": []
    },
    {
      "cell_type": "code",
      "metadata": {
        "id": "69DcNJpxLsJA"
      },
      "source": [
        "queue = data.Field(sequential = True, tokenize = 'spacy', batch_first =True, include_lengths=True)\n",
        "snippet = data.Field(sequential = True,is_target=True, tokenize = code_tokenize, batch_first =True, include_lengths=True)"
      ],
      "execution_count": 23,
      "outputs": []
    },
    {
      "cell_type": "code",
      "metadata": {
        "id": "3sQBT0XZcOOk"
      },
      "source": [
        "fields = [('queue', queue),('snippet',snippet)]"
      ],
      "execution_count": 24,
      "outputs": []
    },
    {
      "cell_type": "code",
      "metadata": {
        "id": "inxjhC8_Q-lJ"
      },
      "source": [
        ""
      ],
      "execution_count": 24,
      "outputs": []
    },
    {
      "cell_type": "code",
      "metadata": {
        "id": "nmOaXz-bndHl"
      },
      "source": [
        "# queue_raw,snippet_raw"
      ],
      "execution_count": 25,
      "outputs": []
    },
    {
      "cell_type": "code",
      "metadata": {
        "id": "klVhM3p6eL8F"
      },
      "source": [
        "import tokenize\n",
        "try:\n",
        "  from StringIO import StringIO\n",
        "except:\n",
        "  from io import StringIO"
      ],
      "execution_count": 26,
      "outputs": []
    },
    {
      "cell_type": "code",
      "metadata": {
        "id": "McveOhqKptYD",
        "colab": {
          "base_uri": "https://localhost:8080/"
        },
        "outputId": "ebdc71aa-c2e9-47ee-f1db-f1f66c9a1e33"
      },
      "source": [
        "# example = [data.Example.fromlist([queue_raw[i],snippet_raw[i]], fields) for i in range(len(queue_raw))] \n",
        "example = []\n",
        "for i in range(len(queue_raw)):\n",
        "  try:\n",
        "    temp = data.Example.fromlist([queue_raw[i],snippet_raw[i]], fields)\n",
        "    if len(vars(temp)[\"snippet\"]) < 500:\n",
        "      example.append(temp)\n",
        "    else:\n",
        "      pass\n",
        "  except:\n",
        "    print(i)"
      ],
      "execution_count": 27,
      "outputs": [
        {
          "output_type": "stream",
          "text": [
            "463\n",
            "465\n",
            "643\n",
            "686\n",
            "687\n",
            "814\n",
            "1056\n",
            "1060\n",
            "1418\n",
            "1808\n",
            "1935\n",
            "3441\n",
            "3481\n",
            "3647\n",
            "3673\n",
            "3840\n",
            "3853\n",
            "3875\n",
            "3876\n",
            "3877\n",
            "4059\n",
            "4063\n"
          ],
          "name": "stdout"
        }
      ]
    },
    {
      "cell_type": "code",
      "metadata": {
        "colab": {
          "base_uri": "https://localhost:8080/"
        },
        "id": "eeTVyTLXqMZ4",
        "outputId": "750ad735-b169-4584-fbaf-adbe154901d1"
      },
      "source": [
        "max([len(vars(i)[\"snippet\"]) for i in example])\n",
        "# 785"
      ],
      "execution_count": 28,
      "outputs": [
        {
          "output_type": "execute_result",
          "data": {
            "text/plain": [
              "438"
            ]
          },
          "metadata": {
            "tags": []
          },
          "execution_count": 28
        }
      ]
    },
    {
      "cell_type": "code",
      "metadata": {
        "id": "3WolR6_rRoi0"
      },
      "source": [
        "# temp = [len(vars(i)[\"snippet\"]) for i in example]"
      ],
      "execution_count": 29,
      "outputs": []
    },
    {
      "cell_type": "code",
      "metadata": {
        "id": "5-YTAR_YRyhq"
      },
      "source": [
        "# temp.sort(reverse=True)"
      ],
      "execution_count": 30,
      "outputs": []
    },
    {
      "cell_type": "code",
      "metadata": {
        "id": "jC3EdUp5R41P"
      },
      "source": [
        "# temp"
      ],
      "execution_count": 31,
      "outputs": []
    },
    {
      "cell_type": "code",
      "metadata": {
        "colab": {
          "base_uri": "https://localhost:8080/"
        },
        "id": "2ZVDm7_-qX03",
        "outputId": "fab315fb-5aee-40b2-b38d-ec39af2c428c"
      },
      "source": [
        "queue_raw[1],snippet_raw[0]"
      ],
      "execution_count": 32,
      "outputs": [
        {
          "output_type": "execute_result",
          "data": {
            "text/plain": [
              "(' a python function to add two user provided numbers and return the sum',\n",
              " \"num1 = 1.5\\nnum2 = 6.3\\nsum = num1 + num2\\nprint(f'Sum: {sum}')\\n\\n\")"
            ]
          },
          "metadata": {
            "tags": []
          },
          "execution_count": 32
        }
      ]
    },
    {
      "cell_type": "code",
      "metadata": {
        "colab": {
          "base_uri": "https://localhost:8080/"
        },
        "id": "V1IafKXytWNg",
        "outputId": "e423cce3-5ac2-4454-e49e-ce68af75edbc"
      },
      "source": [
        "len(queue_raw)"
      ],
      "execution_count": 33,
      "outputs": [
        {
          "output_type": "execute_result",
          "data": {
            "text/plain": [
              "4741"
            ]
          },
          "metadata": {
            "tags": []
          },
          "execution_count": 33
        }
      ]
    },
    {
      "cell_type": "code",
      "metadata": {
        "id": "sVH42bSmts7E"
      },
      "source": [
        "queue_snippet_dataset = data.Dataset(example, fields)"
      ],
      "execution_count": 34,
      "outputs": []
    },
    {
      "cell_type": "code",
      "metadata": {
        "id": "8EO35TPjuXaZ"
      },
      "source": [
        "(train_data, valid_data) = queue_snippet_dataset.split(split_ratio=[0.85, 0.15])"
      ],
      "execution_count": 35,
      "outputs": []
    },
    {
      "cell_type": "code",
      "metadata": {
        "colab": {
          "base_uri": "https://localhost:8080/"
        },
        "id": "sQmkCfi-uema",
        "outputId": "090e92d1-2aa9-4b52-fc4d-0b458eb6af7a"
      },
      "source": [
        "len(train_data),len(valid_data)"
      ],
      "execution_count": 36,
      "outputs": [
        {
          "output_type": "execute_result",
          "data": {
            "text/plain": [
              "(4010, 708)"
            ]
          },
          "metadata": {
            "tags": []
          },
          "execution_count": 36
        }
      ]
    },
    {
      "cell_type": "code",
      "metadata": {
        "id": "x0AQXVtIulM4"
      },
      "source": [
        "queue.build_vocab(queue_snippet_dataset)\n",
        "snippet.build_vocab(queue_snippet_dataset)\n"
      ],
      "execution_count": 37,
      "outputs": []
    },
    {
      "cell_type": "code",
      "metadata": {
        "colab": {
          "base_uri": "https://localhost:8080/"
        },
        "id": "kwn7u1d6uxQg",
        "outputId": "e394ac77-c3d8-4ef2-d1da-0bdbb35518d4"
      },
      "source": [
        "print('Size of input vocab : ', len(queue.vocab))\n",
        "print('Size of label vocab : ', len(snippet.vocab))\n",
        "print('Top 10 words appreared repeatedly :', list(queue.vocab.freqs.most_common(10)))\n",
        "print('Labels : ', snippet.vocab.stoi)"
      ],
      "execution_count": 38,
      "outputs": [
        {
          "output_type": "stream",
          "text": [
            "Size of input vocab :  2701\n",
            "Size of label vocab :  6859\n",
            "Top 10 words appreared repeatedly : [('a', 5972), ('to', 3563), (' ', 3255), ('the', 2441), ('of', 2064), ('function', 1793), ('python', 1725), ('program', 1688), ('and', 1360), ('list', 1213)]\n",
            "Labels :  defaultdict(<bound method Vocab._default_unk_index of <torchtext.vocab.Vocab object at 0x7f7940e1dd90>>, {'<unk>': 0, '<pad>': 1, '\\n': 2, '(': 3, ')': 4, '': 5, ',': 6, ':': 7, '=': 8, '[': 9, ']': 10, 'print': 11, '.': 12, '1': 13, 'i': 14, '    ': 15, 'def': 16, 'in': 17, 'return': 18, '0': 19, 'for': 20, '        ': 21, 'if': 22, '+': 23, '2': 24, 'n': 25, 'x': 26, '-': 27, '==': 28, 'a': 29, '*': 30, '3': 31, 'range': 32, 'len': 33, 'num': 34, '5': 35, 'else': 36, 'j': 37, '4': 38, 'import': 39, '            ': 40, 'res': 41, 'self': 42, 'str': 43, '{': 44, '}': 45, '%': 46, 'b': 47, 's': 48, '10': 49, 'str1': 50, '6': 51, 'y': 52, 'float': 53, 'list': 54, '+=': 55, 'key': 56, 'int': 57, 'count': 58, '7': 59, '/': 60, '   ': 61, 'input': 62, 'alist': 63, '>': 64, '**': 65, '8': 66, 'test_list': 67, 'c': 68, 'd': 69, 'k': 70, 'l': 71, 'result': 72, 'while': 73, 'append': 74, 'sum': 75, 'arr': 76, '<': 77, 'list1': 78, 'and': 79, 'r': 80, '9': 81, 'word': 82, 'string': 83, 'ele': 84, 'num1': 85, 'elif': 86, '  ': 87, 'random': 88, 'temp': 89, 'end': 90, 'True': 91, 'num2': 92, '       ': 93, 'math': 94, '!=': 95, 'from': 96, 'split': 97, 'li': 98, 'not': 99, 'datetime': 100, 'idx': 101, 'lambda': 102, 'False': 103, '12': 104, '                ': 105, 'sub': 106, 'lst': 107, '20': 108, 'items': 109, \"''\": 110, 'char': 111, 'join': 112, 'set': 113, '->': 114, '      ': 115, 'start': 116, 'val': 117, ';': 118, 'value': 119, '<=': 120, 'test_dict': 121, '100': 122, '>=': 123, 'or': 124, 'radius': 125, \"' '\": 126, 'index': 127, 't': 128, 'nums': 129, 'break': 130, 'data': 131, '//': 132, 'None': 133, 'mid': 134, 'upper': 135, 'f': 136, 'time': 137, 'class': 138, 'length': 139, 'test_str': 140, 'dict': 141, 're': 142, 'words': 143, '11': 144, 'pi': 145, 'format': 146, 'item': 147, 'list2': 148, 'N': 149, 'lower': 150, 'sorted': 151, 'h': 152, 'l1': 153, 'year': 154, 's1': 155, 'A': 156, 'p': 157, 'zip': 158, 'X': 159, 'as': 160, '\"\"': 161, 'm': 162, \"'a'\": 163, 'max': 164, 'my_list': 165, 'values': 166, 'height': 167, '\" \"': 168, '__init__': 169, '\\t': 170, 'K': 171, 'map': 172, 'sentence': 173, 'number': 174, 'size': 175, 'l2': 176, 'line': 177, 'base': 178, 'greater': 179, 'mm': 180, 'largest': 181, 'itertools': 182, 'left': 183, 'open': 184, 'name': 185, 'text': 186, '50': 187, 'letter': 188, '           ': 189, 'args': 190, 'lcm': 191, 'raise': 192, 'right': 193, 'v': 194, '\\t\\t': 195, '30': 196, 'get': 197, 'isinstance': 198, 'tup': 199, 'z': 200, '15': 201, 'keys': 202, 'tuple': 203, 'area': 204, 'iterable': 205, 'numbers': 206, 'os': 207, '60': 208, 'row': 209, 'with': 210, 'all_freq': 211, 'reverse': 212, 'sort': 213, 's2': 214, 'Y': 215, '\"is\"': 216, 'ord': 217, '24': 218, '45': 219, 'num_list': 220, '40': 221, 'exp': 222, 'min': 223, 'q': 224, 'total': 225, '3.14': 226, 'sum1': 227, '16': 228, 'fname': 229, 'vowels': 230, 'ValueError': 231, 'element': 232, 'json': 233, 'my_str': 234, 'B': 235, 'replace': 236, 'pass': 237, '\"The original list is : \"': 238, '21': 239, 'filter': 240, 'first': 241, 'next': 242, 'num3': 243, 'set1': 244, \"'is'\": 245, '-=': 246, 'enumerate': 247, 'factorial': 248, 'check': 249, 'n1': 250, 'n2': 251, '         ': 252, '&': 253, 'str2': 254, 'yield': 255, \"'b'\": 256, 'pop': 257, 'test_list1': 258, ' ': 259, 'digit': 260, 'flag': 261, 'pos': 262, '23': 263, 'add': 264, \"'r'\": 265, 'g': 266, 'sorted_list': 267, 'volume': 268, \"'best'\": 269, 'choice': 270, 'date': 271, 'dd': 272, 'fact': 273, 'side': 274, '22': 275, '25': 276, 'no_punct': 277, \"'c'\": 278, 'newList': 279, '0.5': 280, 'np': 281, 'myList': 282, 'test_list2': 283, 'x1': 284, 'angle': 285, 'digitCount': 286, 'is': 287, 'path': 288, 'smaller': 289, '\"Gfg\"': 290, \"'1'\": 291, \"'e'\": 292, '18': 293, '32': 294, 'array': 295, 'cache': 296, \"'for'\": 297, '17': 298, '_': 299, 'except': 300, 'input_dict': 301, 'isdigit': 302, 'mass': 303, 'url': 304, \"','\": 305, \"'gfg'\": 306, 'bin': 307, 'dec': 308, 'fn': 309, 'hcf': 310, 'object': 311, 'raw_input': 312, 'regex': 313, 'set2': 314, 'sys': 315, '\"Hello World\"': 316, 'list_': 317, 'product': 318, 'st': 319, 'final': 320, 'input_array': 321, 'kwargs': 322, 'list_to_be_sorted': 323, 'try': 324, 'type': 325, 'x2': 326, '13': 327, '70': 328, 'dict2': 329, 'extend': 330, 'filename': 331, 'ip_str': 332, 'mylist': 333, 'sin': 334, '\"best\"': 335, \"'i'\": 336, '54': 337, 'ctr': 338, 'node': 339, 'obj': 340, 'reduce': 341, 'round': 342, '200': 343, '2020': 344, 'C': 345, 'Dict': 346, 'dict1': 347, 'given_date': 348, 'nterms': 349, 'password': 350, 'punctuations': 351, 'reversed': 352, 'source': 353, \"'tsai'\": 354, '14': 355, '44': 356, 'collections': 357, 'input_list': 358, 'now': 359, 'power': 360, 'res_list': 361, 'sample': 362, 'sqrt': 363, 'timedelta': 364, \"'Geeks'\": 365, \"'o'\": 366, '88': 367, 'breadth': 368, 'cos': 369, 'e': 370, 'gap': 371, 'limit': 372, 'new_list': 373, 'read': 374, 'sub_str': 375, '1000': 376, '35': 377, '400': 378, 'a_list': 379, 'func': 380, 'gcd': 381, 'rev': 382, 'sampleList': 383, 'shuffle': 384, 'src_dir_path': 385, 'update': 386, 'w': 387, 'width': 388, \"'Sorted list: '\": 389, 'M': 390, 'low': 391, 'no_swap': 392, 'randint': 393, 'theta': 394, 'today': 395, 'top': 396, 'u': 397, 'yy': 398, '     ': 399, '\"The original list : \"': 400, \"'d'\": 401, 'celsius': 402, 'head': 403, 'hh': 404, 'is_empty': 405, 'sign': 406, 'var': 407, '          ': 408, '\"b\"': 409, \"'A'\": 410, \"'geeks'\": 411, \"'x'\": 412, 'Counter': 413, 'abs': 414, 'chain': 415, 'countDict': 416, 'letters': 417, 'new_str': 418, 'org_intervals': 419, 'pd': 420, 'pool': 421, 'remove': 422, 'seq': 423, 'strip': 424, 't1': 425, 'target': 426, 'vow_list': 427, '\"a\"': 428, \"'0'\": 429, \"'good'\": 430, \"'u'\": 431, 'col': 432, 'findall': 433, 'found': 434, 'intersection': 435, 'operation': 436, 'queue': 437, 'rows': 438, '\"The original string is : \"': 439, '120': 440, 'L': 441, 'd1': 442, 'inner': 443, 'isalpha': 444, 'matrix': 445, 'month': 446, 'perf_counter': 447, 'pow': 448, 'push': 449, 'repeat': 450, 'search': 451, 'seen': 452, 't2': 453, 'terms': 454, '\"c\"': 455, '*=': 456, 'copy': 457, 'del': 458, 'difference': 459, 'dig': 460, 'distance': 461, 'high': 462, 'insert': 463, 'islower': 464, 'max1': 465, 'msg': 466, 'names': 467, 'numpy': 468, 'org': 469, 'prev': 470, 'sp': 471, 'student': 472, 'word_list': 473, '\\t    ': 474, '\"is not a prime number\"': 475, \"'name'\": 476, '//=': 477, '155': 478, '19': 479, '2000': 480, '26': 481, '65': 482, 'all': 483, 'bool': 484, 'bottom': 485, 'chr': 486, 'd2': 487, 'day': 488, 'days': 489, 'destination': 490, 'groupby': 491, 'kilometers': 492, 'script': 493, 'smallest': 494, 'speed': 495, '\",\"': 496, '\"y\"': 497, '180': 498, 'Person': 499, 'current': 500, 'delta': 501, 'dictionary': 502, 'eval': 503, 'fib': 504, 'files_in_dir': 505, 'flatten': 506, 'functools': 507, 'glob': 508, 'isupper': 509, 'last': 510, 'log': 511, 'sep': 512, 'ser': 513, 'side_length': 514, 'str_list': 515, 'test_tup1': 516, 'y1': 517, 'y2': 518, '                    ': 519, '\"Best\"': 520, '66': 521, 'E': 522, 'PI': 523, 'aList': 524, 'auxiliary': 525, 'ch': 526, 'dic': 527, 'diff': 528, 'dist': 529, 'dt': 530, 'factors': 531, 'fahrenheit': 532, 'file2': 533, 'final_list': 534, 'id': 535, 'inner_list': 536, 'list_of_nums': 537, 'mean': 538, 'no_of_sides': 539, 'nth': 540, 'num_words': 541, 'person_dict': 542, 'requests': 543, 'resList': 544, 'sine': 545, 'start_at': 546, 'steps': 547, 'strptime': 548, 'sub_set': 549, 'temp_dict': 550, 'test_tup2': 551, 'timeit': 552, 'tuples': 553, '55': 554, 'calendar': 555, 'compute_lcm': 556, 'multiple': 557, 'multiply': 558, 'my_dict': 559, 'position': 560, '\\t\\t\\t': 561, '\"apple\"': 562, \"'|'\": 563, '90': 564, '93': 565, 'Fibonacci': 566, '__name__': 567, 'arr1': 568, 'bisect': 569, 'bmi': 570, 'conv_fac': 571, 'dup_items': 572, 'el': 573, 'file': 574, 'floor': 575, 'highestnumber': 576, 'islice': 577, 'llist': 578, 'maximum': 579, 'maxnum': 580, 'numberList': 581, 'perm': 582, 'res_date': 583, 'result_perms': 584, 'strftime': 585, 'sum_': 586, 'test_tup': 587, 'tot': 588, '|': 589, '\":\"': 590, '\\'\\'\\'!()-[]{};:\\'\"\\\\,<>./?@#$%^&*_~\\'\\'\\'': 591, \"'CS'\": 592, '2.0': 593, '<<': 594, '@': 595, '^': 596, 'bigger': 597, 'circumradius': 598, 'counter': 599, 'cp': 600, 'even': 601, 'front': 602, 'group': 603, 'ini_tuple': 604, 'len_list': 605, 'lis': 606, 'min_idx': 607, 'minimum': 608, 'my_inverted_dict': 609, 'no': 610, 'num_lines': 611, 'punctuation': 612, 'start1': 613, 'start2': 614, 'stoogesort': 615, 'test_dict1': 616, 'test_dict2': 617, 'totalMarks': 618, 'tup1': 619, 'union': 620, 'uniq_items': 621, 'unique': 622, '\"12\"': 623, '\"=\"': 624, '\"AM\"': 625, '\"The original dictionary is : \"': 626, '\"key1\"': 627, '\"{0} is a leap year\"': 628, '\"{0} is not a leap year\"': 629, \"'C'\": 630, 'American': 631, 'P': 632, 'TowerOfHanoi': 633, 'age': 634, 'arr2': 635, 'calc_fib': 636, 'casefold': 637, 'data_list': 638, 'do': 639, 'find': 640, 'input_str': 641, 'ip': 642, 'isPalindrome': 643, 'lines': 644, 'm1': 645, 'm2': 646, 'miles': 647, 'odd': 648, 'other': 649, 'output': 650, 'permutations': 651, 'printList': 652, 'q1': 653, 'q2': 654, 'response': 655, 'rowsA': 656, 'shift': 657, 'si': 658, 'title': 659, 'tuplex': 660, '\"Hello\"': 661, '\"Kelly\"': 662, '\"d\"': 663, '\"gfg\"': 664, '\"name\"': 665, \"'Akash'\": 666, \"'Akshat'\": 667, \"'E'\": 668, \"'Gfg'\": 669, \"'Nikhil'\": 670, \"'aeiou'\": 671, \"'age'\": 672, '1.8': 673, '29': 674, '300': 675, '34': 676, '900': 677, '99': 678, 'IplData': 679, 'Number': 680, 'S': 681, 'animals': 682, 'astro_sign': 683, 'attr': 684, 'compute_hcf': 685, 'curr': 686, 'date_string': 687, 'f1': 688, 'filepath': 689, 'getGender': 690, 'ini_string': 691, 'loads': 692, 'my_list1': 693, 'prod_list': 694, 'recur_fibo': 695, 'sum_list': 696, 'tan': 697, 'test_tuple1': 698, 'test_tuple2': 699, 'tuple1': 700, 'txt': 701, 'word_len': 702, '\"DIGITS\"': 703, '\"LETTERS\"': 704, '\"for\"': 705, \"'S'\": 706, \"'marks'\": 707, '0.0': 708, '1.5': 709, '500': 710, '80': 711, 'Lfirst': 712, 'Lsecond': 713, 'Rfirst': 714, 'Rsecond': 715, 'Stack': 716, 'accelration': 717, 'ans': 718, 'avg': 719, 'bisect_left': 720, 'capitalize': 721, 'chunkSize': 722, 'code': 723, 'cu_list': 724, 'dateFormat': 725, 'date_1': 726, 'date_2': 727, 'decimal_num': 728, 'deque': 729, 'div': 730, 'evenNumbers': 731, 'firstSet': 732, 'first_array': 733, 'global': 734, 'guess2': 735, 'h1': 736, 'holes': 737, 'ini_dict': 738, 'initial_velocity': 739, 'inner_dict': 740, 'input_num': 741, 'input_string': 742, 'listOne': 743, 'list_of_dicts': 744, 'lists': 745, 'markList': 746, 'mask': 747, 'max_key': 748, 'max_length': 749, 'mid_idx': 750, 'middleIndex': 751, 'my_min': 752, 'my_string': 753, 'my_tup': 754, 'n_list': 755, 'new_min': 756, 'new_perms': 757, 'order': 758, 'plt': 759, 'prefix': 760, 'pressure': 761, 'printSubArrays': 762, 'r2': 763, 'rear': 764, 'remainder': 765, 'removeValue': 766, 'repl_dict': 767, 'revs_number': 768, 'roll_again': 769, 'rom_val': 770, 'root': 771, 'second_array': 772, 'secrets': 773, 'sort_key': 774, 'speedList': 775, 'status': 776, 'string1': 777, 'studentJson': 778, 'substring': 779, 'sumDigits': 780, 'summation': 781, 'surface_area': 782, 'tup2': 783, 'word_freq': 784, '\"\\\\n\"': 785, '\"__main__\"': 786, '\"banana\"': 787, '\"x\"': 788, \"'hello'\": 789, \"'python'\": 790, \"'y'\": 791, \"'z'\": 792, '6.3': 793, '67': 794, '78': 795, 'Shape': 796, 'TypeError': 797, '^=': 798, 'any': 799, 'assert': 800, 'binary_search': 801, 'close': 802, 'colsB': 803, 'convert24': 804, 'deck': 805, 'elem': 806, 'freq': 807, 'hanoi': 808, 'lst1': 809, 'new_key': 810, 'nonlocal': 811, 'objects': 812, 'radians': 813, 'rem': 814, 'removeDuplicate': 815, 'second': 816, 'setdefault': 817, 'strObj': 818, 'subjects': 819, 'tmp': 820, 'verbs': 821, '\\t\\t\\t\\t': 822, '             ': 823, '               ': 824, '\"Enter a number: \"': 825, '\"Enter file name: \"': 826, '\"age\"': 827, '\"e\"': 828, '\"f\"': 829, '\"is a prime number\"': 830, '\"r\"': 831, \"'='\": 832, \"'B'\": 833, \"'\\\\n'\": 834, \"'p'\": 835, \"'the'\": 836, '33': 837, '77': 838, '>>': 839, 'IndexError': 840, 'Reverse': 841, '__doc__': 842, 'a2': 843, 'backtrack': 844, 'binaryVal': 845, 'buckets': 846, 'calcAngle': 847, 'choices': 848, 'cols': 849, 'colsA': 850, 'continue': 851, 'count1': 852, 'count2': 853, 'datetime_object': 854, 'days_to_subtract': 855, 'disks': 856, 'email': 857, 'encoded': 858, 'encrypted_message': 859, 'exists': 860, 'f\"{year} is a leap year\"': 861, 'f\"{year} is not a leap year\"': 862, 'fibonacci': 863, 'first_half': 864, 'foo': 865, 'guess': 866, 'hashlib': 867, 'hour_angle': 868, 'indices': 869, 'ini_list': 870, 'interest_rate': 871, 'isnumeric': 872, 'iterator': 873, 'last_char': 874, 'li1': 875, 'lst2': 876, 'matrix1': 877, 'matrix2': 878, 'max_len': 879, 'minute_angle': 880, 'minutes': 881, 'nltk': 882, 'ones': 883, 'permute': 884, 'pickle': 885, 'pred': 886, 'price': 887, 'rev_str': 888, 's3': 889, 'sample_dict': 890, 'stack': 891, 'swap': 892, 'symbol': 893, 'temp_given_in': 894, 'test_string': 895, 'texts': 896, 'times': 897, 'tp': 898, 'truncate': 899, 'twos': 900, 'uuid': 901, 'vow': 902, '\"1\"': 903, '\"Enter a positive number\"': 904, '\"Fibonacci sequence:\"': 905, '\"The factorial of 0 is 1\"': 906, '\"The sum is\"': 907, '\"abc4234AFde\"': 908, '\"aeiou\"': 909, '\"bar\"': 910, '\"foo\"': 911, '# gas constant R': 912, \"'2'\": 913, \"'For'\": 914, \"'I'\": 915, \"'Invalid Input'\": 916, \"'M'\": 917, \"'roll'\": 918, \"'the quick brown fox'\": 919, '31': 920, '56': 921, '8.3145': 922, '89': 923, '999': 924, 'W': 925, 'amount': 926, 'bin_search': 927, 'calculateSum': 928, 'circumference': 929, 'combinations': 930, 'countX': 931, 'dequeue': 932, 'divide': 933, 'dumps': 934, 'emptySeq': 935, 'endDate': 936, 'enqueue': 937, 'given_list': 938, 'inches': 939, 'indices_list': 940, 'iter': 941, 'keys1': 942, 'l1_len': 943, 'l2_len': 944, 'l3': 945, 'list_to_be_processed': 946, 'lstrip': 947, 'minlength': 948, 'my_set': 949, 'new_min_old_place': 950, 'newli': 951, 'no_of_digits': 952, 'no_of_lcase': 953, 'no_of_letters': 954, 'no_of_ucase': 955, 'ns': 956, 'num_find': 957, 'numheads': 958, 'pandas': 959, 'parser': 960, 'principle': 961, 'printNationality': 962, 'printTime': 963, 'prio_dict': 964, 'prod': 965, 'randrange': 966, 'rate': 967, 'recursive_merge_sort': 968, 'repetitons': 969, 'request': 970, 'res_str': 971, 'results': 972, 'rstrip': 973, 'separator': 974, 'simple_interest': 975, 'square': 976, 'startDate': 977, 'startTime': 978, 'str_len': 979, 'sub_nest': 980, 'sum_diff': 981, 'sum_nestedlist': 982, 'swapList': 983, 'tag': 984, 'timestamp': 985, 'total_digits': 986, 'total_letters': 987, 'unique_keys': 988, 'used_punctuation': 989, 'v1': 990, 'vals': 991, 'write': 992, '\"\"\"\\n    This is the space to do documentation related to class.\\n    \"\"\"': 993, '\"-\"': 994, '\"Emma\"': 995, '\"LOWER CASE\"': 996, '\"Sorry, factorial does not exist for negative numbers\"': 997, '\"Team1\"': 998, '\"The factorial of\"': 999, '\"UPPER CASE\"': 1000, '\"and\"': 1001, '\"are:\"': 1002, '\"cherry\"': 1003, '\"is an Armstrong number\"': 1004, '\"is not an Armstrong number\"': 1005, '\"key2\"': 1006, '\"to destination\"': 1007, '\"w\"': 1008, \"'*'\": 1009, \"'F'\": 1010, \"'Hello, have you tried our tutorial section yet?'\": 1011, \"'inf'\": 1012, \"'pop'\": 1013, \"'quit'\": 1014, '0.621371': 1015, '201': 1016, '344': 1017, '5.0': 1018, '52': 1019, '64': 1020, 'CircleArea': 1021, 'ET': 1022, 'Exception': 1023, 'Fernet': 1024, 'R': 1025, 'Series': 1026, 'Square': 1027, '__iter__': 1028, 'a1': 1029, 'alphabet': 1030, 'anAmerican': 1031, 'appendMiddle': 1032, 'as_text': 1033, 'base_area': 1034, 'binary_search_rec': 1035, 'bisect_right': 1036, 'carry': 1037, 'character': 1038, 'cmath': 1039, 'corpus': 1040, 'costs': 1041, 'cosx': 1042, 'counting_sort': 1043, 'countmap': 1044, 'csv': 1045, 'delimiter': 1046, 'dict_1': 1047, 'dict_list': 1048, 'digits': 1049, 'dim': 1050, 'dump': 1051, 'emailAddress': 1052, 'f2': 1053, 'feet': 1054, 'filterfalse': 1055, 'findArea': 1056, 'flattened': 1057, 'from_iterable': 1058, 'front_len': 1059, 'getString': 1060, 'h2': 1061, 'hashTable': 1062, 'hex': 1063, 'hexval': 1064, 'img_file': 1065, 'indent': 1066, 'indexes': 1067, 'inp': 1068, 'inputStr': 1069, 'insertion_sort': 1070, 'int_val': 1071, 'isLucky': 1072, 'is_balanced': 1073, 'item1': 1074, 'item2': 1075, 'jsonData': 1076, 'left_pos': 1077, 'list3': 1078, 'list_str': 1079, 'maketrans': 1080, 'mark': 1081, 'match': 1082, 'matrix1Rows': 1083, 'matrix2Col': 1084, 'max_heapify': 1085, 'mergeSort': 1086, 'merge_sort': 1087, 'middleThree': 1088, 'my_func': 1089, 'my_list2': 1090, 'near_thousand': 1091, 'new_doc': 1092, 'nexts': 1093, 'num_active': 1094, 'num_hours': 1095, 'num_sqrt': 1096, 'nums_product': 1097, 'oct': 1098, 'original_prices': 1099, 'p1': 1100, 'partition': 1101, 'pat2': 1102, 'pickle_file': 1103, 'pivot': 1104, 'prev_list': 1105, 'quicksort': 1106, 'rad': 1107, 'reader': 1108, 'repeat_count': 1109, 'replace_char': 1110, 'reverse_sentence': 1111, 'reversed_text': 1112, 'right_pos': 1113, 'rotate': 1114, 'scriptlist': 1115, 'second_half': 1116, 'sen': 1117, 'shift_count': 1118, 'slant_height': 1119, 'squaredNumbers': 1120, 'startswith': 1121, 'sub_list': 1122, 'subtract': 1123, 'table': 1124, 'tee': 1125, 'tenure': 1126, 'tfidf': 1127, 'thirdList': 1128, 'total_time': 1129, 'translate': 1130, 'weight': 1131, 'wrapped': 1132, 'zfill': 1133, '~': 1134, '\"\\' is\"': 1135, '\"00\"': 1136, '\"A\"': 1137, '\"Destination Path doesn\\'t exist\"': 1138, '\"Filtered list : \"': 1139, '\"Hello!!!, he said ---and went.\"': 1140, '\"I\"': 1141, '\"PM\"': 1142, '\"Team2\"': 1143, '\"The ASCII value of \\'\"': 1144, '\"The decimal value of\"': 1145, '\"The original tuple 1 : \"': 1146, '\"The original tuple 2 : \"': 1147, '\"YES\"': 1148, '\"Yes\"': 1149, '\"geeks\"': 1150, '\"google\"': 1151, '\"is:\"': 1152, '\"microsoft\"': 1153, '# iterate through columns': 1154, \"'%b %d %Y %I:%M%p'\": 1155, \"', '\": 1156, \"'-'\": 1157, \"'.'\": 1158, \"'3'\": 1159, \"'4'\": 1160, \"'Hello'\": 1161, \"'O'\": 1162, \"'Z'\": 1163, \"'bar'\": 1164, \"'cs'\": 1165, \"'f'\": 1166, \"'foo'\": 1167, \"'w'\": 1168, '222': 1169, '3201': 1170, '36': 1171, '42': 1172, '47': 1173, '83': 1174, '>>=': 1175, 'Convert': 1176, 'Digits': 1177, 'L1': 1178, 'MC': 1179, 'MT': 1180, 'Node': 1181, 'NumList': 1182, 'Sort_Tuple': 1183, '__getitem__': 1184, '__str__': 1185, 'catalan': 1186, 'cm': 1187, 'color_set': 1188, 'compile': 1189, 'decode': 1190, 'diameter': 1191, 'file_name': 1192, 'final_dict': 1193, 'helper': 1194, 'inputString': 1195, 'isspace': 1196, 'li2': 1197, 'list_length': 1198, 'max_val': 1199, 'min1': 1200, 'new': 1201, 'num_2': 1202, 'num_array': 1203, 'number1': 1204, 'number2': 1205, 'operator': 1206, 'pair': 1207, 'percentage': 1208, 'principal': 1209, 'ratio': 1210, 'reverse_string': 1211, 'root_index': 1212, 'second_largest': 1213, 'selection_sort': 1214, 'sleep': 1215, 'sort_keys': 1216, 'staticmethod': 1217, 'sum_of_digits': 1218, 'tanh': 1219, 'temp_list': 1220, 'test': 1221, 'urllib': 1222, 'urlopen': 1223, 'userChoice': 1224, '                        ': 1225, '\" xyz \"': 1226, '\".\"': 1227, '\"/\"': 1228, '\"Country\"': 1229, '\"Date is invalid.\"': 1230, '\"Ford\"': 1231, '\"LOWER_CASE\"': 1232, '\"Mustang\"': 1233, '\"NO\"': 1234, '\"Original list:\"': 1235, '\"Please Enter the First value: \"': 1236, '\"The L.C.M. is\"': 1237, '\"The incremented date is: \"': 1238, '\"The original dictionary : \"': 1239, '\"UPPER_CASE\"': 1240, '\"brand\"': 1241, '\"model\"': 1242, '\"percentage\"': 1243, '\"times\"': 1244, '\"tsai\"': 1245, '\"val1\"': 1246, '\"watch the match\"': 1247, '\"year\"': 1248, '\"yes\"': 1249, '\"{0} is Greater Than both {1} and {2}\"': 1250, '&=': 1251, \"'D'\": 1252, \"'END'\": 1253, \"'Eric'\": 1254, \"'It is a glorious day'\": 1255, \"'R'\": 1256, \"'Scott'\": 1257, \"'__main__'\": 1258, \"'email'\": 1259, \"'four'\": 1260, \"'length'\": 1261, \"'one'\": 1262, \"'rate'\": 1263, \"'this is my sentence and i will write it my way'\": 1264, \"'three'\": 1265, \"'two'\": 1266, \"'type'\": 1267, '00': 1268, '1964': 1269, '333': 1270, '37.5': 1271, '407': 1272, '43': 1273, '57': 1274, '9.0': 1275, 'AB': 1276, 'AC': 1277, 'Amount': 1278, 'ItemId': 1279, 'Iterable': 1280, 'L2': 1281, 'LCM': 1282, 'List': 1283, 'OTP': 1284, 'Queue': 1285, 'SeqType': 1286, 'StopIteration': 1287, 'Timer': 1288, 'UncommonWords': 1289, '__next__': 1290, '_queue': 1291, 'addEdge': 1292, 'allEmployee': 1293, 'all_set': 1294, 'amin': 1295, 'angular_dist': 1296, 'ascii_letters': 1297, 'ascii_lowercase': 1298, 'bin1': 1299, 'bin2': 1300, 'binaryNum': 1301, 'box_index': 1302, 'bredth': 1303, 'calculate': 1304, 'cap_list': 1305, 'ci': 1306, 'clear': 1307, 'colNum': 1308, 'columns': 1309, 'count_vowels': 1310, 'currentEmployee': 1311, 'current_sum': 1312, 'cycle': 1313, 'days_to_add': 1314, 'dec_value': 1315, 'defaultdict': 1316, 'deleted_element': 1317, 'dict_depth': 1318, 'dict_using_comp': 1319, 'dimensions': 1320, 'discount': 1321, 'elat': 1322, 'elements': 1323, 'endTime': 1324, 'entity': 1325, 'exponent': 1326, 'f\"Duplicate Value in Two set:{x}\"': 1327, 'f\"First Charecter in String:{letter}\"': 1328, \"f'Sum: {sum}'\": 1329, \"f'{key} was found at index {index}.'\": 1330, \"f'{key} was not found.'\": 1331, 'file1': 1332, 'fillvalue': 1333, 'finder': 1334, 'firstList': 1335, 'flag_l': 1336, 'flag_n': 1337, 'flatten_dict': 1338, 'force': 1339, 'formerEmployee': 1340, 'fp': 1341, 'fromkeys': 1342, 'gen': 1343, 'getRandomDate': 1344, 'gnomeSort': 1345, 'guess1': 1346, 'guess3': 1347, 'half_life': 1348, 'heapsort': 1349, 'hours': 1350, 'html': 1351, 'id_keys': 1352, 'infile': 1353, 'initail_quatity': 1354, 'input_string_list': 1355, 'int_list': 1356, 'isEmpty': 1357, 'isFull': 1358, 'isfile': 1359, 'it': 1360, 'itemDictionary': 1361, 'iterables': 1362, 'json_file': 1363, 'key_val_map': 1364, 'kk': 1365, 'kmh': 1366, 'last_processed_j_idx': 1367, 'len1': 1368, 'len2': 1369, 'lengths': 1370, 'listChunk': 1371, 'list_of_seq': 1372, 'list_str1': 1373, 'list_str2': 1374, 'list_to_be_squared': 1375, 'list_val': 1376, 'load_key': 1377, 'logger': 1378, 'longest_non_repeat': 1379, 'major': 1380, 'mass1': 1381, 'mass2': 1382, 'matched_chars': 1383, 'max_value': 1384, 'maxlen': 1385, 'menu': 1386, 'merge_lists': 1387, 'min_': 1388, 'min_value': 1389, 'minor': 1390, 'missing_number': 1391, 'mktime': 1392, 'mode': 1393, 'modified_ip': 1394, 'msb': 1395, 'mul': 1396, 'multilist': 1397, 'my_max': 1398, 'my_tuple': 1399, 'myset': 1400, 'myval': 1401, 'n3': 1402, 'name_to_value_dict': 1403, 'namedtuple': 1404, 'new_data': 1405, 'new_node': 1406, 'new_nums': 1407, 'next_list': 1408, 'no_': 1409, 'no_spaces': 1410, 'num_seq': 1411, 'number_of_edges': 1412, 'numlegs': 1413, 'odd_nos': 1414, 'old_val': 1415, 'opponenetChoice': 1416, 'out_tuple': 1417, 'p2': 1418, 'parent': 1419, 'person_json': 1420, 'person_string': 1421, 'pigeonhole_sort': 1422, 'points': 1423, 'printDict': 1424, 'printString': 1425, 'printWords': 1426, 'print_factors': 1427, 'punc': 1428, 'r\"(?i)\\\\b((?:https?://|www\\\\d{0,3}[.]|[a-z0-9.\\\\-]+[.][a-z]{2,4}/)(?:[^\\\\s()<>]+|\\\\(([^\\\\s()<>]+|(\\\\([^\\\\s()<>]+\\\\)))*\\\\))+(?:\\\\(([^\\\\s()<>]+|(\\\\([^\\\\s()<>]+\\\\)))*\\\\)|[^\\\\s`!()\\\\[\\\\]{};:\\'\\\\\".,<>?«»“”‘’]))\"': 1429, 'rand': 1430, 'randomDate': 1431, 'randomGenerator': 1432, 'randomList': 1433, 'randomString': 1434, 'randomTime': 1435, 'random_float_array': 1436, 'readline': 1437, 'rectangle': 1438, 'recur_factorial': 1439, 'recur_sum': 1440, 'recursive_sum': 1441, 'repl_word': 1442, 'replaced_str': 1443, 'resistance': 1444, 'restrev': 1445, 'resultSet': 1446, 'roman_num': 1447, 'rowNum': 1448, 'rowsB': 1449, 'safeId': 1450, 'sampleJson': 1451, 'secondList': 1452, 'secondSet': 1453, 'second_smallest': 1454, 'seconds': 1455, 'seen_add': 1456, 'served_orders': 1457, 'sigmoid': 1458, 'slat': 1459, 'sort_and_merge': 1460, 'sorted_string': 1461, 'sorted_words': 1462, 'special': 1463, 'split_string': 1464, 'square_dict': 1465, 'starmap': 1466, 'start_num': 1467, 'std': 1468, 'stopwords': 1469, 'str_to_be_reversed': 1470, 'string2': 1471, 'stringLength': 1472, 'substr1': 1473, 'substr2': 1474, 'sum2': 1475, 'sum_first_n_recursive': 1476, 'tail': 1477, 'target_length': 1478, 'test_list3': 1479, 'textlist': 1480, 'textwrap': 1481, 'thisdict': 1482, 'thislist': 1483, 'throws': 1484, 'time_elapsed': 1485, 'tp2': 1486, 'tree': 1487, 'unit': 1488, 'unwanted_num': 1489, 'user_func': 1490, 'v2': 1491, 'vals2': 1492, 'velocity': 1493, 'vertical_concatenation': 1494, 'voltage': 1495, 'vv': 1496, 'weightage': 1497, 'weights': 1498, 'wordcloud': 1499, 'words_list': 1500, 'write_file': 1501, 'wt': 1502, 'x_loop_must_break': 1503, 'zlib': 1504, '\"%d/%m/%Y\"': 1505, '\"/*.*\"': 1506, '\"2 raised to power\"': 1507, '\"AEIOUaeiou\"': 1508, '\"Area of rectangle:\"': 1509, '\"Enter first number: \"': 1510, '\"Enter list : \"': 1511, '\"Enter number:\"': 1512, '\"Enter second number: \"': 1513, '\"Good\"': 1514, '\"India\"': 1515, '\"Input angle not valid.\"': 1516, '\"No files present in:\"': 1517, '\"No\"': 1518, '\"The string is a palindrome.\"': 1519, '\"The string is not a palindrome.\"': 1520, '\"geeksforgeeks\"': 1521, '\"i\"': 1522, '\"mango\"': 1523, '\"utf-8\"': 1524, '\"value2\"': 1525, '\"{0}\"': 1526, '# choose the greater number': 1527, '# iterate through columns of Y': 1528, '# iterate through rows of Y': 1529, \"'#'\": 1530, \"'%0.1f degree Celsius is equal to %0.1f degree Fahrenheit'\": 1531, \"'%0.2f kilometers is equal to %0.2f miles'\": 1532, \"'%A'\": 1533, \"'('\": 1534, \"')'\": 1535, \"'/'\": 1536, \"':'\": 1537, \"'G'\": 1538, \"'HR'\": 1539, \"'K'\": 1540, \"'Name'\": 1541, \"'U'\": 1542, \"'V'\": 1543, \"'_'\": 1544, \"'apple'\": 1545, \"'banana'\": 1546, \"'cat'\": 1547, \"'day'\": 1548, \"'five'\": 1549, \"'global'\": 1550, \"'have'\": 1551, \"'key1'\": 1552, \"'key2'\": 1553, \"'orange'\": 1554, \"'rb'\": 1555, '/=': 1556, '28': 1557, '3.142': 1558, '360': 1559, '48': 1560, '97': 1561, 'Area': 1562, 'CI': 1563, 'Female': 1564, 'LinkedList': 1565, 'Male': 1566, 'Remove': 1567, 'Solution': 1568, 'T': 1569, 'abc': 1570, 'add_two_numbers': 1571, 'addlist': 1572, 'answer': 1573, 'asciiVal': 1574, 'binary': 1575, 'boxes': 1576, 'bubbleSort': 1577, 'ceil': 1578, 'chunk': 1579, 'common_data': 1580, 'compound_interest': 1581, 'compute_gcd': 1582, 'count_even': 1583, 'count_odd': 1584, 'counts': 1585, 'df': 1586, 'dine_in_orders': 1587, 'direction': 1588, 'dot_product': 1589, 'encode': 1590, 'exception': 1591, 'exit': 1592, \"f'largest:{largest}'\": 1593, 'file_pattern': 1594, 'find_longest_word': 1595, 'frequency': 1596, 'generator': 1597, 'getsizeof': 1598, 'hexdigest': 1599, 'hypotenuse': 1600, 'invert_dict': 1601, 'isSorted': 1602, 'is_Sublist': 1603, 'is_prod_even': 1604, 'isalnum': 1605, 'last_processed_i_idx': 1606, 'leap': 1607, 'leftMostPosEle': 1608, 'localtime': 1609, 'maxEndingHere': 1610, 'maxPrime': 1611, 'merged_meetings': 1612, 'minimumLeft': 1613, 'next_position': 1614, 'pad_arr': 1615, 'pattern': 1616, 'pos1': 1617, 'pos2': 1618, 'prime_list': 1619, 'printValue': 1620, 'pythagoras': 1621, 'radian_angle': 1622, 'raw_list': 1623, 'readlines': 1624, 'relu': 1625, 'remove_duplicates': 1626, 'repN': 1627, 'rev_sentence': 1628, 'sec_max': 1629, 'sides': 1630, 'softmax': 1631, 'stock_prices': 1632, 'strchar': 1633, 'symmetric_difference': 1634, 'take_out_orders': 1635, 'temp_converter': 1636, 'test_str1': 1637, 'test_str2': 1638, 'the': 1639, 'threading': 1640, 'uniform': 1641, 'units': 1642, 'unpaired_characters': 1643, 'uuid4': 1644, 'version': 1645, 'visited': 1646, 'vowel': 1647, '\\t\\t\\t\\t\\t': 1648, '\\t        ': 1649, '\\t            ': 1650, '              ': 1651, '\"\"\"Search key in alist[start... end - 1].\"\"\"': 1652, '\"\"\"{\\n   \"id\": 1,\\n   \"name\": \"Piyush Jain\",\\n   \"class\": null,\\n   \"percentage\": 35,\\n   \"email\": \"piyushjain220@gmail.com\"\\n}\"\"\"': 1653, '\"*\"': 1654, '\"... pause.......................................\"': 1655, '\"08:05:45 PM\"': 1656, '\"10\"': 1657, '\"98\"': 1658, '\"After appending new string in middle\"': 1659, '\"Both are same times\"': 1660, '\"C\"': 1661, '\"D\"': 1662, '\"Eligible\"': 1663, '\"Ending longitude: \"': 1664, '\"English = 78 Science = 83 Math = 68 History = 65\"': 1665, '\"Enter Number: \"': 1666, '\"Enter a list element separated by space \"': 1667, '\"Enter a string: \"': 1668, '\"Enter list \"': 1669, '\"Eric\"': 1670, '\"Fibonacci sequence upto\"': 1671, '\"Geeks\"': 1672, '\"Hello this Is an Example With cased letters\"': 1673, '\"Incorrect input\"': 1674, '\"Input a value: \"': 1675, '\"Invalid Email\"': 1676, '\"Jon\"': 1677, '\"Larger string is:\"': 1678, '\"List after column Concatenation : \"': 1679, '\"Move disk 1 from source\"': 1680, '\"Move disk\"': 1681, '\"Not Eligible\"': 1682, '\"Odd numbers in the list: \"': 1683, '\"Please enter a positive integer\"': 1684, '\"Positive elements Tuples : \"': 1685, '\"Prime numbers between\"': 1686, '\"Resultant tuple list: \"': 1687, '\"Starting latitude: \"': 1688, '\"The Kth column of matrix is : \"': 1689, '\"The factors of\"': 1690, '\"The filtered tuple : \"': 1691, '\"The list tuple combination : \"': 1692, '\"The original list 1 is : \"': 1693, '\"The original list 2 is : \"': 1694, '\"The sorted words are:\"': 1695, '\"The total terms are:\"': 1696, '\"Top N keys are: \"': 1697, '\"USA\"': 1698, '\"Valid Distance Invalid Time\"': 1699, '\"Valid Email\"': 1700, '\"_\"': 1701, '\"by\"': 1702, '\"eat\"': 1703, '\"file name: \"': 1704, '\"from source\"': 1705, '\"good\"': 1706, '\"intial_list\"': 1707, '\"not accepted\"': 1708, '\"orange\"': 1709, '\"repeat\"': 1710, '\"secret.key\"': 1711, '\"sleep\"': 1712, '# update values': 1713, '# use while loop to iterate until zero': 1714, \"'\": 1715, \"'$'\": 1716, \"'''Sorts the list from indexes start to end - 1 inclusive.'''\": 1717, \"'. '\": 1718, \"'/*Jon is @developer & musician!!'\": 1719, \"'8'\": 1720, \"'9'\": 1721, \"'Best'\": 1722, \"'Classes'\": 1723, \"'DAY'\": 1724, \"'Dequeue is empty.'\": 1725, \"'H'\": 1726, \"'It'\": 1727, \"'L'\": 1728, \"'MS'\": 1729, \"'Maths'\": 1730, \"'Menu'\": 1731, \"'P'\": 1732, \"'The quick brown fox jumps over the lazy dog'\": 1733, \"'The square root of %0.3f is %0.3f'\": 1734, \"'The value of x after swapping: {}'\": 1735, \"'The value of y after swapping: {}'\": 1736, \"'They'\": 1737, \"'What would you like to do? '\": 1738, \"'X'\": 1739, \"'^[a-z0-9]+[\\\\._]?[a-z0-9]+[@]\\\\w+[.]\\\\w{2,3}$'\": 1740, \"'a long string that is not intered'\": 1741, \"'aIbohPhoBiA'\": 1742, \"'abc'\": 1743, \"'accepted'\": 1744, \"'d.o.b'\": 1745, \"'dog'\": 1746, \"'index'\": 1747, \"'july'\": 1748, \"'key3'\": 1749, \"'love'\": 1750, \"'march'\": 1751, \"'month'\": 1752, \"'popleft'\": 1753, \"'priority'\": 1754, \"'schoolofai'\": 1755, \"'text'\": 1756, \"'to'\": 1757, \"'{} has occurred {} times'\": 1758, '.5': 1759, '1.0': 1760, '1.16': 1761, '1.25': 1762, '10.22': 1763, '10000': 1764, '100000': 1765, '101': 1766, '102': 1767, '122': 1768, '2.3': 1769, '2.54': 1770, '27': 1771, '3.78': 1772, '5.92': 1773, '53': 1774, '75': 1775, '76': 1776, '82': 1777, '87': 1778, '876': 1779, '9.45': 1780, '90.0': 1781, 'CirclePerimeter': 1782, 'Cumulative': 1783, 'DLinkedNode': 1784, 'Decimal': 1785, 'Dequeue': 1786, 'ElementTree': 1787, 'F': 1788, 'Food': 1789, 'Foods': 1790, 'HTMLParser': 1791, 'INT_BITS': 1792, 'IOString': 1793, 'InputOutString': 1794, 'LCMofArray': 1795, 'MyHTMLParser': 1796, 'Q': 1797, 'Recurgcd': 1798, 'Reminder': 1799, 'STOPWORDS': 1800, 'Secure': 1801, 'Set1': 1802, 'Set2': 1803, 'Text': 1804, 'TfidfVectorizer': 1805, 'URL': 1806, 'Volume': 1807, 'WordCloud': 1808, 'X_row': 1809, 'Y_col': 1810, 'ZeroDivisionError': 1811, '__contains__': 1812, '__len__': 1813, '_dict': 1814, '_min': 1815, 'aFemale': 1816, 'aMale': 1817, 'aSquare': 1818, 'aTuple': 1819, 'acos': 1820, 'add_list': 1821, 'add_two_lists': 1822, 'adders': 1823, 'adjacent_side': 1824, 'all_args': 1825, 'all_repeat': 1826, 'amax': 1827, 'animal': 1828, 'annual_payment': 1829, 'apothem': 1830, 'append_left': 1831, 'args_': 1832, 'artist_dict': 1833, 'artist_name': 1834, 'attr1': 1835, 'attr2': 1836, 'attrs': 1837, 'average': 1838, 'bal': 1839, 'balance': 1840, 'biggest_char': 1841, 'biggest_chr': 1842, 'binary_num': 1843, 'binary_to_gray': 1844, 'binomialCoeff': 1845, 'birthDate': 1846, 'bits': 1847, 'blist': 1848, 'breakpoints': 1849, 'bubble_sort': 1850, 'bucket_sort': 1851, 'build_max_heap': 1852, 'buildmenu': 1853, 'byte_to_utf8': 1854, 'calculateLength': 1855, 'callable': 1856, 'capacity': 1857, 'cashflows': 1858, 'celcius': 1859, 'chars': 1860, 'checkString': 1861, 'checkSubset': 1862, 'check_date': 1863, 'cocktail_shaker_sort': 1864, 'column_names': 1865, 'column_values': 1866, 'comb_sort': 1867, 'combinations_with_replacement': 1868, 'combined_num': 1869, 'compress': 1870, 'contents': 1871, 'convertToBinary': 1872, 'convert_to_minutes': 1873, 'converts': 1874, 'cosine': 1875, 'count_blank_space': 1876, 'csv_reader': 1877, 'ctr_ele': 1878, 'cube_dict': 1879, 'dType': 1880, 'd_ft': 1881, 'date1': 1882, 'date2': 1883, 'dctA': 1884, 'dctB': 1885, 'dec_val': 1886, 'decrypt_message': 1887, 'decrypted_message': 1888, 'default': 1889, 'denominator': 1890, 'dequeued': 1891, 'derivative': 1892, 'dfdx': 1893, 'dict_char': 1894, 'dictname': 1895, 'diff_list': 1896, 'do_continue': 1897, 'dtob': 1898, 'effective_interest_rate': 1899, 'elon': 1900, 'encoded_message': 1901, 'encrypt_message': 1902, 'encrypted': 1903, 'end_time': 1904, 'err': 1905, 'etext': 1906, 'etree': 1907, 'expression': 1908, 'f\"{res}\"': 1909, \"f'Area Of a Circle {area}'\": 1910, \"f'Calculating fib({n})'\": 1911, 'f_date': 1912, 'f_read': 1913, 'fa': 1914, 'feature_names': 1915, 'file_path': 1916, 'file_reader': 1917, 'finally': 1918, 'find_all': 1919, 'find_winner_of_the_day': 1920, 'firstElement': 1921, 'fl': 1922, 'flen': 1923, 'from_file': 1924, 'func_val': 1925, 'gaps': 1926, 'gc': 1927, 'generator_yield': 1928, 'geometric_sum': 1929, 'getBitcoinPrice': 1930, 'getMinDist': 1931, 'get_gray_codes': 1932, 'get_size': 1933, 'get_top_tf_idf_words': 1934, 'getlength': 1935, 'getprice': 1936, 'globals': 1937, 'gnome_sort': 1938, 'grades': 1939, 'guesses_made': 1940, 'hashed': 1941, 'heads': 1942, 'heap_size': 1943, 'heapify': 1944, 'heappop': 1945, 'heappush': 1946, 'hello3': 1947, 'hexaDeciNum': 1948, 'hexadecimal_num': 1949, 'id_longest': 1950, 'inVar': 1951, 'ini_str': 1952, 'inlist': 1953, 'input_list1': 1954, 'input_list2': 1955, 'ins_time': 1956, 'insertion_sort_with_gap': 1957, 'installed_packages': 1958, 'installed_packages_list': 1959, 'inter': 1960, 'interest': 1961, 'intersection_update': 1962, 'interval': 1963, 'intp': 1964, 'inverted_dict': 1965, 'is_palindrome': 1966, 'is_perfect_square': 1967, 'iterations': 1968, 'key_factory': 1969, 'key_file': 1970, 'keyword': 1971, 'knapSack': 1972, 'kwargs_': 1973, 'l_date': 1974, 'l_nums': 1975, 'l_range': 1976, 'lastElement': 1977, 'last_digit': 1978, 'last_modified_hour': 1979, 'left_child': 1980, 'left_subsum': 1981, 'linear_search': 1982, 'list4': 1983, 'list_of_lists': 1984, 'list_to_dict': 1985, 'list_using_comp': 1986, 'lista': 1987, 'lista2': 1988, 'listcompr': 1989, 'logging': 1990, 'lower_rest': 1991, 'lowercase': 1992, 'marks': 1993, 'mat': 1994, 'matrix1Col': 1995, 'matrix2Rows': 1996, 'max_offset': 1997, 'max_profit': 1998, 'max_res': 1999, 'max_size': 2000, 'median': 2001, 'merge_list': 2002, 'message': 2003, 'min_tol': 2004, 'min_val': 2005, 'modified': 2006, 'modified_encode': 2007, 'most_common': 2008, 'movement': 2009, 'mph': 2010, 'multTimes': 2011, 'multiplyList': 2012, 'my_instance': 2013, 'mybytes': 2014, 'mydictionary': 2015, 'myhex': 2016, 'mystr': 2017, 'n4': 2018, 'netAmount': 2019, 'ngcd': 2020, 'nltk_ner_check': 2021, 'nominator': 2022, 'num_1': 2023, 'number_list': 2024, 'nums1': 2025, 'nums2': 2026, 'obj1': 2027, 'octal_num': 2028, 'old': 2029, 'op': 2030, 'opposite_side': 2031, 'orig_string': 2032, 'outer': 2033, 'ox': 2034, 'oy': 2035, 'pack_consecutive_duplicates': 2036, 'pad_len': 2037, 'pas': 2038, 'perimeter': 2039, 'permute_string': 2040, 'pkg_resources': 2041, 'pmt': 2042, 'pools': 2043, 'pop_left': 2044, 'powerset': 2045, 'presentday': 2046, 'priceFloat': 2047, 'prices': 2048, 'prime': 2049, 'printIntersection': 2050, 'printLeaders': 2051, 'priorities_and_sentences': 2052, 'psutil': 2053, 'quot_list': 2054, \"r'\\\\b\\\\d+\\\\b'\": 2055, 'r1': 2056, 'radian': 2057, 'radix': 2058, 'radix_sort': 2059, 'read_file': 2060, 'rep_str': 2061, 'responses': 2062, 'right_child': 2063, 'right_subsum': 2064, 'rno': 2065, 'sList': 2066, 'sampleDict': 2067, 'score': 2068, 'sent': 2069, 'seperator': 2070, 'sha256': 2071, 'shell_sort': 2072, 'shifted_alphabet': 2073, 'shrink': 2074, 'side1': 2075, 'side2': 2076, 'sieve': 2077, 'single_number': 2078, 'slon': 2079, 'snot': 2080, 'sol1': 2081, 'sol2': 2082, 'sorted_nzs': 2083, 'soup': 2084, 'space': 2085, 'spoor': 2086, 'start_time': 2087, 'statistics': 2088, 'stk': 2089, 'stop': 2090, 'string_date': 2091, 'string_test': 2092, 'string_var': 2093, 'string_words': 2094, 'strt': 2095, 'sublist': 2096, 'subprocess': 2097, 'sum_of_A': 2098, 'sum_of_nums': 2099, 'syb': 2100, 'symmetric_difference_update': 2101, 'tails': 2102, 'td': 2103, 'tds': 2104, 'team1_count': 2105, 'team2_count': 2106, 'tickerData': 2107, 'tickerDf': 2108, 'tickerSymbol': 2109, 'to_file': 2110, 'top_n': 2111, 'tp1': 2112, 'tr': 2113, 'tribonacci_seq': 2114, 'triplets': 2115, 'trs': 2116, 'tuple2': 2117, 'u_range': 2118, 'unicodeString': 2119, 'unique_list': 2120, 'uppercase': 2121, 'ur': 2122, 'userInput': 2123, 'value1': 2124, 'variance': 2125, 'vec1': 2126, 'vec2': 2127, 'vol': 2128, 'wraps': 2129, 'x3': 2130, 'xml': 2131, 'yesterday': 2132, 'yf': 2133, 'zip_longest': 2134, '\"   \"': 2135, '\" The mean of given list is :\"': 2136, '\" and \"': 2137, '\"\"\"Generate a random string of 5 charcters\"\"\"': 2138, '\"%Y-%m-%d %H:%M:%S\"': 2139, '\"%s %s %s.\"': 2140, '\"%s\"': 2141, '\"%s%s\"': 2142, '\"%s%s%s\"': 2143, '\"+\"': 2144, '\"/*Jon is @developer & musician\"': 2145, '\"0\"': 2146, '\"01110011 a\"': 2147, '\"1.Add\"': 2148, '\"1/1/2016\"': 2149, '\"12/12/2018\"': 2150, '\"2 X 2 random float array in [0.0, 1.0] \\\\n\"': 2151, '\"2.Subtract\"': 2152, '\"20/01/2020\"': 2153, '\"3.Multiply\"': 2154, '\"4.Divide\"': 2155, '\"45\"': 2156, '\": \"': 2157, '\"After reversing it \"': 2158, '\"All element are duplicate in listOne:\"': 2159, '\"America\"': 2160, '\"Apple\"': 2161, '\"Ault\"': 2162, '\"B\"': 2163, '\"Bingo!\"': 2164, '\"Bob\"': 2165, '\"Brad\"': 2166, '\"Bubble Sorted list: \"': 2167, '\"Bye\"': 2168, '\"Characters around vowels count : \"': 2169, '\"Checking if percentage key exists in JSON\"': 2170, '\"Constructed Dictionary : \"': 2171, '\"Count, the number of spaces\"': 2172, '\"Delimited String is: \"': 2173, '\"Difference is\"': 2174, '\"Difference of E and N is\"': 2175, '\"Done writing JSON data into a file\"': 2176, '\"Elements with digit K : \"': 2177, '\"English\"': 2178, '\"Enter an integer number: \"': 2179, '\"Enter any number: \"': 2180, '\"Error - the square root is not an integer\"': 2181, '\"Even elements distance : \"': 2182, '\"Extracted Strings : \"': 2183, '\"Feb 25 2020  4:20PM\"': 2184, '\"Female\"': 2185, '\"Fench\"': 2186, '\"First Set after removing common element \"': 2187, '\"Football\"': 2188, '\"GeeksforGeeks\"': 2189, '\"Generating 3 random integer number between 100 and 999 divisible by 5\"': 2190, '\"Green\"': 2191, '\"Hard Disk\"': 2192, '\"Hello! It is a Good thing\"': 2193, '\"Hockey\"': 2194, '\"How many terms? \"': 2195, '\"I am doing fine\"': 2196, '\"IISC is the best. IISC has Classes in the evening for professionals. Classes help to learn new things.\"': 2197, '\"Incremented numeric String : \"': 2198, '\"Intersection of E and N is\"': 2199, '\"Is it 1? enter y/n \\\\n\"': 2200, '\"Is it 4? enter y/n \\\\n\"': 2201, '\"Is it <= 2? enter y/n \\\\n\"': 2202, '\"Is it <= 3? enter y/n \\\\n\"': 2203, '\"It is a great meal at a great restaurant on a great day\"': 2204, '\"It is wonderful and sunny day for a picnic in the park\"': 2205, '\"Jessa\"': 2206, '\"Key doesn\\'t exist in JSON data\"': 2207, '\"Key exist in JSON data\"': 2208, '\"Key not found!\"': 2209, '\"Laptop\"': 2210, '\"Left Rotation : \"': 2211, '\"List after conversion from dictionary : \"': 2212, '\"List after filtering non-empty strings : \"': 2213, '\"Love\"': 2214, '\"Male\"': 2215, '\"Mapped dictionary : \"': 2216, '\"Maximum of all characters is: \"': 2217, '\"Mike\"': 2218, '\"Minimum of all characters is: \"': 2219, '\"Negative number\"': 2220, '\"New list after removing all even numbers: \"': 2221, '\"New list after removing unwanted numbers: \"': 2222, '\"New list is:\"': 2223, '\"New string is \"': 2224, '\"Nikhil\"': 2225, '\"No of unique items are:\"': 2226, '\"No. of matching characters are : \"': 2227, '\"Number of lines:\"': 2228, '\"Number of times\"': 2229, '\"Number of words:\"': 2230, '\"Numbers divisible by 13 are\"': 2231, '\"Original String is:\"': 2232, '\"Original String: \"': 2233, '\"PYnative\"': 2234, '\"Percentage is \"': 2235, '\"Play\"': 2236, '\"Please enter a number \"': 2237, '\"Please guess a number between 1 and 5 and I will guess within 3 chances!\"': 2238, '\"Plese enter a positive integer\"': 2239, '\"Positive number\"': 2240, '\"Printing count of each item  \"': 2241, '\"Printing random date between\"': 2242, '\"Printing shuffled list \"': 2243, '\"Product of integers in list : \"': 2244, '\"PyNaTive\"': 2245, '\"RAM\"': 2246, '\"Random Date = \"': 2247, '\"Random String is \"': 2248, '\"Random integer number generated using secrets module is \"': 2249, '\"Records after conversion : \"': 2250, '\"Red\"': 2251, '\"Replaced String: \"': 2252, '\"Resultant list of tuples: {}\"': 2253, '\"Reverse of the number:\"': 2254, '\"Reversed String is:\"': 2255, '\"Right Rotation : \"': 2256, '\"Roll the dices again?\"': 2257, '\"Scott\"': 2258, '\"Select operation.\"': 2259, '\"Smallest element is:\"': 2260, '\"Sorted order is : \"': 2261, '\"Sorted seqquence after applying Gnome Sort :\"': 2262, '\"String after multiple replace : \"': 2263, '\"String after replace :\"': 2264, '\"Strings after digits at end : \"': 2265, '\"Symmetric difference of E and N is\"': 2266, '\"The H.C.F. is\"': 2267, '\"The Merged Dictionary list : \"': 2268, '\"The Pretty Print dictionary is : \"': 2269, '\"The common letters are:\"': 2270, '\"The concatenated dictionary : \"': 2271, '\"The count of (\\'a\\', \\'b\\') is:\"': 2272, '\"The dictionary after combination : \"': 2273, '\"The dictionary converted from tuple list : \"': 2274, '\"The divisors of the number are:\"': 2275, '\"The extracted elements : \"': 2276, '\"The extracted value : \"': 2277, '\"The extracted words : \"': 2278, '\"The largest number is\"': 2279, '\"The number is a Perfect number!\"': 2280, '\"The number is not a Perfect number!\"': 2281, '\"The number of characters in string are : \"': 2282, '\"The number of lowercase characters is:\"': 2283, '\"The number of words in string are : \"': 2284, '\"The original tuple : \"': 2285, '\"The product from each index is : \"': 2286, '\"The reverse number is : {}\"': 2287, '\"The sorted dictionary by marks is : \"': 2288, '\"The string after punctuation filter : \"': 2289, '\"The strings after replacement : \"': 2290, '\"The swapped tuple list is : \"': 2291, '\"The uncommon of two lists is : \"': 2292, '\"The words frequency: \"': 2293, '\"Total Marks is:\"': 2294, '\"Total digits found : \"': 2295, '\"Total letters found : \"': 2296, '\"Union of E and N is\"': 2297, '\"Unknown\"': 2298, '\"User Input\"': 2299, '\"Values greater than K : \"': 2300, '\"With Order:\"': 2301, '\"Without Order:\"': 2302, '\"Words that are less than \"': 2303, '\"World\"': 2304, '\"Yay! found the number, its 1\"': 2305, '\"Yay! found the number, its 2\"': 2306, '\"Yay! found the number, its 3\"': 2307, '\"Yay! found the number, its 4\"': 2308, '\"Yay! found the number, its 5\"': 2309, '\"You\"': 2310, '\"Zero\"': 2311, '\"ababccd12@\"': 2312, '\"abc4234AFdeaa\"': 2313, '\"abcde\"': 2314, '\"appears is\"': 2315, '\"are\"': 2316, '\"average = \"': 2317, '\"bad\"': 2318, '\"bar2\"': 2319, '\"bb123cca1@\"': 2320, '\"best2\"': 2321, '\"bingo\"': 2322, '\"concatenation\"': 2323, '\"days\"': 2324, '\"division by zero!\"': 2325, '\"end, is best : for ! Nlp ;\"': 2326, '\"f Not Found!\"': 2327, '\"fg\"': 2328, '\"foo2\"': 2329, '\"for i in range(100):1+1\"': 2330, '\"geek\"': 2331, '\"great way to learn!\"': 2332, '\"h\"': 2333, '\"helloworld\"': 2334, '\"hi\"': 2335, '\"how are you?\"': 2336, '\"http://checkip.dyndns.org\"': 2337, '\"id\"': 2338, '\"in binary.\"': 2339, '\"in hexadecimal.\"': 2340, '\"in octal.\"': 2341, '\"integers only please\"': 2342, '\"is2\"': 2343, '\"john\"': 2344, '\"keeeey2\"': 2345, '\"kiwi\"': 2346, '\"ky3\"': 2347, '\"languages\"': 2348, '\"len2\"': 2349, '\"length1\"': 2350, '\"marks is: \"': 2351, '\"married\"': 2352, '\"mid value is \"': 2353, '\"no bingo\"': 2354, '\"o\"': 2355, '\"part of speech\"': 2356, '\"peter\"': 2357, '\"pineapple\"': 2358, '\"print bingo\"': 2359, '\"program\"': 2360, '\"python1234\"': 2361, '\"random char is \"': 2362, '\"safe unique id is \"': 2363, '\"sampleJson.json\"': 2364, '\"sample_key\"': 2365, '\"sample_val\"': 2366, '\"size of list = \"': 2367, '\"string is binary\"': 2368, '\"string is not binary\"': 2369, '\"sum = \"': 2370, '\"this\"': 2371, '\"tsai2\"': 2372, '\"u\"': 2373, '\"unique list\"': 2374, '\"val2\"': 2375, '\"value is not present for given JSON key\"': 2376, '\"value is present for given JSON key\"': 2377, '\"vertical\"': 2378, '\"w3resource\"': 2379, '\"what a great day!\"': 2380, '\"whatisthis\"': 2381, '\"{0}-->{1}\"': 2382, '# Base Case ': 2383, '# Convert to C': 2384, '# Convert to F': 2385, '# Return the converted temprature': 2386, '# Swapping  ': 2387, '# Write a python program to print if a string \"hello\" is present in the list': 2388, '# all prime numbers are greater than 1': 2389, '# shallow copy': 2390, \"'            '\": 2391, \"'   '\": 2392, \"'  '\": 2393, \"'%d-%m-%Y'\": 2394, \"'%m/%d/%Y'\": 2395, \"'%o,'\": 2396, \"'+'\": 2397, \"'-inf'\": 2398, \"'00001'\": 2399, \"'1.1'\": 2400, \"'10001'\": 2401, \"'11'\": 2402, \"'2.2'\": 2403, \"'2000-01-01'\": 2404, \"'5'\": 2405, \"'6'\": 2406, \"'@'\": 2407, \"'April'\": 2408, \"'Aug'\": 2409, \"'Bob'\": 2410, \"'Caught an exception'\": 2411, \"'Club'\": 2412, \"'CoffeeDay is best for coffee and having long conversations'\": 2413, \"'Diamond'\": 2414, \"'Dict1'\": 2415, \"'END Program'\": 2416, \"'Emma'\": 2417, \"'GoodisalwaysGoood'\": 2418, \"'Heart'\": 2419, \"'I am 25 years and 10 months old'\": 2420, \"'IISC'\": 2421, \"'In finally block for cleanup'\": 2422, \"'IplData'\": 2423, \"'June'\": 2424, \"'Kelly'\": 2425, \"'Key_B'\": 2426, \"'List:'\": 2427, \"'May'\": 2428, \"'No'\": 2429, \"'Number of alphanumeric: '\": 2430, \"'Number of digits: '\": 2431, \"'Number total Upper Case: '\": 2432, \"'Number total lower Case: '\": 2433, \"'Sept'\": 2434, \"'Smith'\": 2435, \"'Spade'\": 2436, \"'The count of i is:'\": 2437, \"'Updated animals list: '\": 2438, \"'ab'\": 2439, \"'append'\": 2440, \"'cd'\": 2441, \"'children'\": 2442, \"'count001'\": 2443, \"'feb'\": 2444, \"'file1.txt'\": 2445, \"'filter'\": 2446, \"'geek'\": 2447, \"'guinea pig'\": 2448, \"'helloworld'\": 2449, \"'hi 123 how are you doing? 567 is with you. Take care of 89'\": 2450, \"'id'\": 2451, \"'imaginary'\": 2452, \"'in else'\": 2453, \"'jan'\": 2454, \"'kEy'\": 2455, \"'key4'\": 2456, \"'key_a'\": 2457, \"'locally changed'\": 2458, \"'long'\": 2459, \"'loss'\": 2460, \"'match toss choice session1 session2 winner'\": 2461, \"'nice'\": 2462, \"'no profit or loss'\": 2463, \"'person.txt'\": 2464, \"'profit'\": 2465, \"'program '\": 2466, \"'pynative'\": 2467, \"'rabbit'\": 2468, \"'ram'\": 2469, \"'random_key'\": 2470, \"'real'\": 2471, \"'remark'\": 2472, \"'substring'\": 2473, \"'the quick brown fox jumps over the lazy dog'\": 2474, \"'tup before: '\": 2475, \"'week after week the numbers are increasing'\": 2476, \"'xbzefdgstb'\": 2477, '\\'{\"name\": \"Bob\", \"languages\": \"English\", \"numbers\": [2, 1.6, null]}\\'': 2478, '1001': 2479, '1024': 2480, '111': 2481, '12345': 2482, '1234511': 2483, '129388': 2484, '1367891': 2485, '1634': 2486, '173': 2487, '2019': 2488, '221': 2489, '2323': 2490, '234': 2491, '239': 2492, '3.0': 2493, '300000': 2494, '3001': 2495, '339': 2496, '39': 2497, '444': 2498, '49': 2499, '555': 2500, '6.674': 2501, '62': 2502, '72': 2503, '73': 2504, '750': 2505, '7536': 2506, '875': 2507, '9.8': 2508, '91': 2509, '95': 2510, '98': 2511, '9999': 2512, 'A1': 2513, 'ArithmeticError': 2514, 'AssertionError': 2515, 'Binary': 2516, 'Cel': 2517, 'Circle': 2518, 'EvenGenerator': 2519, 'GqLt': 2520, 'IP': 2521, 'MatrixChainOrder': 2522, 'Merge': 2523, 'MyError': 2524, 'NewYorker': 2525, 'NumGenerator': 2526, 'NumList1': 2527, 'NumList2': 2528, 'Rectangle': 2529, 'String': 2530, 'Thread': 2531, 'Tree': 2532, 'TreeNode': 2533, 'Tv': 2534, '_lis': 2535, 'a_set': 2536, 'absolute_value': 2537, 'account_no': 2538, 'activities': 2539, 'activity_time': 2540, 'add_even_num': 2541, 'add_node': 2542, 'addition': 2543, 'after_replace': 2544, 'all_equal': 2545, 'all_png_files': 2546, 'alphabets': 2547, 'append_to_list': 2548, 'arange': 2549, 'area_of_circle': 2550, 'arg_list': 2551, 'axis': 2552, 'b_set': 2553, 'bases_num': 2554, 'between': 2555, 'bit_length': 2556, 'cal_angular_velocity': 2557, 'cal_area_circle': 2558, 'cal_area_ellipse': 2559, 'cal_area_hemisphere': 2560, 'cal_area_rect': 2561, 'cal_area_rhombus': 2562, 'cal_area_sphere': 2563, 'cal_area_square': 2564, 'cal_area_trapezium': 2565, 'cal_cart_distance': 2566, 'cal_circumference': 2567, 'cal_cone_curved_surf_area': 2568, 'cal_cone_lateral_surf_area': 2569, 'cal_cone_volume': 2570, 'cal_cube_volume': 2571, 'cal_cuboid_volume': 2572, 'cal_current': 2573, 'cal_cylinder_lat_surf_area': 2574, 'cal_cylinder_surf_area': 2575, 'cal_cylinder_volume': 2576, 'cal_density': 2577, 'cal_displacement': 2578, 'cal_dist_from_orign': 2579, 'cal_distance': 2580, 'cal_electrostatic_force': 2581, 'cal_energy_by_mass': 2582, 'cal_eq_triangle_area': 2583, 'cal_final_velocity': 2584, 'cal_focal_length_of_lense': 2585, 'cal_gforce': 2586, 'cal_half_life': 2587, 'cal_hemisphere_volume': 2588, 'cal_ke': 2589, 'cal_mean': 2590, 'cal_median': 2591, 'cal_mi_ring': 2592, 'cal_mi_sphere': 2593, 'cal_pe': 2594, 'cal_perimeter_eq_triangle': 2595, 'cal_perimeter_iso_triangle': 2596, 'cal_perimeter_rect': 2597, 'cal_perimeter_square': 2598, 'cal_perimeter_triangle': 2599, 'cal_rt_triangle_area': 2600, 'cal_sp_after_discount': 2601, 'cal_speed': 2602, 'cal_sphere_volume': 2603, 'cal_surface_area_cube': 2604, 'cal_surface_area_cuboid': 2605, 'cal_time': 2606, 'cal_torque': 2607, 'cal_total_cap_in_parallel': 2608, 'cal_total_res_in_parallel': 2609, 'cal_total_res_in_series': 2610, 'cal_triangle_area': 2611, 'candidates': 2612, 'card_deck': 2613, 'charCount': 2614, 'checkKey': 2615, 'check_lower': 2616, 'check_upper': 2617, 'child': 2618, 'col_num': 2619, 'combination_length': 2620, 'commonWords': 2621, 'conversion': 2622, 'convert_to_seconds': 2623, 'count_digits': 2624, 'count_set_bits': 2625, 'count_space': 2626, 'country_code': 2627, 'cpu_count': 2628, 'csv_file_name': 2629, 'csv_list': 2630, 'cube': 2631, 'cum_weights': 2632, 'curr_frequency': 2633, 'current_meeting_end': 2634, 'current_meeting_start': 2635, 'current_time': 2636, 'current_total': 2637, 'decoded_line': 2638, 'deepcopy': 2639, 'def_list': 2640, 'delete_last_element': 2641, 'dem': 2642, 'denom': 2643, 'determinant': 2644, 'di': 2645, 'dice': 2646, 'dict_to_tuple': 2647, 'dir': 2648, 'dis': 2649, 'divide_first_number_by_second': 2650, 'dst_dir_path': 2651, 'dt1': 2652, 'dt2': 2653, 'e_arr': 2654, 'emptylist': 2655, 'entry': 2656, 'enum': 2657, 'exec': 2658, 'extend_list': 2659, 'f\"All char are alphabetic?:{check}\"': 2660, 'f\"All char are alphanumeric?:{check}\"': 2661, 'f\"Ascending Order list:,{my_list}\"': 2662, 'f\"Descending Order list:,{my_list}\"': 2663, 'f\"Fibonacci series up to 100:{final}\"': 2664, 'f\"Final List:{prices}\"': 2665, 'f\"Final Result is{result}\"': 2666, 'f\"Integer value for the given character?:{val}\"': 2667, 'f\"Joined Set:{set3}\"': 2668, 'f\"Length of Dictionary:{len(thisdict)}\"': 2669, 'f\"Length of string: {len(word)}\"': 2670, 'f\"List Generated by list comprehension:{list}\"': 2671, 'f\"New Vector:{s1}\"': 2672, 'f\"Number of unique keys: {len(unique_keys)}\"': 2673, 'f\"Product of every pair of numbers from two lists:{final}\"': 2674, 'f\"Revised List:{q}\"': 2675, 'f\"Sample Dictionary:{thisdict}\"': 2676, 'f\"Sorted List:{thislist}\"': 2677, 'f\"Splited Strings: {ksplit}\"': 2678, 'f\"String ater removal of leading characters:{lstrip}\"': 2679, 'f\"String ater removal of trailing characters:{rstrip}\"': 2680, 'f\"String ater replacement: {after_replace}\"': 2681, 'f\"String contains digits?:{check}\"': 2682, 'f\"String contains upper case?:{check}\"': 2683, 'f\"String starts with H?:{check}\"': 2684, 'f\"Sum of two list:,{my_list1+my_list2}\"': 2685, 'f\"Sum of two list:,{my_list1.pop(index)}\"': 2686, 'f\"Ten dots: {ten}\"': 2687, 'f\"\\\\n{sub}\"': 2688, 'f\"last element from the stack:{s.pop()}\"': 2689, 'f\"number of spaces in sring: {lenx}\"': 2690, 'f\"pair-wise product of two lists:{final}\"': 2691, 'f\"sum of every pair of numbers from two lists:{final}\"': 2692, 'f\"{str(int(x.group())+1).zfill(len(x.group()))}\"': 2693, \"f'Area: {2 * math.pi * radius}'\": 2694, \"f'Area: {length * width}'\": 2695, \"f'Area: {side * side}'\": 2696, \"f'Exponent Value is:{final}'\": 2697, \"f'Product: {product}'\": 2698, \"f'remainder:{ratio}'\": 2699, \"f'{s} is not present in the list'\": 2700, \"f'{s} is present in the list'\": 2701, 'f_substring': 2702, 'fab_list': 2703, 'file_path_args': 2704, 'filter_with_key_value': 2705, 'finalList': 2706, 'final_2': 2707, 'find_integer_square_roots': 2708, 'find_pressure_of_ideal_gas': 2709, 'find_profit_or_loss': 2710, 'find_temp_of_ideal_gas': 2711, 'find_urls': 2712, 'find_volume_of_ideal_gas': 2713, 'flags': 2714, 'frac': 2715, 'gcd1': 2716, 'getDist': 2717, 'get_absolute_value': 2718, 'get_ci': 2719, 'get_punctuations': 2720, 'get_si': 2721, 'getmtime': 2722, 'graph': 2723, 'gray_to_binary': 2724, 'h_c_f': 2725, 'h_inch': 2726, 'hello1': 2727, 'i_idx': 2728, 'ii': 2729, 'inner_time': 2730, 'input_file_name': 2731, 'inputstring': 2732, 'integer_reverse': 2733, 'intern': 2734, 'invert_dict_non_unique': 2735, 'isValidDate': 2736, 'is_first_come_first_served': 2737, 'is_in_circle': 2738, 'is_power_of_two': 2739, 'is_vowel': 2740, 'issubset': 2741, 'j_idx': 2742, 'jacobsthal_seq': 2743, 'ksplit': 2744, 'kth_column': 2745, 'larger_string': 2746, 'largest_and_smallest': 2747, 'last_merged_meeting_end': 2748, 'left_down': 2749, 'lenx': 2750, 'linked_list': 2751, 'list_count_4': 2752, 'list_of_intgers': 2753, 'listdir': 2754, 'listname': 2755, 'lists_to_dict': 2756, 'locals': 2757, 'mailfile': 2758, 'mailids': 2759, 'main_list': 2760, 'make_all_negative': 2761, 'make_all_positive': 2762, 'mapping': 2763, 'max_count': 2764, 'max_of_two': 2765, 'maxlength': 2766, 'maxsize': 2767, 'mean_key_val_diff': 2768, 'merge1': 2769, 'merge_dict': 2770, 'merged_dict': 2771, 'min_occ': 2772, 'mod': 2773, 'most_frequent': 2774, 'move_to_head': 2775, 'multi_list': 2776, 'my_nums': 2777, 'myfile': 2778, 'neg': 2779, 'neg_list': 2780, 'newNode': 2781, 'new_vec': 2782, 'newline': 2783, 'newlist': 2784, 'nico': 2785, 'nl': 2786, 'num_upper': 2787, 'number_dict': 2788, 'obj2': 2789, 'octalNum': 2790, 'odd_product': 2791, 'offset': 2792, 'origin': 2793, 'outer_time': 2794, 'padovan_seq': 2795, 'pairs': 2796, 'partial': 2797, 'pell_seq': 2798, 'perrins_number': 2799, 'point': 2800, 'population': 2801, 'pos_list': 2802, 'princ_amount': 2803, 'print_ascii': 2804, 'print_cube': 2805, 'prod_of_roots': 2806, 'property_to_be_cached': 2807, 'putNumbers': 2808, 'px': 2809, 'py': 2810, 'quick_sort': 2811, 'r\"(_|-)+\"': 2812, \"r'[0-9]+$'\": 2813, 'r_punc': 2814, 'r_x': 2815, 'r_y': 2816, 'randbelow': 2817, 'read_and_print_file': 2818, 'read_csv': 2819, 'rec': 2820, 'remove_char': 2821, 'remove_node': 2822, 'report_arg': 2823, 'revInvar': 2824, 'robot': 2825, 'root_type': 2826, 'roots_of_qad_eq': 2827, 'rotate_left': 2828, 'rotate_right': 2829, 'row_num': 2830, 'rss': 2831, 'rstr1': 2832, 'sampleTuple': 2833, 'sample_list': 2834, 'sequences': 2835, 'set3': 2836, 'setp_copy': 2837, 'shape': 2838, 'shift_and_scale': 2839, 'slice': 2840, 'smallest_multiple': 2841, 'solve': 2842, 'sort_ascending': 2843, 'sort_descending': 2844, 'sort_dict_list': 2845, 'sorted_meetings': 2846, 'spaces': 2847, 'splitlines': 2848, 'square_list_elements': 2849, 'square_numbers': 2850, 'substring_copy': 2851, 'sum_first_n': 2852, 'sum_n': 2853, 'sum_of_roots': 2854, 'sum_thrice': 2855, 'symbolCount': 2856, 'symmetry': 2857, 'syslvester_seq': 2858, 'ten': 2859, 'test_tuple': 2860, 'third': 2861, 'time_it': 2862, 'tmp_dict': 2863, 'token': 2864, 'tokens': 2865, 'total_size': 2866, 'transposed_row': 2867, 'trips': 2868, 'typ': 2869, 'up': 2870, 'updict': 2871, 'upp': 2872, 'user_loglevel': 2873, 'username': 2874, 'utcnow': 2875, 'valid': 2876, 'validate': 2877, 'word1': 2878, 'word2': 2879, 'y3': 2880, 'zeros': 2881, 'zip_': 2882, '\\t\\t  ': 2883, '    \\t     ': 2884, '\"': 2885, '\" * \"': 2886, '\" Expected between 0 and 1\"': 2887, '\" for Vote.\"': 2888, '\" is \"': 2889, '\" is = \"': 2890, '\" is: \"': 2891, '\"\"\"\\n           Generates a key and save it into a file\\n        \"\"\"': 2892, '\"\"\"\\n        Decrypts an encrypted message\\n        \"\"\"': 2893, '\"\"\"\\n        Encrypts a message\\n        \"\"\"': 2894, '\"\"\"\\n        Load the previously generated key\\n        \"\"\"': 2895, '\"\"\"\\n    function to show how to do do documentation of function\\n    First line after function wriiten inside triple quotes.\\n    Don\\'t forget to close when job is done.\\n    \"\"\"': 2896, '\"\"\" returns the cosine value for an angle mentioned in radians\"\"\"': 2897, '\"\"\" returns the hyperbolic tangent value of a number\"\"\"': 2898, '\"\"\" returns the sine value for an angle mentioned in radians\"\"\"': 2899, '\"\"\" returns the tangent value for an angle mentioned in radians\"\"\"': 2900, '\"\"\"Convert Binary to Gray codeword and return it.\"\"\"': 2901, '\"\"\"Convert Gray codeword to binary and return it.\"\"\"': 2902, '\"\"\"Converts a call-until-exception interface to an iterator interface.\\n    Like builtins.iter(func, sentinel) but uses an exception instead\\n    of a sentinel to end the loop.\\n    Examples:\\n        iter_except(s.pop, KeyError)                             # non-blocking set iterator\\n    \"\"\"': 2903, '\"\"\"Return index of key in alist. Return -1 if key not present.\"\"\"': 2904, '\"\"\"Return n-bit Gray code in a list.\"\"\"': 2905, '\"\"\"Return the element that occurs odd number of times in alist.\\n \\n    alist is a list in which all elements except one element occurs an even\\n    number of times.\\n    \"\"\"': 2906, '\"%s name is %s\"': 2907, '\"%s%s%s%s\"': 2908, '\"%s:%d\"': 2909, '\"%s==%s\"': 2910, '\"(\"': 2911, '\"(\\\\w+)@((\\\\w+\\\\.)+(com))\"': 2912, '\"(\\\\w+)@(\\\\w+)\\\\.(com)\"': 2913, '\"(x+y\"': 2914, '\"({}, {})\"': 2915, '\")\"': 2916, '\", \"': 2917, '\"->\"': 2918, '\"... pause..............................\"': 2919, '\"...back straight and head up right\"': 2920, '\"...make these adjustments now if you need to\"': 2921, '\"...nice and relaxed...comfortable and relaxed...\"': 2922, '\"...now... sitting comfortably in the chair\"': 2923, '\"...now...I want you to notice...how heavy your head is starting to feel...\"': 2924, '\"...with your feet still flat on the ground\"': 2925, '\"...your eyes ...still ...comfortably closed\"': 2926, '\"/*\"': 2927, '\"/BTC\"': 2928, '\"0123456789\"': 2929, '\"123\"': 2930, '\"2\"': 2931, '\"20\"': 2932, '\"20/04/2021\"': 2933, '\"4A3B2C1D3A\"': 2934, '\"5\"': 2935, '\"86\"': 2936, '\">\"': 2937, '\"AAAABBBCCDAAA\"': 2938, '\"ABA\"': 2939, '\"Advance the iterator n-steps ahead. If n is None, consume entirely.\"': 2940, '\"Akshat\"': 2941, '\"Apples\"': 2942, '\"Area of circle:\"': 2943, '\"Arun\"': 2944, '\"Average of elements in the list\"': 2945, '\"BirthdaY\"': 2946, '\"Bitstamp last price: US $ \"': 2947, '\"Both strings are equal.\"': 2948, '\"CD\"': 2949, '\"CM\"': 2950, '\"CS\"': 2951, '\"Code to be written here to match equality check between two object of same class\"': 2952, '\"Date is valid.\"': 2953, '\"Does tuple contain any None value ? : \"': 2954, '\"E\"': 2955, '\"END\"': 2956, '\"ERROR: dimensions of the two arrays must be the same\"': 2957, '\"Either any two values or all the three values are equal\"': 2958, '\"Enter Text: \"': 2959, '\"Enter a tuple:\"': 2960, '\"Enter a year: \"': 2961, '\"Enter base: \"': 2962, '\"Enter choice(1/2/3/4): \"': 2963, '\"Enter exponential value: \"': 2964, '\"Enter file name .txt extension:\"': 2965, '\"Enter lower range: \"': 2966, '\"Enter number of rows: \"': 2967, '\"Enter the number to be counted:\"': 2968, '\"Enter the principle amount : \"': 2969, '\"Enter the rate of interest : \"': 2970, '\"Enter the time in the years: \"': 2971, '\"Enter upper range: \"': 2972, '\"Error querying Bitstamp API\"': 2973, '\"Factors are:\"': 2974, '\"False\"': 2975, '\"Filtered Tuples : \"': 2976, '\"Flattened dictionary : \"': 2977, '\"Formatted Number with no decimal places: \"': 2978, '\"Frequency of the elements in the List : \"': 2979, '\"GEEK\"': 2980, '\"GFG is good\"': 2981, '\"Geeks for Geeks\"': 2982, '\"Given Linked List\"': 2983, '\"HellowWorld\"': 2984, '\"HpY\"': 2985, '\"IP Address: \"': 2986, '\"IV\"': 2987, '\"IX\"': 2988, '\"India is my country\"': 2989, '\"Input a number: \"': 2990, '\"Input a string: \"': 2991, '\"Input coordinates of two points:\"': 2992, '\"Input string is: \"': 2993, '\"Input the size of the matrix: \"': 2994, '\"Invalid Input\"': 2995, '\"Invalid interest rate\"': 2996, '\"Invalid tenure\"': 2997, '\"It is an even number\"': 2998, '\"It is an odd number\"': 2999, '\"Item not found \"': 3000, '\"KM/H = \"': 3001, '\"Kilometer\"': 3002, '\"L\"': 3003, '\"LCM of arr1 elements:\"': 3004, '\"List is empty\"': 3005, '\"M\"': 3006, '\"MPH\"': 3007, '\"Maximum length of consecutive 0’s:\"': 3008, '\"Multidimensional list:\"': 3009, '\"My deepest secret!\"': 3010, '\"No carry operation.\"': 3011, '\"No. of Lower case Characters : \"': 3012, '\"No. of Upper case characters : \"': 3013, '\"Non-duplicate items:\"': 3014, '\"Not a palindrome\"': 3015, '\"Number is even!\"': 3016, '\"Number is odd!\"': 3017, '\"Number is prime\"': 3018, '\"Number not prime\"': 3019, '\"Number of lines = \"': 3020, '\"Number of words = \"': 3021, '\"Number: \"': 3022, '\"Optional\"': 3023, '\"Oranges\"': 3024, '\"Original List : \"': 3025, '\"Original String : \"': 3026, '\"Original string:\"': 3027, '\"PHP\"': 3028, '\"Pairs (Words and Frequencies:\\\\n {}\"': 3029, '\"Pears\"': 3030, '\"Perimeter of rectangle:\"': 3031, '\"Person\"': 3032, '\"Please Enter any Number: \"': 3033, '\"Please Enter your Own String : \"': 3034, '\"Please enter the Total Number of List Elements: \"': 3035, '\"Python keywords are...\"': 3036, '\"Result:\"': 3037, '\"Rolling the dice...\"': 3038, '\"Rolling the dices...and the values are\"': 3039, '\"Second largest element is:\"': 3040, '\"Segregated values of keys are : \"': 3041, '\"Sorted List : \"': 3042, '\"Speed:\"': 3043, '\"Subsets: \"': 3044, '\"Text must be string or a File object.\"': 3045, '\"The Given String in Uppercase =  \"': 3046, '\"The Kth non empty string from rear is : \"': 3047, '\"The String after performing replace : \"': 3048, '\"The binary representation of the number is NOT a palindrome.\"': 3049, '\"The binary representation of the number is a palindrome.\"': 3050, '\"The constructed dictionary : \"': 3051, '\"The converted list : \"': 3052, '\"The distance is %.2fkm.\"': 3053, '\"The distinct elements are: \"': 3054, '\"The even list\"': 3055, '\"The letters are:\"': 3056, '\"The list after conversion to list of string : \"': 3057, '\"The list after conversion to tuple list : \"': 3058, '\"The list after removing last characters : \"': 3059, '\"The list after shift is : \"': 3060, '\"The merged values encapsulated dictionary is : \"': 3061, '\"The modified list : \"': 3062, '\"The number is a palindrome!\"': 3063, '\"The number isn\\'t a palindrome!\"': 3064, '\"The number of repetitions is: \"': 3065, '\"The odd list\"': 3066, '\"The original tuple is : \"': 3067, '\"The required result : \"': 3068, '\"The required sort order : \"': 3069, '\"The sum of first n natural numbers is\"': 3070, '\"The word with the longest length is:\"': 3071, '\"The words frequency : \"': 3072, '\"Today\\'s date:\"': 3073, '\"True\"': 3074, '\"Tuples after Concatenating : \"': 3075, '\"Updated list is: \"': 3076, '\"V\"': 3077, '\"Volume: \"': 3078, '\"White\"': 3079, '\"X\"': 3080, '\"XC\"': 3081, '\"XL\"': 3082, '\"You are \"': 3083, '\"You got:\"': 3084, '\"[0-9]\"': 3085, '\"[A-Z]\"': 3086, '\"[_@$]\"': 3087, '\"[a-z]\"': 3088, '\"\\\\d+\"': 3089, '\"\\\\nAfter packing consecutive duplicates of the said list elements into sublists:\"': 3090, '\"\\\\nDecrypted message:\"': 3091, '\"\\\\nIf the one of the said list is a subset of another.:\"': 3092, '\"\\\\nList reflecting the modified run-length encoding from the said list:\"': 3093, '\"\\\\nMessage has been encrypted: \"': 3094, '\"\\\\nOriginal String in Lowercase  =  \"': 3095, '\"\\\\nReversed Linked List\"': 3096, '\"\\\\s\"': 3097, '\"]\"': 3098, '\"abc\"': 3099, '\"aeiouAEIOU\"': 3100, '\"aeiuoAEIOU\"': 3101, '\"all\"': 3102, '\"and how much more ...comfortable...it will feel when you let your neck relaxes ...and your head begins to fall forward ...into a much more comfortable\"': 3103, '\"apt\"': 3104, '\"class\"': 3105, '\"educated\"': 3106, '\"file name:\"': 3107, '\"file.txt\"': 3108, '\"get\"': 3109, '\"hello world\"': 3110, '\"hello\"': 3111, '\"how heavy your head feels...\"': 3112, '\"html.parser\"': 3113, '\"http://www.python.org\"': 3114, '\"https://github.com/RobertJGabriel/Google-profanity-words/blob/master/list.txt\"': 3115, '\"https://www.bitstamp.net/api/ticker/\"': 3116, '\"index[\"': 3117, '\"initial_strings : \"': 3118, '\"inner:\"': 3119, '\"last\"': 3120, '\"love\"': 3121, '\"malayalam\"': 3122, '\"of\"': 3123, '\"off\"': 3124, '\"one\"': 3125, '\"outer after:\"': 3126, '\"path/here\"': 3127, '\"powerset([1,2,3]) --> () (1,) (2,) (3,) (1,2) (1,3) (2,3) (1,2,3)\"': 3128, '\"print resultant substring from end\"': 3129, '\"print resultant substring from start\"': 3130, '\"python\"': 3131, '\"qwrtypsdfghjklzxcvbnm\"': 3132, '\"rb\"': 3133, '\"really noticing the weight... of your head...\"': 3134, '\"str1: \"': 3135, '\"str2: \"': 3136, '\"sudo\"': 3137, '\"unknown\"': 3138, '\"update\"': 3139, '\"utf8\"': 3140, '\"value1\"': 3141, '\"wb\"': 3142, '\"x =\"': 3143, '\"y =\"': 3144, '\"z\"': 3145, '\"zekelabs\"': 3146, '\"{:,}\"': 3147, '\"{:.0f}\"': 3148, '# An Infinite loop to generate squares  ': 3149, '# Calculate ratio': 3150, '# Check if choice is one of the four options': 3151, '# Check the ratio of the remaining': 3152, '# Checking if last two elements of time ': 3153, '# Declaring the tuple': 3154, '# For all the remaining values': 3155, '# For database APIs needing an initial cast to db.first()': 3156, '# Initialize first two Fibonacci Numbers  ': 3157, '# Initialize result': 3158, '# Iterator for the main list': 3159, '# Move the iterator forward': 3160, '# Move to the next slot': 3161, '# One by one yield next Fibonacci Number ': 3162, '# Print the new string ': 3163, '# Recipe credited to George Sakkis': 3164, '# Recursive call on each half': 3165, '# Remove leading zero in the reversed integer': 3166, '# Remove nth index element ': 3167, '# Remove the iterator we just exhausted from the cycle.': 3168, '# Take input from the user': 3169, '# The value from the left half has been used': 3170, '# To convert from a 1-D to 3-D': 3171, '# To convert from a 2-D to 3-D': 3172, '# Traverse the array': 3173, '# Two iterators for traversing the two halves': 3174, '# Use functions that consume iterators at C speed.': 3175, '# XOR': 3176, '# YYYY/MM/DD': 3177, '# advance to the empty slice starting at position n': 3178, '# arbitrary number in list ': 3179, '# check for factors': 3180, '# feed the entire iterator into a zero-length deque': 3181, '# get data on this ticker': 3182, '# get the historical prices for this ticker': 3183, '# grouper(\\'ABCDEFG\\', 3, \\'x\\') --> ABC DEF Gxx\"': 3184, '# initialize sum': 3185, '# inner = wraps(fn)(inner)': 3186, '# label = entity.label()': 3187, \"# list('234') returns ['2', '3', '4']\": 3188, '# n is even': 3189, '# n is odd': 3190, '# now it is comma delimited': 3191, '# order of number': 3192, '# partition(is_odd, range(10)) --> 0 2 4 6 8   and  1 3 5 7 9': 3193, '# plot the WordCloud image': 3194, '# see your data': 3195, '# string manipulation': 3196, '# to allow the access of global variable ': 3197, \"# unique_everseen('AAAABBBCCDAABBB') --> A B C D\": 3198, \"# unique_everseen('ABBCcAD', str.lower) --> A B C D\": 3199, \"# unique_justseen('AAAABBBCCDAABBB') --> A B C D A B\": 3200, \"# unique_justseen('ABBCcAD', str.lower) --> A B C A D\": 3201, '# want to access global variable': 3202, '# z = x | y  ': 3203, '#base case': 3204, '#print(j)': 3205, '%=': 3206, \"' : '\": 3207, \"'!'\": 3208, '\\'\"\\'': 3209, \"'%02d-%02d: %s'\": 3210, \"'%s,%s'\": 3211, \"'&'\": 3212, \"'''\\n        Dequeues (i.e., removes) the item at the head of this queue *and*\\n        returns this item.\\n\\n        Raises\\n        ----------\\n        IndexError\\n            If this queue is empty.\\n        '''\": 3213, \"'''\\n        Initialize this queue to the empty queue.\\n\\n        Parameters\\n        ----------\\n        max_size : int\\n            Maximum number of items contained in this queue. Defaults to 10.\\n        '''\": 3214, \"'''\\n        Queues the passed item (i.e., pushes this item onto the tail of this\\n        queue).\\n\\n        If this queue is already full, the item at the head of this queue\\n        is silently removed from this queue *before* the passed item is\\n        queued.\\n        '''\": 3215, \"'''\\n    This function is used to search any number.\\n    Whether the given number is present in the\\n    list or not. If the number is present in list\\n    the list it will return TRUE and FALSE otherwise.\\n    '''\": 3216, \"'''\\n    Thread-safe, memory-efficient, maximally-sized queue supporting queueing and\\n    dequeueing in worst-case O(1) time.\\n    '''\": 3217, \"'''This assignment is of 900 marks. Each example if 9 marks.\\nIf your example is similar to someone else, then you score less.\\nThe formula we will use is 9/(repeated example). That means if 9 people write same example,\\nthen you get only 1. So think different! (if examples are mentioned here and in the sample file, you will score less)'''\": 3218, \"'''This function takes a string as an input and shifts each character by 5 and returns shifted string'''\": 3219, \"'''This function takes a string as an input strips out vowels and returns stripted out string'''\": 3220, \"'''This function takes an input as a string and returns the biggest output character in the string'''\": 3221, \"'-1'\": 3222, \"'-Inf'\": 3223, \"'.6f'\": 3224, \"'/path/to/some/file.ext'\": 3225, \"'1010101'\": 3226, \"'111000010000110'\": 3227, \"'12abcd405'\": 3228, \"'15'\": 3229, \"'17'\": 3230, \"'1d'\": 3231, \"'2.000000'\": 3232, \"'2000-01-03'\": 3233, \"'2000-01-06'\": 3234, \"'2000-01-08'\": 3235, \"'2015-1-1'\": 3236, \"'2020-12-20'\": 3237, \"'3, 2'\": 3238, \"'4, 1'\": 3239, \"'45'\": 3240, \"'5, 3'\": 3241, \"'Age'\": 3242, \"'Aim is to capture the key words from the corpus'\": 3243, \"'Akashs'\": 3244, \"'Akshats'\": 3245, \"'Apple'\": 3246, \"'Burger'\": 3247, \"'Cake'\": 3248, \"'Coffee'\": 3249, \"'Commuting'\": 3250, \"'Dict2'\": 3251, \"'Donut'\": 3252, \"'Early'\": 3253, \"'Expression is correctly parenthesized.'\": 3254, \"'Expression is not correctly parenthesized.'\": 3255, \"'FDCBA'\": 3256, \"'FF'\": 3257, \"'Feb'\": 3258, \"'Fries'\": 3259, \"'GeeksforGeeks'\": 3260, \"'Geeta'\": 3261, \"'Hell'\": 3262, \"'Hey'\": 3263, \"'How about one more document'\": 3264, \"'I would like to check this document'\": 3265, \"'India'\": 3266, \"'Invalid comparison'\": 3267, \"'Jan'\": 3268, \"'Joe'\": 3269, \"'Jun 1 2005  1:33PM'\": 3270, \"'KKR'\": 3271, \"'KM'\": 3272, \"'Manjeets'\": 3273, \"'March'\": 3274, \"'Matrices are NOT the same size.'\": 3275, \"'Move disk 1 from peg {} to peg {}.'\": 3276, \"'Move disk {} from peg {} to peg {}.'\": 3277, \"'Mr. T'\": 3278, \"'Nikhils'\": 3279, \"'No solutions!'\": 3280, \"'Not Found'\": 3281, \"'Not found'\": 3282, \"'PBS'\": 3283, \"'Pizza'\": 3284, \"'Popped value from left: '\": 3285, \"'Popped value from right: '\": 3286, \"'Popped value: '\": 3287, \"'Stack is empty.'\": 3288, \"'TSLA'\": 3289, \"'Tea'\": 3290, \"'Ten'\": 3291, \"'TestStringInCamelCase'\": 3292, \"'TestStringwith123456789'\": 3293, \"'The Quick 123 Fox'\": 3294, \"'The Quick Brown Fox'\": 3295, \"'The roots are imaginary'\": 3296, \"'The solution are {0} and {1}'\": 3297, \"'The string is a palindrome.'\": 3298, \"'The string is not a palindrome.'\": 3299, \"'Thirty'\": 3300, \"'This is an Assignment'\": 3301, \"'To'\": 3302, \"'True'\": 3303, \"'Twenty'\": 3304, \"'Welcome'\": 3305, \"'Yes'\": 3306, \"'[^A-Za-z0-9]+'\": 3307, \"'\\\\.[0]*'\": 3308, \"'abcde'\": 3309, \"'after for-loop'\": 3310, \"'akash'\": 3311, \"'akbar'\": 3312, \"'and'\": 3313, \"'append <value>'\": 3314, \"'appendleft <value>'\": 3315, \"'appendleft'\": 3316, \"'apple pie'\": 3317, \"'area'\": 3318, \"'aye'\": 3319, \"'aza'\": 3320, \"'bc'\": 3321, \"'bee'\": 3322, \"'bing@google.com'\": 3323, \"'can key words in this new document be identified?'\": 3324, \"'eight'\": 3325, \"'enclosing'\": 3326, \"'english'\": 3327, \"'entry'\": 3328, \"'faz'\": 3329, \"'feed'\": 3330, \"'file2.txt'\": 3331, \"'filename.xml'\": 3332, \"'fob'\": 3333, \"'frequency of words in a document is called term frequency'\": 3334, \"'funk'\": 3335, \"'global:'\": 3336, \"'hello world!'\": 3337, \"'how many how words does this many have'\": 3338, \"'https://itunes.apple.com/us/rss/topsongs/limit=10/json'\": 3339, \"'human'\": 3340, \"'idf is the inverse document frequency calculated for each of the words'\": 3341, \"'im:artist'\": 3342, \"'ing'\": 3343, \"'it'\": 3344, \"'job'\": 3345, \"'krishna'\": 3346, \"'label'\": 3347, \"'laxman'\": 3348, \"'lion'\": 3349, \"'lo'\": 3350, \"'morning'\": 3351, \"'nowplaying'\": 3352, \"'one,two,three,four,five'\": 3353, \"'orange jam'\": 3354, \"'outer before:'\": 3355, \"'perimeter'\": 3356, \"'portal'\": 3357, \"'puma'\": 3358, \"'push <value>'\": 3359, \"'push'\": 3360, \"'rotten tomato'\": 3361, \"'s'\": 3362, \"'scarface'\": 3363, \"'scorpio'\": 3364, \"'sea'\": 3365, \"'seven'\": 3366, \"'sita'\": 3367, \"'six'\": 3368, \"'something wrong'\": 3369, \"'string variable'\": 3370, \"'string'\": 3371, \"'table'\": 3372, \"'td'\": 3373, \"'the king is the one'\": 3374, \"'the quick brown fox jumps'\": 3375, \"'theschoolofai'\": 3376, \"'tiger'\": 3377, \"'tr'\": 3378, \"'tup after: '\": 3379, \"'val1'\": 3380, \"'val2'\": 3381, \"'val3'\": 3382, \"'val4'\": 3383, \"'wb'\": 3384, \"'white'\": 3385, \"'xyz'\": 3386, \"'{0:6}'\": 3387, \"'{0}={1}'\": 3388, \"'{:02x}'\": 3389, '...': 3390, '0.0328': 3391, '0.1': 3392, '0.1666': 3393, '0.33': 3394, '0.394': 3395, '0.6214': 3396, '0.83': 3397, '1.3': 3398, '1.73205': 3399, '1000000': 3400, '10000000': 3401, '1023': 3402, '12.': 3403, '123': 3404, '150': 3405, '163': 3406, '18.5': 3407, '2.': 3408, '2002': 3409, '237': 3410, '250': 3411, '257': 3412, '298': 3413, '3.': 3414, '3.14159': 3415, '312': 3416, '320': 3417, '3200': 3418, '34.564': 3419, '350': 3420, '3579': 3421, '37': 3422, '4.': 3423, '410': 3424, '412': 3425, '566': 3426, '6371.01': 3427, '69': 3428, '800': 3429, '823': 3430, '85': 3431, '96': 3432, '<<=': 3433, 'B1': 3434, 'BC': 3435, 'BeautifulSoup': 3436, 'BinaryTreeNode': 3437, 'C1': 3438, 'Cel_To_Fah': 3439, 'Celsius': 3440, 'Celsius_to_Kelvin': 3441, 'Cloning': 3442, 'CoList': 3443, 'ConnectionError': 3444, 'Content': 3445, 'CustomListIterator': 3446, 'CustomTupleIterator': 3447, 'D': 3448, 'DIGITS': 3449, 'DIR': 3450, 'D_matrix': 3451, 'Diff': 3452, 'Divident': 3453, 'Divisor': 3454, 'Ellipse': 3455, 'Fact': 3456, 'Fahrenheit': 3457, 'Fahrenheit_to_Kelvin': 3458, 'Far': 3459, 'Fib': 3460, 'FileNotFoundError': 3461, 'Find': 3462, 'Foo': 3463, 'For': 3464, 'Fractions': 3465, 'Generator': 3466, 'Graph': 3467, 'HIGHEST_PROTOCOL': 3468, 'I': 3469, 'Input': 3470, 'K2': 3471, 'Keymax': 3472, 'LList': 3473, 'LOWERCASE_CHARS': 3474, 'List1': 3475, 'List1value': 3476, 'List2value': 3477, 'Myclass': 3478, 'NewtonRaphsonSolver': 3479, 'Not': 3480, 'NotImplementedError': 3481, 'PARENT_DIR': 3482, 'Password': 3483, 'PasswordMatchCriteria': 3484, 'Phonenumber': 3485, 'Process': 3486, 'PropertyCache': 3487, 'RandomInt': 3488, 'RandomIntIterator': 3489, 'ReLU': 3490, 'RuntimeError': 3491, 'SEQUENCE': 3492, 'SPECIALS': 3493, 'Set': 3494, 'Sum': 3495, 'Surface': 3496, 'TAX_RATE': 3497, 'The': 3498, 'Ticker': 3499, 'Tuple': 3500, 'UNICODE': 3501, 'UPPERCASE_CHARS': 3502, 'Welcome': 3503, '\\\\': 3504, '__code__': 3505, '__private_method': 3506, '__repr__': 3507, '_generate_random_number_for_each_sequence': 3508, '_is_repeating': 3509, '_property_to_be_cached': 3510, '_x1': 3511, '_x2': 3512, '_y1': 3513, '_y2': 3514, 'aCircle': 3515, 'aNewYorker': 3516, 'aRectangle': 3517, 'a_and_b': 3518, 'a_dict': 3519, 'a_func': 3520, 'a_names': 3521, 'a_number': 3522, 'a_or_b': 3523, 'a_string': 3524, 'a_tuple': 3525, 'a_var': 3526, 'a_xor_b': 3527, 'abs_tol': 3528, 'absent_digits': 3529, 'accumulate': 3530, 'add_binary_nums': 3531, 'add_child': 3532, 'add_digits': 3533, 'add_even_odd_list': 3534, 'add_numbers': 3535, 'add_without_plus_operator': 3536, 'addentry': 3537, 'addnames_in_dict': 3538, 'address': 3539, 'adds_listelements': 3540, 'adds_listevenelements': 3541, 'adds_listoddelements': 3542, 'all_nums': 3543, 'all_sundays': 3544, 'all_vowels': 3545, 'amicable_no_check': 3546, 'amstrong_check': 3547, 'anagram': 3548, 'anagram_check': 3549, 'append_lists': 3550, 'arg_name': 3551, 'argparse': 3552, 'args_str': 3553, 'argsort': 3554, 'arr_sum': 3555, 'array_intersection': 3556, 'array_union': 3557, 'ascending_dict_keysort': 3558, 'ascending_dict_valuesort': 3559, 'ascending_sort': 3560, 'ast': 3561, 'autocorrelations': 3562, \"b'r\\\\xc3\\\\xa9sum\\\\xc3\\\\xa9'\": 3563, 'b_func': 3564, 'background_color': 3565, 'base_class': 3566, 'base_dir': 3567, 'base_file_name': 3568, 'base_perimeter': 3569, 'basket': 3570, 'be': 3571, 'bigChar': 3572, 'biggest_no': 3573, 'binary_left_shift': 3574, 'binary_palindrome': 3575, 'binary_right_shift': 3576, 'bit_div': 3577, 'bit_mul': 3578, 'bmi_calculator': 3579, 'board': 3580, 'bool_show': 3581, 'both': 3582, 'bubblesort': 3583, 'bytearray_to_hexadecimal': 3584, 'bytes': 3585, 'caesar_cipher': 3586, 'calculate_rect_properties': 3587, 'calculation': 3588, 'call': 3589, 'call_private_method_in_class': 3590, 'camelCase': 3591, 'can': 3592, 'capitalize_both_ends': 3593, 'carry_number': 3594, 'ce': 3595, 'change': 3596, 'change_char': 3597, 'charToASCII': 3598, 'char_frequency': 3599, 'char_shift': 3600, 'char_to_dots': 3601, 'char_val': 3602, 'check2': 3603, 'checkPerfectNum': 3604, 'check_armstrong': 3605, 'check_equal': 3606, 'check_insst': 3607, 'check_inst_tup_str': 3608, 'check_ip': 3609, 'check_lines': 3610, 'check_listvalue': 3611, 'check_number': 3612, 'check_sha256_hash': 3613, 'check_subset': 3614, 'check_tuplevalue': 3615, 'check_value': 3616, 'check_word_count': 3617, 'check_words': 3618, 'children': 3619, 'chunks': 3620, 'clean': 3621, 'clean_str': 3622, 'clear_memory': 3623, 'co_nlocals': 3624, 'collatz': 3625, 'collatz_sequence': 3626, 'collect': 3627, 'color1': 3628, 'color2': 3629, 'combination_list': 3630, 'combine_lists': 3631, 'combined_dict': 3632, 'comp': 3633, 'concat': 3634, 'concat1': 3635, 'concat2': 3636, 'concat_dic': 3637, 'concat_two_numbers': 3638, 'consume': 3639, 'convert': 3640, 'copysign': 3641, 'count_letter': 3642, 'count_lines': 3643, 'count_value': 3644, 'count_word_occurrences': 3645, 'counter_67': 3646, 'country_data_as_string': 3647, 'create_adders': 3648, 'cross_sum': 3649, 'cross_sum1': 3650, 'cryptography': 3651, 'csv_file': 3652, 'csvfile': 3653, 'ctime': 3654, 'ctypes': 3655, 'cursurf_ar': 3656, 'curvedsurfacearea': 3657, 'cus_lens': 3658, 'custom': 3659, 'd3': 3660, 'data_type': 3661, 'datalist': 3662, 'date_object': 3663, 'date_validator': 3664, 'day_dict': 3665, 'day_of_year': 3666, 'dcosine': 3667, 'deciled': 3668, 'decompress': 3669, 'decrypt': 3670, 'degree': 3671, 'degrees': 3672, 'del_x': 3673, 'del_y': 3674, 'delay': 3675, 'delimiter_pattern': 3676, 'derivative_cos': 3677, 'derivative_exp': 3678, 'derivative_log': 3679, 'derivative_relu': 3680, 'derivative_sin': 3681, 'derivative_tan': 3682, 'derived_class': 3683, 'descending_dict_keysort': 3684, 'descending_dict_valuesort': 3685, 'descending_sort': 3686, 'dexp': 3687, 'df_onehot': 3688, 'dict_2': 3689, 'dict_new': 3690, 'difference_update': 3691, 'digits_sum': 3692, 'divisible_sum_pairs': 3693, 'divmod': 3694, 'dlog': 3695, 'do_something': 3696, 'dotproduct': 3697, 'down': 3698, 'dress': 3699, 'ds': 3700, 'ds_type': 3701, 'dsine': 3702, 'dst': 3703, 'dtangent': 3704, 'dtanh': 3705, 'dup_list': 3706, 'e_soft': 3707, 'earlier_price': 3708, 'earlier_time': 3709, 'el1': 3710, 'el2': 3711, 'elapsed': 3712, 'ellipse': 3713, 'encode_string': 3714, 'encrypt': 3715, 'end_num': 3716, 'even_max_checker': 3717, 'even_nos': 3718, 'example': 3719, 'extension': 3720, 'extract_alpha': 3721, 'f\"Frequency of Occurrences of the word {a} is:\"': 3722, 'f\"Object of User class is called with parameter {self.msg}\"': 3723, 'f\"The original dictionary is : {test_dict}\"': 3724, 'f\"The original list is : {test_list}\"': 3725, 'f\"x is {x}\"': 3726, 'f\"y is {y}\"': 3727, \"f'ASCII value of {chr} is: {ord(chr)}'\": 3728, \"f'Area: {math.pi * radius * radius}'\": 3729, \"f'Calculating fact({n})'\": 3730, \"f'Circumference Of a Circle {circumference}'\": 3731, \"f'Common elements: { set(list_a).intersection(set(list_b)) }'\": 3732, \"f'Count of letters: {countmap}'\": 3733, \"f'Difference between dates: {(date2 - date1).days}'\": 3734, \"f'Digits: {digits}, Letters: {letters}'\": 3735, \"f'Function {fn.__name__} was called {count} times.'\": 3736, \"f'Lowercase: {lowercase}, Uppercase: {uppercase}'\": 3737, \"f'Number of divisor is {count}'\": 3738, \"f'Size of Tuple: {str(Tuple.__sizeof__())} bytes'\": 3739, \"f'Sub: {sum}'\": 3740, \"f'Sum: {total_sum}'\": 3741, \"f'The ASCII value of {character} is {ord(character)}'\": 3742, \"f'The ASCII value {value} is of the character {chr(value)}'\": 3743, \"f'The sum is {sum}'\": 3744, \"f'Unique numbers: {list(unique)}'\": 3745, \"f'\\\\n {i} occurs {text.count(i)} times'\": 3746, \"f'object type : {type(object)}'\": 3747, \"f'smallest:{smallest}'\": 3748, \"f'total number of bits used in {n} is : {len(bin(n)[2: ])}'\": 3749, \"f'{a} is NOT the power of {b}.'\": 3750, \"f'{a} is the power of {b}.'\": 3751, \"f'{fn.__name__}({args_str}) took {elapsed} seconds'\": 3752, \"f'{heads} heads, {tails} tails'\": 3753, \"f'{num} is a perfect number'\": 3754, \"f'{num} is not a perfect number'\": 3755, 'f11': 3756, 'f12': 3757, 'f_list': 3758, 'f_n': 3759, 'facecolor': 3760, 'fact_one_line': 3761, 'factendzero': 3762, 'fav_colors': 3763, 'feature_extraction': 3764, 'features': 3765, 'feed': 3766, 'fernet': 3767, 'fibo': 3768, 'figsize': 3769, 'figure': 3770, 'file_date_list': 3771, 'fill': 3772, 'filt_arr': 3773, 'filter_even': 3774, 'filter_odd': 3775, 'final_1': 3776, 'final_sen': 3777, 'finals': 3778, 'findDigitsCharsSymbols': 3779, 'findDivisible': 3780, 'findVolume': 3781, 'find_Area': 3782, 'find_Circumference': 3783, 'find_Diameter': 3784, 'find_Index': 3785, 'find_evennumbers': 3786, 'find_ge': 3787, 'find_gt': 3788, 'find_le': 3789, 'find_lt': 3790, 'find_odd_occurring': 3791, 'find_substr': 3792, 'find_time': 3793, 'findfactorial': 3794, 'finditer': 3795, 'firstOccurence': 3796, 'first_name': 3797, 'firstname': 3798, 'fit_transform': 3799, 'flat_dict': 3800, 'flip_dict': 3801, 'formattedNumber': 3802, 'fps': 3803, 'fromstring': 3804, 'fromtimestamp': 3805, 'gen_succeeds': 3806, 'generate': 3807, 'generateOTP': 3808, 'generate_key': 3809, 'generate_random_password': 3810, 'getBaseTen': 3811, 'getMissingNo': 3812, 'get_artists': 3813, 'get_attributes_list': 3814, 'get_attrs': 3815, 'get_btc_price': 3816, 'get_cryptographically_secure_data': 3817, 'get_factors': 3818, 'get_feature_names': 3819, 'get_html': 3820, 'get_max': 3821, 'get_natural_log_value': 3822, 'get_ordered_combinations': 3823, 'get_ordered_combinations_with_replacement': 3824, 'get_ordered_permutations': 3825, 'get_permutations': 3826, 'get_price_with_tax': 3827, 'get_rear': 3828, 'get_sha256': 3829, 'get_sorted_words': 3830, 'get_square_of_random_number': 3831, 'get_squares': 3832, 'get_stock_prices': 3833, 'get_unique_elements': 3834, 'get_uuid': 3835, 'get_weather_data': 3836, 'get_weighted_average': 3837, 'get_word': 3838, 'get_words': 3839, 'getattr': 3840, 'getcwd': 3841, 'getpass': 3842, 'getpid': 3843, 'getroot': 3844, 'getsource': 3845, 'given': 3846, 'grade': 3847, 'greatest_common_divisor': 3848, 'grouper': 3849, 'h_cm': 3850, 'h_ft': 3851, 'h_letters': 3852, 'handle_starttag': 3853, 'hashing': 3854, 'heapq': 3855, 'hello': 3856, 'hello1_func': 3857, 'hello2': 3858, 'help_fnc': 3859, 'heterogram': 3860, 'histogram': 3861, 'history': 3862, 'homoList': 3863, 'hour': 3864, 'hyp': 3865, 'imagpart': 3866, 'imshow': 3867, 'in_func2': 3868, 'inc': 3869, 'included': 3870, 'ind': 3871, 'index1': 3872, 'infinite_sequence': 3873, 'ininches': 3874, 'initial_balance': 3875, 'inputNum': 3876, 'input_file': 3877, 'input_password': 3878, 'inputdate': 3879, 'insertionSort': 3880, 'inspect': 3881, 'int_input': 3882, 'int_to_Roman': 3883, 'int_to_bin': 3884, 'int_to_hex': 3885, 'int_to_oct': 3886, 'interior_angle': 3887, 'intersection_both': 3888, 'isFirst_And_Last_Same': 3889, 'isPower': 3890, 'is_anagram': 3891, 'is_arithmetic': 3892, 'is_camel_case': 3893, 'is_even_num': 3894, 'is_geometric': 3895, 'is_leap': 3896, 'is_prime': 3897, 'isclose': 3898, 'istitle': 3899, 'itemgetter': 3900, 'iter_except': 3901, 'itr': 3902, 'ix': 3903, 'jeffrey': 3904, 'join_elements': 3905, 'join_string_parts': 3906, 'joined_path': 3907, 'jpeg_res': 3908, 'key1': 3909, 'key2': 3910, 'key_max': 3911, 'key_min': 3912, 'kilometer': 3913, 'km': 3914, 'kwlist': 3915, 'ky': 3916, 'lamb': 3917, 'lar': 3918, 'last_merged_meeting_start': 3919, 'last_name': 3920, 'last_node': 3921, 'lastname': 3922, 'later_price': 3923, 'later_time': 3924, 'lcm_hcf': 3925, 'leapyear_check': 3926, 'leaves': 3927, 'leftLength': 3928, 'leftRotate': 3929, 'left_sum': 3930, 'length1': 3931, 'length2': 3932, 'length3': 3933, 'length_list': 3934, 'length_of_last_word': 3935, 'li_copy': 3936, 'lim': 3937, 'linalg': 3938, 'list5': 3939, 'list6': 3940, 'listOfTuples': 3941, 'listToStr': 3942, 'list_1': 3943, 'list_2': 3944, 'list_a': 3945, 'list_b': 3946, 'list_input': 3947, 'list_of_list': 3948, 'list_of_string_list': 3949, 'list_op': 3950, 'list_time': 3951, 'listitems': 3952, 'lname': 3953, 'load': 3954, 'load_pickle_data': 3955, 'loan_schedule': 3956, 'lookup': 3957, 'low_diff': 3958, 'lower_st': 3959, 'lru_cache': 3960, 'ls': 3961, 'lt': 3962, 'mailid': 3963, 'main': 3964, 'major_axis': 3965, 'make_bold': 3966, 'make_incrementor': 3967, 'make_italic': 3968, 'make_negative_zero': 3969, 'make_underline': 3970, 'map_dict': 3971, 'map_reduce': 3972, 'map_values': 3973, 'mat1': 3974, 'match1': 3975, 'match_tuple': 3976, 'matplotlib': 3977, 'matrix_sum_diagonal': 3978, 'maxIndex': 3979, 'max_consecutive_0': 3980, 'max_of_three': 3981, 'max_position': 3982, 'meetings': 3983, 'memory_info': 3984, 'mergeList': 3985, 'merge_dictionaries': 3986, 'mid_str': 3987, 'midterms': 3988, 'milliseconds': 3989, 'minIndex': 3990, 'min_font_size': 3991, 'min_max': 3992, 'min_position': 3993, 'minor_axis': 3994, 'mixed_number': 3995, 'modify': 3996, 'module_name': 3997, 'moveSpaces': 3998, 'move_last': 3999, 'move_zero': 4000, 'mul_dict': 4001, 'multiprocessing': 4002, 'myDecorator': 4003, 'myDict': 4004, 'myFunction': 4005, 'myTuple': 4006, 'my_default': 4007, 'my_gen': 4008, 'my_other_list': 4009, 'myarr': 4010, 'mycode': 4011, 'mydict': 4012, 'myfunc': 4013, 'mynumbers': 4014, 'n_power': 4015, 'name_value_tuples': 4016, 'names1': 4017, 'nan': 4018, 'nchar': 4019, 'ncycles': 4020, 'ne_chunk': 4021, 'ner_checker': 4022, 'newCh': 4023, 'new_': 4024, 'new_dict': 4025, 'new_func': 4026, 'new_lst': 4027, 'new_str_list': 4028, 'new_string': 4029, 'newton_raphson': 4030, 'nextSquare': 4031, 'next_fibbonacci_number': 4032, 'next_lis': 4033, 'nlines': 4034, 'no_even_nums': 4035, 'no_notes': 4036, 'no_odd_nums': 4037, 'no_of_substring_with_equalEnds': 4038, 'non_repeats': 4039, 'normalize': 4040, 'nrs': 4041, 'nth_sq_and_cube': 4042, 'num_comm_div': 4043, 'num_digits': 4044, 'num_len': 4045, 'num_to_eng': 4046, 'nums3': 4047, 'odd_max_checker': 4048, 'odd_occurrence': 4049, 'ones_complement_a': 4050, 'only_odd': 4051, 'ord_list': 4052, 'original_list': 4053, 'out': 4054, 'outfile': 4055, 'pad': 4056, 'pad_arr_end': 4057, 'pad_arr_start': 4058, 'pad_none': 4059, 'pair_sum': 4060, 'pairwise': 4061, 'parse': 4062, 'passwords': 4063, 'path_join': 4064, 'patterns': 4065, 'peeps': 4066, 'people': 4067, 'per_lower': 4068, 'per_upper': 4069, 'perfect_no_check': 4070, 'perfect_number': 4071, 'perfect_number_checker': 4072, 'period': 4073, 'phrase': 4074, 'pi_monte_carlo': 4075, 'pickle_data': 4076, 'plain_list': 4077, 'plainlist': 4078, 'platform': 4079, 'polygon_area': 4080, 'polynomial': 4081, 'pop_ele': 4082, 'pos_tag': 4083, 'potential_profit': 4084, 'power_base': 4085, 'power_checker': 4086, 'pref_list': 4087, 'prepend': 4088, 'prime_no_check': 4089, 'primeornot': 4090, 'printEdge': 4091, 'printEveIndexChar': 4092, 'printNum': 4093, 'printTuple': 4094, 'print_binary': 4095, 'print_hexadecimal': 4096, 'print_identity_matrix': 4097, 'print_number': 4098, 'print_octal': 4099, 'print_repeatnstring': 4100, 'print_shorter': 4101, 'printn': 4102, 'prior_list': 4103, 'profane_word_url': 4104, 'profanitytextfile': 4105, 'prog_description': 4106, 'prog_name': 4107, 'public_method': 4108, 'pyplot': 4109, 'pyramid_pattern': 4110, 'python_dict': 4111, 'python_version': 4112, 'pytz': 4113, 'q11': 4114, 'q12': 4115, 'q21': 4116, 'q22': 4117, 'quadratic_root': 4118, 'quantify': 4119, 'que_list': 4120, 'quotient': 4121, 'qx': 4122, 'qy': 4123, 'r\"(?<=[%s])([%s]{2,})[%s]\"': 4124, 'r\"\\\\d{1,3}.\\\\d{1,3}.\\\\d{1,3}.\\\\d{1,3}\"': 4125, 'r\"\\\\w+ly\"': 4126, \"r' \\\\1'\": 4127, \"r'!()-[]{};:\\\\, <>./?@#$%^&*_~'\": 4128, 'r3': 4129, 'ran': 4130, 'random_combination': 4131, 'random_combination_with_replacement': 4132, 'random_permutation': 4133, 'random_product': 4134, 'range1': 4135, 'range2': 4136, 'rate_of_int': 4137, 'realpart': 4138, 'record': 4139, 'rectangle_area': 4140, 'reduce_frac': 4141, 'regex1': 4142, 'rel_tol': 4143, 'relu_list': 4144, 'rem_char': 4145, 'removeChars': 4146, 'removeDataType': 4147, 'removeEmptyList': 4148, 'removeLeadingZeros': 4149, 'remove_duplicatesinlist': 4150, 'remove_item_dict': 4151, 'remove_leading_zeros': 4152, 'remove_nums': 4153, 'remove_punctuations': 4154, 'repeat_string': 4155, 'repeated_string': 4156, 'repeatfunc': 4157, 'replace_values': 4158, 'resample': 4159, 'ret': 4160, 'returnSum': 4161, 'revStr': 4162, 'rev_letter': 4163, 'rev_st': 4164, 'rever_word': 4165, 'reverse_Bits': 4166, 'reverse_content': 4167, 'reverse_integer': 4168, 'reverse_list': 4169, 'reverse_sum': 4170, 'reversed_dict': 4171, 'reverselist': 4172, 'rfind': 4173, 'rightRotate': 4174, 'right_sum': 4175, 'roman': 4176, 'roman_to_int': 4177, 'root_n': 4178, 'rotateMatrix': 4179, 'roundrobin': 4180, 'run': 4181, 'run_decimal': 4182, 'run_float': 4183, 'rvr_letter': 4184, 's_list': 4185, 's_n': 4186, 'sample_str': 4187, 'sample_text': 4188, 'sec': 4189, 'seek': 4190, 'sentence_list': 4191, 'sequence_number': 4192, 'setBitNumber': 4193, 'setLevel': 4194, 'set_input': 4195, 'seta': 4196, 'setc': 4197, 'setx': 4198, 'sety': 4199, 'shared_items': 4200, 'shift_n_letters': 4201, 'show': 4202, 'show_ascii': 4203, 'show_sq': 4204, 'sizeOfTuple': 4205, 'sklearn': 4206, 'slope_of_a_line': 4207, 'sm': 4208, 'sort_list_last': 4209, 'sort_list_with_key': 4210, 'sortedDictionary': 4211, 'sorted_dict': 4212, 'split_elements': 4213, 'splitext': 4214, 'sq_root': 4215, 'square_area': 4216, 'square_list': 4217, 'square_num': 4218, 'squares': 4219, 'src': 4220, 'ss_dev': 4221, 'sstring_alt': 4222, 'sstring_end': 4223, 'sstring_gap2': 4224, 'sstring_strt': 4225, 'step': 4226, 'stmt': 4227, 'stop_words': 4228, 'str3': 4229, 'str4': 4230, 'str_input': 4231, 'str_lowercase': 4232, 'str_lst': 4233, 'str_uppercase': 4234, 'strin': 4235, 'string_input': 4236, 'string_k': 4237, 'string_list': 4238, 'string_opertaion': 4239, 'string_reverse': 4240, 'stringlist_to_intlist': 4241, 'strip_punctuations': 4242, 'strip_vowels': 4243, 'strong_no_check': 4244, 'students': 4245, 'subString': 4246, 'sub_listelements': 4247, 'subject': 4248, 'substr': 4249, 'subtractTheMatrix': 4250, 'suits': 4251, 'sumOfDigits': 4252, 'sum_all': 4253, 'sum_elements': 4254, 'sum_even': 4255, 'sum_even_elements': 4256, 'sum_odd_elements': 4257, 'sum_of_cubes': 4258, 'sumofdigits': 4259, 'surfaceArea': 4260, 'swapPositions': 4261, 'swap_case': 4262, 'symmetric_diff_sets': 4263, 'tail_off': 4264, 'take': 4265, 'tangent': 4266, 'tar_ele': 4267, 'tar_list': 4268, 'targ_type': 4269, 'tday': 4270, 'team_name': 4271, 'teen': 4272, 'tempString': 4273, 'tens': 4274, 'test_distinct': 4275, 'test_generator': 4276, 'test_generator_yield': 4277, 'test_key': 4278, 'test_listcompr': 4279, 'test_plainlist': 4280, 'text_searcher': 4281, 'text_without_Indentation': 4282, 'the_string': 4283, 'thistuple': 4284, 'threadName': 4285, 'three_Sum': 4286, 'tight_layout': 4287, 'time_now': 4288, 'time_period': 4289, 'timed': 4290, 'tmrw': 4291, 'toK': 4292, 'to_datetime': 4293, 'to_uppercase': 4294, 'token_bytes': 4295, 'token_hex': 4296, 'tomorrow': 4297, 'totalBits': 4298, 'total_sum': 4299, 'totalsurfacearea': 4300, 'trace': 4301, 'transform': 4302, 'transposed': 4303, 'tree_root': 4304, 'triangle_area': 4305, 'triangle_check': 4306, 'try_finally1': 4307, 'tsurf_ar': 4308, 'tup_idx': 4309, 'tup_time': 4310, 'tuple_sorted': 4311, 'tuplex_colon': 4312, 'tups': 4313, 'txn': 4314, 'txns': 4315, 'typeIdentifier': 4316, 'type_conversion': 4317, 'u\"hello world!\"': 4318, 'unicode': 4319, 'union_both': 4320, 'unique_everseen': 4321, 'unique_justseen': 4322, 'unique_values': 4323, 'unix_timestamp': 4324, 'unpack': 4325, 'upp_diff': 4326, 'upper_rest': 4327, 'upper_st': 4328, 'user1': 4329, 'user2': 4330, 'user_filename': 4331, 'val1': 4332, 'validateJSON': 4333, 'value2': 4334, 'verb': 4335, 'volumeHexagonal': 4336, 'volumePentagonal': 4337, 'volumeRec': 4338, 'volumeSquare': 4339, 'volumeTriangular': 4340, 'vote_eligibility': 4341, 'vowel_stripping': 4342, 'vowle': 4343, 'weight_kg': 4344, 'weird': 4345, 'welcome': 4346, 'which': 4347, 'word_count': 4348, 'word_join': 4349, 'word_tokenize': 4350, 'wordfreq': 4351, 'working_set': 4352, 'would': 4353, 'yfinance': 4354, 'your_ip': 4355, '|=': 4356, '\\t\\t   ': 4357, '!': 4358, '\"     banana     \"': 4359, '\"  \"': 4360, '\" + {}\"': 4361, '\" : \"': 4362, '\" = \"': 4363, '\" Alphabets = {} \\\\n Numbers = {} \\\\n Space = {} \\\\n Special Chracter = {}\"': 4364, '\" Area Of a Circle = %.2f\"': 4365, '\" Circumference Of a Circle = %.2f\"': 4366, '\" Enter Character :\"': 4367, '\" F\"': 4368, '\" Jan = January; Feb = February; Mar = March\"': 4369, '\" Please Enter Time period in Years   : \"': 4370, '\" Please Enter any Maximum Value : \"': 4371, '\" Please Enter the First Number: \"': 4372, '\" Please Enter the First Value a: \"': 4373, '\" Please Enter the Maximum Value : \"': 4374, '\" Please Enter the Principal Amount : \"': 4375, '\" Please Enter the Rate Of Interest   : \"': 4376, '\" Please Enter the Second Value b: \"': 4377, '\" Please Enter the second number: \"': 4378, '\" are :\"': 4379, '\" files.\"': 4380, '\" for pattern:\"': 4381, '\" has \"': 4382, '\" i= {0} j = {1} box_index ={2}\"': 4383, '\" is a disarium number\"': 4384, '\" is a harshad number\"': 4385, '\" is divisible by \"': 4386, '\" is not a disarium number\"': 4387, '\" is not a harshad number\"': 4388, '\" is not divisible by \"': 4389, '\" to the power of \"': 4390, '\" you will complete 100 years in \"': 4391, '\"! i ! s\"': 4392, '\"!\"': 4393, '\"\"\"\\n        @staticmethod makes the mtethod of class as static method.\\n        It is always recommended to metion it via decorator.\\n        \"\"\"': 4394, '\"\"\"\\n        Equality check between two object of same class.\\n        It is mandatory to implement __eq__ in class to do equality check.\\n        \"\"\"': 4395, '\"\"\"\\n        Less than or greater than check between two objects of same class.\\n        It is mandatory to implement __eq__ in class to do equality check.\\n        \"\"\"': 4396, '\"\"\"\\n        to make object as callable the class should have __call__ in it\\n        \"\"\"': 4397, '\"\"\"\\n    This function greets to\\n    the person passed in as\\n    a parameter\\n    \"\"\"': 4398, '\"\"\"\\n    function take input date in DD/MM/YYYY format and check its validation.\\n    \"\"\"': 4399, '\"\"\"\\n    function to count the number of divisor of interger.\\n    \"\"\"': 4400, '\"\"\"\\n    function to count the number of divisor using list comprehension.\\n    \"\"\"': 4401, '\"\"\"\\n    function to print merger of two dictionary\\n    \"\"\"': 4402, '\"\"\"\\n    function to print number to binary\\n    \"\"\"': 4403, '\"\"\"\\n    function to print whether string is palindrome or not\\n    \"\"\"': 4404, '\"\"\"\\ndef multiply(x,y):\\n    return x*y\\n\\nprint(\\'Multiply of 2 and 3 is: \\',multiply(2,3))\\n\"\"\"': 4405, '\"\"\" Check if there is any 2 characters repeating consecutively \"\"\"': 4406, '\"\"\" Generate random sequence with numbers (greater than 0).\\n        The number of items equals to \\'sequence_number\\' and\\n        the total number of items equals to \\'total\\'\\n    \"\"\"': 4407, '\"\"\" To make use of recursive calls, this function must return \\n two things: \\n 1) Length of LIS ending with element arr[n-1]. We use \\n max_ending_here for this purpose \\n 2) Overall maximum as the LIS may end with an element \\n before arr[n-1] max_ref is used this purpose. \\n The value of LIS of full array of size n is stored in \\n *max_ref which is our final result \"\"\"': 4408, '\"\"\" a decorator to cache property\\n    \"\"\"': 4409, '\"\"\"Assignment8_part2_python_programs.ipynb\\n\\nAutomatically generated by Colaboratory.\\n\\nOriginal file is located at\\n    https://colab.research.google.com/drive/1L3UkCJFHDkuGHoibhSFxZVESxbw0NUrz\\n\"\"\"': 4410, '\"\"\"India \\nis\"\"\"': 4411, '\"\"\"Python Assignment Codes.ipynb\\n\\nAutomatically generated by Colaboratory.\\n\\nOriginal file is located at\\n    https://colab.research.google.com/github/piyushjain220/TSAI/blob/main/NLP/Session8/Python_Assignment_Codes.ipynb\\n\"\"\"': 4412, '\"\"\"PythonGeneration.ipynb\\n\\nAutomatically generated by Colaboratory.\\n\\nOriginal file is located at\\n    https://colab.research.google.com/drive/10cXGL8ix2PbFMLcNlTpHdAA7GBJkQzRe\\n\"\"\"': 4413, '\"\"\"Recursively get all LIS ending with arr[0], arr[1]..arr[n-2] \\n       IF arr[n-1] is maller than arr[n-1], and max ending with \\n       arr[n-1] needs to be updated, then update it\"\"\"': 4414, '\"\"\"Return True if n is a power of two.\"\"\"': 4415, '\"\"\"Returns the sequence elements and then returns None indefinitely.\\n\\n    Useful for emulating the behavior of the built-in map() function.\\n    \"\"\"': 4416, '\"\"\"Returns the sequence elements and then returns None indefinitely.\\n    Useful for emulating the behavior of the built-in map() function.\\n    \"\"\"': 4417, '\"\"\"This function adds two numbers\"\"\"': 4418, '\"\"\"This function divides two numbers\"\"\"': 4419, '\"\"\"This function multiplies two numbers\"\"\"': 4420, '\"\"\"This function returns the absolute\\n    value of the entered number\"\"\"': 4421, '\"\"\"This function subtracts two numbers\"\"\"': 4422, '\"\"\"best \\nfor everybody \\n\"\"\"': 4423, '\"\"\"returns e^x of a number\"\"\"': 4424, '\"\"\"returns the logarithmic value of a number\"\"\"': 4425, '\"\"\"returns the softmax output of a vector\"\"\"': 4426, '\"\"\"{\\n   \"id\": 1,\\n   \"name\": \"Ishwar Venugopal\",\\n   \"class\": null,\\n   \"percentage\": 35,\\n   \"email\": \"ishwarraja@gmail.com\"\\n}\"\"\"': 4427, '\"\"\"{\\n   \"id\": 1,\\n   \"name\": \"john wick\",\\n   \"class\": 8,\\n   \"percentage\": 75,\\n   \"email\": \"jhon@pynative.com\"\\n}\"\"\"': 4428, '\"#\"': 4429, '\"#450\"': 4430, '\"$john.snow#@Got.bad_ending/com\"': 4431, '\"%064x\"': 4432, '\"%A\"': 4433, '\"%d is a Palindrome Number\"': 4434, '\"%d is not a Palindrome Number\"': 4435, '\"%d\"': 4436, '\"%s is a consonant.\"': 4437, '\"%s is a vowel.\"': 4438, '\"%s,%s\"': 4439, '\"%s: %s\"': 4440, '\"\\'\"': 4441, '\"((([0-9a-fA-F]){1,4})\\\\\\\\:){7}\"': 4442, '\"(([0-9]|[1-9][0-9]|1[0-9][0-9]|\"': 4443, '\"(1, 3, 4), (5, 6, 4), (1, 3, 6)\"': 4444, '\"([0-9]|[1-9][0-9]|1[0-9][0-9]|\"': 4445, '\"([0-9a-fA-F]){1,4}\"': 4446, '\",,,,,rrttgg.....banana....rrr\"': 4447, '\",.grt\"': 4448, '\"-End-\"': 4449, '\". Good morning!\"': 4450, '\"/ 11) minutes\"': 4451, '\"001021010001010\"': 4452, '\"1 2 3 4 5 6\"': 4453, '\"100\"': 4454, '\"101010000111\"': 4455, '\"1101\"': 4456, '\"123abcjw:, .@! eiw\"': 4457, '\"1284105682\"': 4458, '\"15\"': 4459, '\"216.08.094.196\"': 4460, '\"234\"': 4461, '\"2[0-4][0-9]|25[0-5])\"': 4462, '\"2[0-4][0-9]|25[0-5])\\\\\\\\.){3}\"': 4463, '\"3\"': 4464, '\"34\"': 4465, '\"3rd and last character: \"': 4466, '\"4 ALL geeks\"': 4467, '\"4\"': 4468, '\"456\"': 4469, '\"5 6 Good\"': 4470, '\"5 cannot be divided by O\"': 4471, '\"5/4\"': 4472, '\"875\"': 4473, '\";\"': 4474, '\"<%s>%s</%s>\"': 4475, '\"</b>\"': 4476, '\"</i>\"': 4477, '\"</u>\"': 4478, '\"<b>\"': 4479, '\"<i>\"': 4480, '\"<u>\"': 4481, '\"ABC\"': 4482, '\"ABCD\"': 4483, '\"AMITKAYAL\"': 4484, '\"AMMAR ADIL\"': 4485, '\"AND\"': 4486, '\"Accept\"': 4487, '\"Access denied\"': 4488, '\"Access granted\"': 4489, '\"Accessing a element using get:\"': 4490, '\"Added Array\"': 4491, '\"Adjacent = \"': 4492, '\"After Cloning:\"': 4493, '\"After Swapping two Number: a = {0} and b = {1}\"': 4494, '\"After removing empty strings\"': 4495, '\"Albert\"': 4496, '\"All elements are unique\"': 4497, '\"All keys maximum : \"': 4498, '\"Americans\"': 4499, '\"AmmarAdil\"': 4500, '\"An exception occured\"': 4501, '\"Anuradha\"': 4502, '\"Appending line one\\\\n\"': 4503, '\"Appending line two\"': 4504, '\"Are all columns Unique : \"': 4505, '\"Are both list reverse of each other ? : \"': 4506, '\"Area of Shape is 0\"': 4507, '\"Area of a Square is: {}\"': 4508, '\"Area of the triangle is: \"': 4509, '\"Area of the triangle: %.2f\"': 4510, '\"Area: \"': 4511, '\"Area:\"': 4512, '\"Array after left rotation: \"': 4513, '\"Arushi\"': 4514, '\"Base numbers abd index: \"': 4515, '\"Baseball\"': 4516, '\"Before Swapping two Number: a = {0} and b = {1}\"': 4517, '\"Binary Equivalent of {} is {}\"': 4518, '\"Binary Left Shift\"': 4519, '\"Binary Ones Complement\"': 4520, '\"Binary Right Shift\"': 4521, '\"Binary value of \"': 4522, '\"Black\"': 4523, '\"Blue\"': 4524, '\"C:/\"': 4525, '\"Celsius = \"': 4526, '\"Chars = \"': 4527, '\"Choose your weapon [R]ock], [P]aper, or [S]cissors: \"': 4528, '\"Christina\"': 4529, '\"Collection of distinct numbers:\\\\n\"': 4530, '\"Compound interest is\"': 4531, '\"Copied Array\"': 4532, '\"Cosine\"': 4533, '\"Count of words\"': 4534, '\"Count\"': 4535, '\"Cricket\"': 4536, '\"Cube: {}\"': 4537, '\"Current python version: \"': 4538, '\"Curved Surface Area Of Cylinder = \"': 4539, '\"DATA\"': 4540, '\"DOWN\"': 4541, '\"Darcy\"': 4542, '\"David\"': 4543, '\"Decreasing Point : \"': 4544, '\"Demo class of Mathematics\"': 4545, '\"Demo of custom message by repr and str in class\"': 4546, '\"Demo of lt and eq in class\"': 4547, '\"Destination File doesn\\'t exist\"': 4548, '\"Diana\"': 4549, '\"Dictionaries with summation greater than K : \"': 4550, '\"Dictionary Items  :  \"': 4551, '\"Difference elements:\"': 4552, '\"Digits = \"': 4553, '\"Digits used in given strings are: {}\"': 4554, '\"Digits: \"': 4555, '\"Disarium numbers between 1 and 100 are\"': 4556, '\"Discard\"': 4557, '\"Distance in inch : \"': 4558, '\"Division = {}\"': 4559, '\"Does string start with any prefix list sublist ? : \"': 4560, '\"Duplicates Removed\"': 4561, '\"ENTER THE NUMBER OF DISKS: \"': 4562, '\"EVEN length words:\"': 4563, '\"Early\"': 4564, '\"Elements of array sorted in ascending order: \"': 4565, '\"Elements of given array present on even position: \"': 4566, '\"Elements of original array: \"': 4567, '\"Emma is a data scientist who knows Python. Emma works at google.\"': 4568, '\"Empty Dictionary: \"': 4569, '\"Enter Age : \"': 4570, '\"Enter Denominator: \"': 4571, '\"Enter Integer \"': 4572, '\"Enter Integer Number: \"': 4573, '\"Enter Nominator: \"': 4574, '\"Enter Number : \"': 4575, '\"Enter Passwords which are seperated by \\\\\",\\\\\": \"': 4576, '\"Enter String : \"': 4577, '\"Enter String\"': 4578, '\"Enter Value of n: \"': 4579, '\"Enter a Single Character: \"': 4580, '\"Enter a character: \"': 4581, '\"Enter a number n: \"': 4582, '\"Enter a number with multiple digit: \"': 4583, '\"Enter a number:\"': 4584, '\"Enter a sentence : \"': 4585, '\"Enter a string! \"': 4586, '\"Enter an integer:\"': 4587, '\"Enter any no. \"': 4588, '\"Enter choice(1/2/3/4):\"': 4589, '\"Enter element\"': 4590, '\"Enter element: \"': 4591, '\"Enter first number :\"': 4592, '\"Enter first number\"': 4593, '\"Enter first number:\"': 4594, '\"Enter key list : \"': 4595, '\"Enter list of integers: \"': 4596, '\"Enter list\"': 4597, '\"Enter month: \"': 4598, '\"Enter number :\"': 4599, '\"Enter number: \"': 4600, '\"Enter principal : \"': 4601, '\"Enter rate : \"': 4602, '\"Enter second number :\"': 4603, '\"Enter second number\"': 4604, '\"Enter second number:\"': 4605, '\"Enter set 1 \"': 4606, '\"Enter set 2 \"': 4607, '\"Enter string \"': 4608, '\"Enter the distance measured in centimeter : \"': 4609, '\"Enter the first number:\"': 4610, '\"Enter the height in centimeters:\"': 4611, '\"Enter the lower limit for the range:\"': 4612, '\"Enter the name of the file with .txt extension:\"': 4613, '\"Enter the number of elements in list:\"': 4614, '\"Enter the number of elements to be inserted: \"': 4615, '\"Enter the number to print the tables for:\"': 4616, '\"Enter the second number:\"': 4617, '\"Enter the upper limit for the range:\"': 4618, '\"Enter the value of N: \"': 4619, '\"Enter the value of x :\"': 4620, '\"Enter the value of y :\"': 4621, '\"Enter third number: \"': 4622, '\"Enter third number:\"': 4623, '\"Enter time : \"': 4624, '\"Enter upper limit of range: \"': 4625, '\"Enter value in kilometers: \"': 4626, '\"Enter value list : \"': 4627, '\"Enter year: \"': 4628, '\"Enter your first name: \"': 4629, '\"Enter your input: \"': 4630, '\"Enter your last name: \"': 4631, '\"Equidigit tuples List : \"': 4632, '\"Equilateral triangle\"': 4633, '\"Even Numbers are: \"': 4634, '\"Even numbers in the list: \"': 4635, '\"Even\"': 4636, '\"Extra Position variable\"': 4637, '\"Extracted String : \"': 4638, '\"F\"': 4639, '\"FIBONACCI\"': 4640, '\"Filtered Rows : \"': 4641, '\"Filtered elements : \"': 4642, '\"For\"': 4643, '\"Friday\"': 4644, '\"Function Name\"': 4645, '\"Function name/class name/module\"': 4646, '\"Function\"': 4647, '\"G4G is Best 4\"': 4648, '\"GF ! g !\"': 4649, '\"Geeks-for-Geeks\"': 4650, '\"GfG is best\"': 4651, '\"Gfg Heaven\"': 4652, '\"Given list of integers:\"': 4653, '\"Given number is\"': 4654, '\"Given string is not palindrome\"': 4655, '\"Given string is palindrome\"': 4656, '\"Good Night\"': 4657, '\"Good bye bye world world\"': 4658, '\"Guess a number: \"': 4659, '\"HELLO \"': 4660, '\"HELLO WORLD!\"': 4661, '\"HELLO\"': 4662, '\"Haritha\"': 4663, '\"Hello 12345 World\"': 4664, '\"Hello how are you ?\"': 4665, '\"Hello world Hello\"': 4666, '\"Hello world!\"': 4667, '\"Hello world\"': 4668, '\"Hello!!!, she said ---and went.\"': 4669, '\"Hello, \"': 4670, '\"Hello, welcome to my world.\"': 4671, '\"Hello@World\"': 4672, '\"Helloworld\"': 4673, '\"How come Side is zero.\"': 4674, '\"How many terms you want? \"': 4675, '\"Hypotenuse = \"': 4676, '\"I chose: \"': 4677, '\"I love India   now I will be printed without any space\"': 4678, '\"Incremented Numeric Strings : \"': 4679, '\"India is my country.\"': 4680, '\"Indians\"': 4681, '\"Initial Dictionary: \"': 4682, '\"Initial string\"': 4683, '\"Input Date is Valid\"': 4684, '\"Input Date is invalid\"': 4685, '\"Input Temperature is Negative\"': 4686, '\"Input a letter of the alphabet: \"': 4687, '\"Input lengths of shorter triangle sides:\"': 4688, '\"Input lengths of the triangle sides: \"': 4689, '\"Input number of columns: \"': 4690, '\"Input number of rows: \"': 4691, '\"Input should be of type Int\"': 4692, '\"Input string is not a valid datetime type\"': 4693, '\"Input the month : \"': 4694, '\"Input the radius of the circle : \"': 4695, '\"Input the year : \"': 4696, '\"Input word_list to function longestWord must be list of words of size at least 1\"': 4697, '\"Input your name: \"': 4698, '\"Inputs must be integers\"': 4699, '\"Inside B\"': 4700, '\"Interest rate     : \"': 4701, '\"Interest rate   : \"': 4702, '\"Intersection\"': 4703, '\"Invalid IP\"': 4704, '\"Invalid Input Format\"': 4705, '\"Invalid Temperature Coneversion\"': 4706, '\"Invalid User Distance Input\"': 4707, '\"Invalid argument passed\"': 4708, '\"Invalid delta requested\"': 4709, '\"Invalid input\"': 4710, '\"Inverse mapped dictionary : \"': 4711, '\"Is 2nd tuple subset of 1st ? : \"': 4712, '\"Is any string empty in list? : \"': 4713, '\"Ishwar@12Su@ 1\\'\"': 4714, '\"IshwarVenugopal\"': 4715, '\"It is Zero\"': 4716, '\"It is a negative number\"': 4717, '\"It is a palindrome\"': 4718, '\"It is positive number\"': 4719, '\"JRR Tolkien\"': 4720, '\"Jeffrey\"': 4721, '\"John\"': 4722, '\"Kgs\"': 4723, '\"LCM is:\"': 4724, '\"LEFT\"': 4725, '\"Largest element is:\"': 4726, '\"Learning from Geeks for Geeks\"': 4727, '\"Left Rotation of\"': 4728, '\"Length of lis is \"': 4729, '\"Length of the first leg: \"': 4730, '\"Length of the second leg: \"': 4731, '\"Length of the string is: \"': 4732, '\"Length of the string is:\"': 4733, '\"Leterally can be anything\"': 4734, '\"Letters: \"': 4735, '\"List Integer Summation : \"': 4736, '\"List after empty list removal : \"': 4737, '\"List after sorting tuple by Nth index sort : \"': 4738, '\"List has duplicates\"': 4739, '\"List is not empty\"': 4740, '\"List with duplicates removed:\"': 4741, '\"Log_x_b\"': 4742, '\"Login: >> \"': 4743, '\"Lower Case\"': 4744, '\"Lower: %.2f%%\"': 4745, '\"Mandatory\"': 4746, '\"Mani\"': 4747, '\"Manjeet\"': 4748, '\"Mar 26 2021  4:20PM\"': 4749, '\"Mean of sample is : \"': 4750, '\"Median of Records is : \"': 4751, '\"Meters\"': 4752, '\"Mohan\"': 4753, '\"Monday\"': 4754, '\"Multiplied Array\"': 4755, '\"My name is GYOBU MASATAKA ONIWA!\"': 4756, '\"NOT_FIBONACCI\"': 4757, '\"Nandini\"': 4758, '\"Negative Number Entered\"': 4759, '\"Nico\"': 4760, '\"Nitin\"': 4761, '\"No Polygon of Side 1 & 2 Exists\"': 4762, '\"No common elements\"': 4763, '\"No factorials for negative numbers!\"': 4764, '\"No files with matching pattern found\"': 4765, '\"No solutions!\"': 4766, '\"No, string is not binary\"': 4767, '\"None\"': 4768, '\"Not a Valid Password\"': 4769, '\"Not present\"': 4770, '\"Number is \"': 4771, '\"Number of even numbers :\"': 4772, '\"Number of odd numbers :\"': 4773, '\"O\"': 4774, '\"OR\"': 4775, '\"Occurrences of the letter:\"': 4776, '\"Odd Numbers are: \"': 4777, '\"Odd\"': 4778, '\"Opposite = \"': 4779, '\"Orange\"': 4780, '\"Original Collection: \"': 4781, '\"Original List:\"': 4782, '\"Original Number: \"': 4783, '\"Original Strings are\"': 4784, '\"Original list of tuples:\"': 4785, '\"P@#yn26at^&i5ve\"': 4786, '\"PQR\"': 4787, '\"Palindrome\"': 4788, '\"Paper beat rock, I win! \"': 4789, '\"Perfect numbers present in the list is: \"': 4790, '\"Perimeter of the triangle: %.2f\"': 4791, '\"Peter\"': 4792, '\"Pink\"': 4793, '\"Please Enter Your Own String : \"': 4794, '\"Please Enter the First  String : \"': 4795, '\"Please Enter the Second String : \"': 4796, '\"Please choose a letter:\"': 4797, '\"Please enter a integer \"': 4798, '\"Please enter a positive number!\"': 4799, '\"Please enter the %d Element of List1 : \"': 4800, '\"Please enter the %d Element of List2 : \"': 4801, '\"Please enter the Items of a First and Second List   \"': 4802, '\"Please enter the Value of %d Element : \"': 4803, '\"Positive Number Entered\"': 4804, '\"Present, \"': 4805, '\"Principle amount  : \"': 4806, '\"Principle amount: \"': 4807, '\"Pro\"': 4808, '\"Provide extra to unpack dictionary\"': 4809, '\"Python Exercises\"': 4810, '\"Python is a programming language\"': 4811, '\"Python is good for datascience\"': 4812, '\"Python version info: \"': 4813, '\"Python version: \"': 4814, '\"Quotient is:\"': 4815, '\"R@m@_f0rtu9e$\"': 4816, '\"RIGHT\"': 4817, '\"ROHAN\"': 4818, '\"Ram\"': 4819, '\"Rank of the matrix A: \"': 4820, '\"Received input is : \"': 4821, '\"Remainder is:\"': 4822, '\"Repetions must be of type Integer\"': 4823, '\"Requested combination length less than length of list\"': 4824, '\"Requested count more than file count in:\"': 4825, '\"Result : \"': 4826, '\"Resultant list is : \"': 4827, '\"Resultant permutations\"': 4828, '\"Return type:\"': 4829, '\"Reverse of a Given number is = %d\"': 4830, '\"Reversed String:\"': 4831, '\"Right Rotation of\"': 4832, '\"Rock, Paper, Scissors - Shoot!\"': 4833, '\"Rolling the dices...\"': 4834, '\"Saturday\"': 4835, '\"Scalene triangle\"': 4836, '\"SchoolofAI\"': 4837, '\"Scissors beats paper! I win! \"': 4838, '\"Scissors beats rock, I win! \"': 4839, '\"Shambhavi\"': 4840, '\"Shape of the matrix A: \"': 4841, '\"Show the multiplication table of? \"': 4842, '\"Shruthi\"': 4843, '\"Similar values keys : \"': 4844, '\"Simple Interest : \"': 4845, '\"Sin\"': 4846, '\"Single Integer: \"': 4847, '\"Smallest divisor is:\"': 4848, '\"Sometimes letter y stand for vowel, sometimes stand for consonant.\"': 4849, '\"Sorted Tuples : \"': 4850, '\"Sorted array\"': 4851, '\"Sorted dictionary : \"': 4852, '\"SriNAtH\"': 4853, '\"Standard deviation of sample is : \"': 4854, '\"String after concatenation : \"': 4855, '\"String is accepted\"': 4856, '\"String is not accepted.\"': 4857, '\"Strings after splitting : \"': 4858, '\"Strong Password\"': 4859, '\"Subtracted Array\"': 4860, '\"Sum :\"': 4861, '\"Sum of all elements in given list: \"': 4862, '\"Sum of cubes: \"': 4863, '\"Sum of digits is: \"': 4864, '\"Sum of digits: \"': 4865, '\"Sum of n positive Integer till {} is {}\"': 4866, '\"Sum of {} is {}\"': 4867, '\"Sum: {:.2f}\"': 4868, '\"Sunday\"': 4869, '\"Surface: \"': 4870, '\"Symbol = \"': 4871, '\"Tangent\"': 4872, '\"Temperature in Kelvin ( K ) = \"': 4873, '\"Temperature in Kelvin ( K ) = {:.3f}\"': 4874, '\"Temperature:\"': 4875, '\"Thank you for the music\\\\nWelcome to the jungle\"': 4876, '\"The Cummulative product of list is : \"': 4877, '\"The Final After String Concatenation with Space = \"': 4878, '\"The Final String After Python String Concatenation = \"': 4879, '\"The H.C.F. of\"': 4880, '\"The Index position of Largest Element in this List is : \"': 4881, '\"The Index position of Smallest Element in this List is : \"': 4882, '\"The Largest Element in this List is : \"': 4883, '\"The Numerical values : \"': 4884, '\"The Smallest Element in this List is : \"': 4885, '\"The String after changing case : \"': 4886, '\"The arbitrary pair returned is: \"': 4887, '\"The area of the circle with radius \"': 4888, '\"The computed dictionary : \"': 4889, '\"The computed summation of products : \"': 4890, '\"The dictionary after merging : \"': 4891, '\"The dictionary after removal of double quotes : \"': 4892, '\"The dimension in feet \"': 4893, '\"The dimension in inches \"': 4894, '\"The directory \"': 4895, '\"The divisiors of \"': 4896, '\"The extracted keys : \"': 4897, '\"The extracted maximum element item : \"': 4898, '\"The extracted values : \"': 4899, '\"The extrated digits : \"': 4900, '\"The factorial of \"': 4901, '\"The filtered Dictionaries : \"': 4902, '\"The filtered dictionary : \"': 4903, '\"The filtered tuples : \"': 4904, '\"The first list is : \"': 4905, '\"The first: \"': 4906, '\"The last: \"': 4907, '\"The length in feet\"': 4908, '\"The length in inches\"': 4909, '\"The list after removing duplicates : \"': 4910, '\"The list of words lengths is : \"': 4911, '\"The list printed sorting by age: \"': 4912, '\"The lists are identical\"': 4913, '\"The lists are not identical\"': 4914, '\"The lowest K records are : \"': 4915, '\"The maximum element key : \"': 4916, '\"The maximum of all characters in GeeksforGeeks is : \"': 4917, '\"The maximum of all characters in Helloworld is : \"': 4918, '\"The minimum occurring element is : \"': 4919, '\"The minimum of all characters in GeeksforGeeks is : \"': 4920, '\"The minimum of all characters in the given word is : \"': 4921, '\"The modified dictionary : \"': 4922, '\"The number is a strong number\"': 4923, '\"The number is an armstrong number. \"': 4924, '\"The number is not a strong number\"': 4925, '\"The number isn\\'t an arsmtrong number. \"': 4926, '\"The original dictionary 1 is : \"': 4927, '\"The original dictionary 2 is : \"': 4928, '\"The original string 1 is : \"': 4929, '\"The original string 2 is : \"': 4930, '\"The replaced string : \"': 4931, '\"The required frequency : \"': 4932, '\"The resolution of the image is\"': 4933, '\"The resultant joined string : \"': 4934, '\"The reversed order dictionary : \"': 4935, '\"The second list is : \"': 4936, '\"The set difference of list is : \"': 4937, '\"The sorted result : \"': 4938, '\"The string after character deletion : \"': 4939, '\"The string after inserting comma after every character pair : \"': 4940, '\"The string after replacing : \"': 4941, '\"The string after swap : \"': 4942, '\"The sum of digits in the number is\"': 4943, '\"The value is:\"': 4944, '\"The value of num1 after swapping: {}\"': 4945, '\"The value of num2 after swapping: {}\"': 4946, '\"The values are....\"': 4947, '\"TheSchoolofAI\"': 4948, '\"This is 17B Assignment\"': 4949, '\"This is a good book\"': 4950, '\"This is a python language\"': 4951, '\"This is a very good place to Visit\"': 4952, '\"This is an even number.\"': 4953, '\"This is an odd number.\"': 4954, '\"Thursday\"': 4955, '\"Tie! \"': 4956, '\"Tie\"': 4957, '\"Time in years     : \"': 4958, '\"Time in years   : \"': 4959, '\"Time now at greenwich meridian is : \"': 4960, '\"Today = \"': 4961, '\"Tomorrow = \"': 4962, '\"Total Number of Vowels in this String = \"': 4963, '\"Total Surface Area Of Cylinder = \"': 4964, '\"Total number of digits: \"': 4965, '\"Total number of letters: \"': 4966, '\"Total number of lowercase letters: \"': 4967, '\"Total number of uppercase letters: \"': 4968, '\"Total sum of values in the dictionary:\"': 4969, '\"Trace of the matrix A: \"': 4970, '\"Transpose Array\"': 4971, '\"Trump was the American President\"': 4972, '\"Tuesday\"': 4973, '\"Two sets have items in common\"': 4974, '\"Two sets have no items in common\"': 4975, '\"Type of \"': 4976, '\"U\"': 4977, '\"UP\"': 4978, '\"Union\"': 4979, '\"United States of America\"': 4980, '\"Upper Case\"': 4981, '\"Upper: %.2f%%\"': 4982, '\"Valid IPv4\"': 4983, '\"Valid IPv6\"': 4984, '\"Valid Password\"': 4985, '\"Value of C(%d,%d) is (%d)\"': 4986, '\"ValueError occured in the function\"': 4987, '\"Variable1\"': 4988, '\"Vector1\"': 4989, '\"Vector2\"': 4990, '\"Vicky\"': 4991, '\"Volume = \"': 4992, '\"Volume Of Cylinder = \"': 4993, '\"W\"': 4994, '\"Weak Password\"': 4995, '\"Wednesday\"': 4996, '\"Welcome to USA. usa awesome, isn\\'t it?\"': 4997, '\"Welcome to schoolofAI\"': 4998, '\"Welcome to the system\"': 4999, '\"Where is this going? Could you please help me understand!\"': 5000, '\"Who is the American President now?\"': 5001, '\"XOR\"': 5002, '\"Year: \"': 5003, '\"Yes, string is binary\"': 5004, '\"Yesterday = \"': 5005, '\"You Guesses too high!\"': 5006, '\"You chose: \"': 5007, '\"You guessed too low!\"': 5008, '\"You know the answer!\"': 5009, '\"You win!\"': 5010, '\"Your BMI is: {0} and you are \"': 5011, '\"Your number is a multiple of 4\"': 5012, '\"Your number is even...\"': 5013, '\"Your number is odd...\"': 5014, '\"Zero Entered\"': 5015, '\"Zero Matrix\"': 5016, '\"[R]ock, [S]cissors or [P]aper.\"': 5017, '\"[SsRrPp]\"': 5018, '\"[]\"': 5019, '\"[num for num in fib(100) ]\"': 5020, '\"\\\\\"%s\\\\\"\"': 5021, '\"\\\\n Diameter Of a Circle = %.2f\"': 5022, '\"\\\\n Reverse of entered number is = %d\"': 5023, '\"\\\\nDeleting Entire Dictionary: \"': 5024, '\"\\\\nDeleting a key from Nested Dictionary: \"': 5025, '\"\\\\nDeleting a specific key: \"': 5026, '\"\\\\nDictionary after deletion: \"': 5027, '\"\\\\nDictionary with each item as a pair: \"': 5028, '\"\\\\nDictionary with the use of Integer Keys: \"': 5029, '\"\\\\nDictionary with the use of Mixed Keys: \"': 5030, '\"\\\\nDictionary with the use of dict(): \"': 5031, '\"\\\\nNew list after adding above three lists:\"': 5032, '\"\\\\nOriginal Number: \"': 5033, '\"\\\\nPower of said number in bases raised to the corresponding number in the index:\"': 5034, '\"\\\\nPython Copyright Information\"': 5035, '\"\\\\nSimple Interest for Principal Amount {0} = {1}\"': 5036, '\"\\\\nSlicing characters between \"': 5037, '\"\\\\nSorting the List of Tuples:\"': 5038, '\"\\\\nThe total Sum of Two Lists =  \"': 5039, '\"\\\\r\"': 5040, '\"\\\\t\"': 5041, '\"\\\\t\\\\t\"': 5042, '\"^\"': 5043, '\"ab\"': 5044, '\"abGFGcs\"': 5045, '\"abc.txt\"': 5046, '\"abcd\"': 5047, '\"after my_list1[1][0] = \\'a\\' ---> \"': 5048, '\"after my_list2[1][0] = \\'a\\':  ---> \"': 5049, '\"akshayjain\"': 5050, '\"ammar adil\"': 5051, '\"ammaradil\"': 5052, '\"as I breath, you WILL not pass the castle gates!\"': 5053, '\"asalloi\"': 5054, '\"awesome\"': 5055, '\"bananna\"': 5056, '\"best !!\"': 5057, '\"binary value of \"': 5058, '\"bits required to store \"': 5059, '\"black\"': 5060, '\"boxes[box_index]: \"': 5061, '\"cde\"': 5062, '\"cdforef\"': 5063, '\"class A\"': 5064, '\"class A1\"': 5065, '\"class B\"': 5066, '\"class C1\"': 5067, '\"columnns[j]: \"': 5068, '\"compound Interest : \"': 5069, '\"conondrum\"': 5070, '\"date: \"': 5071, '\"def\"': 5072, '\"degree =\"': 5073, '\"delhi\"': 5074, '\"dict\"': 5075, '\"dict[\\'Age\\']: \"': 5076, '\"dict[\\'Name\\']: \"': 5077, '\"disarium\"': 5078, '\"entered string isn\\'t a substring\"': 5079, '\"erty\"': 5080, '\"excellent!\"': 5081, '\"f(n-1)+100 = \"': 5082, '\"file1 content...\"': 5083, '\"file2 content...\"': 5084, '\"filepath not found\"': 5085, '\"final string\"': 5086, '\"foo    bar   foobar foo\"': 5087, '\"for 7 CS\"': 5088, '\"function\"': 5089, '\"geek for geeks\"': 5090, '\"geeks for geeks geeks geeks geeks\"': 5091, '\"geeks for geeks\"': 5092, '\"geeks4geeks is best\"': 5093, '\"goal\"': 5094, '\"gone\"': 5095, '\"have\"': 5096, '\"health\"': 5097, '\"healthy.\"': 5098, '\"hello world!\"': 5099, '\"hi i love python\"': 5100, '\"https://raw.githubusercontent.com/RobertJGabriel/Google-profanity-words/master/list.txt\"': 5101, '\"i am muskan\"': 5102, '\"i like this program very much\"': 5103, '\"includehelp.com is a tutorials site\"': 5104, '\"initial list : \"': 5105, '\"initial string : \"': 5106, '\"is my favorite\"': 5107, '\"ishwarraja@gmail.com\"': 5108, '\"isosceles triangle\"': 5109, '\"list converted string: \"': 5110, '\"list\"': 5111, '\"list1:\"': 5112, '\"list2:\"': 5113, '\"merge_key\"': 5114, '\"monkey\"': 5115, '\"month: \"': 5116, '\"morning\"': 5117, '\"mumbai\"': 5118, '\"new\"': 5119, '\"not disarium\"': 5120, '\"number of sides must be greater than 2 and less than 7\"': 5121, '\"of all fruits\"': 5122, '\"oh!\"': 5123, '\"overweight.\"': 5124, '\"pant\"': 5125, '\"piyushjain\"': 5126, '\"play\"': 5127, '\"programming in \\\\n python\"': 5128, '\"pune\"': 5129, '\"python java c c++ javascript pascal php\"': 5130, '\"raj\"': 5131, '\"red\"': 5132, '\"repetitions should be greater that 0\"': 5133, '\"result\"': 5134, '\"rises\"': 5135, '\"rohan\"': 5136, '\"rows[i]: \"': 5137, '\"s\"': 5138, '\"section\"': 5139, '\"set\"': 5140, '\"severely overweight.\"': 5141, '\"severely underweight.\"': 5142, '\"shirt\"': 5143, '\"side length must be positive\"': 5144, '\"something wrong\"': 5145, '\"str3: \"': 5146, '\"str4: \"': 5147, '\"str: \"': 5148, '\"string doesn\\'t start with the given substring\"': 5149, '\"string starts with the given substring\"': 5150, '\"striver\"': 5151, '\"surface area =\"': 5152, '\"surprise\"': 5153, '\"test\"': 5154, '\"the greatest common divisor is\"': 5155, '\"the surprise is in here somewhere\"': 5156, '\"this is test string\"': 5157, '\"total counts of chars, digits,and symbols \\\\n\"': 5158, '\"tuple\"': 5159, '\"two\"': 5160, '\"underweight.\"': 5161, '\"user message\"': 5162, '\"value =\"': 5163, '\"variance of the sample is: \"': 5164, '\"vikram\"': 5165, '\"volume =\"': 5166, '\"watch\"': 5167, '\"welcome\"': 5168, '\"x: \"': 5169, '\"y: \"': 5170, '\"year: \"': 5171, '\"yellow\"': 5172, '\"you got It!\"': 5173, '\"your IP Address is: \"': 5174, '\"z: \"': 5175, '\"{0} is Even\"': 5176, '\"{0} is Odd\"': 5177, '\"{} is Vowel\"': 5178, '\"{} is co nsonent (Not Vowel)\"': 5179, '\"{} is completely Divisible by {}\"': 5180, '\"{} is not completely Divisible by {}\"': 5181, '#  given the temperature value and its unit': 5182, '# 12 = 0000 1100': 5183, '# 13 = 0000 1101': 5184, '# 60 = 0011 1100': 5185, '# Base case': 5186, '# Calculate the angles moved by ': 5187, '# Calculates compound interest  ': 5188, '# Catalan(n) is the sum  ': 5189, '# Characters after the nth indexed ': 5190, '# Characters before the i-th indexed ': 5191, '# Compare maxEndingHere with overall maximum. And ': 5192, '# Constructor': 5193, '# Create an instance variable': 5194, '# Enter letter to be searched': 5195, '# Enter the string ': 5196, '# Find the difference between ': 5197, '# First Fibonacci number is 0 ': 5198, '# I (intentionally) made typo here!': 5199, '# Instance method': 5200, '# Move the root of the max heap to the end of': 5201, '# Nothing': 5202, '# Python version <= 3.4.5 evaluates this statement to False': 5203, '# Recursive Call ': 5204, '# Return the smaller angle of two ': 5205, '# Returning string after removing ': 5206, '# Second Fibonacci number is 1 ': 5207, '# The function _lis() stores its result in maximum ': 5208, '# Write your code here': 5209, '# Write your logic here': 5210, '# add 12 to hours and remove PM ': 5211, '# adding True if all Even elements ': 5212, '# but Python thinks we forgot to define the local variable!': 5213, '# calculate height': 5214, '# calculate width': 5215, '# calculating hours from difference ': 5216, '# calculating minutes from difference ': 5217, '# calculating the difference ': 5218, '# calling run function  ': 5219, '# changes the gobal variable': 5220, '# checking for 1st decreasing element ': 5221, '# checking for all Unique elements ': 5222, '# checking for begin char ': 5223, '# checking for even elements ': 5224, '# checking for key or value equality ': 5225, '# checking for key presence and updating max ': 5226, '# checking for similar values ': 5227, '# checking for values datatype ': 5228, '# checking pair sum ': 5229, '# conditional operator ': 5230, '# convert h1 : m1 into minutes ': 5231, '# convert h2 : m2 into minutes  ': 5232, '# convert to int': 5233, '# deep copy': 5234, '# ending row': 5235, '# frequency of words in text': 5236, '# get product start from left': 5237, '# get product starting from right': 5238, '# getting column  ': 5239, '# getting length of list of tuples ': 5240, '# getting mid element ': 5241, '# handle case where one of the list will be empty': 5242, '# hour and minute hands with  ': 5243, '# if negative number': 5244, '# if not the last negative number': 5245, '# if one common ': 5246, '# if string has letter ': 5247, '# if string has number ': 5248, '# incrementing on testing for digit. ': 5249, '# index of left most element': 5250, '# index of smaller element': 5251, '# is AM and first two elements are 12 ': 5252, '# is PM and first two elements are 12    ': 5253, '# is stored in a variable a ': 5254, '# is stored in a variable b ': 5255, '# iterate the list': 5256, '# lenght of arr ': 5257, '# looping till length l ': 5258, '# maxEndingHere is the length of LIS ending with arr[n-1] ': 5259, '# maximum variable holds the result ': 5260, '# next 2 bytes is width': 5261, '# nth indexed character. ': 5262, '# of catalan(i)*catalan(n-i-1) ': 5263, '# or presentday = datetime.today() ': 5264, '# order points by x, then by y': 5265, '# pivot ': 5266, '# possible angles ': 5267, '# reference': 5268, '# reference to 12:00 ': 5269, '# remove the AM     ': 5270, '# single line to find factorial ': 5271, '# slicing Equidigits ': 5272, '# slicing for particular length ': 5273, '# storing maximum of difference ': 5274, '# swap ': 5275, '# swap the two': 5276, '# to print new line': 5277, '# traverse in the 2nd list ': 5278, '# two angles ': 5279, '# update the last position': 5280, '# update the overall maximum if needed ': 5281, '# update values  ': 5282, '# use while loop to iterate un till zero  ': 5283, '# write a python function to check whether the number is an Armstrong number or not': 5284, '# write a python function to check whether the string is a palindrome or not': 5285, '#(mode, ino, dev, nlink, uid, gid, size, atime, mtime, ctime) = os.stat(file)': 5286, '#Shift element of array by one    ': 5287, '#Stores the last element of array    ': 5288, '#args = parser.parse_args()': 5289, '#asking age': 5290, '#asking name': 5291, '#because we need to include n in sum': 5292, '#continue': 5293, '#for j in i:': 5294, '#get difference between age x 100 years': 5295, '#get the current year': 5296, '#if opponenetChoice == str(\"R\") and str.upper(userChoice) == \"P\"': 5297, '#import datetime': 5298, '#is item in lista2 already?': 5299, '#limit string to 64 characters': 5300, '#print((i,j)) ': 5301, '#print(ini_tuple[j])': 5302, '#print(n1)': 5303, \"#result = re.findall(r'[^a-zA-Z]+',my_string)\": 5304, '#return \"\".join(result)': 5305, '#show exactly year that user will turn 100 years old': 5306, '#what is int doing here? Annotations': 5307, \"' , '\": 5308, \"' :'\": 5309, \"' Please Enter the radius of a circle: '\": 5310, \"' asdga \\\\t\\\\r'\": 5311, \"' hundred'\": 5312, \"' world!'\": 5313, '\\'\"%s\"\\'': 5314, '\\'\"Geeks\"\\'': 5315, '\\'\"datetime.time(0,0,0)\" (Midnight) ->\\'': 5316, '\\'\"g\"eeks\\'': 5317, '\\'\"is\" for\\'': 5318, '\\'\"{}\"\\'': 5319, \"'%'\": 5320, \"'%0.1f  Celsius is equal to %0.1f degree Fahrenheit'\": 5321, \"'%0.3f kilometers is equal to %0.3f miles'\": 5322, \"'%Y-%m-%d %H:%M:%S'\": 5323, \"'%s: %s is present in both x and y'\": 5324, \"'''\\n        Python is a widely used high-level, general-purpose, interpreted,\\n        dynamic programming language. Its design philosophy emphasizes\\n        code readability, and its syntax allows programmers to express\\n        concepts in fewer lines of code than possible in languages such\\n        as C++ or Java.\\n        '''\": 5325, \"''' kwargs comes as a dictionary '''\": 5326, '\\'\\'\\'!()-[]{};:\\'\"\\\\, <>./?@#$%^&*_~\\'\\'\\'': 5327, \"''''''\": 5328, \"'''(int) -> int\\n    Return the number of minutes there are in\\n    num_hours hours.\\n    '''\": 5329, \"'''(int) -> int\\n    Return the number of seconds there are in \\n    num_hours hours.\\n    '''\": 5330, \"'''GeeksforGeeks is a Computer Science portal for geeks. \\n    It contains well written, well thought and well explained \\n    computer science and programming articles, quizzes etc.'''\": 5331, \"'''hello you can call me at 018002089898.'''\": 5332, \"'([A-Z]+)'\": 5333, \"'([A-Z][a-z]+)'\": 5334, \"'(x, y) not within the rectangle'\": 5335, \"'--'\": 5336, \"'---'\": 5337, \"'-----'\": 5338, \"'----.'\": 5339, \"'---..'\": 5340, \"'---...'\": 5341, \"'--.'\": 5342, \"'--.-'\": 5343, \"'--..'\": 5344, \"'--..--'\": 5345, \"'--...'\": 5346, \"'-.'\": 5347, \"'-.-'\": 5348, \"'-.--'\": 5349, \"'-.--.'\": 5350, \"'-.--.-'\": 5351, \"'-.-.'\": 5352, \"'-.-.--'\": 5353, \"'-..'\": 5354, \"'-..-'\": 5355, \"'-..-.'\": 5356, \"'-...'\": 5357, \"'-...-'\": 5358, \"'-....'\": 5359, \"'-....-'\": 5360, \"'-5 is -6+1'\": 5361, \"'-7 is -6-1'\": 5362, \"'.-'\": 5363, \"'.--'\": 5364, \"'.---'\": 5365, \"'.----'\": 5366, \"'.----.'\": 5367, \"'.--.'\": 5368, \"'.--.-.'\": 5369, \"'.-.'\": 5370, \"'.-.-.'\": 5371, \"'.-.-.-'\": 5372, \"'.-..'\": 5373, \"'.-..-.'\": 5374, \"'.-...'\": 5375, \"'..'\": 5376, \"'..-'\": 5377, \"'..---'\": 5378, \"'..--..'\": 5379, \"'..-.'\": 5380, \"'...'\": 5381, \"'...-'\": 5382, \"'...--'\": 5383, \"'....'\": 5384, \"'....-'\": 5385, \"'.....'\": 5386, \"'.py'\": 5387, \"'/home'\": 5388, \"'0 '\": 5389, \"'0025'\": 5390, \"'0091'\": 5391, \"'00977'\": 5392, \"'01'\": 5393, \"'0xa'\": 5394, \"'1 0 0 1'\": 5395, \"'1 in gen,'\": 5396, \"'10'\": 5397, \"'100'\": 5398, \"'10th'\": 5399, \"'111'\": 5400, \"'12'\": 5401, \"'12.20'\": 5402, \"'123'\": 5403, \"'1234abcd'\": 5404, \"'123FOO456'\": 5405, \"'12k'\": 5406, \"'15.10'\": 5407, \"'1997-01-04'\": 5408, \"'1997-03-02'\": 5409, \"'1997-09-13'\": 5410, \"'1@ a'\": 5411, \"'1st argument:'\": 5412, \"'1st'\": 5413, \"'2 * 7 ='\": 5414, \"'2 in gen,'\": 5415, \"'2002'\": 5416, \"'2012'\": 5417, \"'229/9'\": 5418, \"'2345'\": 5419, \"'24.5'\": 5420, \"'256 is 257-1'\": 5421, \"'257 is 258-1'\": 5422, \"'2nd'\": 5423, \"'3 in gen,'\": 5424, \"'3 trees'\": 5425, \"'3.'\": 5426, \"'3.1415'\": 5427, \"'3rd'\": 5428, \"'4th'\": 5429, \"'5 days before Current Date :'\": 5430, \"'5th'\": 5431, \"'5x6, 9x10, 7x8'\": 5432, \"'6th'\": 5433, \"'7'\": 5434, \"'7th'\": 5435, \"'85/8'\": 5436, \"'8th'\": 5437, \"'9th'\": 5438, \"': '\": 5439, \"'</body></html>'\": 5440, \"'> '\": 5441, \"'?'\": 5442, \"'AEIOUaeiou'\": 5443, \"'Amir'\": 5444, \"'Aquarius'\": 5445, \"'Aries'\": 5446, \"'Asia/kolkata'\": 5447, \"'Australia'\": 5448, \"'Avg score is'\": 5449, \"'AwesOME'\": 5450, \"'Babita'\": 5451, \"'Bala'\": 5452, \"'Black'\": 5453, \"'BreakingBad'\": 5454, \"'But obviously fails when we iterate ...'\": 5455, \"'Bye, World!'\": 5456, \"'CD'\": 5457, \"'CM'\": 5458, \"'Cancer'\": 5459, \"'Capital'\": 5460, \"'Capricorn'\": 5461, \"'CarBadBoxNumKeyValRayCppSan'\": 5462, \"'Ceil'\": 5463, \"'Chales'\": 5464, \"'Chemistry'\": 5465, \"'Class'\": 5466, \"'Computer Science'\": 5467, \"'Count'\": 5468, \"'Current Date :'\": 5469, \"'Cyware'\": 5470, \"'Decision taken by wiinng team toss'\": 5471, \"'Demo class to show how to make class object as callable'\": 5472, \"'Developer'\": 5473, \"'Differnce in performance between A and B : '\": 5474, \"'Do you want to continue(y/n)?'\": 5475, \"'Documentation to show how to do do annotation'\": 5476, \"'Eating'\": 5477, \"'English'\": 5478, \"'Enter a number: '\": 5479, \"'Enter a positive value: '\": 5480, \"'Enter first side: '\": 5481, \"'Enter second side: '\": 5482, \"'Enter temperature in Celsius: '\": 5483, \"'Enter third side: '\": 5484, \"'Enter value of x: '\": 5485, \"'Enter value of y: '\": 5486, \"'Exponential'\": 5487, \"'FT'\": 5488, \"'Fabs'\": 5489, \"'Factorial'\": 5490, \"'Find the characters in the given string:'\": 5491, \"'First'\": 5492, \"'Fish&Chips'\": 5493, \"'Food'\": 5494, \"'Found a match!'\": 5495, \"'Friday'\": 5496, \"'GameOfThrones'\": 5497, \"'Gemini'\": 5498, \"'GfG'\": 5499, \"'Gfg is best . Geeks are good and Geeks like Gfg'\": 5500, \"'Gfg is best . Gfg also has Classes now. Classes help understand better . '\": 5501, \"'Good job, {0}! You guessed my number in {1} guesses!'\": 5502, \"'Good'\": 5503, \"'Green'\": 5504, \"'Health'\": 5505, \"'Hello '\": 5506, \"'Hello There'\": 5507, \"'Hello World'\": 5508, \"'Hello private world!'\": 5509, \"'Hello public world!'\": 5510, \"'Hello! What is your name?\\\\n'\": 5511, \"'Hello!2@#World'\": 5512, \"'Hello, World!'\": 5513, \"'HelloWorld'\": 5514, \"'Hence proved'\": 5515, \"'Hey, %s'\": 5516, \"'Hi '\": 5517, \"'Hi'\": 5518, \"'Hi, %s!'\": 5519, \"'Hola World'\": 5520, \"'Hola'\": 5521, \"'How many kilometers?: '\": 5522, \"'ID (+=):'\": 5523, \"'ID (list = list + ...):'\": 5524, \"'ID:'\": 5525, \"'IDs:\\\\nlist1: {}\\\\nlist2: {}\\\\nlist3: {}\\\\n'\": 5526, \"'IDs:\\\\nlist1: {}\\\\nlist2: {}\\\\nlist3: {}\\\\nlist4: {}\\\\n'\": 5527, \"'IV'\": 5528, \"'IX'\": 5529, \"'Identity Matrix'\": 5530, \"'Index out of bound'\": 5531, \"'India is my country'\": 5532, \"'J'\": 5533, \"'Japan'\": 5534, \"'John'\": 5535, \"'Jul 1 2014 2:43PM'\": 5536, \"'Key is not present in the dictionary'\": 5537, \"'Key is present in the dictionary'\": 5538, \"'Kil'\": 5539, \"'Leap Year'\": 5540, \"'Leo'\": 5541, \"'Libra'\": 5542, \"'Life'\": 5543, \"'London'\": 5544, \"'Mani'\": 5545, \"'Manjeet'\": 5546, \"'Maximum Value in a dictionary: '\": 5547, \"'Minimum Value in a dictionary: '\": 5548, \"'Monday'\": 5549, \"'Morning!'\": 5550, \"'N'\": 5551, \"'NUMBER OF STEPS: '\": 5552, \"'Namedtuple class to store the IPL match data'\": 5553, \"'Nepal'\": 5554, \"'No, the lengths wont form a triangle'\": 5555, \"'Noida'\": 5556, \"'None'\": 5557, \"'Nope. The number I was thinking of was {0}'\": 5558, \"'Not a leap year'\": 5559, \"'Not a vowel'\": 5560, \"'Not matched!'\": 5561, \"'Number %d found at position %d'\": 5562, \"'Number %d not found'\": 5563, \"'Number of A columns must equal number of B rows.'\": 5564, \"'Olympics'\": 5565, \"'Other'\": 5566, \"'Password Valid'\": 5567, \"'Password cannot contain white spaces.'\": 5568, \"'Password must be at least 8 characters.'\": 5569, \"'Password must contain a digit.'\": 5570, \"'Password must contain a lowercase letter.'\": 5571, \"'Password must contain an uppercase letter.'\": 5572, \"'Physics'\": 5573, \"'Pisces'\": 5574, \"'Please enter a positive integer'\": 5575, \"'PyThon'\": 5576, \"'Q'\": 5577, \"'Queue is Empty!'\": 5578, \"'Queue is Full!'\": 5579, \"'RCBvsKKR'\": 5580, \"'Rash'\": 5581, \"'Red'\": 5582, \"'Resting'\": 5583, \"'Resulting string'\": 5584, \"'Run scored by Team1'\": 5585, \"'Run scored by Team2'\": 5586, \"'SFG'\": 5587, \"'STRING'\": 5588, \"'Sagittarius'\": 5589, \"'Saturday'\": 5590, \"'Science'\": 5591, \"'Seeta'\": 5592, \"'Sentence is interned'\": 5593, \"'Sleeping'\": 5594, \"'Sum of even numbers in the list is '\": 5595, \"'Sum of every 5th element in the list is'\": 5596, \"'Sunday'\": 5597, \"'T'\": 5598, \"'TMKUC'\": 5599, \"'Take a guess: '\": 5600, \"'Taurus'\": 5601, \"'Team name'\": 5602, \"'The Little Price'\": 5603, \"'The Simple Interest is'\": 5604, \"'The Union of two lists is:'\": 5605, \"'The area of the triangle is %0.2f'\": 5606, \"'The numbers are equal'\": 5607, \"'The principal is'\": 5608, \"'The quick Brow Fox'\": 5609, \"'The quick Brown Fox'\": 5610, \"'The rate of interest is'\": 5611, \"'The reverse integer:'\": 5612, \"'The sum of {0} and {1} is {2}'\": 5613, \"'The sun in the east'\": 5614, \"'The time period is'\": 5615, \"'This is beautiful picture'\": 5616, \"'This should not happen'\": 5617, \"'Thursday'\": 5618, \"'Today is bad day'\": 5619, \"'Tuesday'\": 5620, \"'Type your age:'\": 5621, \"'Type your name:'\": 5622, \"'Unknown, AFK or sleeping!'\": 5623, \"'Value of x: '\": 5624, \"'Variable2'\": 5625, \"'Varsha'\": 5626, \"'Virgo'\": 5627, \"'Vowel in a string'\": 5628, \"'W'\": 5629, \"'W-SAT'\": 5630, \"'Wednesday'\": 5631, \"'Well, {0}, I am thinking of a number between 1 and 20.'\": 5632, \"'Who won the toss'\": 5633, \"'Winning Team'\": 5634, \"'Working'\": 5635, \"'XC'\": 5636, \"'XL'\": 5637, \"'Y'\": 5638, \"'YRD'\": 5639, \"'Yes name exists:'\": 5640, \"'Yes string is title'\": 5641, \"'Yes, a triangle can be formed out of it'\": 5642, \"'You did something Wrong'\": 5643, \"'Your guess is too high.'\": 5644, \"'Your guess is too low.'\": 5645, \"'Zara'\": 5646, \"'['\": 5647, \"'[0-9]'\": 5648, \"'[1, 4, 5]'\": 5649, \"'[4, 6, 8]'\": 5650, \"'[@_!#$%^&*()<>?/\\\\|}{~:]'\": 5651, \"'[A-Z]+[a-z]+$'\": 5652, \"'[\\\\W_]+'\": 5653, \"'[^a-zA-Z\\\\s]+'\": 5654, \"'[a-zA-Z-]+'\": 5655, \"'[a-zA-z0-9]$'\": 5656, \"'\\\\d'\": 5657, \"'\\\\nID (append):'\": 5658, \"'\\\\nID (extend):'\": 5659, \"'\\\\nID (initial):'\": 5660, \"'\\\\nValue of y: '\": 5661, \"'\\\\nWOO!! Values SWAPPEDDD'\": 5662, \"'\\\\ngenerator:     '\": 5663, \"'\\\\ngenerator_yield:     '\": 5664, \"'\\\\nlistcompr:     '\": 5665, \"'\\\\nsecond list:'\": 5666, \"'\\\\r'\": 5667, \"']'\": 5668, \"'^'\": 5669, \"'^atg'\": 5670, \"'a == a,'\": 5671, \"'a == b,'\": 5672, \"'a e i o u'\": 5673, \"'a is a,'\": 5674, \"'a is b'\": 5675, \"'a is b,'\": 5676, \"'ab cd-ef'\": 5677, \"'ab,12'\": 5678, \"'abcdef'\": 5679, \"'abcdef12'\": 5680, \"'abcdefcdghcd'\": 5681, \"'abcedfghijklmnopqrstuvwxyz'\": 5682, \"'added two list:'\": 5683, \"'all'\": 5684, \"'always execute finally'\": 5685, \"'amir'\": 5686, \"'an error occurred'\": 5687, \"'ang'\": 5688, \"'angel'\": 5689, \"'another test'\": 5690, \"'anthony'\": 5691, \"'apples'\": 5692, \"'april'\": 5693, \"'aquarius'\": 5694, \"'args contents:'\": 5695, \"'aries'\": 5696, \"'august'\": 5697, \"'austin'\": 5698, \"'balaji'\": 5699, \"'bananas'\": 5700, \"'bat'\": 5701, \"'bcde'\": 5702, \"'beautiful'\": 5703, \"'bike'\": 5704, \"'billy'\": 5705, \"'bold'\": 5706, \"'c is d'\": 5707, \"'cancer'\": 5708, \"'capricorn'\": 5709, \"'car'\": 5710, \"'clear'\": 5711, \"'cls'\": 5712, \"'code'\": 5713, \"'color'\": 5714, \"'compute'\": 5715, \"'computer'\": 5716, \"'dan'\": 5717, \"'data.txt'\": 5718, \"'data1'\": 5719, \"'data2'\": 5720, \"'data3'\": 5721, \"'debate'\": 5722, \"'december'\": 5723, \"'decimal: '\": 5724, \"'defenestrate'\": 5725, \"'do some stuff'\": 5726, \"'east'\": 5727, \"'eighteen'\": 5728, \"'eighty'\": 5729, \"'eleven'\": 5730, \"'enter side 1\\\\n'\": 5731, \"'enter side 2\\\\n'\": 5732, \"'enter side 3\\\\n'\": 5733, \"'even'\": 5734, \"'explain global scope:'\": 5735, \"'explain local scope:'\": 5736, \"'february'\": 5737, \"'fifteen'\": 5738, \"'fifty'\": 5739, \"'find the number position:'\": 5740, \"'first list:'\": 5741, \"'float'\": 5742, \"'float: '\": 5743, \"'foo123bar'\": 5744, \"'forty'\": 5745, \"'foundry'\": 5746, \"'fourteen'\": 5747, \"'g'\": 5748, \"'gaf'\": 5749, \"'gaurav'\": 5750, \"'geeks4g!!!eeks'\": 5751, \"'geeksforgeeks'\": 5752, \"'geeksforgeeks_is_best'\": 5753, \"'gemini'\": 5754, \"'gfg is best for geeks'\": 5755, \"'go_east_or_west_india_is_the_best'\": 5756, \"'goal'\": 5757, \"'google.com'\": 5758, \"'guys'\": 5759, \"'h'\": 5760, \"'have a good day'\": 5761, \"'hello world!hello world!hello world!hello world!'\": 5762, \"'hello. i am a sentence.'\": 5763, \"'hello006'\": 5764, \"'hello1 is hello2:'\": 5765, \"'hello1 is hello3:'\": 5766, \"'helloworld2020'\": 5767, \"'hsd'\": 5768, \"'id my_list1: {}, id my_list2: {}'\": 5769, \"'ide'\": 5770, \"'in for'\": 5771, \"'in try:'\": 5772, \"'in_func1:'\": 5773, \"'in_func2:'\": 5774, \"'in_func:'\": 5775, \"'initially ---> '\": 5776, \"'initially:  ---> '\": 5777, \"'int'\": 5778, \"'is a prime number'\": 5779, \"'isinstance(True, int):'\": 5780, \"'item1'\": 5781, \"'item2'\": 5782, \"'item3'\": 5783, \"'j'\": 5784, \"'january'\": 5785, \"'june'\": 5786, \"'kate'\": 5787, \"'keyword'\": 5788, \"'kwargs contents: '\": 5789, \"'leo'\": 5790, \"'libra'\": 5791, \"'local'\": 5792, \"'lower'\": 5793, \"'ly'\": 5794, \"'malayalam'\": 5795, \"'manjeet'\": 5796, \"'max(l)'\": 5797, \"'max(tu)'\": 5798, \"'may'\": 5799, \"'md.shakiluzzaman@gmail.com'\": 5800, \"'mobile number found from the string : '\": 5801, \"'multiply two list values:'\": 5802, \"'n'\": 5803, \"'n1'\": 5804, \"'n2'\": 5805, \"'n3'\": 5806, \"'nan'\": 5807, \"'near to 1000'\": 5808, \"'near to 1300'\": 5809, \"'negative integers:'\": 5810, \"'nikhil'\": 5811, \"'nine'\": 5812, \"'nineteen'\": 5813, \"'ninety'\": 5814, \"'no error occurred'\": 5815, \"'not'\": 5816, \"'november'\": 5817, \"'nt'\": 5818, \"'october'\": 5819, \"'odd'\": 5820, \"'oneplus'\": 5821, \"'parallelogram'\": 5822, \"'pear'\": 5823, \"'penny'\": 5824, \"'pisces'\": 5825, \"'plain_list:     '\": 5826, \"'points do not form a rectangle'\": 5827, \"'poor'\": 5828, '\\'print(\"hello world\")\\'': 5829, \"'python language'\": 5830, \"'qwerty'\": 5831, \"'red'\": 5832, \"'restart'\": 5833, \"'result'\": 5834, \"'resultant substring{sstring}'\": 5835, \"'rihana'\": 5836, \"'rises'\": 5837, \"'rishav'\": 5838, \"'sadgas1'\": 5839, \"'sagittarius'\": 5840, \"'sample.txt'\": 5841, \"'samsung'\": 5842, \"'san'\": 5843, \"'sasg.as3$'\": 5844, \"'science'\": 5845, \"'september'\": 5846, \"'seventeen'\": 5847, \"'seventy'\": 5848, \"'simple_example'\": 5849, \"'sixteen'\": 5850, \"'sixty'\": 5851, \"'str'\": 5852, \"'str1 * 3 ='\": 5853, \"'str1 + str2 = '\": 5854, \"'style'\": 5855, \"'sun'\": 5856, \"'t'\": 5857, \"'taurus'\": 5858, \"'temp.txt'\": 5859, \"'ten'\": 5860, \"'test'\": 5861, \"'test.txt'\": 5862, \"'the sun is shining'\": 5863, \"'the2sun4rises5sinthe6east9'\": 5864, \"'thenandnow'\": 5865, \"'there!'\": 5866, \"'thirteen'\": 5867, \"'thirty'\": 5868, \"'this is test'\": 5869, \"'times of india times new india express'\": 5870, \"'triangle'\": 5871, \"'truck'\": 5872, \"'twelve'\": 5873, \"'twenty'\": 5874, \"'type of args:'\": 5875, \"'type of kwargs:'\": 5876, \"'upper'\": 5877, \"'utf-8'\": 5878, \"'val1:'\": 5879, \"'vals:'\": 5880, \"'value of argument a:'\": 5881, \"'value1'\": 5882, \"'value2'\": 5883, \"'value3'\": 5884, \"'value4'\": 5885, \"'varCjjlopaxntrrgnbXrOPraiiItUuUuzaQlliyaxx*t#rgiffFoce&ntPls87C!'\": 5886, \"'virgo'\": 5887, \"'w3resource'\": 5888, \"'want'\": 5889, \"'welcome'\": 5890, \"'window'\": 5891, \"'x should not be less than 10!'\": 5892, \"'xyy'\": 5893, \"'xyyzxxyxyy'\": 5894, \"'yes, it can form a degenerated triangle'\": 5895, \"'you'\": 5896, \"'zekelabs'\": 5897, \"'zero'\": 5898, \"'{'\": 5899, \"'{0}: {1}'\": 5900, \"'{:02X}'\": 5901, \"'{:04.3f}'\": 5902, \"'{p}{q}'\": 5903, \"'{} is a power of two.'\": 5904, \"'{} is not a power of two.'\": 5905, \"'{} {}'\": 5906, \"'{}/{}'\": 5907, \"'}'\": 5908, '.08': 5909, '.10': 5910, '.20': 5911, '.3': 5912, '.4': 5913, '.6': 5914, '.7': 5915, '.8': 5916, '.9': 5917, '0.000001': 5918, '0.2': 5919, '0.4': 5920, '0.8': 5921, '0xFFFFFFFF': 5922, '1.': 5923, '1.09': 5924, '1.33': 5925, '1.414': 5926, '1.609': 5927, '10.': 5928, '10.0': 5929, '1021': 5930, '1029': 5931, '104': 5932, '105': 5933, '1071': 5934, '11.': 5935, '11.23': 5936, '115': 5937, '12.9999': 5938, '12321': 5939, '1234.5': 5940, '125': 5941, '1292': 5942, '13.': 5943, '130': 5944, '1300': 5945, '132': 5946, '135': 5947, '14.': 5948, '1452': 5949, '148': 5950, '1500': 5951, '156': 5952, '162': 5953, '175': 5954, '180.0': 5955, '192': 5956, '1e-05': 5957, '1e-12': 5958, '1e-3': 5959, '2.2': 5960, '2004': 5961, '2015': 5962, '212': 5963, '217': 5964, '219': 5965, '220': 5966, '2200': 5967, '223': 5968, '225': 5969, '23.56': 5970, '23456': 5971, '236': 5972, '247': 5973, '248': 5974, '256': 5975, '258': 5976, '2700': 5977, '273': 5978, '273.15': 5979, '273.5': 5980, '2j': 5981, '3.1415': 5982, '3.1415926': 5983, '3.4': 5984, '32.0': 5985, '323': 5986, '324': 5987, '328': 5988, '3280.8399': 5989, '337': 5990, '345': 5991, '3456': 5992, '36.5': 5993, '365': 5994, '37.3': 5995, '37.8': 5996, '375': 5997, '379': 5998, '386': 5999, '39.2': 6000, '399': 6001, '4.0': 6002, '4.56': 6003, '41': 6004, '418': 6005, '445': 6006, '4562': 6007, '462': 6008, '466': 6009, '5.': 6010, '512': 6011, '527': 6012, '5280.0': 6013, '540': 6014, '5465461': 6015, '553': 6016, '560': 6017, '5654': 6018, '57.84': 6019, '58': 6020, '5874': 6021, '597': 6022, '6.': 6023, '6.78': 6024, '615': 6025, '623': 6026, '626': 6027, '63': 6028, '66.25': 6029, '663': 6030, '687': 6031, '7.': 6032, '7.7': 6033, '717': 6034, '721': 6035, '74': 6036, '742': 6037, '743': 6038, '758': 6039, '767': 6040, '79': 6041, '8.': 6042, '81': 6043, '815': 6044, '826': 6045, '831': 6046, '84': 6047, '843': 6048, '866': 6049, '8765468': 6050, '892': 6051, '894': 6052, '9.': 6053, '907': 6054, '918': 6055, '92': 6056, '949': 6057, '950': 6058, '953': 6059, '958': 6060, '978': 6061, '9808': 6062, '982143': 6063, 'ArgumentParser': 6064, 'Armstrong': 6065, 'AttributeError': 6066, 'BankAccount': 6067, 'BinTree': 6068, 'CallShow': 6069, 'Cell': 6070, 'Celsius_To_Fahrenheit': 6071, 'CircularQueue': 6072, 'Complex': 6073, 'Convert_1': 6074, 'Convert_2': 6075, 'Convert_3': 6076, 'CubeVolume': 6077, 'CustomList': 6078, 'CustomListIter': 6079, 'CustomTuple': 6080, 'CustomTupleIter': 6081, 'D1': 6082, 'DOWN': 6083, 'DataFrame': 6084, 'Define': 6085, 'Deque': 6086, 'Fahrenheit_to_Celsius': 6087, 'FileHandler': 6088, 'FindUrls': 6089, 'IGNORECASE': 6090, 'Kilometers_to_Miles': 6091, 'LEFT': 6092, 'LRUCache': 6093, 'Mathematics': 6094, 'Miles_to_Kilometers': 6095, 'NumOfDivisor': 6096, 'OnesComplement': 6097, 'Output': 6098, 'PriorityQueue': 6099, 'Python': 6100, 'RIGHT': 6101, 'RandomState': 6102, 'Result': 6103, 'SortTuple': 6104, 'Student': 6105, 'SumFunction': 6106, 'UP': 6107, 'User': 6108, 'V': 6109, 'Validate_IP': 6110, '__call__': 6111, '__eq__': 6112, '__get__': 6113, '__lt__': 6114, '_my_class__private_method': 6115, '_slice': 6116, '`': 6117, 'abs_diff': 6118, 'acc': 6119, 'addHandler': 6120, 'add_argument': 6121, 'add_days': 6122, 'add_str': 6123, 'add_string': 6124, 'add_tags': 6125, 'add_tuple': 6126, 'add_two_list_items': 6127, 'add_two_lists_even_odd': 6128, 'add_unlimited': 6129, 'ages': 6130, 'allDigitsDivide': 6131, 'all_imp': 6132, 'all_unique': 6133, 'alues': 6134, 'anno_func': 6135, 'any_imp': 6136, 'apothem_of_polygon': 6137, 'apply_ceil': 6138, 'apply_floor': 6139, 'apply_round': 6140, 'are': 6141, 'are_all_negative': 6142, 'areaRectangle': 6143, 'area_circle': 6144, 'area_of_polygon': 6145, 'area_of_tetrahedron': 6146, 'area_shape': 6147, 'area_triangle': 6148, 'argv': 6149, 'argwhere': 6150, 'ascii': 6151, 'ascii_value_of_character': 6152, 'attach_counter': 6153, 'attach_log': 6154, 'autocorr': 6155, \"b''\": 6156, \"b'hello world!hello world!hello world!hello world!'\": 6157, 'basename': 6158, 'bfill': 6159, 'bilinear_interpolation': 6160, 'bin2dec': 6161, 'binaryPallindrome': 6162, 'binaryToDecimal': 6163, 'builtin_module_names': 6164, 'by': 6165, 'byte_size': 6166, 'c_long': 6167, 'calc_age': 6168, 'calc_avg': 6169, 'calc_elect_bill': 6170, 'calc_hypotenuse': 6171, 'calc_mean': 6172, 'calc_median': 6173, 'calculateAge': 6174, 'calculate_age': 6175, 'calculate_hcf': 6176, 'call_func': 6177, 'calspeed': 6178, 'camel': 6179, 'capitalize_first_and_last': 6180, 'carol_number': 6181, 'cel_to_fah': 6182, 'cel_to_kel': 6183, 'celsius_to_fahrenheit': 6184, 'center': 6185, 'change_dir': 6186, 'char_array': 6187, 'chdir': 6188, 'checkAnagram': 6189, 'checkTriangle': 6190, 'checkValidity': 6191, 'checkValue': 6192, 'check_assert': 6193, 'check_dir_files': 6194, 'check_if_anagram': 6195, 'check_instance': 6196, 'check_intern': 6197, 'check_isclose': 6198, 'check_leap_year': 6199, 'check_password_strength': 6200, 'check_pnz': 6201, 'check_string': 6202, 'check_tuple_same': 6203, 'check_vowel': 6204, 'check_vowel_or_not': 6205, 'checksquare': 6206, 'circle_area': 6207, 'clamp_number': 6208, 'clear_rightmost_set_bit': 6209, 'clear_set': 6210, 'cls': 6211, 'cm_to_inch': 6212, 'collable_check': 6213, 'color': 6214, 'column': 6215, 'combinationSum': 6216, 'common_member': 6217, 'comp_int': 6218, 'comp_power': 6219, 'compare_list_tuple': 6220, 'compare_using_equals': 6221, 'compare_using_interning': 6222, 'con_str': 6223, 'cone_surface_area': 6224, 'cone_volume': 6225, 'convert_list_to_tuple': 6226, 'convert_str_to_list': 6227, 'convert_string_to_list': 6228, 'convert_to_str': 6229, 'convert_to_string_list': 6230, 'convert_tuple2list': 6231, 'convertstringtobinary': 6232, 'copyright': 6233, 'countList': 6234, 'countMaxIntersect': 6235, 'countSetBits': 6236, 'count_func_dict': 6237, 'count_occurrences': 6238, 'count_second': 6239, 'count_tokens': 6240, 'count_word': 6241, 'countword': 6242, 'create_deck_of_cards': 6243, 'create_dictionary': 6244, 'create_linked_list': 6245, 'create_logging_level': 6246, 'create_parser': 6247, 'cube_numbers': 6248, 'cube_surface_area': 6249, 'cube_volume': 6250, 'cuboid_volume': 6251, 'cullen_number': 6252, 'custom_print': 6253, 'cyclicRotate': 6254, 'cylinder_surface_area': 6255, 'cylinder_volume': 6256, 'd_inches': 6257, 'd_miles': 6258, 'd_yards': 6259, 'dailyTemperatures': 6260, 'date_range': 6261, 'date_validation': 6262, 'day_diff': 6263, 'day_occur_time': 6264, 'days_between': 6265, 'days_diff': 6266, 'dec2bin': 6267, 'decToBinary': 6268, 'decToHexa': 6269, 'decToOctal': 6270, 'decapitalize': 6271, 'dedent': 6272, 'dedup': 6273, 'default_exception_simulator': 6274, 'delete': 6275, 'deleteFront': 6276, 'deleteRear': 6277, 'deleteelement': 6278, 'deletekey': 6279, 'deposit': 6280, 'description': 6281, 'dic_largest': 6282, 'dict_comp': 6283, 'dict_in_at_begin': 6284, 'dict_sort_with_key': 6285, 'difference_max_min': 6286, 'digSum': 6287, 'dig_cnt': 6288, 'digisum': 6289, 'distance_converter': 6290, 'divide_chunks': 6291, 'divisible': 6292, 'divisible_by_digits': 6293, 'divisor_count': 6294, 'divisor_using_list': 6295, 'doc_func': 6296, 'dot': 6297, 'drop': 6298, 'dsigmoid': 6299, 'duplicate_array': 6300, 'ed': 6301, 'ef': 6302, 'encode_marsh': 6303, 'encoding': 6304, 'endswith': 6305, 'error': 6306, 'euclid_numbers': 6307, 'even_odd': 6308, 'even_or_odd_num': 6309, 'every_alternate_char': 6310, 'every_nth': 6311, 'every_nth_number': 6312, 'every_other_number': 6313, 'exception_simulator': 6314, 'execute_python_code': 6315, 'extend_list_without_append': 6316, 'extract_characters': 6317, 'extract_mailid': 6318, 'extract_not_alpha': 6319, 'extract_unicode': 6320, 'f\"2^{i} = {result[i]}\"': 6321, 'f\"Ascii value of character {character} is : \"': 6322, 'f\"Code to be writen here above to act as per accling object of call\"': 6323, 'f\"Compound interest is {CI}\"': 6324, 'f\"Current date and time : {time}\"': 6325, 'f\"Dictionary is {res}\"': 6326, 'f\"Distance in Inches:{d_inches}\\\\nDistance in Yards :{d_yards}\\\\nDistance in Miles :{d_miles}\"': 6327, 'f\"Filtered Matrix {res}\"': 6328, 'f\"From : {ed}, To : {self.graph[ed]}\"': 6329, 'f\"LCM : {l}, HCF: {h}\"': 6330, 'f\"Last occurrence of Emma starts at {index}\"': 6331, 'f\"List after conversion from string : {res}\"': 6332, 'f\"Negative number\"': 6333, 'f\"New list to upper case:{newlist}\"': 6334, 'f\"Numbers divisible by 15 are {result}\"': 6335, 'f\"Numbers divisible by {num} are {result}\"': 6336, 'f\"Original String is: {str1}\"': 6337, 'f\"Positive number\"': 6338, 'f\"Round off value : {round(51.6)}\"': 6339, 'f\"Round off value : {round(integer , -1)}\"': 6340, 'f\"Simple Interest : {(principal*rate*time/100)}\"': 6341, 'f\"Sorted array is: {arr}\"': 6342, 'f\"Sorted array {A}\"': 6343, 'f\"Sorted array {arr}\"': 6344, 'f\"The dictionary after remove is : {test_dict}\"': 6345, 'f\"The dictionary before performing remove is : {test_dict}\"': 6346, 'f\"The distance between {p1} and {p2} is {distance}\"': 6347, 'f\"The extension of the file is :{repr(f_extns[-1])}\"': 6348, 'f\"The factorial of {num} is {factorial}\"': 6349, 'f\"The factors of {x} are:\"': 6350, 'f\"The list after conversion is : {res}\"': 6351, 'f\"The next key is : {res}\"': 6352, 'f\"The number of lowercase characters is:{count}\"': 6353, 'f\"The number of words in string are : {res}\"': 6354, 'f\"The number of words in string are :{str(res)}\"': 6355, 'f\"The original dictionary is : {str(dict1)}\"': 6356, 'f\"The original list is :{test_list} \"': 6357, 'f\"The original string is :{str1}\"': 6358, 'f\"The resolution of the image is {width}x{height}\"': 6359, 'f\"The sliced list is :{str(res)} \"': 6360, 'f\"The sorted dictionary : {str(res)}\"': 6361, 'f\"The strings after replacement : {str1}\"': 6362, 'f\"The total terms are: {terms}\"': 6363, 'f\"The unique values list is : {res}\"': 6364, 'f\"There are {Counter} number of lines in the file\"': 6365, 'f\"Tuple after conversion : {res}\"': 6366, 'f\"Volume={V}\"': 6367, 'f\"Zero\"': 6368, 'f\"json dict : {json_dict}\"': 6369, 'f\"the average score is:  {average} \"': 6370, 'f\"{c}\"': 6371, 'f\"{dedup}\"': 6372, 'f\"{dict_comp}\"': 6373, 'f\"{final_prices}\"': 6374, 'f\"{h_letters}\"': 6375, 'f\"{i} times {num//i} is {num}\"': 6376, 'f\"{key_list}\"': 6377, 'f\"{no_} is an Armstrong number\"': 6378, 'f\"{no_} is not an Armstrong number\"': 6379, 'f\"{num} is Even\"': 6380, 'f\"{num} is Odd\"': 6381, 'f\"{num} is a prime number\"': 6382, 'f\"{num} is not a prime number\"': 6383, 'f\"{num} x {i} = {num*i}\"': 6384, 'f\"{n} times {m} is {n*m}\"': 6385, 'f\"{p // 10 ** 10}\"': 6386, 'f\"{person}\\'s favorite color is {color}\"': 6387, 'f\"{prices}\"': 6388, 'f\"{rand_num}\"': 6389, 'f\"{sum_all}\"': 6390, 'f\"{sum}\"': 6391, 'f\"{sys.version}\"': 6392, 'f\"{time.time()}\"': 6393, 'f\"{transposed}\"': 6394, \"f' String representation of an object'\": 6395, \"f' repr representation of an object with parameter {self.msg}'\": 6396, \"f' string after flattening is {s}'\": 6397, \"f'({seen[name]})'\": 6398, \"f'Absolute of {num} is {abs(num)}'\": 6399, \"f'After appending with new value:{a_dict}'\": 6400, \"f'After swapping: x: {x}, y: {y}'\": 6401, \"f'Before swapping: x: {x}, y: {y}'\": 6402, \"f'Data: {data}'\": 6403, \"f'Difference: {difference}'\": 6404, \"f'Dissimilar element tuple is {c}'\": 6405, \"f'Final t mem-add = {id(t)}'\": 6406, \"f'Given substring count is :{count}'\": 6407, \"f'Initial t mem-add = {id(t)}'\": 6408, \"f'Inner function x is {x}'\": 6409, \"f'List after removing string from tuple is {s}'\": 6410, \"f'List of Even Numbers:'\": 6411, \"f'List of Odd Numbers:'\": 6412, \"f'Message at {dt} was {msg}'\": 6413, \"f'Missing number is {55-sum(l)}'\": 6414, \"f'No of days between {f_date} and {l_date} is:{delta.days}'\": 6415, \"f'OS: {os.name}\\\\n Platform: {platform.system}'\": 6416, \"f'Resultant list is {res_list}'\": 6417, \"f'Simple interest is {si}'\": 6418, \"f'Sum all the items in a dictionary:{sum(my_dict.values())}'\": 6419, \"f'Summation of string values is {len(s)}'\": 6420, 'f\\'The binary of {num} is {bin(num).replace(\"0b\",\"\")}\\'': 6421, \"f'There are {number_files} file in the directory'\": 6422, \"f'This is an f string with user paramter {msg}'\": 6423, \"f'Total Marks is:{totalMarks},Percentage is:{percentage}'\": 6424, \"f'assending_order_list: {new_list}'\": 6425, \"f'convert lowercase to uppercase:{a.lower()}'\": 6426, \"f'convert lowercase to uppercase:{a.upper()}'\": 6427, \"f'count of element till first tuple is {count}'\": 6428, \"f'count of element till tuple is encountered {count}'\": 6429, \"f'count:{length}'\": 6430, \"f'create multiple list:{obj}'\": 6431, \"f'decending_order_list: {new_list}'\": 6432, \"f'dictionary:{d}'\": 6433, \"f'dup_items:{dup_items}'\": 6434, \"f'f-string is an good feature in {var1}'\": 6435, \"f'length of sample_list is {len(sample_list)}'\": 6436, \"f'list : {rand}'\": 6437, \"f'list:{list(t)}'\": 6438, \"f'lsit_key_value:{list_key_value}'\": 6439, \"f'mapped numbers:{list(squared)}'\": 6440, \"f'max_num_in_list [1, 10, -8, 0], Ans:{max_num_in_list([1, 10, -8, 0])}'\": 6441, \"f'merge two dictionaries:{d}'\": 6442, \"f'merged list/flatten:{new_merged_list}'\": 6443, \"f'message at {dt} was {msg}'\": 6444, \"f'modulo 15 % 4: Sol->{15 % 4}'\": 6445, \"f'number of spaces {count}'\": 6446, \"f'outer function x is {x}'\": 6447, \"f'product: {product}'\": 6448, \"f'reverese the given list elements:{list1[::-1]}'\": 6449, \"f'reversed list: {rev_list}'\": 6450, \"f'sorted list is {sorted_list}'\": 6451, \"f'sum : {l1 + l2}'\": 6452, \"f'sum: {sum([total + x for x in [1, 2, 3, 4, 5]])}'\": 6453, \"f'the largest element in the array is {max(arr)}'\": 6454, \"f'the sorted list inside tuple is {s}'\": 6455, \"f'tuple length: {len(t)}'\": 6456, \"f'tuple:{tuple(l)}'\": 6457, \"f'{[item.upper() for item in mylis]}'\": 6458, \"f'{a} and {b} is interned by Python'\": 6459, \"f'{a} and {b} is not interned by Python'\": 6460, \"f'{celsius} degree Celsius is equal to {fahrenheit} degree Fahrenheit'\": 6461, \"f'{fn.__name__} is called at {dt} with {args} {kwargs} '\": 6462, \"f'{fn} is function {isfunction(func)}'\": 6463, \"f'{fn} is method {ismethod(func)}'\": 6464, \"f'{max_check([2,4,5,7,98])}'\": 6465, \"f'{min_check([2,4,5,7,98])}'\": 6466, \"f'{no_}x{i}={no_*i}'\": 6467, \"f'{row}'\": 6468, \"f'{s} is  present in the list'\": 6469, 'f_extns': 6470, 'f_string': 6471, 'fabs': 6472, 'faizu': 6473, 'fermat_seq': 6474, 'ffill': 6475, 'fiboacci_number_check': 6476, 'fibonacci_nth': 6477, 'fibonacci_recursive': 6478, 'file_read': 6479, 'file_read_from_head': 6480, 'filename_extension': 6481, 'final_grades': 6482, 'final_prices': 6483, 'final_result': 6484, 'findMinSum': 6485, 'findRotations': 6486, 'findTargetSumWays': 6487, 'find_move_files': 6488, 'find_product': 6489, 'find_second_maximum': 6490, 'find_the_largest': 6491, 'find_the_median': 6492, 'findevenlenthwords': 6493, 'findlongest': 6494, 'findoddlenthwords': 6495, 'findpythagoreantriplets': 6496, 'first_last': 6497, 'first_repeated_char': 6498, 'first_repeated_word': 6499, 'flip_case': 6500, 'float_equality_testing': 6501, 'following': 6502, 'fractions': 6503, 'from_address': 6504, 'frozenset': 6505, 'func1': 6506, 'gen_fails': 6507, 'gen_ran_int_number': 6508, 'generateParenthesis': 6509, 'generate_tf': 6510, 'getFolderNames': 6511, 'getLogger': 6512, 'getSum': 6513, 'get_India_time': 6514, 'get_attributes_from_date': 6515, 'get_cwd': 6516, 'get_dummies': 6517, 'get_encoding': 6518, 'get_env_path': 6519, 'get_exponential_value': 6520, 'get_filesize_for_dir': 6521, 'get_info': 6522, 'get_list_length': 6523, 'get_max_integer': 6524, 'get_max_profit': 6525, 'get_prime_numbers': 6526, 'get_random_combination': 6527, 'get_slope': 6528, 'get_sqrt': 6529, 'get_status': 6530, 'get_type': 6531, 'get_userinput': 6532, 'getenv': 6533, 'getuser': 6534, 'give_day': 6535, 'gloabl_use': 6536, 'grayCode': 6537, 'greet': 6538, 'hasConsecutiveZeroes': 6539, 'has_palindrome_permutation': 6540, 'hash': 6541, 'hash_file': 6542, 'have_same_contents': 6543, 'heap_sort': 6544, 'height_converter': 6545, 'height_into_cms': 6546, 'help': 6547, 'hexadecimalToDecimal': 6548, 'hours_to_seconds': 6549, 'htness_4': 6550, 'ifPalindrome': 6551, 'in_func': 6552, 'in_func1': 6553, 'inches_to_feet': 6554, 'inner_show': 6555, 'insertFront': 6556, 'insertRear': 6557, 'inspect_func': 6558, 'int_to_binary': 6559, 'integer': 6560, 'isArmstrong': 6561, 'isMagic': 6562, 'isMonotonic': 6563, 'isPerfect': 6564, 'isPossibleDivide': 6565, 'isTriangleExists': 6566, 'isValid': 6567, 'isValidSudoku': 6568, 'is_even': 6569, 'is_key_present': 6570, 'is_leap_year': 6571, 'is_odd': 6572, 'is_perfect': 6573, 'is_valid_triangle_angle': 6574, 'is_valid_triangle_length': 6575, 'isdisjoint': 6576, 'isfunction': 6577, 'isidentifier': 6578, 'isin': 6579, 'isleap': 6580, 'ismethod': 6581, 'isocalendar': 6582, 'isoformat': 6583, 'ispalin': 6584, 'isprime': 6585, 'isprintable': 6586, 'item_exists': 6587, 'iterate': 6588, 'join_filename': 6589, 'json_dict': 6590, 'kabir': 6591, 'key_list': 6592, 'kgs_to_pounds': 6593, 'labels': 6594, 'leapYear': 6595, 'len_str': 6596, 'letter_mirror': 6597, 'linear_interpolate': 6598, 'list2tuple': 6599, 'list_concat': 6600, 'list_files': 6601, 'list_is_empty': 6602, 'list_key_value': 6603, 'list_of_tuple': 6604, 'list_tuple': 6605, 'literal_eval': 6606, 'log10': 6607, 'longestWord': 6608, 'longest_continuous_odd_subsequence': 6609, 'longest_increaing_subsequence': 6610, 'lucas_numbers': 6611, 'maths_tables': 6612, 'matrixT': 6613, 'matrix_rank': 6614, 'max2': 6615, 'maxPrimeFactors': 6616, 'maxSubArray': 6617, 'max_check': 6618, 'max_len_str': 6619, 'max_num_in_list': 6620, 'merge_ranges': 6621, 'microsecond': 6622, 'midpoint': 6623, 'miles_to_kms': 6624, 'minDistance': 6625, 'minSumOfLengths': 6626, 'min_check': 6627, 'minimumDistance': 6628, 'mirror_character': 6629, 'mkdir': 6630, 'modify_tuple': 6631, 'monthrange': 6632, 'move': 6633, 'moves': 6634, 'mul_two_numbers': 6635, 'multiplication_table': 6636, 'multiply_all': 6637, 'myPow': 6638, 'my_class': 6639, 'mylis': 6640, 'nCr': 6641, 'nPr': 6642, 'nargs': 6643, 'nearest_square': 6644, 'new_merged_list': 6645, 'next_edge': 6646, 'no_to_fraction': 6647, 'norm': 6648, 'normal': 6649, 'not_poor': 6650, 'nth_prime_number': 6651, 'num_of_words': 6652, 'number_files': 6653, 'number_of_frames': 6654, 'octalToDecimal': 6655, 'oddEvenSort': 6656, 'odd_numbers': 6657, 'oddeven': 6658, 'of': 6659, 'orgin': 6660, 'original': 6661, 'other_int': 6662, 'overdrawn': 6663, 'pad_number': 6664, 'palindrome': 6665, 'palindrome_str_check': 6666, 'perimeterRectangle': 6667, 'periods': 6668, 'person': 6669, 'plane': 6670, 'pluck': 6671, 'polar': 6672, 'popitem': 6673, 'powered_list': 6674, 'primeFactors': 6675, 'printEvenLengthWords': 6676, 'print_all_armstrong': 6677, 'print_alternate_numbers': 6678, 'print_dict_keys_val_1': 6679, 'print_dict_keys_val_2': 6680, 'print_dict_keys_val_3': 6681, 'print_dict_keys_val_4': 6682, 'print_iter': 6683, 'print_loop_with_delay': 6684, 'print_miss_num': 6685, 'print_n': 6686, 'print_numbers': 6687, 'print_so': 6688, 'print_time': 6689, 'printname': 6690, 'prism_surface_area': 6691, 'prism_volume': 6692, 'profane_filter': 6693, 'prog': 6694, 'program': 6695, 'put': 6696, 'pyramid_surface_area': 6697, 'pyramid_volume': 6698, 'qcut': 6699, \"r'[\\\\w]+@[\\\\w]+\\\\.[\\\\w]+'\": 6700, \"r'[^\\\\W\\\\d_]+'\": 6701, \"r'[a-z]+'\": 6702, \"r'\\\\d\\\\d\\\\d\\\\d\\\\d\\\\d\\\\d\\\\d\\\\d\\\\d\\\\d\\\\d'\": 6703, \"r'\\\\w+'\": 6704, \"r'hello\\\\n'\": 6705, 'rads_to_degrees': 6706, 'rand_num': 6707, 'rand_range': 6708, 'rand_run_name': 6709, 'random_number': 6710, 'random_shot': 6711, 'read_csv_length': 6712, 'read_data': 6713, 'rearrange': 6714, 'rec_prism_surface_area': 6715, 'rec_prism_volume': 6716, 'rectangle_perimeter': 6717, 'ref_count': 6718, 'relu_like_activation': 6719, 'remove_dic_value': 6720, 'remove_duplicate': 6721, 'remove_duplicate_words': 6722, 'remove_empty_list': 6723, 'remove_empty_tuple': 6724, 'remove_even': 6725, 'remove_last_element_list': 6726, 'remove_newline': 6727, 'remove_odd': 6728, 'remove_punct': 6729, 'remove_spaces': 6730, 'remove_spaces_from_string': 6731, 'replacestring': 6732, 'replacetext': 6733, 'replacewith_K': 6734, 'reset_index': 6735, 'reshape': 6736, 'ret_hcf': 6737, 'ret_lcm': 6738, 'retrieve_files_bydate': 6739, 'retrieve_files_sort_bydate': 6740, 'retrieve_last_files': 6741, 'retrieve_random_file': 6742, 'return_exponential': 6743, 'return_last': 6744, 'return_length': 6745, 'return_punct': 6746, 'rev_list': 6747, 'reverse_string_words': 6748, 'reverse_word': 6749, 'rgb_to_hex': 6750, 'rightLength': 6751, 'right_rotate': 6752, 'second_large_num': 6753, 'sen_to_tuple': 6754, 'seperate_pn': 6755, 'session1': 6756, 'session2': 6757, 'setattr': 6758, 'sha1': 6759, 'show_doc_named': 6760, 'show_gen_fast': 6761, 'show_ins_tup': 6762, 'show_local': 6763, 'shown': 6764, 'sigmoid_activation': 6765, 'similarity': 6766, 'simp_int': 6767, 'simpleIntereset': 6768, 'slice_a_tuple': 6769, 'snake': 6770, 'snum1': 6771, 'soreted_list': 6772, 'sort_by_indexes': 6773, 'sort_by_len': 6774, 'sort_dict_by_key': 6775, 'sort_dict_by_value': 6776, 'sort_insertion': 6777, 'sortlistwithlen': 6778, 'sortwords': 6779, 'speed_converter': 6780, 'sphere_volume': 6781, 'split_filename': 6782, 'sq': 6783, 'square2': 6784, 'squareRoot': 6785, 'square_cube': 6786, 'square_perimeter': 6787, 'squared': 6788, 'sriju': 6789, 'sstring': 6790, 'st_dev': 6791, 'star_number': 6792, 'starting': 6793, 'stat': 6794, 'status_code': 6795, 'stella_octangula_number': 6796, 'stopping_station': 6797, 'store_ipl_date': 6798, 'str_to_intern_str': 6799, 'str_to_list': 6800, 'string_split_at_space': 6801, 'strip_vowel_str': 6802, 'sub_two_numbers': 6803, 'sum_n_num': 6804, 'sum_natural': 6805, 'sum_nums': 6806, 'sum_of_ints': 6807, 'sum_of_powers': 6808, 'sum_upto_one': 6809, 'super': 6810, 'swapcase': 6811, 'system': 6812, 'test_prime': 6813, 'time_calc': 6814, 'time_elsaped': 6815, 'timezone': 6816, 'tm_hour': 6817, 'tmrw_yest_time': 6818, 'to': 6819, 'to_binary': 6820, 'to_frame': 6821, 'to_iso_date': 6822, 'to_lower': 6823, 'to_roman_numeral': 6824, 'to_upper': 6825, 'tokenise': 6826, 'toss': 6827, 'touch': 6828, 'toward': 6829, 'transpose': 6830, 'triangle_numbers': 6831, 'tu': 6832, 'tuple_lenght': 6833, 'two_power': 6834, 'union_of_sets': 6835, 'union_set': 6836, 'unique_tokens': 6837, 'universal_func': 6838, 'unpack_tuple': 6839, 'unzip_list_of_tuples': 6840, 'update_dictionary': 6841, 'value_counts': 6842, 'values_only': 6843, 'var1': 6844, 'version_info': 6845, 'vol_tetra': 6846, 'volumeOfEllipsoid': 6847, 'vowel_remover': 6848, 'weekday': 6849, 'weighted_average': 6850, 'winner': 6851, 'withdraw': 6852, 'woodall_number': 6853, 'word_counter': 6854, 'yield_a_number': 6855, 'zip_list': 6856, 'zip_to_tuple': 6857, 'zodiac_sign': 6858})\n"
          ],
          "name": "stdout"
        }
      ]
    },
    {
      "cell_type": "code",
      "metadata": {
        "id": "ZtH7yV0k4VYe"
      },
      "source": [
        ""
      ],
      "execution_count": 38,
      "outputs": []
    },
    {
      "cell_type": "code",
      "metadata": {
        "id": "Zfo2QhGJUK4l"
      },
      "source": [
        "device = torch.device(\"cuda\" if torch.cuda.is_available() else \"cpu\")"
      ],
      "execution_count": 39,
      "outputs": []
    },
    {
      "cell_type": "code",
      "metadata": {
        "id": "zK2ORoqdTNsM"
      },
      "source": [
        "train_iterator, valid_iterator = data.BucketIterator.splits((train_data, valid_data), batch_size = 32, \n",
        "                                                            sort_key = lambda z: len(z.queue),\n",
        "                                                            sort_within_batch=True, device = device)"
      ],
      "execution_count": 40,
      "outputs": []
    },
    {
      "cell_type": "code",
      "metadata": {
        "id": "H6Mymrtz9oOo"
      },
      "source": [
        ""
      ],
      "execution_count": 40,
      "outputs": []
    },
    {
      "cell_type": "code",
      "metadata": {
        "id": "niE9Cc6-2bD_"
      },
      "source": [
        "import os, pickle\n",
        "with open('tokenizer.pkl', 'wb') as tokens: \n",
        "    pickle.dump(snippet.vocab.stoi, tokens)"
      ],
      "execution_count": 41,
      "outputs": []
    },
    {
      "cell_type": "code",
      "metadata": {
        "id": "cgTxHeAvl3Er"
      },
      "source": [
        "import torch\r\n",
        "import torch.nn as nn\r\n",
        "import torch.optim as optim\r\n",
        "\r\n",
        "import torchtext\r\n",
        "from torchtext.legacy.data import Field, BucketIterator\r\n",
        "\r\n",
        "import matplotlib.pyplot as plt\r\n",
        "import matplotlib.ticker as ticker\r\n",
        "\r\n",
        "import spacy\r\n",
        "import numpy as np\r\n",
        "\r\n",
        "import random\r\n",
        "import math\r\n",
        "import time"
      ],
      "execution_count": 42,
      "outputs": []
    },
    {
      "cell_type": "code",
      "metadata": {
        "id": "NE6JimgOCz-w"
      },
      "source": [
        "class Encoder(nn.Module):\r\n",
        "    def __init__(self, \r\n",
        "                 input_dim, \r\n",
        "                 hid_dim, \r\n",
        "                 n_layers, \r\n",
        "                 n_heads, \r\n",
        "                 pf_dim,\r\n",
        "                 dropout, \r\n",
        "                 device,\r\n",
        "                 max_length = 100):\r\n",
        "        super().__init__()\r\n",
        "\r\n",
        "        self.device = device\r\n",
        "        \r\n",
        "        self.tok_embedding = nn.Embedding(input_dim, hid_dim)\r\n",
        "        self.pos_embedding = nn.Embedding(max_length, hid_dim)\r\n",
        "        \r\n",
        "        self.layers = nn.ModuleList([EncoderLayer(hid_dim, \r\n",
        "                                                  n_heads, \r\n",
        "                                                  pf_dim,\r\n",
        "                                                  dropout, \r\n",
        "                                                  device) \r\n",
        "                                     for _ in range(n_layers)])\r\n",
        "        \r\n",
        "        self.dropout = nn.Dropout(dropout)\r\n",
        "        \r\n",
        "        self.scale = torch.sqrt(torch.FloatTensor([hid_dim])).to(device)\r\n",
        "        \r\n",
        "    def forward(self, src, src_mask):\r\n",
        "        \r\n",
        "        #src = [batch size, src len]\r\n",
        "        #src_mask = [batch size, 1, 1, src len]\r\n",
        "        \r\n",
        "        batch_size = src.shape[0]\r\n",
        "        src_len = src.shape[1]\r\n",
        "        \r\n",
        "        pos = torch.arange(0, src_len).unsqueeze(0).repeat(batch_size, 1).to(self.device)\r\n",
        "        \r\n",
        "        #pos = [batch size, src len]\r\n",
        "        \r\n",
        "        src = self.dropout((self.tok_embedding(src) * self.scale) + self.pos_embedding(pos))\r\n",
        "        \r\n",
        "        #src = [batch size, src len, hid dim]\r\n",
        "        \r\n",
        "        for layer in self.layers:\r\n",
        "            src = layer(src, src_mask)\r\n",
        "            \r\n",
        "        #src = [batch size, src len, hid dim]\r\n",
        "            \r\n",
        "        return src"
      ],
      "execution_count": 43,
      "outputs": []
    },
    {
      "cell_type": "code",
      "metadata": {
        "id": "2LheiXWVFDEg"
      },
      "source": [
        "class EncoderLayer(nn.Module):\r\n",
        "    def __init__(self, \r\n",
        "                 hid_dim, \r\n",
        "                 n_heads, \r\n",
        "                 pf_dim,  \r\n",
        "                 dropout, \r\n",
        "                 device):\r\n",
        "        super().__init__()\r\n",
        "        \r\n",
        "        self.self_attn_layer_norm = nn.LayerNorm(hid_dim)\r\n",
        "        self.ff_layer_norm = nn.LayerNorm(hid_dim)\r\n",
        "        self.self_attention = MultiHeadAttentionLayer(hid_dim, n_heads, dropout, device)\r\n",
        "        self.positionwise_feedforward = PositionwiseFeedforwardLayer(hid_dim, \r\n",
        "                                                                     pf_dim, \r\n",
        "                                                                     dropout)\r\n",
        "        self.dropout = nn.Dropout(dropout)\r\n",
        "        \r\n",
        "    def forward(self, src, src_mask):\r\n",
        "        \r\n",
        "        #src = [batch size, src len, hid dim]\r\n",
        "        #src_mask = [batch size, 1, 1, src len] \r\n",
        "                \r\n",
        "        #self attention\r\n",
        "        _src, _ = self.self_attention(src, src, src, src_mask)\r\n",
        "        \r\n",
        "        #dropout, residual connection and layer norm\r\n",
        "        src = self.self_attn_layer_norm(src + self.dropout(_src))\r\n",
        "        \r\n",
        "        #src = [batch size, src len, hid dim]\r\n",
        "        \r\n",
        "        #positionwise feedforward\r\n",
        "        _src = self.positionwise_feedforward(src)\r\n",
        "        \r\n",
        "        #dropout, residual and layer norm\r\n",
        "        src = self.ff_layer_norm(src + self.dropout(_src))\r\n",
        "        \r\n",
        "        #src = [batch size, src len, hid dim]\r\n",
        "        \r\n",
        "        return src"
      ],
      "execution_count": 44,
      "outputs": []
    },
    {
      "cell_type": "code",
      "metadata": {
        "id": "ZZmeHfGhGzkN"
      },
      "source": [
        "class MultiHeadAttentionLayer(nn.Module):\r\n",
        "    def __init__(self, hid_dim, n_heads, dropout, device):\r\n",
        "        super().__init__()\r\n",
        "        \r\n",
        "        assert hid_dim % n_heads == 0\r\n",
        "        \r\n",
        "        self.hid_dim = hid_dim\r\n",
        "        self.n_heads = n_heads\r\n",
        "        self.head_dim = hid_dim // n_heads\r\n",
        "        \r\n",
        "        self.fc_q = nn.Linear(hid_dim, hid_dim)\r\n",
        "        self.fc_k = nn.Linear(hid_dim, hid_dim)\r\n",
        "        self.fc_v = nn.Linear(hid_dim, hid_dim)\r\n",
        "        \r\n",
        "        self.fc_o = nn.Linear(hid_dim, hid_dim)\r\n",
        "        \r\n",
        "        self.dropout = nn.Dropout(dropout)\r\n",
        "        \r\n",
        "        self.scale = torch.sqrt(torch.FloatTensor([self.head_dim])).to(device)\r\n",
        "        \r\n",
        "    def forward(self, query, key, value, mask = None):\r\n",
        "        \r\n",
        "        batch_size = query.shape[0]\r\n",
        "        \r\n",
        "        #query = [batch size, query len, hid dim]\r\n",
        "        #key = [batch size, key len, hid dim]\r\n",
        "        #value = [batch size, value len, hid dim]\r\n",
        "                \r\n",
        "        Q = self.fc_q(query)\r\n",
        "        K = self.fc_k(key)\r\n",
        "        V = self.fc_v(value)\r\n",
        "        \r\n",
        "        #Q = [batch size, query len, hid dim]\r\n",
        "        #K = [batch size, key len, hid dim]\r\n",
        "        #V = [batch size, value len, hid dim]\r\n",
        "                \r\n",
        "        Q = Q.view(batch_size, -1, self.n_heads, self.head_dim).permute(0, 2, 1, 3)\r\n",
        "        K = K.view(batch_size, -1, self.n_heads, self.head_dim).permute(0, 2, 1, 3)\r\n",
        "        V = V.view(batch_size, -1, self.n_heads, self.head_dim).permute(0, 2, 1, 3)\r\n",
        "        \r\n",
        "        #Q = [batch size, n heads, query len, head dim]\r\n",
        "        #K = [batch size, n heads, key len, head dim]\r\n",
        "        #V = [batch size, n heads, value len, head dim]\r\n",
        "                \r\n",
        "        energy = torch.matmul(Q, K.permute(0, 1, 3, 2)) / self.scale\r\n",
        "        \r\n",
        "        #energy = [batch size, n heads, query len, key len]\r\n",
        "        \r\n",
        "        if mask is not None:\r\n",
        "            energy = energy.masked_fill(mask == 0, -1e10)\r\n",
        "        \r\n",
        "        attention = torch.softmax(energy, dim = -1)\r\n",
        "                \r\n",
        "        #attention = [batch size, n heads, query len, key len]\r\n",
        "                \r\n",
        "        x = torch.matmul(self.dropout(attention), V)\r\n",
        "        \r\n",
        "        #x = [batch size, n heads, query len, head dim]\r\n",
        "        \r\n",
        "        x = x.permute(0, 2, 1, 3).contiguous()\r\n",
        "        \r\n",
        "        #x = [batch size, query len, n heads, head dim]\r\n",
        "        \r\n",
        "        x = x.view(batch_size, -1, self.hid_dim)\r\n",
        "        \r\n",
        "        #x = [batch size, query len, hid dim]\r\n",
        "        \r\n",
        "        x = self.fc_o(x)\r\n",
        "        \r\n",
        "        #x = [batch size, query len, hid dim]\r\n",
        "        \r\n",
        "        return x, attention"
      ],
      "execution_count": 45,
      "outputs": []
    },
    {
      "cell_type": "code",
      "metadata": {
        "id": "R9w9xDUKL7LU"
      },
      "source": [
        "class PositionwiseFeedforwardLayer(nn.Module):\r\n",
        "    def __init__(self, hid_dim, pf_dim, dropout):\r\n",
        "        super().__init__()\r\n",
        "        \r\n",
        "        self.fc_1 = nn.Linear(hid_dim, pf_dim)\r\n",
        "        self.fc_2 = nn.Linear(pf_dim, hid_dim)\r\n",
        "        \r\n",
        "        self.dropout = nn.Dropout(dropout)\r\n",
        "        \r\n",
        "    def forward(self, x):\r\n",
        "        \r\n",
        "        #x = [batch size, seq len, hid dim]\r\n",
        "        \r\n",
        "        x = self.dropout(torch.relu(self.fc_1(x)))\r\n",
        "        \r\n",
        "        #x = [batch size, seq len, pf dim]\r\n",
        "        \r\n",
        "        x = self.fc_2(x)\r\n",
        "        \r\n",
        "        #x = [batch size, seq len, hid dim]\r\n",
        "        \r\n",
        "        return x"
      ],
      "execution_count": 46,
      "outputs": []
    },
    {
      "cell_type": "code",
      "metadata": {
        "id": "iWBMMF45MMNS"
      },
      "source": [
        "class Decoder(nn.Module):\r\n",
        "    def __init__(self, \r\n",
        "                 output_dim, \r\n",
        "                 hid_dim, \r\n",
        "                 n_layers, \r\n",
        "                 n_heads, \r\n",
        "                 pf_dim, \r\n",
        "                 dropout, \r\n",
        "                 device,\r\n",
        "                 max_length = 450):\r\n",
        "        super().__init__()\r\n",
        "        \r\n",
        "        self.device = device\r\n",
        "        \r\n",
        "        self.tok_embedding = nn.Embedding(output_dim, hid_dim)\r\n",
        "        self.pos_embedding = nn.Embedding(max_length, hid_dim)\r\n",
        "        \r\n",
        "        self.layers = nn.ModuleList([DecoderLayer(hid_dim, \r\n",
        "                                                  n_heads, \r\n",
        "                                                  pf_dim, \r\n",
        "                                                  dropout, \r\n",
        "                                                  device)\r\n",
        "                                     for _ in range(n_layers)])\r\n",
        "        \r\n",
        "        self.fc_out = nn.Linear(hid_dim, output_dim)\r\n",
        "        \r\n",
        "        self.dropout = nn.Dropout(dropout)\r\n",
        "        \r\n",
        "        self.scale = torch.sqrt(torch.FloatTensor([hid_dim])).to(self.device)\r\n",
        "        \r\n",
        "    def forward(self, trg, enc_src, trg_mask, src_mask):\r\n",
        "        \r\n",
        "        #trg = [batch size, trg len]\r\n",
        "        #enc_src = [batch size, src len, hid dim]\r\n",
        "        #trg_mask = [batch size, 1, trg len, trg len]\r\n",
        "        #src_mask = [batch size, 1, 1, src len]\r\n",
        "                \r\n",
        "        batch_size = trg.shape[0]\r\n",
        "        trg_len = trg.shape[1]\r\n",
        "        \r\n",
        "        pos = torch.arange(0, trg_len).unsqueeze(0).repeat(batch_size, 1).to(self.device)\r\n",
        "                            \r\n",
        "        #pos = [batch size, trg len]\r\n",
        "            \r\n",
        "        trg = self.dropout((self.tok_embedding(trg) * self.scale) + self.pos_embedding(pos))\r\n",
        "        # print(\"deeeeeeeeeeeeeeeeeeeeeeeeeeecoder here\")\r\n",
        "        #trg = [batch size, trg len, hid dim]\r\n",
        "        \r\n",
        "        for layer in self.layers:\r\n",
        "            trg, attention = layer(trg, enc_src, trg_mask, src_mask)\r\n",
        "        \r\n",
        "        #trg = [batch size, trg len, hid dim]\r\n",
        "        #attention = [batch size, n heads, trg len, src len]\r\n",
        "        \r\n",
        "        output = self.fc_out(trg)\r\n",
        "        \r\n",
        "        #output = [batch size, trg len, output dim]\r\n",
        "            \r\n",
        "        return output, attention"
      ],
      "execution_count": 47,
      "outputs": []
    },
    {
      "cell_type": "code",
      "metadata": {
        "id": "CMEr1IFUMxco"
      },
      "source": [
        "class DecoderLayer(nn.Module):\r\n",
        "    def __init__(self, \r\n",
        "                 hid_dim, \r\n",
        "                 n_heads, \r\n",
        "                 pf_dim, \r\n",
        "                 dropout, \r\n",
        "                 device):\r\n",
        "        super().__init__()\r\n",
        "        \r\n",
        "        self.self_attn_layer_norm = nn.LayerNorm(hid_dim)\r\n",
        "        self.enc_attn_layer_norm = nn.LayerNorm(hid_dim)\r\n",
        "        self.ff_layer_norm = nn.LayerNorm(hid_dim)\r\n",
        "        self.self_attention = MultiHeadAttentionLayer(hid_dim, n_heads, dropout, device)\r\n",
        "        self.encoder_attention = MultiHeadAttentionLayer(hid_dim, n_heads, dropout, device)\r\n",
        "        self.positionwise_feedforward = PositionwiseFeedforwardLayer(hid_dim, \r\n",
        "                                                                     pf_dim, \r\n",
        "                                                                     dropout)\r\n",
        "        self.dropout = nn.Dropout(dropout)\r\n",
        "        \r\n",
        "    def forward(self, trg, enc_src, trg_mask, src_mask):\r\n",
        "        \r\n",
        "        #trg = [batch size, trg len, hid dim]\r\n",
        "        #enc_src = [batch size, src len, hid dim]\r\n",
        "        #trg_mask = [batch size, 1, trg len, trg len]\r\n",
        "        #src_mask = [batch size, 1, 1, src len]\r\n",
        "        \r\n",
        "        #self attention\r\n",
        "        _trg, _ = self.self_attention(trg, trg, trg, trg_mask)\r\n",
        "        \r\n",
        "        #dropout, residual connection and layer norm\r\n",
        "        trg = self.self_attn_layer_norm(trg + self.dropout(_trg))\r\n",
        "            \r\n",
        "        #trg = [batch size, trg len, hid dim]\r\n",
        "            \r\n",
        "        #encoder attention\r\n",
        "        _trg, attention = self.encoder_attention(trg, enc_src, enc_src, src_mask)\r\n",
        "        # query, key, value\r\n",
        "        \r\n",
        "        #dropout, residual connection and layer norm\r\n",
        "        trg = self.enc_attn_layer_norm(trg + self.dropout(_trg))\r\n",
        "                    \r\n",
        "        #trg = [batch size, trg len, hid dim]\r\n",
        "        \r\n",
        "        #positionwise feedforward\r\n",
        "        _trg = self.positionwise_feedforward(trg)\r\n",
        "        \r\n",
        "        #dropout, residual and layer norm\r\n",
        "        trg = self.ff_layer_norm(trg + self.dropout(_trg))\r\n",
        "        \r\n",
        "        #trg = [batch size, trg len, hid dim]\r\n",
        "        #attention = [batch size, n heads, trg len, src len]\r\n",
        "        \r\n",
        "        return trg, attention"
      ],
      "execution_count": 48,
      "outputs": []
    },
    {
      "cell_type": "code",
      "metadata": {
        "id": "Dr3Mg8OGN6ul"
      },
      "source": [
        "class Seq2Seq(nn.Module):\r\n",
        "    def __init__(self, \r\n",
        "                 encoder, \r\n",
        "                 decoder, \r\n",
        "                 src_pad_idx, \r\n",
        "                 trg_pad_idx, \r\n",
        "                 device):\r\n",
        "        super().__init__()\r\n",
        "        \r\n",
        "        self.encoder = encoder\r\n",
        "        self.decoder = decoder\r\n",
        "        self.src_pad_idx = src_pad_idx\r\n",
        "        self.trg_pad_idx = trg_pad_idx\r\n",
        "        self.device = device\r\n",
        "        \r\n",
        "    def make_src_mask(self, src):\r\n",
        "        \r\n",
        "        #src = [batch size, src len]\r\n",
        "        \r\n",
        "        src_mask = (src != self.src_pad_idx).unsqueeze(1).unsqueeze(2)\r\n",
        "\r\n",
        "        #src_mask = [batch size, 1, 1, src len]\r\n",
        "\r\n",
        "        return src_mask\r\n",
        "    \r\n",
        "    def make_trg_mask(self, trg):\r\n",
        "        \r\n",
        "        #trg = [batch size, trg len]\r\n",
        "        \r\n",
        "        trg_pad_mask = (trg != self.trg_pad_idx).unsqueeze(1).unsqueeze(2)\r\n",
        "        \r\n",
        "        #trg_pad_mask = [batch size, 1, 1, trg len]\r\n",
        "        \r\n",
        "        trg_len = trg.shape[1]\r\n",
        "        \r\n",
        "        trg_sub_mask = torch.tril(torch.ones((trg_len, trg_len), device = self.device)).bool()\r\n",
        "        \r\n",
        "        #trg_sub_mask = [trg len, trg len]\r\n",
        "            \r\n",
        "        trg_mask = trg_pad_mask & trg_sub_mask\r\n",
        "        \r\n",
        "        #trg_mask = [batch size, 1, trg len, trg len]\r\n",
        "        \r\n",
        "        return trg_mask\r\n",
        "\r\n",
        "    def forward(self, src, trg):\r\n",
        "        \r\n",
        "        #src = [batch size, src len]\r\n",
        "        #trg = [batch size, trg len]\r\n",
        "                \r\n",
        "        src_mask = self.make_src_mask(src)\r\n",
        "        trg_mask = self.make_trg_mask(trg)\r\n",
        "        \r\n",
        "        #src_mask = [batch size, 1, 1, src len]\r\n",
        "        #trg_mask = [batch size, 1, trg len, trg len]\r\n",
        "        # print(\"mask_generated\")\r\n",
        "        enc_src = self.encoder(src, src_mask)\r\n",
        "        # print(\"encoded_info\")\r\n",
        "        #enc_src = [batch size, src len, hid dim]\r\n",
        "                \r\n",
        "        output, attention = self.decoder(trg, enc_src, trg_mask, src_mask)\r\n",
        "        # print(\"decoded_info\")\r\n",
        "        #output = [batch size, trg len, output dim]\r\n",
        "        #attention = [batch size, n heads, trg len, src len]\r\n",
        "        \r\n",
        "        return output, attention"
      ],
      "execution_count": 49,
      "outputs": []
    },
    {
      "cell_type": "code",
      "metadata": {
        "id": "4zsZjSSWOSHc"
      },
      "source": [
        "INPUT_DIM = len(queue.vocab)\r\n",
        "OUTPUT_DIM = len(snippet.vocab)\r\n",
        "HID_DIM = 256\r\n",
        "ENC_LAYERS = 3\r\n",
        "DEC_LAYERS = 3\r\n",
        "ENC_HEADS = 8\r\n",
        "DEC_HEADS = 8\r\n",
        "ENC_PF_DIM = 512\r\n",
        "DEC_PF_DIM = 512\r\n",
        "ENC_DROPOUT = 0.1\r\n",
        "DEC_DROPOUT = 0.1\r\n",
        "\r\n",
        "enc = Encoder(INPUT_DIM, \r\n",
        "              HID_DIM, \r\n",
        "              ENC_LAYERS, \r\n",
        "              ENC_HEADS, \r\n",
        "              ENC_PF_DIM, \r\n",
        "              ENC_DROPOUT, \r\n",
        "              device)\r\n",
        "\r\n",
        "dec = Decoder(OUTPUT_DIM, \r\n",
        "              HID_DIM, \r\n",
        "              DEC_LAYERS, \r\n",
        "              DEC_HEADS, \r\n",
        "              DEC_PF_DIM, \r\n",
        "              DEC_DROPOUT, \r\n",
        "              device)"
      ],
      "execution_count": 111,
      "outputs": []
    },
    {
      "cell_type": "code",
      "metadata": {
        "id": "hE1nNRm-8DEl"
      },
      "source": [
        "QUEUE_PAD_IDX = queue.vocab.stoi[queue.pad_token]\n",
        "SNIPPET_PAD_IDX = snippet.vocab.stoi[snippet.pad_token]\n",
        "\n",
        "model = Seq2Seq(enc, dec, QUEUE_PAD_IDX, SNIPPET_PAD_IDX, device).to(device)"
      ],
      "execution_count": 112,
      "outputs": []
    },
    {
      "cell_type": "code",
      "metadata": {
        "colab": {
          "base_uri": "https://localhost:8080/"
        },
        "id": "Qd0ePzj0OzLa",
        "outputId": "bc1fb65c-3d28-41c4-8339-57d4faca37c8"
      },
      "source": [
        "def count_parameters(model):\r\n",
        "    return sum(p.numel() for p in model.parameters() if p.requires_grad)\r\n",
        "\r\n",
        "print(f'The model has {count_parameters(model):,} trainable parameters')"
      ],
      "execution_count": 113,
      "outputs": [
        {
          "output_type": "stream",
          "text": [
            "The model has 8,304,587 trainable parameters\n"
          ],
          "name": "stdout"
        }
      ]
    },
    {
      "cell_type": "code",
      "metadata": {
        "id": "fmZ0hyo8O0vE"
      },
      "source": [
        "def initialize_weights(m):\r\n",
        "    if hasattr(m, 'weight') and m.weight.dim() > 1:\r\n",
        "        nn.init.xavier_uniform_(m.weight.data)"
      ],
      "execution_count": 114,
      "outputs": []
    },
    {
      "cell_type": "code",
      "metadata": {
        "id": "NRtAM9Y4O2N2"
      },
      "source": [
        "model.apply(initialize_weights);"
      ],
      "execution_count": 115,
      "outputs": []
    },
    {
      "cell_type": "code",
      "metadata": {
        "id": "NEpApG3YO3ZE"
      },
      "source": [
        "LEARNING_RATE = 0.0005\r\n",
        "\r\n",
        "optimizer = torch.optim.Adam(model.parameters(), lr = LEARNING_RATE)"
      ],
      "execution_count": 116,
      "outputs": []
    },
    {
      "cell_type": "code",
      "metadata": {
        "id": "n9Dy_wWrO46l"
      },
      "source": [
        "criterion = nn.CrossEntropyLoss(ignore_index = SNIPPET_PAD_IDX)\r\n"
      ],
      "execution_count": 117,
      "outputs": []
    },
    {
      "cell_type": "code",
      "metadata": {
        "id": "ycBBiEpuO6cG"
      },
      "source": [
        "def train(model, iterator, optimizer, criterion, clip):\r\n",
        "    \r\n",
        "    model.train()\r\n",
        "    \r\n",
        "    epoch_loss = 0\r\n",
        "    \r\n",
        "    for i, batch in enumerate(iterator):\r\n",
        "        src,_ = batch.queue\r\n",
        "        trg,_ = batch.snippet\r\n",
        "        optimizer.zero_grad()\r\n",
        "        # print(src.shape,trg.shape)\r\n",
        "        # print(trg)\r\n",
        "        output, _ = model(src, trg[:,:-1])\r\n",
        "        #output = [batch size, trg len - 1, output dim]\r\n",
        "        #trg = [batch size, trg len]\r\n",
        "            \r\n",
        "        output_dim = output.shape[-1]\r\n",
        "            \r\n",
        "        output = output.contiguous().view(-1, output_dim)\r\n",
        "        trg = trg[:,1:].contiguous().view(-1)\r\n",
        "                \r\n",
        "        #output = [batch size * trg len - 1, output dim]\r\n",
        "        #trg = [batch size * trg len - 1]\r\n",
        "            \r\n",
        "        loss = criterion(output, trg)\r\n",
        "        \r\n",
        "        loss.backward()\r\n",
        "        \r\n",
        "        torch.nn.utils.clip_grad_norm_(model.parameters(), clip)\r\n",
        "        \r\n",
        "        optimizer.step()\r\n",
        "        \r\n",
        "        epoch_loss += loss.item()\r\n",
        "        \r\n",
        "    return epoch_loss / len(iterator)"
      ],
      "execution_count": 118,
      "outputs": []
    },
    {
      "cell_type": "code",
      "metadata": {
        "id": "zi3Ev8gaO79_"
      },
      "source": [
        "def evaluate(model, iterator, criterion):\r\n",
        "    \r\n",
        "    model.eval()\r\n",
        "    \r\n",
        "    epoch_loss = 0\r\n",
        "    \r\n",
        "    with torch.no_grad():\r\n",
        "    \r\n",
        "        for i, batch in enumerate(iterator):\r\n",
        "            src,_ = batch.queue\r\n",
        "            trg,_ = batch.snippet\r\n",
        "\r\n",
        "            output, _ = model(src, trg[:,:-1])\r\n",
        "            \r\n",
        "            #output = [batch size, trg len - 1, output dim]\r\n",
        "            #trg = [batch size, trg len]\r\n",
        "            \r\n",
        "            output_dim = output.shape[-1]\r\n",
        "            \r\n",
        "            output = output.contiguous().view(-1, output_dim)\r\n",
        "            trg = trg[:,1:].contiguous().view(-1)\r\n",
        "            \r\n",
        "            #output = [batch size * trg len - 1, output dim]\r\n",
        "            #trg = [batch size * trg len - 1]\r\n",
        "            \r\n",
        "            loss = criterion(output, trg)\r\n",
        "\r\n",
        "            epoch_loss += loss.item()\r\n",
        "        \r\n",
        "    return epoch_loss / len(iterator)"
      ],
      "execution_count": 119,
      "outputs": []
    },
    {
      "cell_type": "code",
      "metadata": {
        "id": "JuB4JqQRO9Wg"
      },
      "source": [
        "def epoch_time(start_time, end_time):\r\n",
        "    elapsed_time = end_time - start_time\r\n",
        "    elapsed_mins = int(elapsed_time / 60)\r\n",
        "    elapsed_secs = int(elapsed_time - (elapsed_mins * 60))\r\n",
        "    return elapsed_mins, elapsed_secs"
      ],
      "execution_count": 120,
      "outputs": []
    },
    {
      "cell_type": "code",
      "metadata": {
        "colab": {
          "base_uri": "https://localhost:8080/"
        },
        "id": "aax76Ie4O_Cr",
        "outputId": "abe7ac19-4a06-47c9-bf4a-3b0543817d39"
      },
      "source": [
        "N_EPOCHS = 100\r\n",
        "CLIP = 1\r\n",
        "\r\n",
        "best_valid_loss = float('inf')\r\n",
        "\r\n",
        "for epoch in range(N_EPOCHS):\r\n",
        "    \r\n",
        "    start_time = time.time()\r\n",
        "    \r\n",
        "    train_loss = train(model, train_iterator, optimizer, criterion, CLIP)\r\n",
        "    valid_loss = evaluate(model, valid_iterator, criterion)\r\n",
        "    end_time = time.time()\r\n",
        "    \r\n",
        "    epoch_mins, epoch_secs = epoch_time(start_time, end_time)\r\n",
        "    \r\n",
        "    if valid_loss < best_valid_loss:\r\n",
        "        best_valid_loss = valid_loss\r\n",
        "        torch.save(model.state_dict(), 'tut6-model.pt')\r\n",
        "    \r\n",
        "    print(f'Epoch: {epoch+1:02} | Time: {epoch_mins}m {epoch_secs}s')\r\n",
        "    print(f'\\tTrain Loss: {train_loss:.3f} | Train PPL: {math.exp(train_loss):7.3f}')\r\n",
        "    print(f'\\t Val. Loss: {valid_loss:.3f} |  Val. PPL: {math.exp(valid_loss):7.3f}')"
      ],
      "execution_count": 121,
      "outputs": [
        {
          "output_type": "stream",
          "text": [
            "Epoch: 01 | Time: 0m 13s\n",
            "\tTrain Loss: 4.476 | Train PPL:  87.873\n",
            "\t Val. Loss: 3.107 |  Val. PPL:  22.344\n",
            "Epoch: 02 | Time: 0m 13s\n",
            "\tTrain Loss: 2.832 | Train PPL:  16.977\n",
            "\t Val. Loss: 2.655 |  Val. PPL:  14.231\n",
            "Epoch: 03 | Time: 0m 13s\n",
            "\tTrain Loss: 2.412 | Train PPL:  11.157\n",
            "\t Val. Loss: 2.343 |  Val. PPL:  10.415\n",
            "Epoch: 04 | Time: 0m 13s\n",
            "\tTrain Loss: 2.126 | Train PPL:   8.381\n",
            "\t Val. Loss: 2.167 |  Val. PPL:   8.730\n",
            "Epoch: 05 | Time: 0m 12s\n",
            "\tTrain Loss: 1.904 | Train PPL:   6.712\n",
            "\t Val. Loss: 2.061 |  Val. PPL:   7.857\n",
            "Epoch: 06 | Time: 0m 13s\n",
            "\tTrain Loss: 1.699 | Train PPL:   5.468\n",
            "\t Val. Loss: 1.921 |  Val. PPL:   6.827\n",
            "Epoch: 07 | Time: 0m 12s\n",
            "\tTrain Loss: 1.513 | Train PPL:   4.542\n",
            "\t Val. Loss: 1.812 |  Val. PPL:   6.123\n",
            "Epoch: 08 | Time: 0m 12s\n",
            "\tTrain Loss: 1.354 | Train PPL:   3.873\n",
            "\t Val. Loss: 1.756 |  Val. PPL:   5.787\n",
            "Epoch: 09 | Time: 0m 13s\n",
            "\tTrain Loss: 1.231 | Train PPL:   3.423\n",
            "\t Val. Loss: 1.698 |  Val. PPL:   5.461\n",
            "Epoch: 10 | Time: 0m 13s\n",
            "\tTrain Loss: 1.095 | Train PPL:   2.988\n",
            "\t Val. Loss: 1.650 |  Val. PPL:   5.207\n"
          ],
          "name": "stdout"
        }
      ]
    },
    {
      "cell_type": "code",
      "metadata": {
        "colab": {
          "base_uri": "https://localhost:8080/"
        },
        "id": "f3_aq7QTPBFc",
        "outputId": "d4f99413-af13-4075-d2b5-fab3affb0099"
      },
      "source": [
        "# model.load_state_dict(torch.load('tut6-model.pt'))\r\n",
        "\r\n",
        "# test_loss = evaluate(model, valid_iterator, criterion)\r\n",
        "\r\n",
        "# print(f'| Test Loss: {test_loss:.3f} | Test PPL: {math.exp(test_loss):7.3f} |')"
      ],
      "execution_count": 84,
      "outputs": [
        {
          "output_type": "stream",
          "text": [
            "| Test Loss: 1.606 | Test PPL:   4.985 |\n"
          ],
          "name": "stdout"
        }
      ]
    },
    {
      "cell_type": "code",
      "metadata": {
        "id": "ieIjql9uPKH1"
      },
      "source": [
        "def translate_sentence(sentence, src_field, trg_field, model, device, max_len = 50):\r\n",
        "    \r\n",
        "    model.eval()\r\n",
        "        \r\n",
        "    if isinstance(sentence, str):\r\n",
        "        nlp = spacy.load('de')\r\n",
        "        tokens = [token.text.lower() for token in nlp(sentence)]\r\n",
        "    else:\r\n",
        "        tokens = [token.lower() for token in sentence]\r\n",
        "\r\n",
        "    tokens = [src_field.init_token] + tokens + [src_field.eos_token]\r\n",
        "        \r\n",
        "    src_indexes = [src_field.vocab.stoi[token] for token in tokens]\r\n",
        "\r\n",
        "    src_tensor = torch.LongTensor(src_indexes).unsqueeze(0).to(device)\r\n",
        "    \r\n",
        "    src_mask = model.make_src_mask(src_tensor)\r\n",
        "    \r\n",
        "    with torch.no_grad():\r\n",
        "        enc_src = model.encoder(src_tensor, src_mask)\r\n",
        "\r\n",
        "    trg_indexes = [trg_field.vocab.stoi[trg_field.init_token]]\r\n",
        "\r\n",
        "    for i in range(max_len):\r\n",
        "\r\n",
        "        trg_tensor = torch.LongTensor(trg_indexes).unsqueeze(0).to(device)\r\n",
        "\r\n",
        "        trg_mask = model.make_trg_mask(trg_tensor)\r\n",
        "        \r\n",
        "        with torch.no_grad():\r\n",
        "            output, attention = model.decoder(trg_tensor, enc_src, trg_mask, src_mask)\r\n",
        "        \r\n",
        "        pred_token = output.argmax(2)[:,-1].item()\r\n",
        "        \r\n",
        "        trg_indexes.append(pred_token)\r\n",
        "\r\n",
        "        if pred_token == trg_field.vocab.stoi[trg_field.eos_token]:\r\n",
        "            break\r\n",
        "    \r\n",
        "    trg_tokens = [trg_field.vocab.itos[i] for i in trg_indexes]\r\n",
        "    \r\n",
        "    return trg_tokens[1:], attention"
      ],
      "execution_count": 122,
      "outputs": []
    },
    {
      "cell_type": "code",
      "metadata": {
        "colab": {
          "base_uri": "https://localhost:8080/"
        },
        "id": "c9_GobzqP1EK",
        "outputId": "28cb401a-8ebe-47e0-ea08-c0f0fe6a430f"
      },
      "source": [
        "example_idx = 1\n",
        "\n",
        "src = vars(train_data.examples[example_idx])['queue']\n",
        "trg = vars(train_data.examples[example_idx])['snippet']\n",
        "\n",
        "print(f'src = {src}')\n",
        "print(f'trg = {trg}')"
      ],
      "execution_count": 126,
      "outputs": [
        {
          "output_type": "stream",
          "text": [
            "src = [' ', 'a', 'python', 'program', 'to', 'clear', 'a', 'list']\n",
            "trg = ['given_list', '-', '=', '[', '6', ',', '0', ',', '4', ',', '1', ']', '\\n', 'given_list', '.', 'clear', '(', ')', '', '']\n"
          ],
          "name": "stdout"
        }
      ]
    },
    {
      "cell_type": "code",
      "metadata": {
        "id": "KMl1Ms1D4n0G"
      },
      "source": [
        "src = [\"add\",\"two\",\"numbers\"]"
      ],
      "execution_count": 124,
      "outputs": []
    },
    {
      "cell_type": "code",
      "metadata": {
        "colab": {
          "base_uri": "https://localhost:8080/"
        },
        "id": "J5qAIr2vQCFr",
        "outputId": "667a99e4-ab00-44b2-9cb2-03d5c667bef8"
      },
      "source": [
        "translation, attention = translate_sentence(src, queue, snippet, model, device)\n",
        "\n",
        "print(f'predicted trg = {translation}')"
      ],
      "execution_count": 127,
      "outputs": [
        {
          "output_type": "stream",
          "text": [
            "predicted trg = ['=', 'lambda', 'x', ':', 'x', '.', 'extend', '(', 'y', ')', '', '', '', '', '', '', '', '', '', '', '', '', '', '', '', '', '', '', '', '', '', '', '', '', '', '', '', '', '', '', '', '', '', '', '', '', '', '', '', '']\n"
          ],
          "name": "stdout"
        }
      ]
    },
    {
      "cell_type": "code",
      "metadata": {
        "id": "D3Fs4d9fNQt1"
      },
      "source": [
        ""
      ],
      "execution_count": 65,
      "outputs": []
    },
    {
      "cell_type": "code",
      "metadata": {
        "id": "-Fq9BvrOQOd2"
      },
      "source": [
        "from torchtext.data.metrics import bleu_score\n",
        "\n",
        "def calculate_bleu(data, src_field, trg_field, model, device, max_len = 50):\n",
        "    \n",
        "    trgs = []\n",
        "    pred_trgs = []\n",
        "    \n",
        "    for datum in data:\n",
        "        \n",
        "        src = vars(datum)['queue']\n",
        "        trg = vars(datum)['snippet']\n",
        "        \n",
        "        pred_trg, _ = translate_sentence(src, src_field, trg_field, model, device, max_len)\n",
        "        \n",
        "        #cut off <eos> token\n",
        "        pred_trg = pred_trg[:-1]\n",
        "        \n",
        "        pred_trgs.append(pred_trg)\n",
        "        trgs.append([trg])\n",
        "        \n",
        "    return bleu_score(pred_trgs, trgs)"
      ],
      "execution_count": 66,
      "outputs": []
    },
    {
      "cell_type": "code",
      "metadata": {
        "id": "rZlpwROoQayw",
        "colab": {
          "base_uri": "https://localhost:8080/",
          "height": 340
        },
        "outputId": "da587713-509e-4b07-9dd1-89c5d6f8ad87"
      },
      "source": [
        "bleu_score = calculate_bleu(valid_data, queue, snippet, model, device)\n",
        "\n",
        "print(f'BLEU score = {bleu_score*100:.2f}')"
      ],
      "execution_count": 67,
      "outputs": [
        {
          "output_type": "error",
          "ename": "KeyboardInterrupt",
          "evalue": "ignored",
          "traceback": [
            "\u001b[0;31m---------------------------------------------------------------------------\u001b[0m",
            "\u001b[0;31mKeyboardInterrupt\u001b[0m                         Traceback (most recent call last)",
            "\u001b[0;32m<ipython-input-67-b7d3e213a341>\u001b[0m in \u001b[0;36m<module>\u001b[0;34m()\u001b[0m\n\u001b[0;32m----> 1\u001b[0;31m \u001b[0mbleu_score\u001b[0m \u001b[0;34m=\u001b[0m \u001b[0mcalculate_bleu\u001b[0m\u001b[0;34m(\u001b[0m\u001b[0mvalid_data\u001b[0m\u001b[0;34m,\u001b[0m \u001b[0mqueue\u001b[0m\u001b[0;34m,\u001b[0m \u001b[0msnippet\u001b[0m\u001b[0;34m,\u001b[0m \u001b[0mmodel\u001b[0m\u001b[0;34m,\u001b[0m \u001b[0mdevice\u001b[0m\u001b[0;34m)\u001b[0m\u001b[0;34m\u001b[0m\u001b[0;34m\u001b[0m\u001b[0m\n\u001b[0m\u001b[1;32m      2\u001b[0m \u001b[0;34m\u001b[0m\u001b[0m\n\u001b[1;32m      3\u001b[0m \u001b[0mprint\u001b[0m\u001b[0;34m(\u001b[0m\u001b[0;34mf'BLEU score = {bleu_score*100:.2f}'\u001b[0m\u001b[0;34m)\u001b[0m\u001b[0;34m\u001b[0m\u001b[0;34m\u001b[0m\u001b[0m\n",
            "\u001b[0;32m<ipython-input-66-262e8fe0121c>\u001b[0m in \u001b[0;36mcalculate_bleu\u001b[0;34m(data, src_field, trg_field, model, device, max_len)\u001b[0m\n\u001b[1;32m     11\u001b[0m         \u001b[0mtrg\u001b[0m \u001b[0;34m=\u001b[0m \u001b[0mvars\u001b[0m\u001b[0;34m(\u001b[0m\u001b[0mdatum\u001b[0m\u001b[0;34m)\u001b[0m\u001b[0;34m[\u001b[0m\u001b[0;34m'snippet'\u001b[0m\u001b[0;34m]\u001b[0m\u001b[0;34m\u001b[0m\u001b[0;34m\u001b[0m\u001b[0m\n\u001b[1;32m     12\u001b[0m \u001b[0;34m\u001b[0m\u001b[0m\n\u001b[0;32m---> 13\u001b[0;31m         \u001b[0mpred_trg\u001b[0m\u001b[0;34m,\u001b[0m \u001b[0m_\u001b[0m \u001b[0;34m=\u001b[0m \u001b[0mtranslate_sentence\u001b[0m\u001b[0;34m(\u001b[0m\u001b[0msrc\u001b[0m\u001b[0;34m,\u001b[0m \u001b[0msrc_field\u001b[0m\u001b[0;34m,\u001b[0m \u001b[0mtrg_field\u001b[0m\u001b[0;34m,\u001b[0m \u001b[0mmodel\u001b[0m\u001b[0;34m,\u001b[0m \u001b[0mdevice\u001b[0m\u001b[0;34m,\u001b[0m \u001b[0mmax_len\u001b[0m\u001b[0;34m)\u001b[0m\u001b[0;34m\u001b[0m\u001b[0;34m\u001b[0m\u001b[0m\n\u001b[0m\u001b[1;32m     14\u001b[0m \u001b[0;34m\u001b[0m\u001b[0m\n\u001b[1;32m     15\u001b[0m         \u001b[0;31m#cut off <eos> token\u001b[0m\u001b[0;34m\u001b[0m\u001b[0;34m\u001b[0m\u001b[0;34m\u001b[0m\u001b[0m\n",
            "\u001b[0;32m<ipython-input-62-1faf08de32b0>\u001b[0m in \u001b[0;36mtranslate_sentence\u001b[0;34m(sentence, src_field, trg_field, model, device, max_len)\u001b[0m\n\u001b[1;32m     29\u001b[0m \u001b[0;34m\u001b[0m\u001b[0m\n\u001b[1;32m     30\u001b[0m         \u001b[0;32mwith\u001b[0m \u001b[0mtorch\u001b[0m\u001b[0;34m.\u001b[0m\u001b[0mno_grad\u001b[0m\u001b[0;34m(\u001b[0m\u001b[0;34m)\u001b[0m\u001b[0;34m:\u001b[0m\u001b[0;34m\u001b[0m\u001b[0;34m\u001b[0m\u001b[0m\n\u001b[0;32m---> 31\u001b[0;31m             \u001b[0moutput\u001b[0m\u001b[0;34m,\u001b[0m \u001b[0mattention\u001b[0m \u001b[0;34m=\u001b[0m \u001b[0mmodel\u001b[0m\u001b[0;34m.\u001b[0m\u001b[0mdecoder\u001b[0m\u001b[0;34m(\u001b[0m\u001b[0mtrg_tensor\u001b[0m\u001b[0;34m,\u001b[0m \u001b[0menc_src\u001b[0m\u001b[0;34m,\u001b[0m \u001b[0mtrg_mask\u001b[0m\u001b[0;34m,\u001b[0m \u001b[0msrc_mask\u001b[0m\u001b[0;34m)\u001b[0m\u001b[0;34m\u001b[0m\u001b[0;34m\u001b[0m\u001b[0m\n\u001b[0m\u001b[1;32m     32\u001b[0m \u001b[0;34m\u001b[0m\u001b[0m\n\u001b[1;32m     33\u001b[0m         \u001b[0mpred_token\u001b[0m \u001b[0;34m=\u001b[0m \u001b[0moutput\u001b[0m\u001b[0;34m.\u001b[0m\u001b[0margmax\u001b[0m\u001b[0;34m(\u001b[0m\u001b[0;36m2\u001b[0m\u001b[0;34m)\u001b[0m\u001b[0;34m[\u001b[0m\u001b[0;34m:\u001b[0m\u001b[0;34m,\u001b[0m\u001b[0;34m-\u001b[0m\u001b[0;36m1\u001b[0m\u001b[0;34m]\u001b[0m\u001b[0;34m.\u001b[0m\u001b[0mitem\u001b[0m\u001b[0;34m(\u001b[0m\u001b[0;34m)\u001b[0m\u001b[0;34m\u001b[0m\u001b[0;34m\u001b[0m\u001b[0m\n",
            "\u001b[0;32m/usr/local/lib/python3.7/dist-packages/torch/nn/modules/module.py\u001b[0m in \u001b[0;36m_call_impl\u001b[0;34m(self, *input, **kwargs)\u001b[0m\n\u001b[1;32m    887\u001b[0m             \u001b[0mresult\u001b[0m \u001b[0;34m=\u001b[0m \u001b[0mself\u001b[0m\u001b[0;34m.\u001b[0m\u001b[0m_slow_forward\u001b[0m\u001b[0;34m(\u001b[0m\u001b[0;34m*\u001b[0m\u001b[0minput\u001b[0m\u001b[0;34m,\u001b[0m \u001b[0;34m**\u001b[0m\u001b[0mkwargs\u001b[0m\u001b[0;34m)\u001b[0m\u001b[0;34m\u001b[0m\u001b[0;34m\u001b[0m\u001b[0m\n\u001b[1;32m    888\u001b[0m         \u001b[0;32melse\u001b[0m\u001b[0;34m:\u001b[0m\u001b[0;34m\u001b[0m\u001b[0;34m\u001b[0m\u001b[0m\n\u001b[0;32m--> 889\u001b[0;31m             \u001b[0mresult\u001b[0m \u001b[0;34m=\u001b[0m \u001b[0mself\u001b[0m\u001b[0;34m.\u001b[0m\u001b[0mforward\u001b[0m\u001b[0;34m(\u001b[0m\u001b[0;34m*\u001b[0m\u001b[0minput\u001b[0m\u001b[0;34m,\u001b[0m \u001b[0;34m**\u001b[0m\u001b[0mkwargs\u001b[0m\u001b[0;34m)\u001b[0m\u001b[0;34m\u001b[0m\u001b[0;34m\u001b[0m\u001b[0m\n\u001b[0m\u001b[1;32m    890\u001b[0m         for hook in itertools.chain(\n\u001b[1;32m    891\u001b[0m                 \u001b[0m_global_forward_hooks\u001b[0m\u001b[0;34m.\u001b[0m\u001b[0mvalues\u001b[0m\u001b[0;34m(\u001b[0m\u001b[0;34m)\u001b[0m\u001b[0;34m,\u001b[0m\u001b[0;34m\u001b[0m\u001b[0;34m\u001b[0m\u001b[0m\n",
            "\u001b[0;32m<ipython-input-47-a56b5a95329e>\u001b[0m in \u001b[0;36mforward\u001b[0;34m(self, trg, enc_src, trg_mask, src_mask)\u001b[0m\n\u001b[1;32m     48\u001b[0m \u001b[0;34m\u001b[0m\u001b[0m\n\u001b[1;32m     49\u001b[0m         \u001b[0;32mfor\u001b[0m \u001b[0mlayer\u001b[0m \u001b[0;32min\u001b[0m \u001b[0mself\u001b[0m\u001b[0;34m.\u001b[0m\u001b[0mlayers\u001b[0m\u001b[0;34m:\u001b[0m\u001b[0;34m\u001b[0m\u001b[0;34m\u001b[0m\u001b[0m\n\u001b[0;32m---> 50\u001b[0;31m             \u001b[0mtrg\u001b[0m\u001b[0;34m,\u001b[0m \u001b[0mattention\u001b[0m \u001b[0;34m=\u001b[0m \u001b[0mlayer\u001b[0m\u001b[0;34m(\u001b[0m\u001b[0mtrg\u001b[0m\u001b[0;34m,\u001b[0m \u001b[0menc_src\u001b[0m\u001b[0;34m,\u001b[0m \u001b[0mtrg_mask\u001b[0m\u001b[0;34m,\u001b[0m \u001b[0msrc_mask\u001b[0m\u001b[0;34m)\u001b[0m\u001b[0;34m\u001b[0m\u001b[0;34m\u001b[0m\u001b[0m\n\u001b[0m\u001b[1;32m     51\u001b[0m \u001b[0;34m\u001b[0m\u001b[0m\n\u001b[1;32m     52\u001b[0m         \u001b[0;31m#trg = [batch size, trg len, hid dim]\u001b[0m\u001b[0;34m\u001b[0m\u001b[0;34m\u001b[0m\u001b[0;34m\u001b[0m\u001b[0m\n",
            "\u001b[0;32m/usr/local/lib/python3.7/dist-packages/torch/nn/modules/module.py\u001b[0m in \u001b[0;36m_call_impl\u001b[0;34m(self, *input, **kwargs)\u001b[0m\n\u001b[1;32m    887\u001b[0m             \u001b[0mresult\u001b[0m \u001b[0;34m=\u001b[0m \u001b[0mself\u001b[0m\u001b[0;34m.\u001b[0m\u001b[0m_slow_forward\u001b[0m\u001b[0;34m(\u001b[0m\u001b[0;34m*\u001b[0m\u001b[0minput\u001b[0m\u001b[0;34m,\u001b[0m \u001b[0;34m**\u001b[0m\u001b[0mkwargs\u001b[0m\u001b[0;34m)\u001b[0m\u001b[0;34m\u001b[0m\u001b[0;34m\u001b[0m\u001b[0m\n\u001b[1;32m    888\u001b[0m         \u001b[0;32melse\u001b[0m\u001b[0;34m:\u001b[0m\u001b[0;34m\u001b[0m\u001b[0;34m\u001b[0m\u001b[0m\n\u001b[0;32m--> 889\u001b[0;31m             \u001b[0mresult\u001b[0m \u001b[0;34m=\u001b[0m \u001b[0mself\u001b[0m\u001b[0;34m.\u001b[0m\u001b[0mforward\u001b[0m\u001b[0;34m(\u001b[0m\u001b[0;34m*\u001b[0m\u001b[0minput\u001b[0m\u001b[0;34m,\u001b[0m \u001b[0;34m**\u001b[0m\u001b[0mkwargs\u001b[0m\u001b[0;34m)\u001b[0m\u001b[0;34m\u001b[0m\u001b[0;34m\u001b[0m\u001b[0m\n\u001b[0m\u001b[1;32m    890\u001b[0m         for hook in itertools.chain(\n\u001b[1;32m    891\u001b[0m                 \u001b[0m_global_forward_hooks\u001b[0m\u001b[0;34m.\u001b[0m\u001b[0mvalues\u001b[0m\u001b[0;34m(\u001b[0m\u001b[0;34m)\u001b[0m\u001b[0;34m,\u001b[0m\u001b[0;34m\u001b[0m\u001b[0;34m\u001b[0m\u001b[0m\n",
            "\u001b[0;32m<ipython-input-48-94d9ad69869d>\u001b[0m in \u001b[0;36mforward\u001b[0;34m(self, trg, enc_src, trg_mask, src_mask)\u001b[0m\n\u001b[1;32m     34\u001b[0m \u001b[0;34m\u001b[0m\u001b[0m\n\u001b[1;32m     35\u001b[0m         \u001b[0;31m#encoder attention\u001b[0m\u001b[0;34m\u001b[0m\u001b[0;34m\u001b[0m\u001b[0;34m\u001b[0m\u001b[0m\n\u001b[0;32m---> 36\u001b[0;31m         \u001b[0m_trg\u001b[0m\u001b[0;34m,\u001b[0m \u001b[0mattention\u001b[0m \u001b[0;34m=\u001b[0m \u001b[0mself\u001b[0m\u001b[0;34m.\u001b[0m\u001b[0mencoder_attention\u001b[0m\u001b[0;34m(\u001b[0m\u001b[0mtrg\u001b[0m\u001b[0;34m,\u001b[0m \u001b[0menc_src\u001b[0m\u001b[0;34m,\u001b[0m \u001b[0menc_src\u001b[0m\u001b[0;34m,\u001b[0m \u001b[0msrc_mask\u001b[0m\u001b[0;34m)\u001b[0m\u001b[0;34m\u001b[0m\u001b[0;34m\u001b[0m\u001b[0m\n\u001b[0m\u001b[1;32m     37\u001b[0m         \u001b[0;31m# query, key, value\u001b[0m\u001b[0;34m\u001b[0m\u001b[0;34m\u001b[0m\u001b[0;34m\u001b[0m\u001b[0m\n\u001b[1;32m     38\u001b[0m \u001b[0;34m\u001b[0m\u001b[0m\n",
            "\u001b[0;32m/usr/local/lib/python3.7/dist-packages/torch/nn/modules/module.py\u001b[0m in \u001b[0;36m_call_impl\u001b[0;34m(self, *input, **kwargs)\u001b[0m\n\u001b[1;32m    887\u001b[0m             \u001b[0mresult\u001b[0m \u001b[0;34m=\u001b[0m \u001b[0mself\u001b[0m\u001b[0;34m.\u001b[0m\u001b[0m_slow_forward\u001b[0m\u001b[0;34m(\u001b[0m\u001b[0;34m*\u001b[0m\u001b[0minput\u001b[0m\u001b[0;34m,\u001b[0m \u001b[0;34m**\u001b[0m\u001b[0mkwargs\u001b[0m\u001b[0;34m)\u001b[0m\u001b[0;34m\u001b[0m\u001b[0;34m\u001b[0m\u001b[0m\n\u001b[1;32m    888\u001b[0m         \u001b[0;32melse\u001b[0m\u001b[0;34m:\u001b[0m\u001b[0;34m\u001b[0m\u001b[0;34m\u001b[0m\u001b[0m\n\u001b[0;32m--> 889\u001b[0;31m             \u001b[0mresult\u001b[0m \u001b[0;34m=\u001b[0m \u001b[0mself\u001b[0m\u001b[0;34m.\u001b[0m\u001b[0mforward\u001b[0m\u001b[0;34m(\u001b[0m\u001b[0;34m*\u001b[0m\u001b[0minput\u001b[0m\u001b[0;34m,\u001b[0m \u001b[0;34m**\u001b[0m\u001b[0mkwargs\u001b[0m\u001b[0;34m)\u001b[0m\u001b[0;34m\u001b[0m\u001b[0;34m\u001b[0m\u001b[0m\n\u001b[0m\u001b[1;32m    890\u001b[0m         for hook in itertools.chain(\n\u001b[1;32m    891\u001b[0m                 \u001b[0m_global_forward_hooks\u001b[0m\u001b[0;34m.\u001b[0m\u001b[0mvalues\u001b[0m\u001b[0;34m(\u001b[0m\u001b[0;34m)\u001b[0m\u001b[0;34m,\u001b[0m\u001b[0;34m\u001b[0m\u001b[0;34m\u001b[0m\u001b[0m\n",
            "\u001b[0;32m<ipython-input-45-6aead4ae2b92>\u001b[0m in \u001b[0;36mforward\u001b[0;34m(self, query, key, value, mask)\u001b[0m\n\u001b[1;32m     43\u001b[0m         \u001b[0;31m#V = [batch size, n heads, value len, head dim]\u001b[0m\u001b[0;34m\u001b[0m\u001b[0;34m\u001b[0m\u001b[0;34m\u001b[0m\u001b[0m\n\u001b[1;32m     44\u001b[0m \u001b[0;34m\u001b[0m\u001b[0m\n\u001b[0;32m---> 45\u001b[0;31m         \u001b[0menergy\u001b[0m \u001b[0;34m=\u001b[0m \u001b[0mtorch\u001b[0m\u001b[0;34m.\u001b[0m\u001b[0mmatmul\u001b[0m\u001b[0;34m(\u001b[0m\u001b[0mQ\u001b[0m\u001b[0;34m,\u001b[0m \u001b[0mK\u001b[0m\u001b[0;34m.\u001b[0m\u001b[0mpermute\u001b[0m\u001b[0;34m(\u001b[0m\u001b[0;36m0\u001b[0m\u001b[0;34m,\u001b[0m \u001b[0;36m1\u001b[0m\u001b[0;34m,\u001b[0m \u001b[0;36m3\u001b[0m\u001b[0;34m,\u001b[0m \u001b[0;36m2\u001b[0m\u001b[0;34m)\u001b[0m\u001b[0;34m)\u001b[0m \u001b[0;34m/\u001b[0m \u001b[0mself\u001b[0m\u001b[0;34m.\u001b[0m\u001b[0mscale\u001b[0m\u001b[0;34m\u001b[0m\u001b[0;34m\u001b[0m\u001b[0m\n\u001b[0m\u001b[1;32m     46\u001b[0m \u001b[0;34m\u001b[0m\u001b[0m\n\u001b[1;32m     47\u001b[0m         \u001b[0;31m#energy = [batch size, n heads, query len, key len]\u001b[0m\u001b[0;34m\u001b[0m\u001b[0;34m\u001b[0m\u001b[0;34m\u001b[0m\u001b[0m\n",
            "\u001b[0;31mKeyboardInterrupt\u001b[0m: "
          ]
        }
      ]
    }
  ]
}